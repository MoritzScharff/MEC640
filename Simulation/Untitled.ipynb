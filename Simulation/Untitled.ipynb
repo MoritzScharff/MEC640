{
 "cells": [
  {
   "cell_type": "code",
   "execution_count": 3,
   "id": "fa6b59f6",
   "metadata": {},
   "outputs": [],
   "source": [
    "reset -f"
   ]
  },
  {
   "cell_type": "code",
   "execution_count": 4,
   "id": "152d5ca4",
   "metadata": {},
   "outputs": [],
   "source": [
    "import sympy as sp\n",
    "import numpy as np\n",
    "import matplotlib.pyplot as plt\n",
    "\n",
    "from IPython.display import Math, Latex"
   ]
  },
  {
   "cell_type": "code",
   "execution_count": 11,
   "id": "31e90391",
   "metadata": {},
   "outputs": [],
   "source": [
    "M0, By, Bx = sp.symbols('M_{bz}, B_y, B_x', real = 'True')"
   ]
  },
  {
   "cell_type": "code",
   "execution_count": 12,
   "id": "f5fdf837",
   "metadata": {},
   "outputs": [
    {
     "data": {
      "text/latex": [
       "$\\displaystyle B_{x}$"
      ],
      "text/plain": [
       "B_x"
      ]
     },
     "metadata": {},
     "output_type": "display_data"
    }
   ],
   "source": [
    "display(Bx)"
   ]
  },
  {
   "cell_type": "code",
   "execution_count": null,
   "id": "aa27baa2",
   "metadata": {},
   "outputs": [],
   "source": []
  },
  {
   "cell_type": "code",
   "execution_count": null,
   "id": "d9112576",
   "metadata": {},
   "outputs": [],
   "source": []
  }
 ],
 "metadata": {
  "kernelspec": {
   "display_name": "Python 3 (ipykernel)",
   "language": "python",
   "name": "python3"
  },
  "language_info": {
   "codemirror_mode": {
    "name": "ipython",
    "version": 3
   },
   "file_extension": ".py",
   "mimetype": "text/x-python",
   "name": "python",
   "nbconvert_exporter": "python",
   "pygments_lexer": "ipython3",
   "version": "3.10.2"
  }
 },
 "nbformat": 4,
 "nbformat_minor": 5
}
