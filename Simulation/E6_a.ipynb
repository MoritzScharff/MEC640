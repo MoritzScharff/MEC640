{
 "cells": [
  {
   "cell_type": "markdown",
   "id": "fdbbb4bb",
   "metadata": {},
   "source": [
    "# E6.A - Task"
   ]
  },
  {
   "cell_type": "code",
   "execution_count": 39,
   "id": "3661911e",
   "metadata": {},
   "outputs": [],
   "source": [
    "reset -f"
   ]
  },
  {
   "cell_type": "code",
   "execution_count": 40,
   "id": "dcb1ca09",
   "metadata": {},
   "outputs": [],
   "source": [
    "import sympy as sp\n",
    "import numpy as np\n",
    "import matplotlib.pyplot as plt\n",
    "\n",
    "from IPython.display import Math, Latex"
   ]
  },
  {
   "cell_type": "markdown",
   "id": "2910d2c8",
   "metadata": {},
   "source": [
    "## Define symbolic variables"
   ]
  },
  {
   "cell_type": "code",
   "execution_count": 41,
   "id": "9a2e485c",
   "metadata": {},
   "outputs": [],
   "source": [
    "L, F, x, E, Iz, lam  = sp.symbols('L, F, x, E, I_z, lambda', real = 'True', positive = 'True')\n",
    "Ay, Bx, By = sp.symbols('A_y, B_x, B_y', real = 'True')\n",
    "vL2  = sp.symbols('v_{L2}', real = 'True')\n",
    "Mbz1 = sp.Function('M_{bz1}')\n",
    "Mbz2 = sp.Function('M_{bz2}')\n",
    "v1 = sp.Function('v_1')\n",
    "v2 = sp.Function('v_2')"
   ]
  },
  {
   "cell_type": "markdown",
   "id": "c53950b8",
   "metadata": {},
   "source": [
    "# Support reactions"
   ]
  },
  {
   "cell_type": "code",
   "execution_count": 42,
   "id": "7eb716cc",
   "metadata": {},
   "outputs": [
    {
     "data": {
      "text/latex": [
       "$\\displaystyle - F$"
      ],
      "text/plain": [
       "-F"
      ]
     },
     "metadata": {},
     "output_type": "display_data"
    },
    {
     "data": {
      "text/latex": [
       "$\\displaystyle - \\frac{F v_{L2}}{L}$"
      ],
      "text/plain": [
       "-F*v_{L2}/L"
      ]
     },
     "metadata": {},
     "output_type": "display_data"
    },
    {
     "data": {
      "text/latex": [
       "$\\displaystyle \\frac{F v_{L2}}{L}$"
      ],
      "text/plain": [
       "F*v_{L2}/L"
      ]
     },
     "metadata": {},
     "output_type": "display_data"
    }
   ],
   "source": [
    "eqx = sp.Eq(0, Bx + F)\n",
    "eqy = sp.Eq(0, Ay + By) \n",
    "eqz = sp.Eq(0, By*L - F*vL2)\n",
    "\n",
    "sol = sp.solve([eqx, eqy, eqz], [Ay, Bx, By])\n",
    "Bx, Ay, By = sol.values()\n",
    "display(Bx, Ay, By)"
   ]
  },
  {
   "cell_type": "markdown",
   "id": "9ecb09d3",
   "metadata": {},
   "source": [
    "## Internal forces"
   ]
  },
  {
   "cell_type": "code",
   "execution_count": 43,
   "id": "7fbb49f5",
   "metadata": {},
   "outputs": [],
   "source": [
    "eq1 = sp.Eq(0, Mbz1(x) - Ay*x)\n",
    "eq2 = sp.Eq(0, Mbz2(x) - Ay*x - F*(vL2 - v2(x)))"
   ]
  },
  {
   "cell_type": "code",
   "execution_count": 44,
   "id": "3b100c59",
   "metadata": {},
   "outputs": [
    {
     "data": {
      "text/latex": [
       "$\\displaystyle - \\frac{F v_{L2} x}{L}$"
      ],
      "text/plain": [
       "-F*v_{L2}*x/L"
      ]
     },
     "metadata": {},
     "output_type": "display_data"
    },
    {
     "data": {
      "text/latex": [
       "$\\displaystyle F v_{L2} - F \\operatorname{v_{2}}{\\left(x \\right)} - \\frac{F v_{L2} x}{L}$"
      ],
      "text/plain": [
       "F*v_{L2} - F*v_2(x) - F*v_{L2}*x/L"
      ]
     },
     "metadata": {},
     "output_type": "display_data"
    }
   ],
   "source": [
    "sol = sp.solve((eq1, eq2), (Mbz1(x), Mbz2(x)))\n",
    "Mbz1, Mbz2 = sol.values()\n",
    "display(Mbz1)\n",
    "display(Mbz2)"
   ]
  },
  {
   "cell_type": "code",
   "execution_count": 48,
   "id": "d08013ca",
   "metadata": {},
   "outputs": [
    {
     "data": {
      "text/latex": [
       "$\\displaystyle \\frac{d^{2}}{d x^{2}} \\operatorname{v_{1}}{\\left(x \\right)} = - \\frac{F v_{L2} x}{E I_{z} L}$"
      ],
      "text/plain": [
       "Eq(Derivative(v_1(x), (x, 2)), -F*v_{L2}*x/(E*I_z*L))"
      ]
     },
     "metadata": {},
     "output_type": "display_data"
    },
    {
     "data": {
      "text/latex": [
       "$\\displaystyle \\frac{d^{2}}{d x^{2}} \\operatorname{v_{2}}{\\left(x \\right)} = \\frac{F v_{L2} - F \\operatorname{v_{2}}{\\left(x \\right)} - \\frac{F v_{L2} x}{L}}{E I_{z}}$"
      ],
      "text/plain": [
       "Eq(Derivative(v_2(x), (x, 2)), (F*v_{L2} - F*v_2(x) - F*v_{L2}*x/L)/(E*I_z))"
      ]
     },
     "metadata": {},
     "output_type": "display_data"
    }
   ],
   "source": [
    "DefEq1 = sp.Eq(sp.Derivative(v1(x),x,x), Mbz1/(E*Iz)) \n",
    "DefEq2 = sp.Eq(sp.Derivative(v2(x),x,x), Mbz2/(E*Iz)) \n",
    "\n",
    "# DefEq1 = sp.Eq(sp.Derivative(v1(x),x,x), DefEq1.rhs.factor().subs(F/(E*Iz), lam**2))\n",
    "# DefEq2 = sp.Eq(sp.Derivative(v2(x),x,x), DefEq2.rhs.factor().subs(F/(E*Iz), lam**2))\n",
    "display(DefEq1)\n",
    "display(DefEq2)"
   ]
  },
  {
   "cell_type": "markdown",
   "id": "f1fab288",
   "metadata": {},
   "source": [
    "classifying the equation:\n",
    "* ordinary \n",
    "* linear\n",
    "* second orden\n",
    "* inhomogeneous\n",
    "* constant coefficients\n",
    "\n",
    "we need an ODE solver-> sp.dsolve()"
   ]
  },
  {
   "cell_type": "code",
   "execution_count": 32,
   "id": "3885b581",
   "metadata": {},
   "outputs": [
    {
     "data": {
      "text/latex": [
       "$\\displaystyle C_{1} + C_{2} x - \\frac{F v_{L2} x^{3}}{6 E I_{z} L}$"
      ],
      "text/plain": [
       "C1 + C2*x - F*v_{L2}*x**3/(6*E*I_z*L)"
      ]
     },
     "metadata": {},
     "output_type": "display_data"
    },
    {
     "data": {
      "text/latex": [
       "$\\displaystyle C_{2} - \\frac{F v_{L2} x^{2}}{2 E I_{z} L}$"
      ],
      "text/plain": [
       "C2 - F*v_{L2}*x**2/(2*E*I_z*L)"
      ]
     },
     "metadata": {},
     "output_type": "display_data"
    },
    {
     "data": {
      "text/latex": [
       "$\\displaystyle C_{3} \\sin{\\left(\\frac{\\sqrt{F} x}{\\sqrt{E} \\sqrt{I_{z}}} \\right)} + C_{4} \\cos{\\left(\\frac{\\sqrt{F} x}{\\sqrt{E} \\sqrt{I_{z}}} \\right)} + v_{L2} - \\frac{v_{L2} x}{L}$"
      ],
      "text/plain": [
       "C3*sin(sqrt(F)*x/(sqrt(E)*sqrt(I_z))) + C4*cos(sqrt(F)*x/(sqrt(E)*sqrt(I_z))) + v_{L2} - v_{L2}*x/L"
      ]
     },
     "metadata": {},
     "output_type": "display_data"
    },
    {
     "data": {
      "text/latex": [
       "$\\displaystyle \\frac{C_{3} \\sqrt{F} \\cos{\\left(\\frac{\\sqrt{F} x}{\\sqrt{E} \\sqrt{I_{z}}} \\right)}}{\\sqrt{E} \\sqrt{I_{z}}} - \\frac{C_{4} \\sqrt{F} \\sin{\\left(\\frac{\\sqrt{F} x}{\\sqrt{E} \\sqrt{I_{z}}} \\right)}}{\\sqrt{E} \\sqrt{I_{z}}} - \\frac{v_{L2}}{L}$"
      ],
      "text/plain": [
       "C3*sqrt(F)*cos(sqrt(F)*x/(sqrt(E)*sqrt(I_z)))/(sqrt(E)*sqrt(I_z)) - C4*sqrt(F)*sin(sqrt(F)*x/(sqrt(E)*sqrt(I_z)))/(sqrt(E)*sqrt(I_z)) - v_{L2}/L"
      ]
     },
     "metadata": {},
     "output_type": "display_data"
    }
   ],
   "source": [
    "sol1 = sp.dsolve(DefEq1)\n",
    "sol2 = sp.dsolve(DefEq2)\n",
    "v1 = sol1.rhs\n",
    "dv1dx = sp.diff(v1, x)\n",
    "v2 = sol2.rhs.subs([('C1', 'C3'), ('C2', 'C4')])\n",
    "dv2dx = sp.diff(v2, x)\n",
    "display(v1)\n",
    "display(dv1dx)\n",
    "display(v2)\n",
    "display(dv2dx)"
   ]
  },
  {
   "cell_type": "code",
   "execution_count": 33,
   "id": "236dfe71",
   "metadata": {},
   "outputs": [
    {
     "data": {
      "text/latex": [
       "$\\displaystyle 0 = C_{1}$"
      ],
      "text/plain": [
       "Eq(0, C1)"
      ]
     },
     "metadata": {},
     "output_type": "display_data"
    },
    {
     "data": {
      "text/latex": [
       "$\\displaystyle 0 = C_{1} + \\frac{C_{2} L}{2} - C_{3} \\sin{\\left(\\frac{\\sqrt{F} L}{2 \\sqrt{E} \\sqrt{I_{z}}} \\right)} - C_{4} \\cos{\\left(\\frac{\\sqrt{F} L}{2 \\sqrt{E} \\sqrt{I_{z}}} \\right)} - \\frac{v_{L2}}{2} - \\frac{F L^{2} v_{L2}}{48 E I_{z}}$"
      ],
      "text/plain": [
       "Eq(0, C1 + C2*L/2 - C3*sin(sqrt(F)*L/(2*sqrt(E)*sqrt(I_z))) - C4*cos(sqrt(F)*L/(2*sqrt(E)*sqrt(I_z))) - v_{L2}/2 - F*L**2*v_{L2}/(48*E*I_z))"
      ]
     },
     "metadata": {},
     "output_type": "display_data"
    },
    {
     "data": {
      "text/latex": [
       "$\\displaystyle 0 = C_{2} - \\frac{C_{3} \\sqrt{F} \\cos{\\left(\\frac{\\sqrt{F} L}{2 \\sqrt{E} \\sqrt{I_{z}}} \\right)}}{\\sqrt{E} \\sqrt{I_{z}}} + \\frac{C_{4} \\sqrt{F} \\sin{\\left(\\frac{\\sqrt{F} L}{2 \\sqrt{E} \\sqrt{I_{z}}} \\right)}}{\\sqrt{E} \\sqrt{I_{z}}} + \\frac{v_{L2}}{L} - \\frac{F L v_{L2}}{8 E I_{z}}$"
      ],
      "text/plain": [
       "Eq(0, C2 - C3*sqrt(F)*cos(sqrt(F)*L/(2*sqrt(E)*sqrt(I_z)))/(sqrt(E)*sqrt(I_z)) + C4*sqrt(F)*sin(sqrt(F)*L/(2*sqrt(E)*sqrt(I_z)))/(sqrt(E)*sqrt(I_z)) + v_{L2}/L - F*L*v_{L2}/(8*E*I_z))"
      ]
     },
     "metadata": {},
     "output_type": "display_data"
    },
    {
     "data": {
      "text/latex": [
       "$\\displaystyle 0 = - C_{3} \\sin{\\left(\\frac{\\sqrt{F} L}{2 \\sqrt{E} \\sqrt{I_{z}}} \\right)} - C_{4} \\cos{\\left(\\frac{\\sqrt{F} L}{2 \\sqrt{E} \\sqrt{I_{z}}} \\right)} + \\frac{v_{L2}}{2}$"
      ],
      "text/plain": [
       "Eq(0, -C3*sin(sqrt(F)*L/(2*sqrt(E)*sqrt(I_z))) - C4*cos(sqrt(F)*L/(2*sqrt(E)*sqrt(I_z))) + v_{L2}/2)"
      ]
     },
     "metadata": {},
     "output_type": "display_data"
    },
    {
     "data": {
      "text/latex": [
       "$\\displaystyle 0 = C_{3} \\sin{\\left(\\frac{\\sqrt{F} L}{\\sqrt{E} \\sqrt{I_{z}}} \\right)} + C_{4} \\cos{\\left(\\frac{\\sqrt{F} L}{\\sqrt{E} \\sqrt{I_{z}}} \\right)}$"
      ],
      "text/plain": [
       "Eq(0, C3*sin(sqrt(F)*L/(sqrt(E)*sqrt(I_z))) + C4*cos(sqrt(F)*L/(sqrt(E)*sqrt(I_z))))"
      ]
     },
     "metadata": {},
     "output_type": "display_data"
    }
   ],
   "source": [
    "BC1 = sp.Eq(0, v1.subs(x,0))\n",
    "BC2 = sp.Eq(0, v1.subs(x, L/2) - v2.subs(x, L/2))\n",
    "BC3 = sp.Eq(0, dv1dx.subs(x, L/2) - dv2dx.subs(x, L/2))\n",
    "BC4 = sp.Eq(0, vL2 - v2.subs(x,L/2))\n",
    "BC5 = sp.Eq(0, v2.subs(x, L))\n",
    "display(BC1)\n",
    "display(BC2)\n",
    "display(BC3)\n",
    "display(BC4)\n",
    "display(BC5)"
   ]
  },
  {
   "cell_type": "code",
   "execution_count": 34,
   "id": "d0d37a35",
   "metadata": {},
   "outputs": [
    {
     "data": {
      "text/latex": [
       "$\\displaystyle \\left[\\begin{matrix}1 & 0 & 0 & 0 & 0\\\\1 & \\frac{L}{2} & - \\sin{\\left(\\frac{\\sqrt{F} L}{2 \\sqrt{E} \\sqrt{I_{z}}} \\right)} & - \\cos{\\left(\\frac{\\sqrt{F} L}{2 \\sqrt{E} \\sqrt{I_{z}}} \\right)} & - \\frac{1}{2} - \\frac{F L^{2}}{48 E I_{z}}\\\\0 & 1 & - \\frac{\\sqrt{F} \\cos{\\left(\\frac{\\sqrt{F} L}{2 \\sqrt{E} \\sqrt{I_{z}}} \\right)}}{\\sqrt{E} \\sqrt{I_{z}}} & \\frac{\\sqrt{F} \\sin{\\left(\\frac{\\sqrt{F} L}{2 \\sqrt{E} \\sqrt{I_{z}}} \\right)}}{\\sqrt{E} \\sqrt{I_{z}}} & \\frac{1}{L} - \\frac{F L}{8 E I_{z}}\\\\0 & 0 & - \\sin{\\left(\\frac{\\sqrt{F} L}{2 \\sqrt{E} \\sqrt{I_{z}}} \\right)} & - \\cos{\\left(\\frac{\\sqrt{F} L}{2 \\sqrt{E} \\sqrt{I_{z}}} \\right)} & \\frac{1}{2}\\\\0 & 0 & \\sin{\\left(\\frac{\\sqrt{F} L}{\\sqrt{E} \\sqrt{I_{z}}} \\right)} & \\cos{\\left(\\frac{\\sqrt{F} L}{\\sqrt{E} \\sqrt{I_{z}}} \\right)} & 0\\end{matrix}\\right]$"
      ],
      "text/plain": [
       "Matrix([\n",
       "[1,   0,                                                                 0,                                                                0,                        0],\n",
       "[1, L/2,                             -sin(sqrt(F)*L/(2*sqrt(E)*sqrt(I_z))),                            -cos(sqrt(F)*L/(2*sqrt(E)*sqrt(I_z))), -1/2 - F*L**2/(48*E*I_z)],\n",
       "[0,   1, -sqrt(F)*cos(sqrt(F)*L/(2*sqrt(E)*sqrt(I_z)))/(sqrt(E)*sqrt(I_z)), sqrt(F)*sin(sqrt(F)*L/(2*sqrt(E)*sqrt(I_z)))/(sqrt(E)*sqrt(I_z)),      1/L - F*L/(8*E*I_z)],\n",
       "[0,   0,                             -sin(sqrt(F)*L/(2*sqrt(E)*sqrt(I_z))),                            -cos(sqrt(F)*L/(2*sqrt(E)*sqrt(I_z))),                      1/2],\n",
       "[0,   0,                                sin(sqrt(F)*L/(sqrt(E)*sqrt(I_z))),                               cos(sqrt(F)*L/(sqrt(E)*sqrt(I_z))),                        0]])"
      ]
     },
     "execution_count": 34,
     "metadata": {},
     "output_type": "execute_result"
    }
   ],
   "source": [
    "CoeffMat = sp.Matrix([[BC1.rhs.coeff('C1'), BC1.rhs.coeff('C2'), BC1.rhs.coeff('C3'), BC1.rhs.coeff('C4'), BC1.rhs.coeff(vL2)],\n",
    "                      [BC2.rhs.coeff('C1'), BC2.rhs.coeff('C2'), BC2.rhs.coeff('C3'), BC2.rhs.coeff('C4'), BC2.rhs.coeff(vL2)],\n",
    "                      [BC3.rhs.coeff('C1'), BC3.rhs.coeff('C2'), BC3.rhs.coeff('C3'), BC3.rhs.coeff('C4'), BC3.rhs.coeff(vL2)],\n",
    "                      [BC4.rhs.coeff('C1'), BC4.rhs.coeff('C2'), BC4.rhs.coeff('C3'), BC4.rhs.coeff('C4'), BC4.rhs.coeff(vL2)],\n",
    "                      [BC5.rhs.coeff('C1'), BC5.rhs.coeff('C2'), BC5.rhs.coeff('C3'), BC5.rhs.coeff('C4'), BC5.rhs.coeff(vL2)]])\n",
    "CoeffMat"
   ]
  },
  {
   "cell_type": "code",
   "execution_count": 37,
   "id": "6e6d2bd2",
   "metadata": {},
   "outputs": [
    {
     "data": {
      "text/latex": [
       "$\\displaystyle \\frac{864 E^{\\frac{5}{2}} \\sqrt{F} I_{z}^{\\frac{5}{2}} L \\sin{\\left(\\frac{\\sqrt{F} L}{\\sqrt{E} \\sqrt{I_{z}}} \\right)} \\cos^{2}{\\left(\\frac{\\sqrt{F} L}{\\sqrt{E} \\sqrt{I_{z}}} \\right)} - 768 E^{\\frac{5}{2}} \\sqrt{F} I_{z}^{\\frac{5}{2}} L \\sin{\\left(\\frac{\\sqrt{F} L}{\\sqrt{E} \\sqrt{I_{z}}} \\right)} \\cos{\\left(\\frac{\\sqrt{F} L}{\\sqrt{E} \\sqrt{I_{z}}} \\right)} + 552 E^{\\frac{5}{2}} \\sqrt{F} I_{z}^{\\frac{5}{2}} L \\sin{\\left(\\frac{\\sqrt{F} L}{\\sqrt{E} \\sqrt{I_{z}}} \\right)} - 216 E^{\\frac{5}{2}} \\sqrt{F} I_{z}^{\\frac{5}{2}} L \\sin{\\left(\\frac{3 \\sqrt{F} L}{\\sqrt{E} \\sqrt{I_{z}}} \\right)} - 96 E^{\\frac{3}{2}} F^{\\frac{3}{2}} I_{z}^{\\frac{3}{2}} L^{3} \\sin{\\left(\\frac{\\sqrt{F} L}{\\sqrt{E} \\sqrt{I_{z}}} \\right)} \\cos^{2}{\\left(\\frac{\\sqrt{F} L}{\\sqrt{E} \\sqrt{I_{z}}} \\right)} + 24 E^{\\frac{3}{2}} F^{\\frac{3}{2}} I_{z}^{\\frac{3}{2}} L^{3} \\sin{\\left(\\frac{\\sqrt{F} L}{\\sqrt{E} \\sqrt{I_{z}}} \\right)} \\cos{\\left(\\frac{\\sqrt{F} L}{\\sqrt{E} \\sqrt{I_{z}}} \\right)} + 24 E^{\\frac{3}{2}} F^{\\frac{3}{2}} I_{z}^{\\frac{3}{2}} L^{3} \\sin{\\left(\\frac{3 \\sqrt{F} L}{\\sqrt{E} \\sqrt{I_{z}}} \\right)} - 2 \\sqrt{E} F^{\\frac{5}{2}} \\sqrt{I_{z}} L^{5} \\sin{\\left(\\frac{\\sqrt{F} L}{\\sqrt{E} \\sqrt{I_{z}}} \\right)} \\cos{\\left(\\frac{\\sqrt{F} L}{\\sqrt{E} \\sqrt{I_{z}}} \\right)} - 2 \\sqrt{E} F^{\\frac{5}{2}} \\sqrt{I_{z}} L^{5} \\sin{\\left(\\frac{\\sqrt{F} L}{\\sqrt{E} \\sqrt{I_{z}}} \\right)} - 576 E^{3} I_{z}^{3} \\cos^{2}{\\left(\\frac{\\sqrt{F} L}{\\sqrt{E} \\sqrt{I_{z}}} \\right)} + 1152 E^{3} I_{z}^{3} \\cos{\\left(\\frac{\\sqrt{F} L}{\\sqrt{E} \\sqrt{I_{z}}} \\right)} - 576 E^{3} I_{z}^{3} - 16 E^{2} F I_{z}^{2} L^{2} \\cos^{3}{\\left(\\frac{\\sqrt{F} L}{\\sqrt{E} \\sqrt{I_{z}}} \\right)} + 304 E^{2} F I_{z}^{2} L^{2} \\cos^{2}{\\left(\\frac{\\sqrt{F} L}{\\sqrt{E} \\sqrt{I_{z}}} \\right)} - 20 E^{2} F I_{z}^{2} L^{2} \\cos{\\left(\\frac{\\sqrt{F} L}{\\sqrt{E} \\sqrt{I_{z}}} \\right)} + 4 E^{2} F I_{z}^{2} L^{2} \\cos{\\left(\\frac{3 \\sqrt{F} L}{\\sqrt{E} \\sqrt{I_{z}}} \\right)} - 272 E^{2} F I_{z}^{2} L^{2} + 12 E F^{2} I_{z} L^{4} \\cos^{3}{\\left(\\frac{\\sqrt{F} L}{\\sqrt{E} \\sqrt{I_{z}}} \\right)} + 15 E F^{2} I_{z} L^{4} \\cos{\\left(\\frac{\\sqrt{F} L}{\\sqrt{E} \\sqrt{I_{z}}} \\right)} - 3 E F^{2} I_{z} L^{4} \\cos{\\left(\\frac{3 \\sqrt{F} L}{\\sqrt{E} \\sqrt{I_{z}}} \\right)} + 24 E F^{2} I_{z} L^{4}}{- 2304 E^{\\frac{5}{2}} \\sqrt{F} I_{z}^{\\frac{5}{2}} L \\cos^{3}{\\left(\\frac{\\sqrt{F} L}{2 \\sqrt{E} \\sqrt{I_{z}}} \\right)} + 2304 E^{\\frac{5}{2}} \\sqrt{F} I_{z}^{\\frac{5}{2}} L \\cos{\\left(\\frac{\\sqrt{F} L}{2 \\sqrt{E} \\sqrt{I_{z}}} \\right)} + 192 E^{\\frac{3}{2}} F^{\\frac{3}{2}} I_{z}^{\\frac{3}{2}} L^{3} \\cos^{3}{\\left(\\frac{\\sqrt{F} L}{2 \\sqrt{E} \\sqrt{I_{z}}} \\right)} + 1536 E^{3} I_{z}^{3} \\sin{\\left(\\frac{\\sqrt{F} L}{2 \\sqrt{E} \\sqrt{I_{z}}} \\right)} \\cos^{2}{\\left(\\frac{\\sqrt{F} L}{2 \\sqrt{E} \\sqrt{I_{z}}} \\right)} - 1536 E^{3} I_{z}^{3} \\sin{\\left(\\frac{\\sqrt{F} L}{2 \\sqrt{E} \\sqrt{I_{z}}} \\right)} - 1152 E^{2} F I_{z}^{2} L^{2} \\sin{\\left(\\frac{\\sqrt{F} L}{2 \\sqrt{E} \\sqrt{I_{z}}} \\right)} \\cos^{2}{\\left(\\frac{\\sqrt{F} L}{2 \\sqrt{E} \\sqrt{I_{z}}} \\right)}}$"
      ],
      "text/plain": [
       "(864*E**(5/2)*sqrt(F)*I_z**(5/2)*L*sin(sqrt(F)*L/(sqrt(E)*sqrt(I_z)))*cos(sqrt(F)*L/(sqrt(E)*sqrt(I_z)))**2 - 768*E**(5/2)*sqrt(F)*I_z**(5/2)*L*sin(sqrt(F)*L/(sqrt(E)*sqrt(I_z)))*cos(sqrt(F)*L/(sqrt(E)*sqrt(I_z))) + 552*E**(5/2)*sqrt(F)*I_z**(5/2)*L*sin(sqrt(F)*L/(sqrt(E)*sqrt(I_z))) - 216*E**(5/2)*sqrt(F)*I_z**(5/2)*L*sin(3*sqrt(F)*L/(sqrt(E)*sqrt(I_z))) - 96*E**(3/2)*F**(3/2)*I_z**(3/2)*L**3*sin(sqrt(F)*L/(sqrt(E)*sqrt(I_z)))*cos(sqrt(F)*L/(sqrt(E)*sqrt(I_z)))**2 + 24*E**(3/2)*F**(3/2)*I_z**(3/2)*L**3*sin(sqrt(F)*L/(sqrt(E)*sqrt(I_z)))*cos(sqrt(F)*L/(sqrt(E)*sqrt(I_z))) + 24*E**(3/2)*F**(3/2)*I_z**(3/2)*L**3*sin(3*sqrt(F)*L/(sqrt(E)*sqrt(I_z))) - 2*sqrt(E)*F**(5/2)*sqrt(I_z)*L**5*sin(sqrt(F)*L/(sqrt(E)*sqrt(I_z)))*cos(sqrt(F)*L/(sqrt(E)*sqrt(I_z))) - 2*sqrt(E)*F**(5/2)*sqrt(I_z)*L**5*sin(sqrt(F)*L/(sqrt(E)*sqrt(I_z))) - 576*E**3*I_z**3*cos(sqrt(F)*L/(sqrt(E)*sqrt(I_z)))**2 + 1152*E**3*I_z**3*cos(sqrt(F)*L/(sqrt(E)*sqrt(I_z))) - 576*E**3*I_z**3 - 16*E**2*F*I_z**2*L**2*cos(sqrt(F)*L/(sqrt(E)*sqrt(I_z)))**3 + 304*E**2*F*I_z**2*L**2*cos(sqrt(F)*L/(sqrt(E)*sqrt(I_z)))**2 - 20*E**2*F*I_z**2*L**2*cos(sqrt(F)*L/(sqrt(E)*sqrt(I_z))) + 4*E**2*F*I_z**2*L**2*cos(3*sqrt(F)*L/(sqrt(E)*sqrt(I_z))) - 272*E**2*F*I_z**2*L**2 + 12*E*F**2*I_z*L**4*cos(sqrt(F)*L/(sqrt(E)*sqrt(I_z)))**3 + 15*E*F**2*I_z*L**4*cos(sqrt(F)*L/(sqrt(E)*sqrt(I_z))) - 3*E*F**2*I_z*L**4*cos(3*sqrt(F)*L/(sqrt(E)*sqrt(I_z))) + 24*E*F**2*I_z*L**4)/(-2304*E**(5/2)*sqrt(F)*I_z**(5/2)*L*cos(sqrt(F)*L/(2*sqrt(E)*sqrt(I_z)))**3 + 2304*E**(5/2)*sqrt(F)*I_z**(5/2)*L*cos(sqrt(F)*L/(2*sqrt(E)*sqrt(I_z))) + 192*E**(3/2)*F**(3/2)*I_z**(3/2)*L**3*cos(sqrt(F)*L/(2*sqrt(E)*sqrt(I_z)))**3 + 1536*E**3*I_z**3*sin(sqrt(F)*L/(2*sqrt(E)*sqrt(I_z)))*cos(sqrt(F)*L/(2*sqrt(E)*sqrt(I_z)))**2 - 1536*E**3*I_z**3*sin(sqrt(F)*L/(2*sqrt(E)*sqrt(I_z))) - 1152*E**2*F*I_z**2*L**2*sin(sqrt(F)*L/(2*sqrt(E)*sqrt(I_z)))*cos(sqrt(F)*L/(2*sqrt(E)*sqrt(I_z)))**2)"
      ]
     },
     "execution_count": 37,
     "metadata": {},
     "output_type": "execute_result"
    }
   ],
   "source": [
    "EvEq = sp.Eq(0, CoeffMat.det())\n",
    "EvEq.rhs.as_real_imag()[0].simplify()"
   ]
  },
  {
   "cell_type": "code",
   "execution_count": 247,
   "id": "e41c7316",
   "metadata": {},
   "outputs": [],
   "source": [
    "fun = EvEq.rhs.as_real_imag()[0]\n",
    "fun = fun.subs([(E, 210000), (Iz,  sp.pi/64 * 1**4), (L, 100)])\n",
    "\n",
    "fun = sp.lambdify(F, fun, 'numpy')\n",
    "# fun = sp.lambdify(lam, fun, 'numpy')"
   ]
  },
  {
   "cell_type": "code",
   "execution_count": 254,
   "id": "5294ba50",
   "metadata": {},
   "outputs": [],
   "source": [
    "f_vec = np.linspace(0.0001,100,1000)"
   ]
  },
  {
   "cell_type": "code",
   "execution_count": 255,
   "id": "78d2e28e",
   "metadata": {},
   "outputs": [
    {
     "data": {
      "image/png": "[encoded data removed]",
      "text/plain": [
       "<Figure size 432x288 with 1 Axes>"
      ]
     },
     "metadata": {
      "needs_background": "light"
     },
     "output_type": "display_data"
    }
   ],
   "source": [
    "plt.plot(f_vec,fun(f_vec))\n",
    "plt.grid()"
   ]
  },
  {
   "cell_type": "code",
   "execution_count": 256,
   "id": "83d7f95c",
   "metadata": {},
   "outputs": [],
   "source": [
    "from scipy.optimize import fsolve"
   ]
  },
  {
   "cell_type": "code",
   "execution_count": 257,
   "id": "fc33fa94",
   "metadata": {},
   "outputs": [
    {
     "data": {
      "text/plain": [
       "array([19.2414291])"
      ]
     },
     "execution_count": 257,
     "metadata": {},
     "output_type": "execute_result"
    }
   ],
   "source": [
    "sol = fsolve(lambda F: fun(F),20)\n",
    "sol"
   ]
  },
  {
   "cell_type": "code",
   "execution_count": 235,
   "id": "7ccf167f",
   "metadata": {},
   "outputs": [
    {
     "data": {
      "text/latex": [
       "$\\displaystyle 19.2414291048678$"
      ],
      "text/plain": [
       "19.2414291048678"
      ]
     },
     "execution_count": 235,
     "metadata": {},
     "output_type": "execute_result"
    }
   ],
   "source": [
    "#sol = fsolve(lambda lam: fun(lam),0.05)\n",
    "#sp.solve(sp.Eq(sol[0]**2, F/(E*Iz)), F)[0].subs([(E, 210000), (Iz,  sp.pi/64 * 1**4), (L, 100)]).evalf()"
   ]
  },
  {
   "cell_type": "code",
   "execution_count": 228,
   "id": "dda87456",
   "metadata": {},
   "outputs": [
    {
     "data": {
      "text/latex": [
       "$\\displaystyle 19.2766161728861$"
      ],
      "text/plain": [
       "19.2766161728861"
      ]
     },
     "execution_count": 228,
     "metadata": {},
     "output_type": "execute_result"
    }
   ],
   "source": [
    "(18.7 * 210000 * sp.pi/64*1**4 / 100**2).evalf()"
   ]
  },
  {
   "cell_type": "code",
   "execution_count": 94,
   "id": "41f8ad26",
   "metadata": {},
   "outputs": [
    {
     "data": {
      "text/plain": [
       "0"
      ]
     },
     "execution_count": 94,
     "metadata": {},
     "output_type": "execute_result"
    }
   ],
   "source": []
  },
  {
   "cell_type": "code",
   "execution_count": null,
   "id": "37746de7",
   "metadata": {},
   "outputs": [],
   "source": []
  }
 ],
 "metadata": {
  "kernelspec": {
   "display_name": "Python 3 (ipykernel)",
   "language": "python",
   "name": "python3"
  },
  "language_info": {
   "codemirror_mode": {
    "name": "ipython",
    "version": 3
   },
   "file_extension": ".py",
   "mimetype": "text/x-python",
   "name": "python",
   "nbconvert_exporter": "python",
   "pygments_lexer": "ipython3",
   "version": "3.10.2"
  }
 },
 "nbformat": 4,
 "nbformat_minor": 5
}
