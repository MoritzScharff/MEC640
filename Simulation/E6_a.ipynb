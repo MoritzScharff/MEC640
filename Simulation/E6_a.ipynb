{
 "cells": [
  {
   "cell_type": "markdown",
   "id": "fdbbb4bb",
   "metadata": {},
   "source": [
    "# E6.A - Task"
   ]
  },
  {
   "cell_type": "code",
   "execution_count": 55,
   "id": "3661911e",
   "metadata": {},
   "outputs": [],
   "source": [
    "reset -f"
   ]
  },
  {
   "cell_type": "code",
   "execution_count": 56,
   "id": "dcb1ca09",
   "metadata": {},
   "outputs": [],
   "source": [
    "import sympy as sp\n",
    "import numpy as np\n",
    "import matplotlib.pyplot as plt\n",
    "\n",
    "from IPython.display import Math, Latex"
   ]
  },
  {
   "cell_type": "markdown",
   "id": "2910d2c8",
   "metadata": {},
   "source": [
    "## Define symbolic variables"
   ]
  },
  {
   "cell_type": "code",
   "execution_count": 57,
   "id": "9a2e485c",
   "metadata": {},
   "outputs": [],
   "source": [
    "L, F, x, Ay, Bx, By, E, Iz  = sp.symbols('L, F, x, Ay, Bx, By, E, Iz', real = 'True')\n",
    "Mbz1 = sp.Function('M_{bz1}')\n",
    "Mbz2 = sp.Function('M_{bz2}')\n",
    "v1 = sp.Function('v1')\n",
    "v2 = sp.Function('v2')"
   ]
  },
  {
   "cell_type": "code",
   "execution_count": 58,
   "id": "7fbb49f5",
   "metadata": {},
   "outputs": [],
   "source": [
    "eq1 = sp.Eq(0, Mbz1(x) - Ay*x)\n",
    "eq2 = sp.Eq(0, Mbz2(x) - Ay*x - F*v2(x))"
   ]
  },
  {
   "cell_type": "code",
   "execution_count": 59,
   "id": "3b100c59",
   "metadata": {},
   "outputs": [],
   "source": [
    "sol = sp.solve((eq1, eq2), (Mbz1(x), Mbz2(x)))\n",
    "Mbz1, Mbz2 = sol.values()\n"
   ]
  },
  {
   "cell_type": "code",
   "execution_count": 60,
   "id": "d08013ca",
   "metadata": {},
   "outputs": [
    {
     "data": {
      "text/latex": [
       "$\\displaystyle \\frac{d^{2}}{d x^{2}} \\operatorname{v_{2}}{\\left(x \\right)} = \\frac{Ay x + F \\operatorname{v_{2}}{\\left(x \\right)}}{E Iz}$"
      ],
      "text/plain": [
       "Eq(Derivative(v2(x), (x, 2)), (Ay*x + F*v2(x))/(E*Iz))"
      ]
     },
     "metadata": {},
     "output_type": "display_data"
    }
   ],
   "source": [
    "DefEq1 = sp.Eq(sp.Derivative(v1(x),x,x), Mbz1/(E*Iz)) \n",
    "DefEq2 = sp.Eq(sp.Derivative(v2(x),x,x), Mbz2/(E*Iz)) \n",
    "display(DefEq2)"
   ]
  },
  {
   "cell_type": "markdown",
   "id": "f1fab288",
   "metadata": {},
   "source": [
    "classifying the equation:\n",
    "* ordinary \n",
    "* linear\n",
    "* second orden\n",
    "* inhomogeneous\n",
    "* constant coefficients\n",
    "\n",
    "we need an ODE solver-> sp.dsolve()"
   ]
  },
  {
   "cell_type": "code",
   "execution_count": 61,
   "id": "3885b581",
   "metadata": {},
   "outputs": [],
   "source": [
    "sol1 = sp.dsolve(DefEq1)\n",
    "sol2 = sp.dsolve(DefEq2)\n",
    "v1 = sol1.rhs\n",
    "dv1dx = sp.diff(sol1.rhs, x)\n",
    "v2 = sol2.rhs\n",
    "dv2dx = sp.diff(sol2.rhs, x)"
   ]
  },
  {
   "cell_type": "code",
   "execution_count": 73,
   "id": "236dfe71",
   "metadata": {},
   "outputs": [
    {
     "data": {
      "text/latex": [
       "$\\displaystyle 0 = \\frac{Ay}{F} + \\frac{Ay L^{2}}{8 E Iz} + C_{1} \\sqrt{\\frac{F}{E Iz}} e^{- \\frac{L \\sqrt{\\frac{F}{E Iz}}}{2}} - C_{2} \\sqrt{\\frac{F}{E Iz}} e^{\\frac{L \\sqrt{\\frac{F}{E Iz}}}{2}} + C_{2}$"
      ],
      "text/plain": [
       "Eq(0, Ay/F + Ay*L**2/(8*E*Iz) + C1*sqrt(F/(E*Iz))*exp(-L*sqrt(F/(E*Iz))/2) - C2*sqrt(F/(E*Iz))*exp(L*sqrt(F/(E*Iz))/2) + C2)"
      ]
     },
     "metadata": {},
     "output_type": "display_data"
    }
   ],
   "source": [
    "BC1 = sp.Eq(0, v1.subs(x,0))\n",
    "BC2 = sp.Eq(0, v1.subs(x, L/2) - v2.subs(x, L/2))\n",
    "BC3 = sp.Eq(0, dv1dx.subs(x, L/2) - dv2dx.subs(x, L/2))\n",
    "BC4 = sp.Eq(0, v2.subs(x, L))\n",
    "display(BC3)"
   ]
  },
  {
   "cell_type": "code",
   "execution_count": 74,
   "id": "d0d37a35",
   "metadata": {},
   "outputs": [],
   "source": [
    "CoeffMat = sp.Matrix([[BC1.rhs.coeff('C1'), BC1.rhs.coeff('C2'), BC1.rhs.coeff(Ay), BC1.rhs.coeff(F)],\n",
    "                      [BC2.rhs.coeff('C1'), BC2.rhs.coeff('C2'), BC2.rhs.coeff(Ay), BC2.rhs.coeff(F)],\n",
    "                      [BC3.rhs.coeff('C1'), BC3.rhs.coeff('C2'), BC3.rhs.coeff(Ay), BC3.rhs.coeff(F)],\n",
    "                      [BC4.rhs.coeff('C1'), BC4.rhs.coeff('C2'), BC4.rhs.coeff(Ay), BC4.rhs.coeff(F)]])"
   ]
  },
  {
   "cell_type": "code",
   "execution_count": 80,
   "id": "6e6d2bd2",
   "metadata": {},
   "outputs": [
    {
     "data": {
      "text/latex": [
       "$\\displaystyle \\frac{L \\sqrt{\\frac{F}{E Iz}} e^{\\frac{L \\sqrt{\\frac{F}{E Iz}}}{2}}}{2 F} - \\frac{e^{\\frac{L \\sqrt{\\frac{F}{E Iz}}}{2}}}{F} + \\frac{L^{3} \\sqrt{\\frac{F}{E Iz}} e^{\\frac{L \\sqrt{\\frac{F}{E Iz}}}{2}}}{48 E Iz} + \\frac{L^{3}}{24 E Iz} - \\frac{L^{2} e^{\\frac{L \\sqrt{\\frac{F}{E Iz}}}{2}}}{8 E Iz} = 0$"
      ],
      "text/plain": [
       "Eq(L*sqrt(F/(E*Iz))*exp(L*sqrt(F/(E*Iz))/2)/(2*F) - exp(L*sqrt(F/(E*Iz))/2)/F + L**3*sqrt(F/(E*Iz))*exp(L*sqrt(F/(E*Iz))/2)/(48*E*Iz) + L**3/(24*E*Iz) - L**2*exp(L*sqrt(F/(E*Iz))/2)/(8*E*Iz), 0)"
      ]
     },
     "execution_count": 80,
     "metadata": {},
     "output_type": "execute_result"
    }
   ],
   "source": [
    "EvEq = sp.Eq(0, CoeffMat[0:3, 0:3].det())\n",
    "sp.simplify(EvEq)"
   ]
  },
  {
   "cell_type": "code",
   "execution_count": 81,
   "id": "e875c76c",
   "metadata": {},
   "outputs": [
    {
     "ename": "AttributeError",
     "evalue": "'NoneType' object has no attribute 'gens'",
     "output_type": "error",
     "traceback": [
      "\u001b[1;31m---------------------------------------------------------------------------\u001b[0m",
      "\u001b[1;31mAttributeError\u001b[0m                            Traceback (most recent call last)",
      "Input \u001b[1;32mIn [81]\u001b[0m, in \u001b[0;36m<cell line: 1>\u001b[1;34m()\u001b[0m\n\u001b[1;32m----> 1\u001b[0m \u001b[43msp\u001b[49m\u001b[38;5;241;43m.\u001b[39;49m\u001b[43msolve\u001b[49m\u001b[43m(\u001b[49m\u001b[43mEvEq\u001b[49m\u001b[43m,\u001b[49m\u001b[43mF\u001b[49m\u001b[43m)\u001b[49m\n",
      "File \u001b[1;32m~\\AppData\\Local\\Programs\\Python\\Python310\\lib\\site-packages\\sympy\\solvers\\solvers.py:1106\u001b[0m, in \u001b[0;36msolve\u001b[1;34m(f, *symbols, **flags)\u001b[0m\n\u001b[0;32m   1102\u001b[0m \u001b[38;5;66;03m#\u001b[39;00m\n\u001b[0;32m   1103\u001b[0m \u001b[38;5;66;03m# try to get a solution\u001b[39;00m\n\u001b[0;32m   1104\u001b[0m \u001b[38;5;66;03m###########################################################################\u001b[39;00m\n\u001b[0;32m   1105\u001b[0m \u001b[38;5;28;01mif\u001b[39;00m bare_f:\n\u001b[1;32m-> 1106\u001b[0m     solution \u001b[38;5;241m=\u001b[39m _solve(f[\u001b[38;5;241m0\u001b[39m], \u001b[38;5;241m*\u001b[39msymbols, \u001b[38;5;241m*\u001b[39m\u001b[38;5;241m*\u001b[39mflags)\n\u001b[0;32m   1107\u001b[0m \u001b[38;5;28;01melse\u001b[39;00m:\n\u001b[0;32m   1108\u001b[0m     solution \u001b[38;5;241m=\u001b[39m _solve_system(f, symbols, \u001b[38;5;241m*\u001b[39m\u001b[38;5;241m*\u001b[39mflags)\n",
      "File \u001b[1;32m~\\AppData\\Local\\Programs\\Python\\Python310\\lib\\site-packages\\sympy\\solvers\\solvers.py:1394\u001b[0m, in \u001b[0;36m_solve\u001b[1;34m(f, *symbols, **flags)\u001b[0m\n\u001b[0;32m   1392\u001b[0m         result \u001b[38;5;241m=\u001b[39m \u001b[38;5;28mset\u001b[39m()\n\u001b[0;32m   1393\u001b[0m         \u001b[38;5;28;01mbreak\u001b[39;00m\n\u001b[1;32m-> 1394\u001b[0m     soln \u001b[38;5;241m=\u001b[39m _solve(m, symbol, \u001b[38;5;241m*\u001b[39m\u001b[38;5;241m*\u001b[39mflags)\n\u001b[0;32m   1395\u001b[0m     result\u001b[38;5;241m.\u001b[39mupdate(\u001b[38;5;28mset\u001b[39m(soln))\n\u001b[0;32m   1396\u001b[0m result \u001b[38;5;241m=\u001b[39m \u001b[38;5;28mlist\u001b[39m(result)\n",
      "File \u001b[1;32m~\\AppData\\Local\\Programs\\Python\\Python310\\lib\\site-packages\\sympy\\solvers\\solvers.py:1686\u001b[0m, in \u001b[0;36m_solve\u001b[1;34m(f, *symbols, **flags)\u001b[0m\n\u001b[0;32m   1684\u001b[0m \u001b[38;5;28;01mif\u001b[39;00m flags\u001b[38;5;241m.\u001b[39mpop(\u001b[38;5;124m'\u001b[39m\u001b[38;5;124m_unrad\u001b[39m\u001b[38;5;124m'\u001b[39m, \u001b[38;5;28;01mTrue\u001b[39;00m):\n\u001b[0;32m   1685\u001b[0m     \u001b[38;5;28;01mtry\u001b[39;00m:\n\u001b[1;32m-> 1686\u001b[0m         u \u001b[38;5;241m=\u001b[39m \u001b[43munrad\u001b[49m\u001b[43m(\u001b[49m\u001b[43mf_num\u001b[49m\u001b[43m,\u001b[49m\u001b[43m \u001b[49m\u001b[43msymbol\u001b[49m\u001b[43m)\u001b[49m\n\u001b[0;32m   1687\u001b[0m     \u001b[38;5;28;01mexcept\u001b[39;00m (\u001b[38;5;167;01mValueError\u001b[39;00m, \u001b[38;5;167;01mNotImplementedError\u001b[39;00m):\n\u001b[0;32m   1688\u001b[0m         u \u001b[38;5;241m=\u001b[39m \u001b[38;5;28;01mFalse\u001b[39;00m\n",
      "File \u001b[1;32m~\\AppData\\Local\\Programs\\Python\\Python310\\lib\\site-packages\\sympy\\solvers\\solvers.py:3334\u001b[0m, in \u001b[0;36munrad\u001b[1;34m(eq, *syms, **flags)\u001b[0m\n\u001b[0;32m   3332\u001b[0m             bases\u001b[38;5;241m.\u001b[39madd(g\u001b[38;5;241m.\u001b[39mbase)\n\u001b[0;32m   3333\u001b[0m     \u001b[38;5;28;01mreturn\u001b[39;00m rads, bases, lcm\n\u001b[1;32m-> 3334\u001b[0m rads, bases, lcm \u001b[38;5;241m=\u001b[39m \u001b[43m_rads_bases_lcm\u001b[49m\u001b[43m(\u001b[49m\u001b[43mpoly\u001b[49m\u001b[43m)\u001b[49m\n\u001b[0;32m   3336\u001b[0m covsym \u001b[38;5;241m=\u001b[39m Dummy(\u001b[38;5;124m'\u001b[39m\u001b[38;5;124mp\u001b[39m\u001b[38;5;124m'\u001b[39m, nonnegative\u001b[38;5;241m=\u001b[39m\u001b[38;5;28;01mTrue\u001b[39;00m)\n\u001b[0;32m   3338\u001b[0m \u001b[38;5;66;03m# only keep in syms symbols that actually appear in radicals;\u001b[39;00m\n\u001b[0;32m   3339\u001b[0m \u001b[38;5;66;03m# and update gens\u001b[39;00m\n",
      "File \u001b[1;32m~\\AppData\\Local\\Programs\\Python\\Python310\\lib\\site-packages\\sympy\\solvers\\solvers.py:3327\u001b[0m, in \u001b[0;36munrad.<locals>._rads_bases_lcm\u001b[1;34m(poly)\u001b[0m\n\u001b[0;32m   3325\u001b[0m rads \u001b[38;5;241m=\u001b[39m \u001b[38;5;28mset\u001b[39m()\n\u001b[0;32m   3326\u001b[0m bases \u001b[38;5;241m=\u001b[39m \u001b[38;5;28mset\u001b[39m()\n\u001b[1;32m-> 3327\u001b[0m \u001b[38;5;28;01mfor\u001b[39;00m g \u001b[38;5;129;01min\u001b[39;00m \u001b[43mpoly\u001b[49m\u001b[38;5;241;43m.\u001b[39;49m\u001b[43mgens\u001b[49m:\n\u001b[0;32m   3328\u001b[0m     q \u001b[38;5;241m=\u001b[39m _Q(g)\n\u001b[0;32m   3329\u001b[0m     \u001b[38;5;28;01mif\u001b[39;00m q \u001b[38;5;241m!=\u001b[39m \u001b[38;5;241m1\u001b[39m:\n",
      "\u001b[1;31mAttributeError\u001b[0m: 'NoneType' object has no attribute 'gens'"
     ]
    }
   ],
   "source": []
  },
  {
   "cell_type": "code",
   "execution_count": null,
   "id": "e41c7316",
   "metadata": {},
   "outputs": [],
   "source": []
  }
 ],
 "metadata": {
  "kernelspec": {
   "display_name": "Python 3 (ipykernel)",
   "language": "python",
   "name": "python3"
  },
  "language_info": {
   "codemirror_mode": {
    "name": "ipython",
    "version": 3
   },
   "file_extension": ".py",
   "mimetype": "text/x-python",
   "name": "python",
   "nbconvert_exporter": "python",
   "pygments_lexer": "ipython3",
   "version": "3.10.2"
  }
 },
 "nbformat": 4,
 "nbformat_minor": 5
}
