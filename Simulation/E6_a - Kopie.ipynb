{
 "cells": [
  {
   "cell_type": "markdown",
   "id": "fdbbb4bb",
   "metadata": {},
   "source": [
    "# E6.A - Task"
   ]
  },
  {
   "cell_type": "code",
   "execution_count": 79,
   "id": "3661911e",
   "metadata": {},
   "outputs": [],
   "source": [
    "reset -f"
   ]
  },
  {
   "cell_type": "code",
   "execution_count": 80,
   "id": "dcb1ca09",
   "metadata": {},
   "outputs": [],
   "source": [
    "import sympy as sp\n",
    "import numpy as np\n",
    "import matplotlib.pyplot as plt\n",
    "\n",
    "from IPython.display import Math, Latex"
   ]
  },
  {
   "cell_type": "markdown",
   "id": "2910d2c8",
   "metadata": {},
   "source": [
    "## Define symbolic variables"
   ]
  },
  {
   "cell_type": "code",
   "execution_count": 81,
   "id": "9a2e485c",
   "metadata": {},
   "outputs": [],
   "source": [
    "L, F, x, Ay, Bx, By, E, Iz  = sp.symbols('L, F, x, Ay, Bx, By, E, Iz', real = 'True')\n",
    "Mbz = sp.Function('M_{bz}')\n",
    "v = sp.Function('v')\n"
   ]
  },
  {
   "cell_type": "code",
   "execution_count": 82,
   "id": "7fbb49f5",
   "metadata": {},
   "outputs": [],
   "source": [
    "eq = sp.Eq(0, -Mbz(x) + F*v(x))"
   ]
  },
  {
   "cell_type": "code",
   "execution_count": 83,
   "id": "3b100c59",
   "metadata": {},
   "outputs": [
    {
     "data": {
      "text/latex": [
       "$\\displaystyle F v{\\left(x \\right)}$"
      ],
      "text/plain": [
       "F*v(x)"
      ]
     },
     "execution_count": 83,
     "metadata": {},
     "output_type": "execute_result"
    }
   ],
   "source": [
    "sol = sp.solve(eq, Mbz(x))\n",
    "Mbz = sol[0]\n",
    "Mbz\n"
   ]
  },
  {
   "cell_type": "code",
   "execution_count": 84,
   "id": "d08013ca",
   "metadata": {},
   "outputs": [
    {
     "data": {
      "text/latex": [
       "$\\displaystyle \\frac{d^{2}}{d x^{2}} v{\\left(x \\right)} = \\frac{F v{\\left(x \\right)}}{E Iz}$"
      ],
      "text/plain": [
       "Eq(Derivative(v(x), (x, 2)), F*v(x)/(E*Iz))"
      ]
     },
     "metadata": {},
     "output_type": "display_data"
    }
   ],
   "source": [
    "DefEq = sp.Eq(sp.Derivative(v(x),x,x), Mbz/(E*Iz)) \n",
    "display(DefEq)"
   ]
  },
  {
   "cell_type": "markdown",
   "id": "f1fab288",
   "metadata": {},
   "source": [
    "classifying the equation:\n",
    "* ordinary \n",
    "* linear\n",
    "* second orden\n",
    "* inhomogeneous\n",
    "* constant coefficients\n",
    "\n",
    "we need an ODE solver-> sp.dsolve()"
   ]
  },
  {
   "cell_type": "code",
   "execution_count": 85,
   "id": "3885b581",
   "metadata": {},
   "outputs": [],
   "source": [
    "sol = sp.dsolve(DefEq)\n",
    "v = sol.rhs\n",
    "dvdx = sp.diff(sol.rhs, x)\n",
    "ddvddx = sp.diff(sol.rhs, x, x)"
   ]
  },
  {
   "cell_type": "code",
   "execution_count": 86,
   "id": "236dfe71",
   "metadata": {},
   "outputs": [
    {
     "data": {
      "text/latex": [
       "$\\displaystyle 0 = C_{1} + C_{2}$"
      ],
      "text/plain": [
       "Eq(0, C1 + C2)"
      ]
     },
     "metadata": {},
     "output_type": "display_data"
    },
    {
     "data": {
      "text/latex": [
       "$\\displaystyle 0 = - C_{1} \\sqrt{\\frac{F}{E Iz}} e^{- L \\sqrt{\\frac{F}{E Iz}}} + C_{2} \\sqrt{\\frac{F}{E Iz}} e^{L \\sqrt{\\frac{F}{E Iz}}}$"
      ],
      "text/plain": [
       "Eq(0, -C1*sqrt(F/(E*Iz))*exp(-L*sqrt(F/(E*Iz))) + C2*sqrt(F/(E*Iz))*exp(L*sqrt(F/(E*Iz))))"
      ]
     },
     "metadata": {},
     "output_type": "display_data"
    }
   ],
   "source": [
    "BC1 = sp.Eq(0, v.subs(x,0))\n",
    "BC2 = sp.Eq(0, dvdx.subs(x, L))\n",
    "\n",
    "display(BC1)\n",
    "display(BC2)"
   ]
  },
  {
   "cell_type": "code",
   "execution_count": 87,
   "id": "d0d37a35",
   "metadata": {},
   "outputs": [
    {
     "data": {
      "text/latex": [
       "$\\displaystyle \\left[\\begin{matrix}1 & 1\\\\- \\sqrt{\\frac{F}{E Iz}} e^{- L \\sqrt{\\frac{F}{E Iz}}} & \\sqrt{\\frac{F}{E Iz}} e^{L \\sqrt{\\frac{F}{E Iz}}}\\end{matrix}\\right]$"
      ],
      "text/plain": [
       "Matrix([\n",
       "[                                     1,                                    1],\n",
       "[-sqrt(F/(E*Iz))*exp(-L*sqrt(F/(E*Iz))), sqrt(F/(E*Iz))*exp(L*sqrt(F/(E*Iz)))]])"
      ]
     },
     "execution_count": 87,
     "metadata": {},
     "output_type": "execute_result"
    }
   ],
   "source": [
    "CoeffMat = sp.Matrix([[BC1.rhs.coeff('C1'), BC1.rhs.coeff('C2')],\n",
    "                      [BC2.rhs.coeff('C1'), BC2.rhs.coeff('C2')]])\n",
    "CoeffMat"
   ]
  },
  {
   "cell_type": "code",
   "execution_count": 88,
   "id": "6e6d2bd2",
   "metadata": {},
   "outputs": [
    {
     "data": {
      "text/latex": [
       "$\\displaystyle 2 \\sqrt{\\frac{F}{E Iz}} \\cosh{\\left(L \\sqrt{\\frac{F}{E Iz}} \\right)} = 0$"
      ],
      "text/plain": [
       "Eq(2*sqrt(F/(E*Iz))*cosh(L*sqrt(F/(E*Iz))), 0)"
      ]
     },
     "execution_count": 88,
     "metadata": {},
     "output_type": "execute_result"
    }
   ],
   "source": [
    "EvEq = sp.Eq(0, CoeffMat.det())\n",
    "sp.simplify(EvEq)"
   ]
  },
  {
   "cell_type": "code",
   "execution_count": 92,
   "id": "e875c76c",
   "metadata": {},
   "outputs": [
    {
     "data": {
      "text/plain": [
       "{sqrt(F/(E*Iz))*exp(L*sqrt(F/(E*Iz)))/2 - sqrt(-8*sqrt(F/(E*Iz))*cosh(L*sqrt(F/(E*Iz))) + (sqrt(F/(E*Iz))*exp(L*sqrt(F/(E*Iz))) + 1)**2)/2 + 1/2: 1,\n",
       " sqrt(F/(E*Iz))*exp(L*sqrt(F/(E*Iz)))/2 + sqrt(-8*sqrt(F/(E*Iz))*cosh(L*sqrt(F/(E*Iz))) + (sqrt(F/(E*Iz))*exp(L*sqrt(F/(E*Iz))) + 1)**2)/2 + 1/2: 1}"
      ]
     },
     "execution_count": 92,
     "metadata": {},
     "output_type": "execute_result"
    }
   ],
   "source": []
  },
  {
   "cell_type": "code",
   "execution_count": null,
   "id": "e41c7316",
   "metadata": {},
   "outputs": [],
   "source": []
  }
 ],
 "metadata": {
  "kernelspec": {
   "display_name": "Python 3 (ipykernel)",
   "language": "python",
   "name": "python3"
  },
  "language_info": {
   "codemirror_mode": {
    "name": "ipython",
    "version": 3
   },
   "file_extension": ".py",
   "mimetype": "text/x-python",
   "name": "python",
   "nbconvert_exporter": "python",
   "pygments_lexer": "ipython3",
   "version": "3.10.2"
  }
 },
 "nbformat": 4,
 "nbformat_minor": 5
}
