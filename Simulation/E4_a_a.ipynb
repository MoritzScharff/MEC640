{
 "cells": [
  {
   "cell_type": "markdown",
   "id": "fdbbb4bb",
   "metadata": {},
   "source": [
    "# E3.A a)- Task"
   ]
  },
  {
   "cell_type": "code",
   "execution_count": 22,
   "id": "3661911e",
   "metadata": {},
   "outputs": [],
   "source": [
    "reset -f"
   ]
  },
  {
   "cell_type": "code",
   "execution_count": 23,
   "id": "dcb1ca09",
   "metadata": {},
   "outputs": [],
   "source": [
    "import sympy as sp\n",
    "import numpy as np\n",
    "import matplotlib.pyplot as plt\n",
    "\n",
    "from IPython.display import Math, Latex"
   ]
  },
  {
   "cell_type": "markdown",
   "id": "2910d2c8",
   "metadata": {},
   "source": [
    "## Define symbolic variables"
   ]
  },
  {
   "cell_type": "code",
   "execution_count": 24,
   "id": "9a2e485c",
   "metadata": {},
   "outputs": [],
   "source": [
    "L, F, x  = sp.symbols('L, F, x', real = 'True')\n",
    "Ax, Ay, MAz = sp. symbols('Ax, Ay, MAz', real = 'True')"
   ]
  },
  {
   "cell_type": "code",
   "execution_count": 25,
   "id": "7fbb49f5",
   "metadata": {},
   "outputs": [],
   "source": [
    "eq1 = sp.Eq(0 , Ax)\n",
    "eq2 = sp.Eq(0 , Ay - F)\n",
    "eq3 = sp.Eq(0, MAz - F*L)"
   ]
  },
  {
   "cell_type": "code",
   "execution_count": 26,
   "id": "3b100c59",
   "metadata": {},
   "outputs": [
    {
     "data": {
      "text/plain": [
       "{Ax: 0, Ay: F, MAz: F*L}"
      ]
     },
     "execution_count": 26,
     "metadata": {},
     "output_type": "execute_result"
    }
   ],
   "source": [
    "sol = sp.solve([eq1, eq2, eq3],[Ax, Ay, MAz])\n",
    "sol"
   ]
  },
  {
   "cell_type": "code",
   "execution_count": 27,
   "id": "d08013ca",
   "metadata": {},
   "outputs": [],
   "source": [
    "Ax, Ay, MAz = sol.values()"
   ]
  },
  {
   "cell_type": "markdown",
   "id": "44b77f59",
   "metadata": {},
   "source": [
    "# Internal force reactions"
   ]
  },
  {
   "cell_type": "markdown",
   "id": "d28ae8e1",
   "metadata": {},
   "source": [
    "## Define symbolic functions"
   ]
  },
  {
   "cell_type": "code",
   "execution_count": 28,
   "id": "2fb3a243",
   "metadata": {},
   "outputs": [],
   "source": [
    "N = sp.Function('N')(x)\n",
    "Q = sp.Function('Q')(x)\n",
    "Mbz = sp.Function('Mbz')(x) "
   ]
  },
  {
   "cell_type": "markdown",
   "id": "a7afd22a",
   "metadata": {},
   "source": [
    "## Set up equations"
   ]
  },
  {
   "cell_type": "code",
   "execution_count": 29,
   "id": "fd339f86",
   "metadata": {},
   "outputs": [],
   "source": [
    "eq11 = sp.Eq(0, N + Ax) \n",
    "eq12 = sp.Eq(0, Q + Ay)\n",
    "eq13 = sp.Eq(0, Mbz + MAz - Ay*x)"
   ]
  },
  {
   "cell_type": "markdown",
   "id": "2174a9c2",
   "metadata": {},
   "source": [
    "# solve equations"
   ]
  },
  {
   "cell_type": "code",
   "execution_count": 30,
   "id": "c1f0ae0b",
   "metadata": {},
   "outputs": [
    {
     "data": {
      "text/plain": [
       "{N(x): 0, Q(x): -F, Mbz(x): -F*L + F*x}"
      ]
     },
     "execution_count": 30,
     "metadata": {},
     "output_type": "execute_result"
    }
   ],
   "source": [
    "sol = sp.solve([eq11, eq12, eq13],[N, Q, Mbz])\n",
    "sol"
   ]
  },
  {
   "cell_type": "code",
   "execution_count": 31,
   "id": "005de21c",
   "metadata": {},
   "outputs": [],
   "source": [
    "N, Q, Mbz = sol.values()"
   ]
  },
  {
   "cell_type": "markdown",
   "id": "b82ea663",
   "metadata": {},
   "source": [
    "# Stress"
   ]
  },
  {
   "cell_type": "code",
   "execution_count": 32,
   "id": "7121c3cd",
   "metadata": {},
   "outputs": [],
   "source": [
    "E, h, b, y = sp.symbols('E, h, b,y', real = 'True')"
   ]
  },
  {
   "cell_type": "code",
   "execution_count": 33,
   "id": "7718d5e4",
   "metadata": {},
   "outputs": [],
   "source": [
    "Iz = b*h**3/12"
   ]
  },
  {
   "cell_type": "code",
   "execution_count": 34,
   "id": "66f7a53d",
   "metadata": {},
   "outputs": [
    {
     "data": {
      "text/latex": [
       "$\\displaystyle \\frac{6 F L}{b h^{2}}$"
      ],
      "text/plain": [
       "6*F*L/(b*h**2)"
      ]
     },
     "metadata": {},
     "output_type": "display_data"
    }
   ],
   "source": [
    "sigma = -Mbz/Iz * y\n",
    "display(sigma.subs([(x,0),(y,h/2)]))"
   ]
  },
  {
   "cell_type": "markdown",
   "id": "cca425b1",
   "metadata": {},
   "source": [
    "# Deformation"
   ]
  },
  {
   "cell_type": "code",
   "execution_count": 35,
   "id": "35554702",
   "metadata": {},
   "outputs": [],
   "source": [
    "v = sp.Function('v')"
   ]
  },
  {
   "cell_type": "code",
   "execution_count": 36,
   "id": "ba9fb258",
   "metadata": {},
   "outputs": [
    {
     "data": {
      "text/latex": [
       "$\\displaystyle \\frac{d^{2}}{d x^{2}} v{\\left(x \\right)} = \\frac{12 \\left(- F L + F x\\right)}{E b h^{3}}$"
      ],
      "text/plain": [
       "Eq(Derivative(v(x), (x, 2)), 12*(-F*L + F*x)/(E*b*h**3))"
      ]
     },
     "metadata": {},
     "output_type": "display_data"
    }
   ],
   "source": [
    "eq = sp.Eq(sp.diff(v(x),x,x), Mbz/(E*Iz))\n",
    "display(eq)"
   ]
  },
  {
   "cell_type": "code",
   "execution_count": 37,
   "id": "860f8b2f",
   "metadata": {},
   "outputs": [],
   "source": [
    "bc = {v(0):0, sp.diff(v(x),x).subs(x, 0):0}"
   ]
  },
  {
   "cell_type": "code",
   "execution_count": 38,
   "id": "3ad1a8ca",
   "metadata": {},
   "outputs": [
    {
     "data": {
      "text/latex": [
       "$\\displaystyle v{\\left(x \\right)} = - \\frac{6 F L x^{2}}{E b h^{3}} + \\frac{2 F x^{3}}{E b h^{3}}$"
      ],
      "text/plain": [
       "Eq(v(x), -6*F*L*x**2/(E*b*h**3) + 2*F*x**3/(E*b*h**3))"
      ]
     },
     "metadata": {},
     "output_type": "display_data"
    },
    {
     "data": {
      "text/latex": [
       "$\\displaystyle v{\\left(L \\right)} = - \\frac{4 F L^{3}}{E b h^{3}}$"
      ],
      "text/plain": [
       "Eq(v(L), -4*F*L**3/(E*b*h**3))"
      ]
     },
     "metadata": {},
     "output_type": "display_data"
    }
   ],
   "source": [
    "sol = sp.dsolve(eq, ics = bc)\n",
    "v = sol.rhs\n",
    "display(sol)\n",
    "display(sol.subs(x,L))"
   ]
  },
  {
   "cell_type": "code",
   "execution_count": 39,
   "id": "4b4f1abb",
   "metadata": {},
   "outputs": [],
   "source": [
    "v = v.subs([(L, 100), (h, 2), (b, 15), (E, 210000)])"
   ]
  },
  {
   "cell_type": "code",
   "execution_count": 40,
   "id": "7533fa23",
   "metadata": {},
   "outputs": [],
   "source": [
    "v_fun = sp.lambdify((x ,F), v, 'numpy')\n",
    "s = np.arange(0,100,1)\n"
   ]
  },
  {
   "cell_type": "code",
   "execution_count": 41,
   "id": "e15a7c68",
   "metadata": {},
   "outputs": [
    {
     "data": {
      "text/plain": [
       "Text(0, 0.5, 'v(x)')"
      ]
     },
     "execution_count": 41,
     "metadata": {},
     "output_type": "execute_result"
    },
    {
     "data": {
      "image/png": "[encoded data removed]",
      "text/plain": [
       "<Figure size 432x288 with 1 Axes>"
      ]
     },
     "metadata": {
      "needs_background": "light"
     },
     "output_type": "display_data"
    }
   ],
   "source": [
    "plt.plot(s, v_fun(s,0))\n",
    "plt.plot(s, v_fun(s,100))\n",
    "plt.plot(s, v_fun(s,200))\n",
    "plt.plot(s, v_fun(s,300))\n",
    "plt.plot(s, v_fun(s,400))\n",
    "plt.xlabel('x')\n",
    "plt.ylabel('v(x)')"
   ]
  },
  {
   "cell_type": "code",
   "execution_count": null,
   "id": "fe923fc2",
   "metadata": {},
   "outputs": [],
   "source": []
  },
  {
   "cell_type": "code",
   "execution_count": null,
   "id": "d0d37a35",
   "metadata": {},
   "outputs": [],
   "source": []
  }
 ],
 "metadata": {
  "kernelspec": {
   "display_name": "Python 3 (ipykernel)",
   "language": "python",
   "name": "python3"
  },
  "language_info": {
   "codemirror_mode": {
    "name": "ipython",
    "version": 3
   },
   "file_extension": ".py",
   "mimetype": "text/x-python",
   "name": "python",
   "nbconvert_exporter": "python",
   "pygments_lexer": "ipython3",
   "version": "3.10.2"
  }
 },
 "nbformat": 4,
 "nbformat_minor": 5
}
