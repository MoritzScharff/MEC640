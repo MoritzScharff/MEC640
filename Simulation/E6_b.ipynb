{
 "cells": [
  {
   "cell_type": "markdown",
   "id": "fdbbb4bb",
   "metadata": {},
   "source": [
    "# E6.B - Task"
   ]
  },
  {
   "cell_type": "code",
   "execution_count": 141,
   "id": "3661911e",
   "metadata": {},
   "outputs": [],
   "source": [
    "reset -f"
   ]
  },
  {
   "cell_type": "code",
   "execution_count": 142,
   "id": "dcb1ca09",
   "metadata": {},
   "outputs": [],
   "source": [
    "import sympy as sp\n",
    "import numpy as np\n",
    "import matplotlib.pyplot as plt\n",
    "\n",
    "from IPython.display import Math, Latex"
   ]
  },
  {
   "cell_type": "markdown",
   "id": "2910d2c8",
   "metadata": {},
   "source": [
    "## Define symbolic variables"
   ]
  },
  {
   "cell_type": "code",
   "execution_count": 143,
   "id": "9a2e485c",
   "metadata": {},
   "outputs": [],
   "source": [
    "L, F, x, ct, E, Iz  = sp.symbols('L, F, x, c_t, E, I_z', real = 'True', positive = 'True')\n",
    "phiL, Bx, By = sp.symbols('varphi_L, B_x, B_y', real = 'True')\n",
    "Mbz = sp.Function('M_{bz}')\n",
    "v = sp.Function('v')"
   ]
  },
  {
   "cell_type": "code",
   "execution_count": 144,
   "id": "5e721d4e",
   "metadata": {},
   "outputs": [],
   "source": [
    "Mct = ct*phiL"
   ]
  },
  {
   "cell_type": "code",
   "execution_count": 145,
   "id": "7fbb49f5",
   "metadata": {},
   "outputs": [],
   "source": [
    "eq = sp.Eq(0 , -Mbz(x) + By*(L-x) + Bx*v(x) - Mct)"
   ]
  },
  {
   "cell_type": "code",
   "execution_count": 146,
   "id": "3b100c59",
   "metadata": {},
   "outputs": [
    {
     "data": {
      "text/latex": [
       "$\\displaystyle B_{x} v{\\left(x \\right)} + B_{y} L - B_{y} x - c_{t} \\varphi_{L}$"
      ],
      "text/plain": [
       "B_x*v(x) + B_y*L - B_y*x - c_t*varphi_L"
      ]
     },
     "execution_count": 146,
     "metadata": {},
     "output_type": "execute_result"
    }
   ],
   "source": [
    "sol = sp.solve(eq,Mbz(x))\n",
    "Mbz = sol[0]\n",
    "Mbz"
   ]
  },
  {
   "cell_type": "code",
   "execution_count": 147,
   "id": "d08013ca",
   "metadata": {},
   "outputs": [
    {
     "data": {
      "text/latex": [
       "$\\displaystyle \\frac{d^{2}}{d x^{2}} v{\\left(x \\right)} = \\frac{B_{x} v{\\left(x \\right)} + B_{y} L - B_{y} x - c_{t} \\varphi_{L}}{E I_{z}}$"
      ],
      "text/plain": [
       "Eq(Derivative(v(x), (x, 2)), (B_x*v(x) + B_y*L - B_y*x - c_t*varphi_L)/(E*I_z))"
      ]
     },
     "metadata": {},
     "output_type": "display_data"
    }
   ],
   "source": [
    "DefEq = sp.Eq(sp.Derivative(v(x),x,x), Mbz/(E*Iz)) \n",
    "display(DefEq)"
   ]
  },
  {
   "cell_type": "markdown",
   "id": "4b0e94d6",
   "metadata": {},
   "source": [
    "As we can see $B_x=F$ but $B_y$ remains unknown."
   ]
  },
  {
   "cell_type": "code",
   "execution_count": 148,
   "id": "d3fe89a3",
   "metadata": {},
   "outputs": [
    {
     "data": {
      "text/latex": [
       "$\\displaystyle \\frac{d^{2}}{d x^{2}} v{\\left(x \\right)} = \\frac{B_{y} L - B_{y} x - F v{\\left(x \\right)} - c_{t} \\varphi_{L}}{E I_{z}}$"
      ],
      "text/plain": [
       "Eq(Derivative(v(x), (x, 2)), (B_y*L - B_y*x - F*v(x) - c_t*varphi_L)/(E*I_z))"
      ]
     },
     "metadata": {},
     "output_type": "display_data"
    }
   ],
   "source": [
    "DefEq = DefEq.subs(Bx,-F)\n",
    "display(DefEq)"
   ]
  },
  {
   "cell_type": "markdown",
   "id": "7f1b4ae6",
   "metadata": {},
   "source": [
    "classifying the equation:\n",
    "* ordinary \n",
    "* linear\n",
    "* second orden\n",
    "* inhomogeneous\n",
    "* constant coefficients\n",
    "\n",
    "we need an ODE solver-> sp.dsolve()"
   ]
  },
  {
   "cell_type": "code",
   "execution_count": 149,
   "id": "ea0316f2",
   "metadata": {},
   "outputs": [],
   "source": [
    "sol = sp.dsolve(DefEq)"
   ]
  },
  {
   "cell_type": "code",
   "execution_count": 150,
   "id": "11052b76",
   "metadata": {},
   "outputs": [
    {
     "data": {
      "text/latex": [
       "$\\displaystyle \\frac{B_{y} L}{F} - \\frac{B_{y} x}{F} + C_{1} \\sin{\\left(\\frac{\\sqrt{F} x}{\\sqrt{E} \\sqrt{I_{z}}} \\right)} + C_{2} \\cos{\\left(\\frac{\\sqrt{F} x}{\\sqrt{E} \\sqrt{I_{z}}} \\right)} - \\frac{c_{t} \\varphi_{L}}{F}$"
      ],
      "text/plain": [
       "B_y*L/F - B_y*x/F + C1*sin(sqrt(F)*x/(sqrt(E)*sqrt(I_z))) + C2*cos(sqrt(F)*x/(sqrt(E)*sqrt(I_z))) - c_t*varphi_L/F"
      ]
     },
     "metadata": {},
     "output_type": "display_data"
    }
   ],
   "source": [
    "v = sol.rhs\n",
    "dvdx = sp.diff(v,x)\n",
    "display(v)"
   ]
  },
  {
   "cell_type": "code",
   "execution_count": 151,
   "id": "57b83f38",
   "metadata": {},
   "outputs": [
    {
     "data": {
      "text/latex": [
       "$\\displaystyle 0 = \\frac{B_{y} L}{F} + C_{2} - \\frac{c_{t} \\varphi_{L}}{F}$"
      ],
      "text/plain": [
       "Eq(0, B_y*L/F + C2 - c_t*varphi_L/F)"
      ]
     },
     "metadata": {},
     "output_type": "display_data"
    },
    {
     "data": {
      "text/latex": [
       "$\\displaystyle 0 = - \\frac{B_{y}}{F} + \\frac{C_{1} \\sqrt{F}}{\\sqrt{E} \\sqrt{I_{z}}}$"
      ],
      "text/plain": [
       "Eq(0, -B_y/F + C1*sqrt(F)/(sqrt(E)*sqrt(I_z)))"
      ]
     },
     "metadata": {},
     "output_type": "display_data"
    },
    {
     "data": {
      "text/latex": [
       "$\\displaystyle 0 = C_{1} \\sin{\\left(\\frac{\\sqrt{F} L}{\\sqrt{E} \\sqrt{I_{z}}} \\right)} + C_{2} \\cos{\\left(\\frac{\\sqrt{F} L}{\\sqrt{E} \\sqrt{I_{z}}} \\right)} - \\frac{c_{t} \\varphi_{L}}{F}$"
      ],
      "text/plain": [
       "Eq(0, C1*sin(sqrt(F)*L/(sqrt(E)*sqrt(I_z))) + C2*cos(sqrt(F)*L/(sqrt(E)*sqrt(I_z))) - c_t*varphi_L/F)"
      ]
     },
     "metadata": {},
     "output_type": "display_data"
    },
    {
     "data": {
      "text/latex": [
       "$\\displaystyle 0 = - \\frac{B_{y}}{F} + \\frac{C_{1} \\sqrt{F} \\cos{\\left(\\frac{\\sqrt{F} L}{\\sqrt{E} \\sqrt{I_{z}}} \\right)}}{\\sqrt{E} \\sqrt{I_{z}}} - \\frac{C_{2} \\sqrt{F} \\sin{\\left(\\frac{\\sqrt{F} L}{\\sqrt{E} \\sqrt{I_{z}}} \\right)}}{\\sqrt{E} \\sqrt{I_{z}}} + \\varphi_{L}$"
      ],
      "text/plain": [
       "Eq(0, -B_y/F + C1*sqrt(F)*cos(sqrt(F)*L/(sqrt(E)*sqrt(I_z)))/(sqrt(E)*sqrt(I_z)) - C2*sqrt(F)*sin(sqrt(F)*L/(sqrt(E)*sqrt(I_z)))/(sqrt(E)*sqrt(I_z)) + varphi_L)"
      ]
     },
     "metadata": {},
     "output_type": "display_data"
    }
   ],
   "source": [
    "BC1 = sp.Eq(0, v.subs(x,0))\n",
    "BC2 = sp.Eq(0, dvdx.subs(x,0))\n",
    "BC3 = sp.Eq(0, v.subs(x,L))\n",
    "BC4 = sp.Eq(0,phiL + dvdx.subs(x,L))\n",
    "\n",
    "display(BC1)\n",
    "display(BC2)\n",
    "display(BC3)\n",
    "display(BC4)"
   ]
  },
  {
   "cell_type": "code",
   "execution_count": 152,
   "id": "d0d37a35",
   "metadata": {},
   "outputs": [
    {
     "data": {
      "text/latex": [
       "$\\displaystyle \\left[\\begin{matrix}0 & 1 & \\frac{L}{F} & - \\frac{c_{t}}{F}\\\\\\frac{\\sqrt{F}}{\\sqrt{E} \\sqrt{I_{z}}} & 0 & - \\frac{1}{F} & 0\\\\\\sin{\\left(\\frac{\\sqrt{F} L}{\\sqrt{E} \\sqrt{I_{z}}} \\right)} & \\cos{\\left(\\frac{\\sqrt{F} L}{\\sqrt{E} \\sqrt{I_{z}}} \\right)} & 0 & - \\frac{c_{t}}{F}\\\\\\frac{\\sqrt{F} \\cos{\\left(\\frac{\\sqrt{F} L}{\\sqrt{E} \\sqrt{I_{z}}} \\right)}}{\\sqrt{E} \\sqrt{I_{z}}} & - \\frac{\\sqrt{F} \\sin{\\left(\\frac{\\sqrt{F} L}{\\sqrt{E} \\sqrt{I_{z}}} \\right)}}{\\sqrt{E} \\sqrt{I_{z}}} & - \\frac{1}{F} & 1\\end{matrix}\\right]$"
      ],
      "text/plain": [
       "Matrix([\n",
       "[                                                             0,                                                               1,  L/F, -c_t/F],\n",
       "[                                   sqrt(F)/(sqrt(E)*sqrt(I_z)),                                                               0, -1/F,      0],\n",
       "[                            sin(sqrt(F)*L/(sqrt(E)*sqrt(I_z))),                              cos(sqrt(F)*L/(sqrt(E)*sqrt(I_z))),    0, -c_t/F],\n",
       "[sqrt(F)*cos(sqrt(F)*L/(sqrt(E)*sqrt(I_z)))/(sqrt(E)*sqrt(I_z)), -sqrt(F)*sin(sqrt(F)*L/(sqrt(E)*sqrt(I_z)))/(sqrt(E)*sqrt(I_z)), -1/F,      1]])"
      ]
     },
     "execution_count": 152,
     "metadata": {},
     "output_type": "execute_result"
    }
   ],
   "source": [
    "CoeffMat = sp.Matrix([[BC1.rhs.coeff('C1'), BC1.rhs.coeff('C2'), BC1.rhs.coeff(By), BC1.rhs.coeff(phiL)],\n",
    "                      [BC2.rhs.coeff('C1'), BC2.rhs.coeff('C2'), BC2.rhs.coeff(By), BC2.rhs.coeff(phiL)],\n",
    "                      [BC3.rhs.coeff('C1'), BC3.rhs.coeff('C2'), BC3.rhs.coeff(By), BC3.rhs.coeff(phiL)],\n",
    "                      [BC4.rhs.coeff('C1'), BC4.rhs.coeff('C2'), BC4.rhs.coeff(By), BC4.rhs.coeff(phiL)]])\n",
    "CoeffMat"
   ]
  },
  {
   "cell_type": "code",
   "execution_count": 153,
   "id": "6e6d2bd2",
   "metadata": {},
   "outputs": [],
   "source": [
    "fun = CoeffMat.det()\n",
    "fun = fun.subs([(E, 210000), (Iz,  sp.pi/64 * 1**4), (L, 100)])\n",
    "fun = sp.lambdify((F, ct), fun, 'numpy')"
   ]
  },
  {
   "cell_type": "code",
   "execution_count": 154,
   "id": "3d7cbebc",
   "metadata": {},
   "outputs": [],
   "source": [
    "f_vec = np.linspace(0.001,50,10000)"
   ]
  },
  {
   "cell_type": "code",
   "execution_count": 155,
   "id": "49311919",
   "metadata": {},
   "outputs": [
    {
     "data": {
      "text/plain": [
       "<matplotlib.legend.Legend at 0x1d61ce790f0>"
      ]
     },
     "execution_count": 155,
     "metadata": {},
     "output_type": "execute_result"
    },
    {
     "data": {
      "image/png": "[encoded data removed]",
      "text/plain": [
       "<Figure size 432x288 with 1 Axes>"
      ]
     },
     "metadata": {
      "needs_background": "light"
     },
     "output_type": "display_data"
    }
   ],
   "source": [
    "plt.plot(f_vec,fun(f_vec, 0))\n",
    "plt.plot(f_vec,fun(f_vec, 10))\n",
    "plt.plot(f_vec,fun(f_vec, 100))\n",
    "plt.plot(f_vec,fun(f_vec, 1000))\n",
    "plt.plot(f_vec,fun(f_vec, 2000))\n",
    "plt.grid()\n",
    "plt.legend(['0', '10', '100', '1000', '2000'])"
   ]
  },
  {
   "cell_type": "code",
   "execution_count": 168,
   "id": "1734fb1a",
   "metadata": {},
   "outputs": [],
   "source": [
    "from scipy.optimize import fsolve"
   ]
  },
  {
   "cell_type": "code",
   "execution_count": 174,
   "id": "e2d99249",
   "metadata": {},
   "outputs": [
    {
     "data": {
      "text/plain": [
       "array([20.498791])"
      ]
     },
     "execution_count": 174,
     "metadata": {},
     "output_type": "execute_result"
    }
   ],
   "source": [
    "sol = fsolve(lambda F: fun(F,10),18)\n",
    "sol"
   ]
  },
  {
   "cell_type": "markdown",
   "id": "6d0cc78a",
   "metadata": {},
   "source": [
    "## Check Euler Case 4\n",
    "\n",
    "* here $c_t \\rightarrow \\infty$\n",
    "* if $c_t$ gets very large, the solution convregces to the soution of the 4$^{th}$ Euler Case"
   ]
  },
  {
   "cell_type": "code",
   "execution_count": 3,
   "id": "524586b7",
   "metadata": {},
   "outputs": [
    {
     "ename": "NameError",
     "evalue": "name 'sp' is not defined",
     "output_type": "error",
     "traceback": [
      "\u001b[1;31m---------------------------------------------------------------------------\u001b[0m",
      "\u001b[1;31mNameError\u001b[0m                                 Traceback (most recent call last)",
      "Input \u001b[1;32mIn [3]\u001b[0m, in \u001b[0;36m<cell line: 1>\u001b[1;34m()\u001b[0m\n\u001b[1;32m----> 1\u001b[0m (\u001b[38;5;241m4\u001b[39m\u001b[38;5;241m*\u001b[39m\u001b[43msp\u001b[49m\u001b[38;5;241m.\u001b[39mpi\u001b[38;5;241m*\u001b[39m\u001b[38;5;241m*\u001b[39m\u001b[38;5;241m2\u001b[39m\u001b[38;5;241m*\u001b[39m\u001b[38;5;241m210000\u001b[39m\u001b[38;5;241m*\u001b[39msp\u001b[38;5;241m.\u001b[39mpi\u001b[38;5;241m/\u001b[39m\u001b[38;5;241m64\u001b[39m\u001b[38;5;241m*\u001b[39m\u001b[38;5;241m1\u001b[39m\u001b[38;5;241m*\u001b[39m\u001b[38;5;241m*\u001b[39m\u001b[38;5;241m4\u001b[39m\u001b[38;5;241m/\u001b[39m(\u001b[38;5;241m100\u001b[39m\u001b[38;5;241m*\u001b[39m\u001b[38;5;241m*\u001b[39m\u001b[38;5;241m2\u001b[39m))\u001b[38;5;241m.\u001b[39mevalf()\n",
      "\u001b[1;31mNameError\u001b[0m: name 'sp' is not defined"
     ]
    }
   ],
   "source": [
    "(4*sp.pi**2*210000*sp.pi/64*1**4/(100**2)).evalf()"
   ]
  },
  {
   "cell_type": "code",
   "execution_count": null,
   "id": "642dbc9e",
   "metadata": {},
   "outputs": [],
   "source": []
  },
  {
   "cell_type": "code",
   "execution_count": null,
   "id": "e766b5ce",
   "metadata": {},
   "outputs": [],
   "source": []
  }
 ],
 "metadata": {
  "kernelspec": {
   "display_name": "Python 3 (ipykernel)",
   "language": "python",
   "name": "python3"
  },
  "language_info": {
   "codemirror_mode": {
    "name": "ipython",
    "version": 3
   },
   "file_extension": ".py",
   "mimetype": "text/x-python",
   "name": "python",
   "nbconvert_exporter": "python",
   "pygments_lexer": "ipython3",
   "version": "3.10.2"
  }
 },
 "nbformat": 4,
 "nbformat_minor": 5
}
