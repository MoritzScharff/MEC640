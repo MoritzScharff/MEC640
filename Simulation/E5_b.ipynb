{
 "cells": [
  {
   "cell_type": "markdown",
   "id": "142852de",
   "metadata": {},
   "source": [
    "# E5.B - Task"
   ]
  },
  {
   "cell_type": "code",
   "execution_count": 334,
   "id": "55ccbf9e",
   "metadata": {},
   "outputs": [],
   "source": [
    "reset -f"
   ]
  },
  {
   "cell_type": "code",
   "execution_count": 335,
   "id": "9d22c115",
   "metadata": {},
   "outputs": [],
   "source": [
    "import sympy as sp\n",
    "import numpy as np\n",
    "import matplotlib.pyplot as plt\n",
    "\n",
    "from IPython.display import Math, Latex"
   ]
  },
  {
   "cell_type": "markdown",
   "id": "d2add504",
   "metadata": {},
   "source": [
    "## Definition of variables"
   ]
  },
  {
   "cell_type": "code",
   "execution_count": 336,
   "id": "273e5a85",
   "metadata": {},
   "outputs": [],
   "source": [
    "F, g, A, L, rho, alpha, E, dT, x, N = sp.symbols('F, g, A, L, rho, alpha, E, dT, x, N', real = 'True')"
   ]
  },
  {
   "cell_type": "code",
   "execution_count": 337,
   "id": "e29dacde",
   "metadata": {},
   "outputs": [],
   "source": [
    "u = sp.Function('u')\n",
    "N = sp.Function('N')"
   ]
  },
  {
   "cell_type": "markdown",
   "id": "bfd0a63d",
   "metadata": {},
   "source": [
    "## Determine internal force equilibrium"
   ]
  },
  {
   "cell_type": "code",
   "execution_count": 338,
   "id": "70215912",
   "metadata": {},
   "outputs": [
    {
     "data": {
      "text/latex": [
       "$\\displaystyle A L g \\rho - A g \\rho x + F$"
      ],
      "text/plain": [
       "A*L*g*rho - A*g*rho*x + F"
      ]
     },
     "execution_count": 338,
     "metadata": {},
     "output_type": "execute_result"
    }
   ],
   "source": [
    "eq = sp.Eq(0, -N(x) + F + rho*A*g*(L-x))\n",
    "sol = sp.solve(eq, N(x))\n",
    "N = sol[0]\n",
    "N"
   ]
  },
  {
   "cell_type": "markdown",
   "id": "7e1948de",
   "metadata": {},
   "source": [
    "## Definition of deformation equation"
   ]
  },
  {
   "cell_type": "code",
   "execution_count": 339,
   "id": "c9b169c4",
   "metadata": {},
   "outputs": [
    {
     "data": {
      "text/latex": [
       "$\\displaystyle \\frac{d}{d x} u{\\left(x \\right)} = \\alpha dT + \\frac{A L g \\rho - A g \\rho x + F}{A E}$"
      ],
      "text/plain": [
       "Eq(Derivative(u(x), x), alpha*dT + (A*L*g*rho - A*g*rho*x + F)/(A*E))"
      ]
     },
     "execution_count": 339,
     "metadata": {},
     "output_type": "execute_result"
    }
   ],
   "source": [
    "eq = sp.Eq(sp.Derivative(u(x),x), N/(E*A) + alpha*dT)\n",
    "eq"
   ]
  },
  {
   "cell_type": "markdown",
   "id": "39930035",
   "metadata": {},
   "source": [
    "## Solution of the ODE"
   ]
  },
  {
   "cell_type": "code",
   "execution_count": 340,
   "id": "7a94408f",
   "metadata": {},
   "outputs": [
    {
     "data": {
      "text/latex": [
       "$\\displaystyle u{\\left(x \\right)} = \\alpha dT x + \\frac{L g \\rho x}{E} - \\frac{g \\rho x^{2}}{2 E} + \\frac{F x}{A E}$"
      ],
      "text/plain": [
       "Eq(u(x), alpha*dT*x + L*g*rho*x/E - g*rho*x**2/(2*E) + F*x/(A*E))"
      ]
     },
     "execution_count": 340,
     "metadata": {},
     "output_type": "execute_result"
    }
   ],
   "source": [
    "sol = sp.dsolve(eq, ics = {u(0):0})\n",
    "u = sp.simplify(sol.rhs)\n",
    "sol"
   ]
  },
  {
   "cell_type": "markdown",
   "id": "a11352da",
   "metadata": {},
   "source": [
    "## Compensate length change of the rod due to temperature"
   ]
  },
  {
   "cell_type": "code",
   "execution_count": 341,
   "id": "92a12fdb",
   "metadata": {},
   "outputs": [
    {
     "data": {
      "text/latex": [
       "$\\displaystyle - \\frac{L g \\rho}{2 E \\alpha} - \\frac{F}{A E \\alpha}$"
      ],
      "text/plain": [
       "-L*g*rho/(2*E*alpha) - F/(A*E*alpha)"
      ]
     },
     "execution_count": 341,
     "metadata": {},
     "output_type": "execute_result"
    }
   ],
   "source": [
    "eq1 = sp.Eq(0, u.subs(x,L))\n",
    "sol = sp.solve(eq1, dT)\n",
    "dTnew = sp.expand(sol[0])\n",
    "dTnew"
   ]
  },
  {
   "cell_type": "markdown",
   "id": "b2c08140",
   "metadata": {},
   "source": [
    "## Deformation"
   ]
  },
  {
   "cell_type": "code",
   "execution_count": 342,
   "id": "1c63e928",
   "metadata": {},
   "outputs": [
    {
     "data": {
      "text/latex": [
       "$\\displaystyle \\frac{g \\rho x \\left(L - x\\right)}{2 E}$"
      ],
      "text/plain": [
       "g*rho*x*(L - x)/(2*E)"
      ]
     },
     "metadata": {},
     "output_type": "display_data"
    }
   ],
   "source": [
    "u = sp.simplify(u.subs(dT, dTnew))\n",
    "display(u)"
   ]
  },
  {
   "cell_type": "markdown",
   "id": "1c3a41fe",
   "metadata": {},
   "source": [
    "## Stress"
   ]
  },
  {
   "cell_type": "code",
   "execution_count": 343,
   "id": "6bc3ee4a",
   "metadata": {},
   "outputs": [
    {
     "data": {
      "text/latex": [
       "$\\displaystyle - E \\alpha dT + \\frac{L g \\rho}{2} - g \\rho x$"
      ],
      "text/plain": [
       "-E*alpha*dT + L*g*rho/2 - g*rho*x"
      ]
     },
     "execution_count": 343,
     "metadata": {},
     "output_type": "execute_result"
    }
   ],
   "source": [
    "eq = sp.Eq(dT, dTnew)\n",
    "sol = sp.solve(eq, F)\n",
    "Fn = sol[0]\n",
    "sigma = N.subs(F, Fn) / A\n",
    "sp.simplify(sigma)"
   ]
  },
  {
   "cell_type": "markdown",
   "id": "d667bd90",
   "metadata": {},
   "source": [
    "## Plotting"
   ]
  },
  {
   "cell_type": "code",
   "execution_count": 344,
   "id": "d9936734",
   "metadata": {},
   "outputs": [],
   "source": [
    "u = u.subs([(F, 10), (g, 9810), (A, 4), (L, 100), (rho, 7.85e-6), (alpha, 12e-6), (E, 210000)])\n",
    "sigma = sigma.subs([(dT, -1), (g, 9810), (A, 4), (L, 100), (rho, 7.85e-6), (alpha, 12e-6), (E, 210000)])"
   ]
  },
  {
   "cell_type": "code",
   "execution_count": 345,
   "id": "e9c4e193",
   "metadata": {},
   "outputs": [],
   "source": [
    "u_fun = sp.lambdify((x), u, 'numpy')\n",
    "sigma_fun = sp.lambdify((x), sigma, 'numpy')\n",
    "s = np.arange(0,101,1)"
   ]
  },
  {
   "cell_type": "code",
   "execution_count": 346,
   "id": "f0a96eef",
   "metadata": {},
   "outputs": [
    {
     "data": {
      "text/plain": [
       "[<matplotlib.lines.Line2D at 0x1edbed54a00>]"
      ]
     },
     "execution_count": 346,
     "metadata": {},
     "output_type": "execute_result"
    },
    {
     "data": {
      "image/png": "[encoded data removed]",
      "text/plain": [
       "<Figure size 432x288 with 1 Axes>"
      ]
     },
     "metadata": {
      "needs_background": "light"
     },
     "output_type": "display_data"
    }
   ],
   "source": [
    "plt.plot(s, u_fun(s))"
   ]
  },
  {
   "cell_type": "code",
   "execution_count": 347,
   "id": "21eca04f",
   "metadata": {},
   "outputs": [
    {
     "data": {
      "text/plain": [
       "[<matplotlib.lines.Line2D at 0x1edc12af640>]"
      ]
     },
     "execution_count": 347,
     "metadata": {},
     "output_type": "execute_result"
    },
    {
     "data": {
      "image/png": "[encoded data removed]",
      "text/plain": [
       "<Figure size 432x288 with 1 Axes>"
      ]
     },
     "metadata": {
      "needs_background": "light"
     },
     "output_type": "display_data"
    }
   ],
   "source": [
    "plt.plot(s, sigma_fun(s))"
   ]
  },
  {
   "cell_type": "code",
   "execution_count": null,
   "id": "25df79c7",
   "metadata": {},
   "outputs": [],
   "source": []
  },
  {
   "cell_type": "code",
   "execution_count": null,
   "id": "f999b4d5",
   "metadata": {},
   "outputs": [],
   "source": []
  }
 ],
 "metadata": {
  "kernelspec": {
   "display_name": "Python 3 (ipykernel)",
   "language": "python",
   "name": "python3"
  },
  "language_info": {
   "codemirror_mode": {
    "name": "ipython",
    "version": 3
   },
   "file_extension": ".py",
   "mimetype": "text/x-python",
   "name": "python",
   "nbconvert_exporter": "python",
   "pygments_lexer": "ipython3",
   "version": "3.10.2"
  }
 },
 "nbformat": 4,
 "nbformat_minor": 5
}
