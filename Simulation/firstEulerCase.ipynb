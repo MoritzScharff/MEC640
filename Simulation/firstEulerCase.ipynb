{
 "cells": [
  {
   "cell_type": "markdown",
   "id": "fdbbb4bb",
   "metadata": {},
   "source": [
    "# First Euler Case"
   ]
  },
  {
   "cell_type": "code",
   "execution_count": 17,
   "id": "3661911e",
   "metadata": {},
   "outputs": [],
   "source": [
    "reset -f"
   ]
  },
  {
   "cell_type": "code",
   "execution_count": 18,
   "id": "dcb1ca09",
   "metadata": {},
   "outputs": [],
   "source": [
    "import sympy as sp\n",
    "import numpy as np\n",
    "import matplotlib.pyplot as plt\n",
    "\n",
    "from IPython.display import Math, Latex"
   ]
  },
  {
   "cell_type": "markdown",
   "id": "2910d2c8",
   "metadata": {},
   "source": [
    "## Define symbolic variables"
   ]
  },
  {
   "cell_type": "code",
   "execution_count": 19,
   "id": "9a2e485c",
   "metadata": {},
   "outputs": [],
   "source": [
    "L, F, x, E, Iz = sp.symbols('L, F, x, E, Iz', real = 'True', positive = 'True')\n",
    "vL  = sp.symbols('v_L', real = 'True')\n",
    "Mbz = sp.Function('M_{bz}')\n",
    "v = sp.Function('v')"
   ]
  },
  {
   "cell_type": "markdown",
   "id": "7563b1a8",
   "metadata": {},
   "source": [
    "## Get internal forces"
   ]
  },
  {
   "cell_type": "code",
   "execution_count": 20,
   "id": "7fbb49f5",
   "metadata": {},
   "outputs": [],
   "source": [
    "eq = sp.Eq(0, -Mbz(x) + F*(vL- v(x)))"
   ]
  },
  {
   "cell_type": "code",
   "execution_count": 21,
   "id": "3b100c59",
   "metadata": {},
   "outputs": [
    {
     "data": {
      "text/latex": [
       "$\\displaystyle F \\left(v_{L} - v{\\left(x \\right)}\\right)$"
      ],
      "text/plain": [
       "F*(v_L - v(x))"
      ]
     },
     "execution_count": 21,
     "metadata": {},
     "output_type": "execute_result"
    }
   ],
   "source": [
    "sol = sp.solve(eq, Mbz(x))\n",
    "Mbz = sol[0]\n",
    "Mbz"
   ]
  },
  {
   "cell_type": "markdown",
   "id": "a6c324ab",
   "metadata": {},
   "source": [
    "## Deformation equation"
   ]
  },
  {
   "cell_type": "code",
   "execution_count": 22,
   "id": "d08013ca",
   "metadata": {},
   "outputs": [
    {
     "data": {
      "text/latex": [
       "$\\displaystyle \\frac{d^{2}}{d x^{2}} v{\\left(x \\right)} = \\frac{F \\left(v_{L} - v{\\left(x \\right)}\\right)}{E Iz}$"
      ],
      "text/plain": [
       "Eq(Derivative(v(x), (x, 2)), F*(v_L - v(x))/(E*Iz))"
      ]
     },
     "metadata": {},
     "output_type": "display_data"
    }
   ],
   "source": [
    "DefEq = sp.Eq(sp.Derivative(v(x),x,x), Mbz/(E*Iz)) \n",
    "display(DefEq)"
   ]
  },
  {
   "cell_type": "markdown",
   "id": "f1fab288",
   "metadata": {},
   "source": [
    "classifying the equation:\n",
    "* ordinary \n",
    "* linear\n",
    "* second orden\n",
    "* inhomogeneous\n",
    "* constant coefficients\n",
    "\n",
    "we need an ODE solver-> sp.dsolve()"
   ]
  },
  {
   "cell_type": "markdown",
   "id": "e82f370c",
   "metadata": {},
   "source": [
    "## Solve the ODE"
   ]
  },
  {
   "cell_type": "code",
   "execution_count": 23,
   "id": "3885b581",
   "metadata": {},
   "outputs": [
    {
     "data": {
      "text/latex": [
       "$\\displaystyle C_{1} \\sin{\\left(\\frac{\\sqrt{F} x}{\\sqrt{E} \\sqrt{Iz}} \\right)} + C_{2} \\cos{\\left(\\frac{\\sqrt{F} x}{\\sqrt{E} \\sqrt{Iz}} \\right)} + v_{L}$"
      ],
      "text/plain": [
       "C1*sin(sqrt(F)*x/(sqrt(E)*sqrt(Iz))) + C2*cos(sqrt(F)*x/(sqrt(E)*sqrt(Iz))) + v_L"
      ]
     },
     "execution_count": 23,
     "metadata": {},
     "output_type": "execute_result"
    }
   ],
   "source": [
    "sol = sp.dsolve(DefEq)\n",
    "v = sol.rhs\n",
    "dvdx = sp.diff(sol.rhs, x)\n",
    "v"
   ]
  },
  {
   "cell_type": "markdown",
   "id": "94c719f1",
   "metadata": {},
   "source": [
    "## Boundary conditions to set up equation system"
   ]
  },
  {
   "cell_type": "code",
   "execution_count": 24,
   "id": "236dfe71",
   "metadata": {},
   "outputs": [
    {
     "data": {
      "text/latex": [
       "$\\displaystyle 0 = C_{2} + v_{L}$"
      ],
      "text/plain": [
       "Eq(0, C2 + v_L)"
      ]
     },
     "metadata": {},
     "output_type": "display_data"
    },
    {
     "data": {
      "text/latex": [
       "$\\displaystyle 0 = \\frac{C_{1} \\sqrt{F}}{\\sqrt{E} \\sqrt{Iz}}$"
      ],
      "text/plain": [
       "Eq(0, C1*sqrt(F)/(sqrt(E)*sqrt(Iz)))"
      ]
     },
     "metadata": {},
     "output_type": "display_data"
    },
    {
     "data": {
      "text/latex": [
       "$\\displaystyle 0 = - C_{1} \\sin{\\left(\\frac{\\sqrt{F} L}{\\sqrt{E} \\sqrt{Iz}} \\right)} - C_{2} \\cos{\\left(\\frac{\\sqrt{F} L}{\\sqrt{E} \\sqrt{Iz}} \\right)}$"
      ],
      "text/plain": [
       "Eq(0, -C1*sin(sqrt(F)*L/(sqrt(E)*sqrt(Iz))) - C2*cos(sqrt(F)*L/(sqrt(E)*sqrt(Iz))))"
      ]
     },
     "metadata": {},
     "output_type": "display_data"
    }
   ],
   "source": [
    "BC1 = sp.Eq(0, v.subs(x,0))\n",
    "BC2 = sp.Eq(0, dvdx.subs(x, 0))\n",
    "BC3 = sp.Eq(0, vL - v.subs(x,L))\n",
    "\n",
    "display(BC1)\n",
    "display(BC2)\n",
    "display(BC3)"
   ]
  },
  {
   "cell_type": "markdown",
   "id": "8fdee67f",
   "metadata": {},
   "source": [
    "## Coefficient matrix"
   ]
  },
  {
   "cell_type": "code",
   "execution_count": 25,
   "id": "d0d37a35",
   "metadata": {},
   "outputs": [
    {
     "data": {
      "text/latex": [
       "$\\displaystyle \\left[\\begin{matrix}0 & 1 & 1\\\\\\frac{\\sqrt{F}}{\\sqrt{E} \\sqrt{Iz}} & 0 & 0\\\\- \\sin{\\left(\\frac{\\sqrt{F} L}{\\sqrt{E} \\sqrt{Iz}} \\right)} & - \\cos{\\left(\\frac{\\sqrt{F} L}{\\sqrt{E} \\sqrt{Iz}} \\right)} & 0\\end{matrix}\\right]$"
      ],
      "text/plain": [
       "Matrix([\n",
       "[                                 0,                                  1, 1],\n",
       "[        sqrt(F)/(sqrt(E)*sqrt(Iz)),                                  0, 0],\n",
       "[-sin(sqrt(F)*L/(sqrt(E)*sqrt(Iz))), -cos(sqrt(F)*L/(sqrt(E)*sqrt(Iz))), 0]])"
      ]
     },
     "execution_count": 25,
     "metadata": {},
     "output_type": "execute_result"
    }
   ],
   "source": [
    "CoeffMat = sp.Matrix([[BC1.rhs.coeff('C1'), BC1.rhs.coeff('C2'), BC1.rhs.coeff(vL)],\n",
    "                      [BC2.rhs.coeff('C1'), BC2.rhs.coeff('C2'), BC2.rhs.coeff(vL)],\n",
    "                      [BC3.rhs.coeff('C1'), BC3.rhs.coeff('C2'), BC3.rhs.coeff(vL)]])\n",
    "CoeffMat"
   ]
  },
  {
   "cell_type": "markdown",
   "id": "4da553a8",
   "metadata": {},
   "source": [
    "## Determinat of the coefficient matrix"
   ]
  },
  {
   "cell_type": "code",
   "execution_count": 30,
   "id": "6e6d2bd2",
   "metadata": {},
   "outputs": [
    {
     "data": {
      "text/latex": [
       "$\\displaystyle \\text{False}$"
      ],
      "text/plain": [
       "False"
      ]
     },
     "metadata": {},
     "output_type": "display_data"
    }
   ],
   "source": [
    "EvEq = sp.Eq(0, CoeffMat.det())\n",
    "display(EvEq)"
   ]
  },
  {
   "cell_type": "code",
   "execution_count": 32,
   "id": "276f8fa1",
   "metadata": {},
   "outputs": [],
   "source": [
    "fun = CoeffMat.det()\n",
    "fun = fun.subs([(E, 210000), (Iz,  sp.pi/64 * 1**4), (L, 100)])\n",
    "fun = sp.lambdify(F, fun, 'numpy')"
   ]
  },
  {
   "cell_type": "code",
   "execution_count": 33,
   "id": "37b0f942",
   "metadata": {},
   "outputs": [],
   "source": [
    "f_vec = np.linspace(0.001,40,1000)"
   ]
  },
  {
   "cell_type": "code",
   "execution_count": 34,
   "id": "ce4925ac",
   "metadata": {},
   "outputs": [
    {
     "data": {
      "image/png": "[encoded data removed]",
      "text/plain": [
       "<Figure size 432x288 with 1 Axes>"
      ]
     },
     "metadata": {
      "needs_background": "light"
     },
     "output_type": "display_data"
    }
   ],
   "source": [
    "plt.plot(f_vec,fun(f_vec))\n",
    "plt.grid()"
   ]
  },
  {
   "cell_type": "code",
   "execution_count": 35,
   "id": "6d4185b0",
   "metadata": {},
   "outputs": [],
   "source": [
    "from scipy.optimize import fsolve"
   ]
  },
  {
   "cell_type": "code",
   "execution_count": 37,
   "id": "fded5b04",
   "metadata": {},
   "outputs": [
    {
     "data": {
      "text/plain": [
       "array([2.54348363])"
      ]
     },
     "execution_count": 37,
     "metadata": {},
     "output_type": "execute_result"
    }
   ],
   "source": [
    "sol = fsolve(lambda F: fun(F), 2.5)\n",
    "sol"
   ]
  },
  {
   "cell_type": "code",
   "execution_count": 38,
   "id": "86e9e345",
   "metadata": {},
   "outputs": [
    {
     "data": {
      "text/latex": [
       "$\\displaystyle 2.54348363393084$"
      ],
      "text/plain": [
       "2.54348363393084"
      ]
     },
     "execution_count": 38,
     "metadata": {},
     "output_type": "execute_result"
    }
   ],
   "source": [
    "(sp.pi**2*210000*sp.pi/64 * 1**4/(4*100**2)).evalf()"
   ]
  },
  {
   "cell_type": "code",
   "execution_count": null,
   "id": "0a45c994",
   "metadata": {},
   "outputs": [],
   "source": []
  }
 ],
 "metadata": {
  "kernelspec": {
   "display_name": "Python 3 (ipykernel)",
   "language": "python",
   "name": "python3"
  },
  "language_info": {
   "codemirror_mode": {
    "name": "ipython",
    "version": 3
   },
   "file_extension": ".py",
   "mimetype": "text/x-python",
   "name": "python",
   "nbconvert_exporter": "python",
   "pygments_lexer": "ipython3",
   "version": "3.10.2"
  }
 },
 "nbformat": 4,
 "nbformat_minor": 5
}
