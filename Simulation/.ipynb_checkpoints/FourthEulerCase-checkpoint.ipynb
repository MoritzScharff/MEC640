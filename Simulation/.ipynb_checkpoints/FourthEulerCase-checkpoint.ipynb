{
 "cells": [
  {
   "cell_type": "markdown",
   "id": "fdbbb4bb",
   "metadata": {},
   "source": [
    "# Fourth Euler Case"
   ]
  },
  {
   "cell_type": "code",
   "execution_count": 1,
   "id": "3661911e",
   "metadata": {},
   "outputs": [],
   "source": [
    "reset -f"
   ]
  },
  {
   "cell_type": "code",
   "execution_count": 3,
   "id": "dcb1ca09",
   "metadata": {},
   "outputs": [],
   "source": [
    "import sympy as sp\n",
    "import numpy as np\n",
    "import matplotlib.pyplot as plt\n",
    "\n",
    "from IPython.display import Math, Latex"
   ]
  },
  {
   "cell_type": "markdown",
   "id": "2910d2c8",
   "metadata": {},
   "source": [
    "## Define symbolic variables"
   ]
  },
  {
   "cell_type": "code",
   "execution_count": 4,
   "id": "9a2e485c",
   "metadata": {},
   "outputs": [],
   "source": [
    "L, F, x, E, Iz  = sp.symbols('L, F, x, E, I_z', real = 'True', positive = 'True')\n",
    "By = sp.symbols('B_y', real = 'True')\n",
    "Mbz = sp.Function('M_{bz}')\n",
    "v = sp.Function('v')\n",
    "\n",
    "lam = sp.symbols('lambda', real = 'True', positive = 'True')"
   ]
  },
  {
   "cell_type": "markdown",
   "id": "7563b1a8",
   "metadata": {},
   "source": [
    "## Get internal forces"
   ]
  },
  {
   "cell_type": "code",
   "execution_count": 5,
   "id": "7fbb49f5",
   "metadata": {},
   "outputs": [],
   "source": [
    "eq = sp.Eq(0, -Mbz(x) - v(x)*F + By*(L-x))"
   ]
  },
  {
   "cell_type": "code",
   "execution_count": 6,
   "id": "3b100c59",
   "metadata": {},
   "outputs": [
    {
     "data": {
      "text/latex": [
       "$\\displaystyle B_{y} L - B_{y} x - F v{\\left(x \\right)}$"
      ],
      "text/plain": [
       "B_y*L - B_y*x - F*v(x)"
      ]
     },
     "execution_count": 6,
     "metadata": {},
     "output_type": "execute_result"
    }
   ],
   "source": [
    "sol = sp.solve(eq, Mbz(x))\n",
    "Mbz = sol[0]\n",
    "Mbz"
   ]
  },
  {
   "cell_type": "markdown",
   "id": "a6c324ab",
   "metadata": {},
   "source": [
    "## Deformation equation"
   ]
  },
  {
   "cell_type": "code",
   "execution_count": 7,
   "id": "d08013ca",
   "metadata": {},
   "outputs": [
    {
     "data": {
      "text/latex": [
       "$\\displaystyle \\frac{d^{2}}{d x^{2}} v{\\left(x \\right)} = \\frac{B_{y} L - B_{y} x - F v{\\left(x \\right)}}{E I_{z}}$"
      ],
      "text/plain": [
       "Eq(Derivative(v(x), (x, 2)), (B_y*L - B_y*x - F*v(x))/(E*I_z))"
      ]
     },
     "metadata": {},
     "output_type": "display_data"
    }
   ],
   "source": [
    "DefEq = sp.Eq(sp.Derivative(v(x),x,x), Mbz/(E*Iz)) \n",
    "display(DefEq)"
   ]
  },
  {
   "cell_type": "markdown",
   "id": "f1fab288",
   "metadata": {},
   "source": [
    "classifying the equation:\n",
    "* ordinary \n",
    "* linear\n",
    "* second orden\n",
    "* inhomogeneous\n",
    "* constant coefficients\n",
    "\n",
    "we need an ODE solver-> sp.dsolve()"
   ]
  },
  {
   "cell_type": "markdown",
   "id": "e82f370c",
   "metadata": {},
   "source": [
    "## Solve the ODE"
   ]
  },
  {
   "cell_type": "code",
   "execution_count": 8,
   "id": "3885b581",
   "metadata": {},
   "outputs": [
    {
     "data": {
      "text/latex": [
       "$\\displaystyle \\frac{B_{y} L}{F} - \\frac{B_{y} x}{F} + C_{1} \\sin{\\left(\\frac{\\sqrt{F} x}{\\sqrt{E} \\sqrt{I_{z}}} \\right)} + C_{2} \\cos{\\left(\\frac{\\sqrt{F} x}{\\sqrt{E} \\sqrt{I_{z}}} \\right)}$"
      ],
      "text/plain": [
       "B_y*L/F - B_y*x/F + C1*sin(sqrt(F)*x/(sqrt(E)*sqrt(I_z))) + C2*cos(sqrt(F)*x/(sqrt(E)*sqrt(I_z)))"
      ]
     },
     "execution_count": 8,
     "metadata": {},
     "output_type": "execute_result"
    }
   ],
   "source": [
    "sol = sp.dsolve(DefEq)\n",
    "v = sol.rhs\n",
    "dvdx = sp.diff(sol.rhs, x)\n",
    "v"
   ]
  },
  {
   "cell_type": "markdown",
   "id": "94c719f1",
   "metadata": {},
   "source": [
    "## Boundary conditions to set up equation system"
   ]
  },
  {
   "cell_type": "code",
   "execution_count": 10,
   "id": "236dfe71",
   "metadata": {},
   "outputs": [
    {
     "data": {
      "text/latex": [
       "$\\displaystyle 0 = \\frac{B_{y} L}{F} + C_{2}$"
      ],
      "text/plain": [
       "Eq(0, B_y*L/F + C2)"
      ]
     },
     "metadata": {},
     "output_type": "display_data"
    },
    {
     "data": {
      "text/latex": [
       "$\\displaystyle 0 = - \\frac{B_{y}}{F} + \\frac{C_{1} \\sqrt{F}}{\\sqrt{E} \\sqrt{I_{z}}}$"
      ],
      "text/plain": [
       "Eq(0, -B_y/F + C1*sqrt(F)/(sqrt(E)*sqrt(I_z)))"
      ]
     },
     "metadata": {},
     "output_type": "display_data"
    },
    {
     "data": {
      "text/latex": [
       "$\\displaystyle 0 = C_{1} \\sin{\\left(\\frac{\\sqrt{F} L}{\\sqrt{E} \\sqrt{I_{z}}} \\right)} + C_{2} \\cos{\\left(\\frac{\\sqrt{F} L}{\\sqrt{E} \\sqrt{I_{z}}} \\right)}$"
      ],
      "text/plain": [
       "Eq(0, C1*sin(sqrt(F)*L/(sqrt(E)*sqrt(I_z))) + C2*cos(sqrt(F)*L/(sqrt(E)*sqrt(I_z))))"
      ]
     },
     "metadata": {},
     "output_type": "display_data"
    }
   ],
   "source": [
    "BC1 = sp.Eq(0, v.subs(x,0))\n",
    "BC2 = sp.Eq(0, dvdx.subs(x,0))\n",
    "BC3 = sp.Eq(0, v.subs(x, L))\n",
    "\n",
    "\n",
    "display(BC1)\n",
    "display(BC2)\n",
    "display(BC3)"
   ]
  },
  {
   "cell_type": "markdown",
   "id": "8fdee67f",
   "metadata": {},
   "source": [
    "## Coefficient matrix"
   ]
  },
  {
   "cell_type": "code",
   "execution_count": 13,
   "id": "d0d37a35",
   "metadata": {},
   "outputs": [
    {
     "data": {
      "text/latex": [
       "$\\displaystyle \\left[\\begin{matrix}0 & 1 & \\frac{L}{F}\\\\\\frac{\\sqrt{F}}{\\sqrt{E} \\sqrt{I_{z}}} & 0 & - \\frac{1}{F}\\\\\\sin{\\left(\\frac{\\sqrt{F} L}{\\sqrt{E} \\sqrt{I_{z}}} \\right)} & \\cos{\\left(\\frac{\\sqrt{F} L}{\\sqrt{E} \\sqrt{I_{z}}} \\right)} & 0\\end{matrix}\\right]$"
      ],
      "text/plain": [
       "Matrix([\n",
       "[                                 0,                                  1,  L/F],\n",
       "[       sqrt(F)/(sqrt(E)*sqrt(I_z)),                                  0, -1/F],\n",
       "[sin(sqrt(F)*L/(sqrt(E)*sqrt(I_z))), cos(sqrt(F)*L/(sqrt(E)*sqrt(I_z))),    0]])"
      ]
     },
     "execution_count": 13,
     "metadata": {},
     "output_type": "execute_result"
    }
   ],
   "source": [
    "CoeffMat = sp.Matrix([[BC1.rhs.coeff('C1'), BC1.rhs.coeff('C2'), BC1.rhs.coeff(By)],\n",
    "                      [BC2.rhs.coeff('C1'), BC2.rhs.coeff('C2'), BC2.rhs.coeff(By)],\n",
    "                      [BC3.rhs.coeff('C1'), BC3.rhs.coeff('C2'), BC3.rhs.coeff(By)]])\n",
    "CoeffMat"
   ]
  },
  {
   "cell_type": "markdown",
   "id": "4da553a8",
   "metadata": {},
   "source": [
    "## Determinat of the coefficient matrix"
   ]
  },
  {
   "cell_type": "code",
   "execution_count": 14,
   "id": "6e6d2bd2",
   "metadata": {},
   "outputs": [
    {
     "data": {
      "text/latex": [
       "$\\displaystyle \\frac{\\sin{\\left(\\frac{\\sqrt{F} L}{\\sqrt{E} \\sqrt{I_{z}}} \\right)}}{F} - \\frac{L \\cos{\\left(\\frac{\\sqrt{F} L}{\\sqrt{E} \\sqrt{I_{z}}} \\right)}}{\\sqrt{E} \\sqrt{F} \\sqrt{I_{z}}} = 0$"
      ],
      "text/plain": [
       "Eq(sin(sqrt(F)*L/(sqrt(E)*sqrt(I_z)))/F - L*cos(sqrt(F)*L/(sqrt(E)*sqrt(I_z)))/(sqrt(E)*sqrt(F)*sqrt(I_z)), 0)"
      ]
     },
     "execution_count": 14,
     "metadata": {},
     "output_type": "execute_result"
    }
   ],
   "source": [
    "EvEq = sp.Eq(0, CoeffMat.det())\n",
    "sp.simplify(EvEq)"
   ]
  },
  {
   "cell_type": "code",
   "execution_count": 15,
   "id": "ce4925ac",
   "metadata": {},
   "outputs": [],
   "source": [
    "fun = EvEq.rhs\n",
    "fun = fun.subs([(E, 210000), (Iz,  sp.pi/64 * 1**4), (L, 100)])\n",
    "fun = sp.lambdify(F, fun, 'numpy')"
   ]
  },
  {
   "cell_type": "code",
   "execution_count": 18,
   "id": "d50bb5c5",
   "metadata": {},
   "outputs": [],
   "source": [
    "f_vec = np.linspace(0.001,40,1000)"
   ]
  },
  {
   "cell_type": "code",
   "execution_count": 19,
   "id": "d3c8c74e",
   "metadata": {},
   "outputs": [
    {
     "data": {
      "image/png": "[encoded data removed]",
      "text/plain": [
       "<Figure size 432x288 with 1 Axes>"
      ]
     },
     "metadata": {
      "needs_background": "light"
     },
     "output_type": "display_data"
    }
   ],
   "source": [
    "plt.plot(f_vec,fun(f_vec))\n",
    "plt.grid()"
   ]
  },
  {
   "cell_type": "code",
   "execution_count": 20,
   "id": "6d4185b0",
   "metadata": {},
   "outputs": [],
   "source": [
    "from scipy.optimize import fsolve"
   ]
  },
  {
   "cell_type": "code",
   "execution_count": 21,
   "id": "fded5b04",
   "metadata": {},
   "outputs": [
    {
     "data": {
      "text/plain": [
       "array([20.81331148])"
      ]
     },
     "execution_count": 21,
     "metadata": {},
     "output_type": "execute_result"
    }
   ],
   "source": [
    "sol = fsolve(lambda F: fun(F),20)\n",
    "sol"
   ]
  },
  {
   "cell_type": "code",
   "execution_count": 22,
   "id": "86e9e345",
   "metadata": {},
   "outputs": [
    {
     "data": {
      "text/latex": [
       "$\\displaystyle 20.81587006009$"
      ],
      "text/plain": [
       "20.8158700600900"
      ]
     },
     "execution_count": 22,
     "metadata": {},
     "output_type": "execute_result"
    }
   ],
   "source": [
    "(2.046*sp.pi**2*210000*sp.pi/64*1**4/(100**2)).evalf()"
   ]
  },
  {
   "cell_type": "code",
   "execution_count": 104,
   "id": "60fab079",
   "metadata": {},
   "outputs": [],
   "source": []
  },
  {
   "cell_type": "code",
   "execution_count": null,
   "id": "dcff39f7",
   "metadata": {},
   "outputs": [],
   "source": []
  }
 ],
 "metadata": {
  "kernelspec": {
   "display_name": "Python 3 (ipykernel)",
   "language": "python",
   "name": "python3"
  },
  "language_info": {
   "codemirror_mode": {
    "name": "ipython",
    "version": 3
   },
   "file_extension": ".py",
   "mimetype": "text/x-python",
   "name": "python",
   "nbconvert_exporter": "python",
   "pygments_lexer": "ipython3",
   "version": "3.10.2"
  }
 },
 "nbformat": 4,
 "nbformat_minor": 5
}
