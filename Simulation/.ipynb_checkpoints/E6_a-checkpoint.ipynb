{
 "cells": [
  {
   "cell_type": "markdown",
   "id": "fdbbb4bb",
   "metadata": {},
   "source": [
    "# E6.B - Task"
   ]
  },
  {
   "cell_type": "code",
   "execution_count": 2,
   "id": "3661911e",
   "metadata": {},
   "outputs": [],
   "source": [
    "reset -f"
   ]
  },
  {
   "cell_type": "code",
   "execution_count": null,
   "id": "dcb1ca09",
   "metadata": {},
   "outputs": [],
   "source": [
    "import sympy as sp\n",
    "import numpy as np\n",
    "import matplotlib.pyplot as plt\n",
    "\n",
    "from IPython.display import Math, Latex"
   ]
  },
  {
   "cell_type": "markdown",
   "id": "2910d2c8",
   "metadata": {},
   "source": [
    "## Define symbolic variables"
   ]
  },
  {
   "cell_type": "code",
   "execution_count": 1,
   "id": "9a2e485c",
   "metadata": {},
   "outputs": [
    {
     "ename": "NameError",
     "evalue": "name 'sp' is not defined",
     "output_type": "error",
     "traceback": [
      "\u001b[1;31m---------------------------------------------------------------------------\u001b[0m",
      "\u001b[1;31mNameError\u001b[0m                                 Traceback (most recent call last)",
      "Input \u001b[1;32mIn [1]\u001b[0m, in \u001b[0;36m<cell line: 1>\u001b[1;34m()\u001b[0m\n\u001b[1;32m----> 1\u001b[0m L, F, x, Ay, Bx, By, E, Iz  \u001b[38;5;241m=\u001b[39m \u001b[43msp\u001b[49m\u001b[38;5;241m.\u001b[39msymbols(\u001b[38;5;124m'\u001b[39m\u001b[38;5;124mL, F, x, Ay, Bx, By, E, Iz\u001b[39m\u001b[38;5;124m'\u001b[39m, real \u001b[38;5;241m=\u001b[39m \u001b[38;5;124m'\u001b[39m\u001b[38;5;124mTrue\u001b[39m\u001b[38;5;124m'\u001b[39m)\n\u001b[0;32m      2\u001b[0m N \u001b[38;5;241m=\u001b[39m sp\u001b[38;5;241m.\u001b[39mFunction(\u001b[38;5;124m'\u001b[39m\u001b[38;5;124mN\u001b[39m\u001b[38;5;124m'\u001b[39m)\n\u001b[0;32m      3\u001b[0m Mbz \u001b[38;5;241m=\u001b[39m sp\u001b[38;5;241m.\u001b[39mFunction(\u001b[38;5;124m'\u001b[39m\u001b[38;5;124mM_\u001b[39m\u001b[38;5;132;01m{bz}\u001b[39;00m\u001b[38;5;124m'\u001b[39m)\n",
      "\u001b[1;31mNameError\u001b[0m: name 'sp' is not defined"
     ]
    }
   ],
   "source": [
    "L, F, x, Ay, Bx, By, E, Iz  = sp.symbols('L, F, x, Ay, Bx, By, E, Iz', real = 'True')\n",
    "N = sp.Function('N')\n",
    "Mbz = sp.Function('M_{bz}')\n",
    "v = sp.Function('v')"
   ]
  },
  {
   "cell_type": "code",
   "execution_count": 53,
   "id": "5e721d4e",
   "metadata": {},
   "outputs": [],
   "source": [
    "Mct = ct*phiL"
   ]
  },
  {
   "cell_type": "code",
   "execution_count": 54,
   "id": "7fbb49f5",
   "metadata": {},
   "outputs": [],
   "source": [
    "eq = sp.Eq(0 , -Mbz(x) + By*(L-x) + Bx*v(x) - Mct)"
   ]
  },
  {
   "cell_type": "code",
   "execution_count": 55,
   "id": "3b100c59",
   "metadata": {},
   "outputs": [
    {
     "data": {
      "text/latex": [
       "$\\displaystyle B_{x} v{\\left(x \\right)} + B_{y} L - B_{y} x - c_{t} \\varphi_{L}$"
      ],
      "text/plain": [
       "B_x*v(x) + B_y*L - B_y*x - c_t*varphi_L"
      ]
     },
     "execution_count": 55,
     "metadata": {},
     "output_type": "execute_result"
    }
   ],
   "source": [
    "sol = sp.solve(eq,Mbz(x))\n",
    "Mbz = sol[0]\n",
    "Mbz"
   ]
  },
  {
   "cell_type": "code",
   "execution_count": 57,
   "id": "d08013ca",
   "metadata": {},
   "outputs": [
    {
     "data": {
      "text/latex": [
       "$\\displaystyle \\frac{d^{2}}{d x^{2}} v{\\left(x \\right)} = \\frac{B_{x} v{\\left(x \\right)} + B_{y} L - B_{y} x - c_{t} \\varphi_{L}}{E I_{z}}$"
      ],
      "text/plain": [
       "Eq(Derivative(v(x), (x, 2)), (B_x*v(x) + B_y*L - B_y*x - c_t*varphi_L)/(E*I_z))"
      ]
     },
     "execution_count": 57,
     "metadata": {},
     "output_type": "execute_result"
    }
   ],
   "source": [
    "DefEq = sp.Eq(sp.Derivative(v(x),x,x), Mbz/(E*Iz)) \n",
    "display(DefEq)"
   ]
  },
  {
   "cell_type": "markdown",
   "id": "4b0e94d6",
   "metadata": {},
   "source": [
    "As we can see $B_x=F$ but $B_y$ remains unknown."
   ]
  },
  {
   "cell_type": "code",
   "execution_count": 59,
   "id": "d3fe89a3",
   "metadata": {},
   "outputs": [
    {
     "data": {
      "text/latex": [
       "$\\displaystyle \\frac{d^{2}}{d x^{2}} v{\\left(x \\right)} = \\frac{B_{y} L - B_{y} x + F v{\\left(x \\right)} - c_{t} \\varphi_{L}}{E I_{z}}$"
      ],
      "text/plain": [
       "Eq(Derivative(v(x), (x, 2)), (B_y*L - B_y*x + F*v(x) - c_t*varphi_L)/(E*I_z))"
      ]
     },
     "metadata": {},
     "output_type": "display_data"
    }
   ],
   "source": [
    "DefEq = DefEq.subs(Bx,F)\n",
    "display(DefEq)"
   ]
  },
  {
   "cell_type": "markdown",
   "id": "7f1b4ae6",
   "metadata": {},
   "source": [
    "classifying the equation:\n",
    "* ordinary \n",
    "* linear\n",
    "* second orden\n",
    "* inhomogeneous\n",
    "* constant coefficients\n",
    "\n",
    "we need an ODE solver-> sp.dsolve()"
   ]
  },
  {
   "cell_type": "code",
   "execution_count": 61,
   "id": "ea0316f2",
   "metadata": {},
   "outputs": [
    {
     "data": {
      "text/latex": [
       "$\\displaystyle v{\\left(x \\right)} = - \\frac{B_{y} L}{F} + \\frac{B_{y} x}{F} + C_{1} e^{- x \\sqrt{\\frac{F}{E I_{z}}}} + C_{2} e^{x \\sqrt{\\frac{F}{E I_{z}}}} + \\frac{c_{t} \\varphi_{L}}{F}$"
      ],
      "text/plain": [
       "Eq(v(x), -B_y*L/F + B_y*x/F + C1*exp(-x*sqrt(F/(E*I_z))) + C2*exp(x*sqrt(F/(E*I_z))) + c_t*varphi_L/F)"
      ]
     },
     "execution_count": 61,
     "metadata": {},
     "output_type": "execute_result"
    }
   ],
   "source": [
    "sol = sp.dsolve(DefEq)"
   ]
  },
  {
   "cell_type": "code",
   "execution_count": 66,
   "id": "11052b76",
   "metadata": {},
   "outputs": [
    {
     "data": {
      "text/latex": [
       "$\\displaystyle \\frac{B_{y}}{F} - C_{1} \\sqrt{\\frac{F}{E I_{z}}} e^{- x \\sqrt{\\frac{F}{E I_{z}}}} + C_{2} \\sqrt{\\frac{F}{E I_{z}}} e^{x \\sqrt{\\frac{F}{E I_{z}}}}$"
      ],
      "text/plain": [
       "B_y/F - C1*sqrt(F/(E*I_z))*exp(-x*sqrt(F/(E*I_z))) + C2*sqrt(F/(E*I_z))*exp(x*sqrt(F/(E*I_z)))"
      ]
     },
     "execution_count": 66,
     "metadata": {},
     "output_type": "execute_result"
    }
   ],
   "source": [
    "v = sol.rhs\n",
    "dv = sp.diff(v,x)"
   ]
  },
  {
   "cell_type": "code",
   "execution_count": 68,
   "id": "57b83f38",
   "metadata": {},
   "outputs": [],
   "source": [
    "eq1 = sp.Eq(0, v.subs(x,0))\n",
    "eq2 = sp.Eq(0, dv.subs(x,0))\n",
    "eq3 = sp.Eq(0, v.subs(x,L))\n",
    "eq4 = sp.Eq(-phiL, dv.subs(x,L))"
   ]
  },
  {
   "cell_type": "code",
   "execution_count": 79,
   "id": "fe923fc2",
   "metadata": {},
   "outputs": [
    {
     "data": {
      "text/latex": [
       "$\\displaystyle 1$"
      ],
      "text/plain": [
       "1"
      ]
     },
     "execution_count": 79,
     "metadata": {},
     "output_type": "execute_result"
    }
   ],
   "source": [
    "eq1.rhs.coeff('C1')"
   ]
  },
  {
   "cell_type": "code",
   "execution_count": 86,
   "id": "d0d37a35",
   "metadata": {},
   "outputs": [],
   "source": [
    "CoeffMat = sp.Matrix([[eq1.rhs.coeff('C1'), eq1.rhs.coeff('C2'), eq1.rhs.coeff(By), eq1.rhs.coeff(phiL)],\n",
    "                      [eq2.rhs.coeff('C1'), eq2.rhs.coeff('C2'), eq2.rhs.coeff(By), eq2.rhs.coeff(phiL)],\n",
    "                      [eq3.rhs.coeff('C1'), eq3.rhs.coeff('C2'), eq3.rhs.coeff(By), eq3.rhs.coeff(phiL)],\n",
    "                      [eq4.rhs.coeff('C1'), eq4.rhs.coeff('C2'), eq4.rhs.coeff(By), eq4.rhs.coeff(phiL)]])"
   ]
  },
  {
   "cell_type": "code",
   "execution_count": 91,
   "id": "6e6d2bd2",
   "metadata": {},
   "outputs": [
    {
     "data": {
      "text/latex": [
       "$\\displaystyle 0 = \\frac{- L c_{t} \\sqrt{\\frac{F}{E I_{z}}} e^{L \\sqrt{\\frac{F}{E I_{z}}}} + L c_{t} \\sqrt{\\frac{F}{E I_{z}}} e^{- L \\sqrt{\\frac{F}{E I_{z}}}} + 2 c_{t} e^{L \\sqrt{\\frac{F}{E I_{z}}}} - 4 c_{t} + 2 c_{t} e^{- L \\sqrt{\\frac{F}{E I_{z}}}}}{E F I_{z} \\sqrt{\\frac{F}{E I_{z}}}}$"
      ],
      "text/plain": [
       "Eq(0, (-L*c_t*sqrt(F/(E*I_z))*exp(L*sqrt(F/(E*I_z))) + L*c_t*sqrt(F/(E*I_z))*exp(-L*sqrt(F/(E*I_z))) + 2*c_t*exp(L*sqrt(F/(E*I_z))) - 4*c_t + 2*c_t*exp(-L*sqrt(F/(E*I_z))))/(E*F*I_z*sqrt(F/(E*I_z))))"
      ]
     },
     "execution_count": 91,
     "metadata": {},
     "output_type": "execute_result"
    }
   ],
   "source": [
    "EvEq = sp.Eq(0, CoeffMat.det())\n",
    "EvEq"
   ]
  },
  {
   "cell_type": "code",
   "execution_count": null,
   "id": "3d7cbebc",
   "metadata": {},
   "outputs": [],
   "source": []
  }
 ],
 "metadata": {
  "kernelspec": {
   "display_name": "Python 3 (ipykernel)",
   "language": "python",
   "name": "python3"
  },
  "language_info": {
   "codemirror_mode": {
    "name": "ipython",
    "version": 3
   },
   "file_extension": ".py",
   "mimetype": "text/x-python",
   "name": "python",
   "nbconvert_exporter": "python",
   "pygments_lexer": "ipython3",
   "version": "3.10.2"
  }
 },
 "nbformat": 4,
 "nbformat_minor": 5
}
