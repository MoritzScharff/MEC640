{
 "cells": [
  {
   "cell_type": "markdown",
   "id": "fdbbb4bb",
   "metadata": {},
   "source": [
    "# Example for a beam with 2 forces"
   ]
  },
  {
   "cell_type": "code",
   "execution_count": 19,
   "id": "3661911e",
   "metadata": {},
   "outputs": [],
   "source": [
    "reset -f"
   ]
  },
  {
   "cell_type": "code",
   "execution_count": 20,
   "id": "dcb1ca09",
   "metadata": {},
   "outputs": [],
   "source": [
    "import sympy as sp\n",
    "import numpy as np\n",
    "import matplotlib.pyplot as plt\n",
    "\n",
    "from IPython.display import Math, Latex"
   ]
  },
  {
   "cell_type": "markdown",
   "id": "2910d2c8",
   "metadata": {},
   "source": [
    "## Define symbolic variables"
   ]
  },
  {
   "cell_type": "code",
   "execution_count": 21,
   "id": "9a2e485c",
   "metadata": {},
   "outputs": [],
   "source": [
    "L, F1, F2, x  = sp.symbols('L, F_1, F_2, x', real = 'True')\n",
    "Ax, Ay, MAz = sp. symbols('A_x, A_y, MA_z', real = 'True')"
   ]
  },
  {
   "cell_type": "code",
   "execution_count": 22,
   "id": "7fbb49f5",
   "metadata": {},
   "outputs": [],
   "source": [
    "eq1 = sp.Eq(0 , Ax)\n",
    "eq2 = sp.Eq(0 , Ay - F1 - F2)\n",
    "eq3 = sp.Eq(0, MAz - F1*L -F2*2*L)"
   ]
  },
  {
   "cell_type": "code",
   "execution_count": 23,
   "id": "3b100c59",
   "metadata": {},
   "outputs": [
    {
     "data": {
      "text/plain": [
       "{A_x: 0, A_y: F_1 + F_2, MA_z: F_1*L + 2*F_2*L}"
      ]
     },
     "execution_count": 23,
     "metadata": {},
     "output_type": "execute_result"
    }
   ],
   "source": [
    "sol = sp.solve([eq1, eq2, eq3],[Ax, Ay, MAz])\n",
    "sol"
   ]
  },
  {
   "cell_type": "code",
   "execution_count": 24,
   "id": "d08013ca",
   "metadata": {},
   "outputs": [],
   "source": [
    "Ax, Ay, MAz = sol.values()"
   ]
  },
  {
   "cell_type": "markdown",
   "id": "44b77f59",
   "metadata": {},
   "source": [
    "# Internal force reactions"
   ]
  },
  {
   "cell_type": "markdown",
   "id": "d28ae8e1",
   "metadata": {},
   "source": [
    "## Define symbolic functions"
   ]
  },
  {
   "cell_type": "code",
   "execution_count": 25,
   "id": "2fb3a243",
   "metadata": {},
   "outputs": [],
   "source": [
    "N1 = sp.Function('N_1')(x)\n",
    "Q1 = sp.Function('Q_1')(x)\n",
    "Mbz1 = sp.Function('Mbz_1')(x) \n",
    "\n",
    "N2 = sp.Function('N_2')(x)\n",
    "Q2 = sp.Function('Q_2')(x)\n",
    "Mbz2 = sp.Function('Mbz_2')(x) "
   ]
  },
  {
   "cell_type": "markdown",
   "id": "a7afd22a",
   "metadata": {},
   "source": [
    "## Set up equations"
   ]
  },
  {
   "cell_type": "code",
   "execution_count": 26,
   "id": "fd339f86",
   "metadata": {},
   "outputs": [],
   "source": [
    "eq11 = sp.Eq(0, N1 + Ax) \n",
    "eq12 = sp.Eq(0, Q1 + Ay)\n",
    "eq13 = sp.Eq(0, Mbz1 + MAz - Ay*x)\n",
    "\n",
    "eq21 = sp.Eq(0, N2 + Ax)\n",
    "eq22 = sp.Eq(0, Q2 + Ay - F1)\n",
    "eq23 = sp.Eq(0, Mbz2 + MAz - Ay*x + F1*(x-L))"
   ]
  },
  {
   "cell_type": "markdown",
   "id": "2174a9c2",
   "metadata": {},
   "source": [
    "# solve equations"
   ]
  },
  {
   "cell_type": "code",
   "execution_count": 27,
   "id": "c1f0ae0b",
   "metadata": {},
   "outputs": [
    {
     "data": {
      "text/plain": [
       "{N_1(x): 0,\n",
       " Q_1(x): -F_1 - F_2,\n",
       " Mbz_1(x): -F_1*L + F_1*x - 2*F_2*L + F_2*x,\n",
       " N_2(x): 0,\n",
       " Q_2(x): -F_2,\n",
       " Mbz_2(x): -2*F_2*L + F_2*x}"
      ]
     },
     "execution_count": 27,
     "metadata": {},
     "output_type": "execute_result"
    }
   ],
   "source": [
    "sol = sp.solve([eq11, eq12, eq13, eq21, eq22, eq23],[N1, Q1, Mbz1, N2, Q2, Mbz2])\n",
    "sol"
   ]
  },
  {
   "cell_type": "code",
   "execution_count": 28,
   "id": "005de21c",
   "metadata": {},
   "outputs": [],
   "source": [
    "N1, Q1, Mbz1, N2, Q2, Mbz2 = sol.values()"
   ]
  },
  {
   "cell_type": "markdown",
   "id": "cca425b1",
   "metadata": {},
   "source": [
    "# Deformation"
   ]
  },
  {
   "cell_type": "code",
   "execution_count": 29,
   "id": "3e696a45",
   "metadata": {},
   "outputs": [],
   "source": [
    "E, h, b, y = sp.symbols('E, h, b,y', real = 'True')"
   ]
  },
  {
   "cell_type": "code",
   "execution_count": 30,
   "id": "2e978440",
   "metadata": {},
   "outputs": [],
   "source": [
    "Iz = b*h**3/12"
   ]
  },
  {
   "cell_type": "code",
   "execution_count": 31,
   "id": "35554702",
   "metadata": {},
   "outputs": [],
   "source": [
    "v1 = sp.Function('v_1')\n",
    "v2 = sp.Function('v_2')"
   ]
  },
  {
   "cell_type": "code",
   "execution_count": 32,
   "id": "ba9fb258",
   "metadata": {},
   "outputs": [
    {
     "data": {
      "text/latex": [
       "$\\displaystyle \\frac{d^{2}}{d x^{2}} \\operatorname{v_{1}}{\\left(x \\right)} = \\frac{12 \\left(- F_{1} L + F_{1} x - 2 F_{2} L + F_{2} x\\right)}{E b h^{3}}$"
      ],
      "text/plain": [
       "Eq(Derivative(v_1(x), (x, 2)), 12*(-F_1*L + F_1*x - 2*F_2*L + F_2*x)/(E*b*h**3))"
      ]
     },
     "metadata": {},
     "output_type": "display_data"
    },
    {
     "data": {
      "text/latex": [
       "$\\displaystyle \\frac{d^{2}}{d x^{2}} \\operatorname{v_{2}}{\\left(x \\right)} = \\frac{12 \\left(- 2 F_{2} L + F_{2} x\\right)}{E b h^{3}}$"
      ],
      "text/plain": [
       "Eq(Derivative(v_2(x), (x, 2)), 12*(-2*F_2*L + F_2*x)/(E*b*h**3))"
      ]
     },
     "metadata": {},
     "output_type": "display_data"
    }
   ],
   "source": [
    "eq1 = sp.Eq(sp.diff(v1(x),x,x), Mbz1/(E*Iz))\n",
    "eq2 = sp.Eq(sp.diff(v2(x),x,x), Mbz2/(E*Iz))\n",
    "display(eq1, eq2)"
   ]
  },
  {
   "cell_type": "code",
   "execution_count": 33,
   "id": "3ad1a8ca",
   "metadata": {},
   "outputs": [
    {
     "data": {
      "text/plain": [
       "[Eq(v_1(x), C1 + C2*x - 6*L*x**2*(F_1 + 2*F_2)/(E*b*h**3) + 2*x**3*(F_1 + F_2)/(E*b*h**3)),\n",
       " Eq(v_2(x), C3 + C4*x - 12*F_2*L*x**2/(E*b*h**3) + 2*F_2*x**3/(E*b*h**3))]"
      ]
     },
     "metadata": {},
     "output_type": "display_data"
    }
   ],
   "source": [
    "sol = sp.dsolve([eq1, eq2], func = [v1(x), v2(x)])\n",
    "display(sol)\n",
    "v11 = sol[0].rhs\n",
    "v22 = sol[1].rhs\n",
    "dv11 = sp.diff(v11, x)\n",
    "dv22 = sp.diff(v22, x)"
   ]
  },
  {
   "cell_type": "code",
   "execution_count": 34,
   "id": "425ee76c",
   "metadata": {},
   "outputs": [],
   "source": [
    "bc1 = sp.Eq(0, v11.subs(x,0))\n",
    "bc2 = sp.Eq(0, dv11.subs(x,0))\n",
    "bc3 = sp.Eq(0, v11.subs(x,L) - v22.subs(x,L))\n",
    "bc4 = sp.Eq(0, dv11.subs(x,L) - dv22.subs(x,L))"
   ]
  },
  {
   "cell_type": "code",
   "execution_count": 35,
   "id": "0dc0d73a",
   "metadata": {},
   "outputs": [
    {
     "data": {
      "text/latex": [
       "$\\displaystyle \\frac{2 x^{2} \\left(- 3 L \\left(F_{1} + 2 F_{2}\\right) + x \\left(F_{1} + F_{2}\\right)\\right)}{E b h^{3}}$"
      ],
      "text/plain": [
       "2*x**2*(-3*L*(F_1 + 2*F_2) + x*(F_1 + F_2))/(E*b*h**3)"
      ]
     },
     "metadata": {},
     "output_type": "display_data"
    },
    {
     "data": {
      "text/latex": [
       "$\\displaystyle \\frac{2 \\left(F_{1} L^{3} - 3 F_{1} L^{2} x - 6 F_{2} L x^{2} + F_{2} x^{3}\\right)}{E b h^{3}}$"
      ],
      "text/plain": [
       "2*(F_1*L**3 - 3*F_1*L**2*x - 6*F_2*L*x**2 + F_2*x**3)/(E*b*h**3)"
      ]
     },
     "metadata": {},
     "output_type": "display_data"
    }
   ],
   "source": [
    "sol = sp.solve([bc1, bc2, bc3, bc4], ['C1', 'C2', 'C3', 'C4'])\n",
    "C1, C2, C3, C4 = sol.values()\n",
    "v11 = v11.subs([('C1', C1), ('C2', C2)])\n",
    "v22 = v22.subs([('C3', C3), ('C4', C4)])\n",
    "display(sp.simplify(v11), sp.simplify(v22))"
   ]
  },
  {
   "cell_type": "code",
   "execution_count": 36,
   "id": "4b4f1abb",
   "metadata": {},
   "outputs": [],
   "source": [
    "v11 = v11.subs([(L, 100), (h, 2), (b, 15), (E, 210000)])\n",
    "v22 = v22.subs([(L, 100), (h, 2), (b, 15), (E, 210000)])\n"
   ]
  },
  {
   "cell_type": "code",
   "execution_count": 37,
   "id": "7533fa23",
   "metadata": {},
   "outputs": [],
   "source": [
    "v_fun1 = sp.lambdify((x ,F1, F2), v11, 'numpy')\n",
    "v_fun2 = sp.lambdify((x ,F1, F2), v22, 'numpy')\n",
    "s1 = np.arange(0,100,1)\n",
    "s2 = np.arange(100,200,1)"
   ]
  },
  {
   "cell_type": "code",
   "execution_count": 39,
   "id": "e15a7c68",
   "metadata": {},
   "outputs": [
    {
     "data": {
      "text/plain": [
       "Text(0, 0.5, 'v(x)')"
      ]
     },
     "execution_count": 39,
     "metadata": {},
     "output_type": "execute_result"
    },
    {
     "data": {
      "image/png": "[encoded data removed]",
      "text/plain": [
       "<Figure size 432x288 with 1 Axes>"
      ]
     },
     "metadata": {
      "needs_background": "light"
     },
     "output_type": "display_data"
    }
   ],
   "source": [
    "plt.plot(s1, v_fun1(s1, 10, 0))\n",
    "plt.plot(s2, v_fun2(s2, 10, 0))\n",
    "plt.xlabel('x')\n",
    "plt.ylabel('v(x)')"
   ]
  },
  {
   "cell_type": "code",
   "execution_count": 192,
   "id": "fe923fc2",
   "metadata": {},
   "outputs": [
    {
     "data": {
      "text/plain": [
       "[array([ 0,  1,  2,  3,  4,  5,  6,  7,  8,  9, 10, 11, 12, 13, 14, 15, 16,\n",
       "        17, 18, 19, 20, 21, 22, 23, 24, 25, 26, 27, 28, 29, 30, 31, 32, 33,\n",
       "        34, 35, 36, 37, 38, 39, 40, 41, 42, 43, 44, 45, 46, 47, 48, 49, 50,\n",
       "        51, 52, 53, 54, 55, 56, 57, 58, 59, 60, 61, 62, 63, 64, 65, 66, 67,\n",
       "        68, 69, 70, 71, 72, 73, 74, 75, 76, 77, 78, 79, 80, 81, 82, 83, 84,\n",
       "        85, 86, 87, 88, 89, 90, 91, 92, 93, 94, 95, 96, 97, 98, 99]),\n",
       " array([100, 101, 102, 103, 104, 105, 106, 107, 108, 109, 110, 111, 112,\n",
       "        113, 114, 115, 116, 117, 118, 119, 120, 121, 122, 123, 124, 125,\n",
       "        126, 127, 128, 129, 130, 131, 132, 133, 134, 135, 136, 137, 138,\n",
       "        139, 140, 141, 142, 143, 144, 145, 146, 147, 148, 149, 150, 151,\n",
       "        152, 153, 154, 155, 156, 157, 158, 159, 160, 161, 162, 163, 164,\n",
       "        165, 166, 167, 168, 169, 170, 171, 172, 173, 174, 175, 176, 177,\n",
       "        178, 179, 180, 181, 182, 183, 184, 185, 186, 187, 188, 189, 190,\n",
       "        191, 192, 193, 194, 195, 196, 197, 198, 199])]"
      ]
     },
     "execution_count": 192,
     "metadata": {},
     "output_type": "execute_result"
    }
   ],
   "source": [
    "[s1[:], s2[:]]"
   ]
  },
  {
   "cell_type": "code",
   "execution_count": null,
   "id": "d0d37a35",
   "metadata": {},
   "outputs": [],
   "source": []
  },
  {
   "cell_type": "code",
   "execution_count": null,
   "id": "6589a471",
   "metadata": {},
   "outputs": [],
   "source": []
  },
  {
   "cell_type": "code",
   "execution_count": null,
   "id": "a50326ab",
   "metadata": {},
   "outputs": [],
   "source": []
  },
  {
   "cell_type": "code",
   "execution_count": null,
   "id": "7a2c7d25",
   "metadata": {},
   "outputs": [],
   "source": []
  },
  {
   "cell_type": "code",
   "execution_count": null,
   "id": "3aeeefd5",
   "metadata": {},
   "outputs": [],
   "source": []
  }
 ],
 "metadata": {
  "kernelspec": {
   "display_name": "Python 3 (ipykernel)",
   "language": "python",
   "name": "python3"
  },
  "language_info": {
   "codemirror_mode": {
    "name": "ipython",
    "version": 3
   },
   "file_extension": ".py",
   "mimetype": "text/x-python",
   "name": "python",
   "nbconvert_exporter": "python",
   "pygments_lexer": "ipython3",
   "version": "3.10.2"
  }
 },
 "nbformat": 4,
 "nbformat_minor": 5
}
