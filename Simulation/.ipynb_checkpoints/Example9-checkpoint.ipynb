{
 "cells": [
  {
   "cell_type": "markdown",
   "id": "76cd41bb",
   "metadata": {},
   "source": [
    "# Exercise E9"
   ]
  },
  {
   "cell_type": "code",
   "execution_count": 1,
   "id": "2bbbb802",
   "metadata": {},
   "outputs": [],
   "source": [
    "reset -f"
   ]
  },
  {
   "cell_type": "code",
   "execution_count": 2,
   "id": "eafd153a",
   "metadata": {},
   "outputs": [],
   "source": [
    "import sympy as sp\n",
    "import numpy as np\n",
    "import matplotlib.pyplot as plt\n",
    "\n",
    "from IPython.display import Math, Latex"
   ]
  },
  {
   "cell_type": "markdown",
   "id": "d792bde0",
   "metadata": {},
   "source": [
    "## Define Symbolic Functions"
   ]
  },
  {
   "cell_type": "code",
   "execution_count": 3,
   "id": "c1781db6",
   "metadata": {},
   "outputs": [],
   "source": [
    "t, m, c, g, l0 = sp.symbols('t, m, c, g, l0', real ='True')\n",
    "x = sp.Function('x')\n",
    "y = sp.Function('y')\n",
    "phi = sp.Function('phi')\n",
    "l = sp.Function('l')"
   ]
  },
  {
   "cell_type": "markdown",
   "id": "0a2a1749",
   "metadata": {},
   "source": [
    "## Equation of motion"
   ]
  },
  {
   "cell_type": "markdown",
   "id": "fc37703b",
   "metadata": {},
   "source": [
    "Using Lagrange's equation of second kind "
   ]
  },
  {
   "cell_type": "markdown",
   "id": "61b131b1",
   "metadata": {},
   "source": [
    "### Kinetic Energy"
   ]
  },
  {
   "cell_type": "code",
   "execution_count": 4,
   "id": "b4dffc27",
   "metadata": {},
   "outputs": [
    {
     "data": {
      "text/latex": [
       "$\\displaystyle 0.5 m \\left(l^{2}{\\left(t \\right)} \\left(\\frac{d}{d t} \\phi{\\left(t \\right)}\\right)^{2} + \\left(\\frac{d}{d t} l{\\left(t \\right)}\\right)^{2}\\right)$"
      ],
      "text/plain": [
       "0.5*m*(l(t)**2*Derivative(phi(t), t)**2 + Derivative(l(t), t)**2)"
      ]
     },
     "metadata": {},
     "output_type": "display_data"
    }
   ],
   "source": [
    "T = 1/2*m*(sp.diff(l(t),t)**2 + (l(t)**2)*(sp.diff(phi(t),t)**2))\n",
    "display(T)"
   ]
  },
  {
   "cell_type": "markdown",
   "id": "c88da8a5",
   "metadata": {},
   "source": [
    "### Potencial Energy"
   ]
  },
  {
   "cell_type": "code",
   "execution_count": 86,
   "id": "cc18e171",
   "metadata": {},
   "outputs": [
    {
     "data": {
      "text/latex": [
       "$\\displaystyle 0.5 c \\left(- l_{0} + l{\\left(t \\right)}\\right)^{2} - g m l{\\left(t \\right)} \\cos{\\left(\\phi{\\left(t \\right)} \\right)}$"
      ],
      "text/plain": [
       "0.5*c*(-l0 + l(t))**2 - g*m*l(t)*cos(phi(t))"
      ]
     },
     "metadata": {},
     "output_type": "display_data"
    }
   ],
   "source": [
    "U = 1/2*c*(l(t)-l0)**2-m*g*l(t)*sp.cos(phi(t))\n",
    "display(U)"
   ]
  },
  {
   "cell_type": "markdown",
   "id": "8cf5ef8b",
   "metadata": {},
   "source": [
    "### Lagrangian"
   ]
  },
  {
   "cell_type": "code",
   "execution_count": 87,
   "id": "49718196",
   "metadata": {},
   "outputs": [
    {
     "data": {
      "text/latex": [
       "$\\displaystyle - 0.5 c \\left(- l_{0} + l{\\left(t \\right)}\\right)^{2} + g m l{\\left(t \\right)} \\cos{\\left(\\phi{\\left(t \\right)} \\right)} + 0.5 m \\left(l^{2}{\\left(t \\right)} \\left(\\frac{d}{d t} \\phi{\\left(t \\right)}\\right)^{2} + \\left(\\frac{d}{d t} l{\\left(t \\right)}\\right)^{2}\\right)$"
      ],
      "text/plain": [
       "-0.5*c*(-l0 + l(t))**2 + g*m*l(t)*cos(phi(t)) + 0.5*m*(l(t)**2*Derivative(phi(t), t)**2 + Derivative(l(t), t)**2)"
      ]
     },
     "metadata": {},
     "output_type": "display_data"
    }
   ],
   "source": [
    "L = T-U\n",
    "display(L)"
   ]
  },
  {
   "cell_type": "markdown",
   "id": "1a6bd624",
   "metadata": {},
   "source": [
    "### Apply the formalism"
   ]
  },
  {
   "cell_type": "code",
   "execution_count": 88,
   "id": "b9ff0f1f",
   "metadata": {},
   "outputs": [
    {
     "data": {
      "text/latex": [
       "$\\displaystyle 1.0 c l_{0} - 1.0 c l{\\left(t \\right)} + 1.0 g m \\cos{\\left(\\phi{\\left(t \\right)} \\right)} + 1.0 m l{\\left(t \\right)} \\left(\\frac{d}{d t} \\phi{\\left(t \\right)}\\right)^{2} - 1.0 m \\frac{d^{2}}{d t^{2}} l{\\left(t \\right)} = 0$"
      ],
      "text/plain": [
       "Eq(1.0*c*l0 - 1.0*c*l(t) + 1.0*g*m*cos(phi(t)) + 1.0*m*l(t)*Derivative(phi(t), t)**2 - 1.0*m*Derivative(l(t), (t, 2)), 0)"
      ]
     },
     "metadata": {},
     "output_type": "display_data"
    },
    {
     "data": {
      "text/latex": [
       "$\\displaystyle m \\left(g \\sin{\\left(\\phi{\\left(t \\right)} \\right)} + 1.0 l{\\left(t \\right)} \\frac{d^{2}}{d t^{2}} \\phi{\\left(t \\right)} + 2.0 \\frac{d}{d t} l{\\left(t \\right)} \\frac{d}{d t} \\phi{\\left(t \\right)}\\right) l{\\left(t \\right)} = 0$"
      ],
      "text/plain": [
       "Eq(m*(g*sin(phi(t)) + 1.0*l(t)*Derivative(phi(t), (t, 2)) + 2.0*Derivative(l(t), t)*Derivative(phi(t), t))*l(t), 0)"
      ]
     },
     "metadata": {},
     "output_type": "display_data"
    }
   ],
   "source": [
    "EqMo1 = sp.Eq(sp.diff(sp.diff(L, sp.diff(l(t),t)),t) - sp.diff(L, l(t)), 0)\n",
    "EqMo2 = sp.Eq(sp.diff(sp.diff(L, sp.diff(phi(t),t)),t) - sp.diff(L, phi(t)), 0)\n",
    "display(EqMo1.simplify())\n",
    "display(EqMo2.simplify())"
   ]
  },
  {
   "cell_type": "markdown",
   "id": "2c9646d7",
   "metadata": {},
   "source": [
    "### Substitute values"
   ]
  },
  {
   "cell_type": "code",
   "execution_count": 89,
   "id": "04f27214",
   "metadata": {},
   "outputs": [
    {
     "data": {
      "text/latex": [
       "$\\displaystyle 20.0 l{\\left(t \\right)} \\left(\\frac{d}{d t} \\phi{\\left(t \\right)}\\right)^{2} - 100.0 l{\\left(t \\right)} + 196.2 \\cos{\\left(\\phi{\\left(t \\right)} \\right)} - 20.0 \\frac{d^{2}}{d t^{2}} l{\\left(t \\right)} + 20000.0 = 0$"
      ],
      "text/plain": [
       "Eq(20.0*l(t)*Derivative(phi(t), t)**2 - 100.0*l(t) + 196.2*cos(phi(t)) - 20.0*Derivative(l(t), (t, 2)) + 20000.0, 0)"
      ]
     },
     "metadata": {},
     "output_type": "display_data"
    },
    {
     "data": {
      "text/latex": [
       "$\\displaystyle \\left(20.0 l{\\left(t \\right)} \\frac{d^{2}}{d t^{2}} \\phi{\\left(t \\right)} + 196.2 \\sin{\\left(\\phi{\\left(t \\right)} \\right)} + 40.0 \\frac{d}{d t} l{\\left(t \\right)} \\frac{d}{d t} \\phi{\\left(t \\right)}\\right) l{\\left(t \\right)} = 0$"
      ],
      "text/plain": [
       "Eq((20.0*l(t)*Derivative(phi(t), (t, 2)) + 196.2*sin(phi(t)) + 40.0*Derivative(l(t), t)*Derivative(phi(t), t))*l(t), 0)"
      ]
     },
     "metadata": {},
     "output_type": "display_data"
    }
   ],
   "source": [
    "EqMo1 = EqMo1.subs([(m, 20), (c, 100), (g, 9.81), (l0, 200)])\n",
    "EqMo2 = EqMo2.subs([(m, 20), (c, 100), (g, 9.81), (l0, 200)])\n",
    "display(EqMo1.simplify())\n",
    "display(EqMo2.simplify())"
   ]
  },
  {
   "cell_type": "markdown",
   "id": "24fdf91f",
   "metadata": {},
   "source": [
    "### Define Lambda Function"
   ]
  },
  {
   "cell_type": "code",
   "execution_count": 91,
   "id": "9dd1748e",
   "metadata": {},
   "outputs": [],
   "source": [
    "fun1 = sp.lambdify(t, EqMo1, 'numpy')\n",
    "fun2 = sp.lambdify(t, EqMo2, 'numpy')"
   ]
  },
  {
   "cell_type": "code",
   "execution_count": null,
   "id": "4530ba58",
   "metadata": {},
   "outputs": [],
   "source": []
  },
  {
   "cell_type": "code",
   "execution_count": null,
   "id": "1eb123c8",
   "metadata": {},
   "outputs": [],
   "source": []
  },
  {
   "cell_type": "code",
   "execution_count": null,
   "id": "2d626b14",
   "metadata": {},
   "outputs": [],
   "source": []
  }
 ],
 "metadata": {
  "kernelspec": {
   "display_name": "Python 3 (ipykernel)",
   "language": "python",
   "name": "python3"
  },
  "language_info": {
   "codemirror_mode": {
    "name": "ipython",
    "version": 3
   },
   "file_extension": ".py",
   "mimetype": "text/x-python",
   "name": "python",
   "nbconvert_exporter": "python",
   "pygments_lexer": "ipython3",
   "version": "3.10.2"
  }
 },
 "nbformat": 4,
 "nbformat_minor": 5
}
