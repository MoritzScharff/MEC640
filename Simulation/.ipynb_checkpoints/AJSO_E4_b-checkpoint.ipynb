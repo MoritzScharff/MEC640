{
 "cells": [
  {
   "cell_type": "markdown",
   "id": "814e2bf8",
   "metadata": {},
   "source": [
    "# Exercise E4.b"
   ]
  },
  {
   "cell_type": "code",
   "execution_count": 1,
   "id": "7f16297e",
   "metadata": {},
   "outputs": [],
   "source": [
    "reset -f"
   ]
  },
  {
   "cell_type": "code",
   "execution_count": 2,
   "id": "772dfca4",
   "metadata": {},
   "outputs": [],
   "source": [
    "import sympy as sp\n",
    "import numpy as np\n",
    "import matplotlib.pyplot as plt\n"
   ]
  },
  {
   "cell_type": "markdown",
   "id": "79504348",
   "metadata": {},
   "source": [
    "## Define simbolic variables"
   ]
  },
  {
   "cell_type": "code",
   "execution_count": 3,
   "id": "eee862be",
   "metadata": {},
   "outputs": [],
   "source": [
    "M0, D, d, DS, DH, dH, I0H, I0S, L, x, E, G, Rho = sp.symbols('M0, D, d, DS, DH, dH, I0H, I0S, L, x, E, G, Rho', real = 'True')"
   ]
  },
  {
   "cell_type": "markdown",
   "id": "3229d835",
   "metadata": {},
   "source": [
    "## Saved material"
   ]
  },
  {
   "cell_type": "code",
   "execution_count": 4,
   "id": "0060b6a2",
   "metadata": {},
   "outputs": [],
   "source": [
    "def VS(D, L):\n",
    "    return sp.integrate(sp.pi*(D**2)/4, (x, 0, L))\n",
    "\n",
    "def VH(D, d, L):\n",
    "    return sp.integrate(sp.pi*((D**2)/4-(d**2)/4), (x, 0, L))"
   ]
  },
  {
   "cell_type": "code",
   "execution_count": 5,
   "id": "899d657d",
   "metadata": {},
   "outputs": [
    {
     "data": {
      "text/latex": [
       "$\\displaystyle 1 - \\frac{d^{2}}{D^{2}}$"
      ],
      "text/plain": [
       "1 - d**2/D**2"
      ]
     },
     "metadata": {},
     "output_type": "display_data"
    }
   ],
   "source": [
    "mS = VS(D, L) * Rho\n",
    "mH = VH(D, d, L) * Rho\n",
    "\n",
    "mu = mH/mS\n",
    "mu = sp.simplify(mu)\n",
    "display(mu)"
   ]
  },
  {
   "cell_type": "markdown",
   "id": "5245ae2c",
   "metadata": {},
   "source": [
    "## Stress increase"
   ]
  },
  {
   "cell_type": "code",
   "execution_count": 6,
   "id": "e7fd0e06",
   "metadata": {},
   "outputs": [],
   "source": [
    "def tau(M0, D, J):\n",
    "    return M0*D/(2*J)"
   ]
  },
  {
   "cell_type": "code",
   "execution_count": 7,
   "id": "964de737",
   "metadata": {},
   "outputs": [],
   "source": [
    "JS = sp.pi*(D**4)/32\n",
    "JH = sp.pi*(D**4-d**4)/32"
   ]
  },
  {
   "cell_type": "code",
   "execution_count": 8,
   "id": "2f67d2f3",
   "metadata": {},
   "outputs": [
    {
     "data": {
      "text/latex": [
       "$\\displaystyle \\frac{D^{4}}{D^{4} - d^{4}}$"
      ],
      "text/plain": [
       "D**4/(D**4 - d**4)"
      ]
     },
     "metadata": {},
     "output_type": "display_data"
    }
   ],
   "source": [
    "k = tau(M0, D, JH) / tau(M0, D, JS)\n",
    "k = sp.simplify(k)\n",
    "display(k)"
   ]
  },
  {
   "cell_type": "markdown",
   "id": "1d4d795c",
   "metadata": {},
   "source": [
    "## Deformation increase"
   ]
  },
  {
   "cell_type": "code",
   "execution_count": 9,
   "id": "448e9ffe",
   "metadata": {},
   "outputs": [],
   "source": [
    "def eps(M0, D, J, G):\n",
    "    return tau(M0, D, J)/G"
   ]
  },
  {
   "cell_type": "code",
   "execution_count": 10,
   "id": "d3051414",
   "metadata": {},
   "outputs": [
    {
     "data": {
      "text/latex": [
       "$\\displaystyle \\frac{D^{4}}{D^{4} - d^{4}}$"
      ],
      "text/plain": [
       "D**4/(D**4 - d**4)"
      ]
     },
     "metadata": {},
     "output_type": "display_data"
    }
   ],
   "source": [
    "eps = eps(M0, D, JH, G)/ eps(M0, D, JS, G)\n",
    "eps = sp.simplify(eps)\n",
    "display(eps)"
   ]
  },
  {
   "cell_type": "markdown",
   "id": "98a8f0c2",
   "metadata": {},
   "source": [
    "## Find a new DH"
   ]
  },
  {
   "cell_type": "code",
   "execution_count": 15,
   "id": "80fd2340",
   "metadata": {},
   "outputs": [
    {
     "data": {
      "text/latex": [
       "$\\displaystyle \\frac{\\pi \\left(DH^{4} - dH^{4}\\right)}{32}$"
      ],
      "text/plain": [
       "pi*(DH**4 - dH**4)/32"
      ]
     },
     "metadata": {},
     "output_type": "display_data"
    }
   ],
   "source": [
    "I0S = sp.pi*(DS**4)/32\n",
    "I0H = sp.pi*(DH**4-dH**4)/32\n",
    "display(I0H)"
   ]
  },
  {
   "cell_type": "code",
   "execution_count": 12,
   "id": "509b8327",
   "metadata": {},
   "outputs": [
    {
     "data": {
      "text/latex": [
       "$\\displaystyle 0 = \\frac{16 DH M_{0}}{\\pi \\left(DH^{4} - dH^{4}\\right)} - \\frac{16 M_{0}}{\\pi DS^{3}}$"
      ],
      "text/plain": [
       "Eq(0, 16*DH*M0/(pi*(DH**4 - dH**4)) - 16*M0/(pi*DS**3))"
      ]
     },
     "metadata": {},
     "output_type": "display_data"
    }
   ],
   "source": [
    "eq1 = sp.Eq(0, tau(M0, DH, I0H) - tau(M0, DS, I0S))\n",
    "display(eq1)"
   ]
  },
  {
   "cell_type": "code",
   "execution_count": null,
   "id": "32499837",
   "metadata": {},
   "outputs": [],
   "source": []
  },
  {
   "cell_type": "code",
   "execution_count": 275,
   "id": "9f296937",
   "metadata": {},
   "outputs": [
    {
     "data": {
      "text/plain": [
       "[Piecewise((-sqrt(-2*DS**3/(sqrt(-(-1)**(1/3))*Abs(DS)) + (-1)**(1/3)*DS**2)/2 - sqrt(-(-1)**(1/3))*Abs(DS)/2, Eq(dH**4, 0)), (-sqrt(-2*dH**4/(3*(DS**6/16 + sqrt(DS**12/256 + dH**12/27))**(1/3)) + 2*(DS**6/16 + sqrt(DS**12/256 + dH**12/27))**(1/3))/2 - sqrt(-2*DS**3/sqrt(-2*dH**4/(3*(DS**6/16 + sqrt(DS**12/256 + dH**12/27))**(1/3)) + 2*(DS**6/16 + sqrt(DS**12/256 + dH**12/27))**(1/3)) + 2*dH**4/(3*(DS**6/16 + sqrt(DS**12/256 + dH**12/27))**(1/3)) - 2*(DS**6/16 + sqrt(DS**12/256 + dH**12/27))**(1/3))/2, True)),\n",
       " Piecewise((sqrt(-2*DS**3/(sqrt(-(-1)**(1/3))*Abs(DS)) + (-1)**(1/3)*DS**2)/2 - sqrt(-(-1)**(1/3))*Abs(DS)/2, Eq(dH**4, 0)), (-sqrt(-2*dH**4/(3*(DS**6/16 + sqrt(DS**12/256 + dH**12/27))**(1/3)) + 2*(DS**6/16 + sqrt(DS**12/256 + dH**12/27))**(1/3))/2 + sqrt(-2*DS**3/sqrt(-2*dH**4/(3*(DS**6/16 + sqrt(DS**12/256 + dH**12/27))**(1/3)) + 2*(DS**6/16 + sqrt(DS**12/256 + dH**12/27))**(1/3)) + 2*dH**4/(3*(DS**6/16 + sqrt(DS**12/256 + dH**12/27))**(1/3)) - 2*(DS**6/16 + sqrt(DS**12/256 + dH**12/27))**(1/3))/2, True)),\n",
       " Piecewise((-sqrt(2*DS**3/(sqrt(-(-1)**(1/3))*Abs(DS)) + (-1)**(1/3)*DS**2)/2 + sqrt(-(-1)**(1/3))*Abs(DS)/2, Eq(dH**4, 0)), (sqrt(-2*dH**4/(3*(DS**6/16 + sqrt(DS**12/256 + dH**12/27))**(1/3)) + 2*(DS**6/16 + sqrt(DS**12/256 + dH**12/27))**(1/3))/2 - sqrt(2*DS**3/sqrt(-2*dH**4/(3*(DS**6/16 + sqrt(DS**12/256 + dH**12/27))**(1/3)) + 2*(DS**6/16 + sqrt(DS**12/256 + dH**12/27))**(1/3)) + 2*dH**4/(3*(DS**6/16 + sqrt(DS**12/256 + dH**12/27))**(1/3)) - 2*(DS**6/16 + sqrt(DS**12/256 + dH**12/27))**(1/3))/2, True)),\n",
       " Piecewise((sqrt(2*DS**3/(sqrt(-(-1)**(1/3))*Abs(DS)) + (-1)**(1/3)*DS**2)/2 + sqrt(-(-1)**(1/3))*Abs(DS)/2, Eq(dH**4, 0)), (sqrt(-2*dH**4/(3*(DS**6/16 + sqrt(DS**12/256 + dH**12/27))**(1/3)) + 2*(DS**6/16 + sqrt(DS**12/256 + dH**12/27))**(1/3))/2 + sqrt(2*DS**3/sqrt(-2*dH**4/(3*(DS**6/16 + sqrt(DS**12/256 + dH**12/27))**(1/3)) + 2*(DS**6/16 + sqrt(DS**12/256 + dH**12/27))**(1/3)) + 2*dH**4/(3*(DS**6/16 + sqrt(DS**12/256 + dH**12/27))**(1/3)) - 2*(DS**6/16 + sqrt(DS**12/256 + dH**12/27))**(1/3))/2, True))]"
      ]
     },
     "execution_count": 275,
     "metadata": {},
     "output_type": "execute_result"
    }
   ],
   "source": [
    "sol = sp.solve(eq1, DH)\n",
    "sol"
   ]
  },
  {
   "cell_type": "code",
   "execution_count": null,
   "id": "0256b258",
   "metadata": {},
   "outputs": [],
   "source": []
  },
  {
   "cell_type": "code",
   "execution_count": null,
   "id": "7a032bb2",
   "metadata": {},
   "outputs": [],
   "source": []
  },
  {
   "cell_type": "code",
   "execution_count": null,
   "id": "3e4db627",
   "metadata": {},
   "outputs": [],
   "source": []
  },
  {
   "cell_type": "code",
   "execution_count": null,
   "id": "0bfa413f",
   "metadata": {},
   "outputs": [],
   "source": []
  },
  {
   "cell_type": "code",
   "execution_count": null,
   "id": "4ec3689e",
   "metadata": {},
   "outputs": [],
   "source": []
  }
 ],
 "metadata": {
  "kernelspec": {
   "display_name": "Python 3 (ipykernel)",
   "language": "python",
   "name": "python3"
  },
  "language_info": {
   "codemirror_mode": {
    "name": "ipython",
    "version": 3
   },
   "file_extension": ".py",
   "mimetype": "text/x-python",
   "name": "python",
   "nbconvert_exporter": "python",
   "pygments_lexer": "ipython3",
   "version": "3.10.2"
  }
 },
 "nbformat": 4,
 "nbformat_minor": 5
}
