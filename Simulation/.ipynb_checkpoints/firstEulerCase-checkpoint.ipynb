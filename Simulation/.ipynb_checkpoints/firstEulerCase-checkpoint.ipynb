{
 "cells": [
  {
   "cell_type": "markdown",
   "id": "fdbbb4bb",
   "metadata": {},
   "source": [
    "# First Euler Case"
   ]
  },
  {
   "cell_type": "code",
   "execution_count": 212,
   "id": "3661911e",
   "metadata": {},
   "outputs": [],
   "source": [
    "reset -f"
   ]
  },
  {
   "cell_type": "code",
   "execution_count": 213,
   "id": "dcb1ca09",
   "metadata": {},
   "outputs": [],
   "source": [
    "import sympy as sp\n",
    "import numpy as np\n",
    "import matplotlib.pyplot as plt\n",
    "\n",
    "from IPython.display import Math, Latex"
   ]
  },
  {
   "cell_type": "markdown",
   "id": "2910d2c8",
   "metadata": {},
   "source": [
    "## Define symbolic variables"
   ]
  },
  {
   "cell_type": "code",
   "execution_count": 214,
   "id": "9a2e485c",
   "metadata": {},
   "outputs": [],
   "source": [
    "L, F, x, E, Iz, vL  = sp.symbols('L, F, x, E, I_z, v_L', real = 'True')\n",
    "Mbz = sp.Function('M_{bz}')\n",
    "v = sp.Function('v')\n",
    "\n",
    "lam = sp.symbols('lambda', real = 'True', positive = 'True')"
   ]
  },
  {
   "cell_type": "markdown",
   "id": "7563b1a8",
   "metadata": {},
   "source": [
    "## Get internal forces"
   ]
  },
  {
   "cell_type": "code",
   "execution_count": 215,
   "id": "7fbb49f5",
   "metadata": {},
   "outputs": [],
   "source": [
    "eq = sp.Eq(0, -Mbz(x) + F*(vL- v(x)))"
   ]
  },
  {
   "cell_type": "code",
   "execution_count": 216,
   "id": "3b100c59",
   "metadata": {},
   "outputs": [
    {
     "data": {
      "text/latex": [
       "$\\displaystyle F \\left(v_{L} - v{\\left(x \\right)}\\right)$"
      ],
      "text/plain": [
       "F*(v_L - v(x))"
      ]
     },
     "execution_count": 216,
     "metadata": {},
     "output_type": "execute_result"
    }
   ],
   "source": [
    "sol = sp.solve(eq, Mbz(x))\n",
    "Mbz = sol[0]\n",
    "Mbz"
   ]
  },
  {
   "cell_type": "markdown",
   "id": "a6c324ab",
   "metadata": {},
   "source": [
    "## Deformation equation"
   ]
  },
  {
   "cell_type": "code",
   "execution_count": 217,
   "id": "d08013ca",
   "metadata": {},
   "outputs": [
    {
     "data": {
      "text/latex": [
       "$\\displaystyle \\frac{d^{2}}{d x^{2}} v{\\left(x \\right)} = \\frac{F \\left(v_{L} - v{\\left(x \\right)}\\right)}{E I_{z}}$"
      ],
      "text/plain": [
       "Eq(Derivative(v(x), (x, 2)), F*(v_L - v(x))/(E*I_z))"
      ]
     },
     "metadata": {},
     "output_type": "display_data"
    }
   ],
   "source": [
    "DefEq = sp.Eq(sp.Derivative(v(x),x,x), Mbz/(E*Iz)) \n",
    "display(DefEq)"
   ]
  },
  {
   "cell_type": "markdown",
   "id": "f1fab288",
   "metadata": {},
   "source": [
    "classifying the equation:\n",
    "* ordinary \n",
    "* linear\n",
    "* second orden\n",
    "* inhomogeneous\n",
    "* constant coefficients\n",
    "\n",
    "we need an ODE solver-> sp.dsolve()"
   ]
  },
  {
   "cell_type": "markdown",
   "id": "e82f370c",
   "metadata": {},
   "source": [
    "## Solve the ODE"
   ]
  },
  {
   "cell_type": "code",
   "execution_count": 218,
   "id": "3885b581",
   "metadata": {},
   "outputs": [
    {
     "data": {
      "text/latex": [
       "$\\displaystyle C_{1} e^{- x \\sqrt{- \\frac{F}{E I_{z}}}} + C_{2} e^{x \\sqrt{- \\frac{F}{E I_{z}}}} + v_{L}$"
      ],
      "text/plain": [
       "C1*exp(-x*sqrt(-F/(E*I_z))) + C2*exp(x*sqrt(-F/(E*I_z))) + v_L"
      ]
     },
     "execution_count": 218,
     "metadata": {},
     "output_type": "execute_result"
    }
   ],
   "source": [
    "sol = sp.dsolve(DefEq)\n",
    "v = sol.rhs\n",
    "dvdx = sp.diff(sol.rhs, x)\n",
    "v"
   ]
  },
  {
   "cell_type": "code",
   "execution_count": 219,
   "id": "9bd9c567",
   "metadata": {},
   "outputs": [
    {
     "data": {
      "text/latex": [
       "$\\displaystyle C_{1} \\left(- i \\sin{\\left(\\lambda x \\right)} + \\cos{\\left(\\lambda x \\right)}\\right) + C_{2} \\left(i \\sin{\\left(\\lambda x \\right)} + \\cos{\\left(\\lambda x \\right)}\\right) + v_{L}$"
      ],
      "text/plain": [
       "C1*(-I*sin(lambda*x) + cos(lambda*x)) + C2*(I*sin(lambda*x) + cos(lambda*x)) + v_L"
      ]
     },
     "metadata": {},
     "output_type": "display_data"
    },
    {
     "data": {
      "text/latex": [
       "$\\displaystyle \\lambda \\left(- C_{1} \\sin{\\left(\\lambda x \\right)} - i C_{1} \\cos{\\left(\\lambda x \\right)} - C_{2} \\sin{\\left(\\lambda x \\right)} + i C_{2} \\cos{\\left(\\lambda x \\right)}\\right)$"
      ],
      "text/plain": [
       "lambda*(-C1*sin(lambda*x) - I*C1*cos(lambda*x) - C2*sin(lambda*x) + I*C2*cos(lambda*x))"
      ]
     },
     "metadata": {},
     "output_type": "display_data"
    }
   ],
   "source": [
    "v = v.subs(F/(E*Iz),lam**2)\n",
    "dvdx = dvdx.subs(F/(E*Iz),lam**2)\n",
    "\n",
    "display(v.rewrite(sp.cos).trigsimp())\n",
    "display(dvdx.rewrite(sp.cos).trigsimp())"
   ]
  },
  {
   "cell_type": "code",
   "execution_count": 220,
   "id": "ed0e4f54",
   "metadata": {},
   "outputs": [
    {
     "data": {
      "text/latex": [
       "$\\displaystyle - i C_{1} \\sin{\\left(\\lambda x \\right)} + C_{1} \\cos{\\left(\\lambda x \\right)} + i C_{2} \\sin{\\left(\\lambda x \\right)} + C_{2} \\cos{\\left(\\lambda x \\right)} + v_{L}$"
      ],
      "text/plain": [
       "-I*C1*sin(lambda*x) + C1*cos(lambda*x) + I*C2*sin(lambda*x) + C2*cos(lambda*x) + v_L"
      ]
     },
     "execution_count": 220,
     "metadata": {},
     "output_type": "execute_result"
    }
   ],
   "source": [
    "test = v.rewrite(sp.cos).trigsimp()\n",
    "test.expand()"
   ]
  },
  {
   "cell_type": "markdown",
   "id": "94c719f1",
   "metadata": {},
   "source": [
    "## Boundary conditions to set up equation system"
   ]
  },
  {
   "cell_type": "code",
   "execution_count": 221,
   "id": "236dfe71",
   "metadata": {},
   "outputs": [
    {
     "data": {
      "text/latex": [
       "$\\displaystyle 0 = C_{1} + C_{2} + v_{L}$"
      ],
      "text/plain": [
       "Eq(0, C1 + C2 + v_L)"
      ]
     },
     "metadata": {},
     "output_type": "display_data"
    },
    {
     "data": {
      "text/latex": [
       "$\\displaystyle 0 = - i C_{1} \\lambda + i C_{2} \\lambda$"
      ],
      "text/plain": [
       "Eq(0, -I*C1*lambda + I*C2*lambda)"
      ]
     },
     "metadata": {},
     "output_type": "display_data"
    },
    {
     "data": {
      "text/latex": [
       "$\\displaystyle 0 = - C_{1} e^{- i L \\lambda} - C_{2} e^{i L \\lambda}$"
      ],
      "text/plain": [
       "Eq(0, -C1*exp(-I*L*lambda) - C2*exp(I*L*lambda))"
      ]
     },
     "metadata": {},
     "output_type": "display_data"
    }
   ],
   "source": [
    "BC1 = sp.Eq(0, v.subs(x,0))\n",
    "BC2 = sp.Eq(0, dvdx.subs(x, 0))\n",
    "BC3 = sp.Eq(0, vL - v.subs(x,L))\n",
    "\n",
    "display(BC1)\n",
    "display(BC2)\n",
    "display(BC3)"
   ]
  },
  {
   "cell_type": "markdown",
   "id": "8fdee67f",
   "metadata": {},
   "source": [
    "## Coefficient matrix"
   ]
  },
  {
   "cell_type": "code",
   "execution_count": 222,
   "id": "d0d37a35",
   "metadata": {},
   "outputs": [
    {
     "data": {
      "text/latex": [
       "$\\displaystyle \\left[\\begin{matrix}1 & 1 & 1\\\\- i \\lambda & i \\lambda & 0\\\\- e^{- i L \\lambda} & - e^{i L \\lambda} & 0\\end{matrix}\\right]$"
      ],
      "text/plain": [
       "Matrix([\n",
       "[                1,                1, 1],\n",
       "[        -I*lambda,         I*lambda, 0],\n",
       "[-exp(-I*L*lambda), -exp(I*L*lambda), 0]])"
      ]
     },
     "execution_count": 222,
     "metadata": {},
     "output_type": "execute_result"
    }
   ],
   "source": [
    "CoeffMat = sp.Matrix([[BC1.rhs.coeff('C1'), BC1.rhs.coeff('C2'), BC1.rhs.coeff(vL)],\n",
    "                      [BC2.rhs.coeff('C1'), BC2.rhs.coeff('C2'), BC2.rhs.coeff(vL)],\n",
    "                      [BC3.rhs.coeff('C1'), BC3.rhs.coeff('C2'), BC3.rhs.coeff(vL)]])\n",
    "CoeffMat"
   ]
  },
  {
   "cell_type": "markdown",
   "id": "4da553a8",
   "metadata": {},
   "source": [
    "## Determinat of the coefficient matrix"
   ]
  },
  {
   "cell_type": "code",
   "execution_count": 223,
   "id": "6e6d2bd2",
   "metadata": {},
   "outputs": [
    {
     "data": {
      "text/latex": [
       "$\\displaystyle 2 i \\lambda \\cos{\\left(L \\lambda \\right)} = 0$"
      ],
      "text/plain": [
       "Eq(2*I*lambda*cos(L*lambda), 0)"
      ]
     },
     "execution_count": 223,
     "metadata": {},
     "output_type": "execute_result"
    }
   ],
   "source": [
    "EvEq = sp.Eq(0, CoeffMat.det())\n",
    "sp.simplify(EvEq)"
   ]
  },
  {
   "cell_type": "code",
   "execution_count": 224,
   "id": "276f8fa1",
   "metadata": {},
   "outputs": [],
   "source": [
    "test = EvEq.rhs.as_real_imag()[1]"
   ]
  },
  {
   "cell_type": "code",
   "execution_count": 240,
   "id": "37b0f942",
   "metadata": {},
   "outputs": [],
   "source": [
    "E = 210000\n",
    "Iz = sp.pi/64 * 1**4\n",
    "LL = 100"
   ]
  },
  {
   "cell_type": "code",
   "execution_count": 241,
   "id": "ce4925ac",
   "metadata": {},
   "outputs": [],
   "source": [
    "temp = test.subs([(lam,sp.sqrt(F/(E*Iz))), (L,LL)])"
   ]
  },
  {
   "cell_type": "code",
   "execution_count": 255,
   "id": "6d4185b0",
   "metadata": {},
   "outputs": [],
   "source": [
    "from scipy.optimize import fsolve"
   ]
  },
  {
   "cell_type": "code",
   "execution_count": 264,
   "id": "fded5b04",
   "metadata": {},
   "outputs": [
    {
     "data": {
      "text/plain": [
       "array([2.54348363])"
      ]
     },
     "execution_count": 264,
     "metadata": {},
     "output_type": "execute_result"
    }
   ],
   "source": [
    "fun = sp.lambdify(F, temp, 'numpy')\n",
    "sol = fsolve(lambda F: fun(F), 2.5)\n",
    "sol"
   ]
  },
  {
   "cell_type": "code",
   "execution_count": 249,
   "id": "27b336a0",
   "metadata": {},
   "outputs": [],
   "source": [
    "f_vec = np.linspace(0,4,1000)"
   ]
  },
  {
   "cell_type": "code",
   "execution_count": 253,
   "id": "d1757977",
   "metadata": {},
   "outputs": [
    {
     "data": {
      "image/png": "[encoded data removed]",
      "text/plain": [
       "<Figure size 432x288 with 1 Axes>"
      ]
     },
     "metadata": {
      "needs_background": "light"
     },
     "output_type": "display_data"
    }
   ],
   "source": [
    "plt.plot(f_vec,fun(f_vec))\n",
    "plt.grid()"
   ]
  },
  {
   "cell_type": "code",
   "execution_count": 272,
   "id": "86e9e345",
   "metadata": {},
   "outputs": [
    {
     "data": {
      "text/latex": [
       "$\\displaystyle 2.54348363393084$"
      ],
      "text/plain": [
       "2.54348363393084"
      ]
     },
     "execution_count": 272,
     "metadata": {},
     "output_type": "execute_result"
    }
   ],
   "source": [
    "(sp.pi**2*E*Iz/(4*LL**2)).evalf()"
   ]
  },
  {
   "cell_type": "code",
   "execution_count": null,
   "id": "60fab079",
   "metadata": {},
   "outputs": [],
   "source": []
  }
 ],
 "metadata": {
  "kernelspec": {
   "display_name": "Python 3 (ipykernel)",
   "language": "python",
   "name": "python3"
  },
  "language_info": {
   "codemirror_mode": {
    "name": "ipython",
    "version": 3
   },
   "file_extension": ".py",
   "mimetype": "text/x-python",
   "name": "python",
   "nbconvert_exporter": "python",
   "pygments_lexer": "ipython3",
   "version": "3.10.2"
  }
 },
 "nbformat": 4,
 "nbformat_minor": 5
}
