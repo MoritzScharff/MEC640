{
 "cells": [
  {
   "cell_type": "markdown",
   "id": "fdbbb4bb",
   "metadata": {},
   "source": [
    "# E10 - Task"
   ]
  },
  {
   "cell_type": "code",
   "execution_count": 1,
   "id": "3661911e",
   "metadata": {},
   "outputs": [],
   "source": [
    "reset -f"
   ]
  },
  {
   "cell_type": "code",
   "execution_count": 2,
   "id": "dcb1ca09",
   "metadata": {},
   "outputs": [],
   "source": [
    "import sympy as sp\n",
    "import numpy as np\n",
    "import matplotlib.pyplot as plt\n",
    "\n",
    "from IPython.display import Math, Latex"
   ]
  },
  {
   "cell_type": "markdown",
   "id": "86a9deab",
   "metadata": {},
   "source": [
    "## Capacitive displacment sensor\n",
    "\n",
    "* dof = 2 -> displacement $x$ and current $I$"
   ]
  },
  {
   "cell_type": "markdown",
   "id": "2910d2c8",
   "metadata": {},
   "source": [
    "## Define symbolic variables"
   ]
  },
  {
   "cell_type": "markdown",
   "id": "9c635680",
   "metadata": {},
   "source": [
    "* $t$ - time\n",
    "* $x(t)$ - position of the movable side of the capacitor\n",
    "* $Q(t)$ - electrical charge\n",
    "* $Q_0$ - initial electrical charge\n",
    "* $R$ - resistor\n",
    "* $L$ - coil (inductor)\n",
    "* $I$ - current\n",
    "* $C(x)$ - capacitance\n",
    "* $E_0(t)$ - supply voltage\n",
    "* $m$ - point mass at the end of the pendulum\n",
    "* $c$ - spring stiffness\n",
    "* $k$ - damping factor\n",
    "* $^{\\cdot}$ - derivative with respect to time"
   ]
  },
  {
   "cell_type": "code",
   "execution_count": 3,
   "id": "642dbc9e",
   "metadata": {},
   "outputs": [],
   "source": [
    "t, Q0, R, L, I, m, c, k = sp.symbols('t, Q_0, R, L, I, m, c, k', real = 'True')\n",
    "x = sp.Function('x')\n",
    "Q = sp.Function('Q')\n",
    "E0 = sp.Function('E_0')\n",
    "C = sp.Function('C')"
   ]
  },
  {
   "cell_type": "markdown",
   "id": "b2788e0f",
   "metadata": {},
   "source": [
    "## Equation of motion\n",
    "using Lagrange's equation of second kind"
   ]
  },
  {
   "cell_type": "markdown",
   "id": "527d1626",
   "metadata": {},
   "source": [
    "### Kinetic Energy"
   ]
  },
  {
   "cell_type": "code",
   "execution_count": 4,
   "id": "6ba4bbec",
   "metadata": {},
   "outputs": [],
   "source": [
    "T = m/2*sp.diff(x(t),t)**2 + L/2 * sp.diff(Q(t),t)**2"
   ]
  },
  {
   "cell_type": "markdown",
   "id": "a1efd191",
   "metadata": {},
   "source": [
    "### Potential Energy"
   ]
  },
  {
   "cell_type": "code",
   "execution_count": 5,
   "id": "a3577ce2",
   "metadata": {},
   "outputs": [],
   "source": [
    "U = 1/2*c*x(t)**2 + 1/2*c*x(t)**2 + 1/2*1/C(x(t))*(Q(t)-Q0)**2 - E0(t)*Q(t)"
   ]
  },
  {
   "cell_type": "markdown",
   "id": "18d0753d",
   "metadata": {},
   "source": [
    "### Dissipation Function"
   ]
  },
  {
   "cell_type": "code",
   "execution_count": 13,
   "id": "9c06f17d",
   "metadata": {},
   "outputs": [],
   "source": [
    "d = 1/2*k*sp.diff(x(t),t)**2 + 1/2*R*sp.diff(Q(t),t)**2"
   ]
  },
  {
   "cell_type": "markdown",
   "id": "348450df",
   "metadata": {},
   "source": [
    "### General Force"
   ]
  },
  {
   "cell_type": "code",
   "execution_count": 14,
   "id": "f7b19cf0",
   "metadata": {},
   "outputs": [],
   "source": [
    "F = 0"
   ]
  },
  {
   "cell_type": "markdown",
   "id": "d3661188",
   "metadata": {},
   "source": [
    "### Lagrangian"
   ]
  },
  {
   "cell_type": "code",
   "execution_count": 15,
   "id": "9468f82d",
   "metadata": {},
   "outputs": [],
   "source": [
    "L = T - U"
   ]
  },
  {
   "cell_type": "markdown",
   "id": "9dab1032",
   "metadata": {},
   "source": [
    "### Equation of motion\n",
    "$\\left(\\frac{\\partial L}{\\partial \\dot{q}(t)} \\right)^{\\cdot} - \\frac{\\partial L}{\\partial q(t)} = - \\frac{\\partial d}{\\partial \\dot{q}(t)} + F \\frac{\\partial r_F}{\\partial q(t)}$"
   ]
  },
  {
   "cell_type": "code",
   "execution_count": 16,
   "id": "651d9003",
   "metadata": {},
   "outputs": [
    {
     "data": {
      "text/latex": [
       "$\\displaystyle 2.0 c x{\\left(t \\right)} + 1.0 k \\frac{d}{d t} x{\\left(t \\right)} + m \\frac{d^{2}}{d t^{2}} x{\\left(t \\right)} - \\frac{0.5 \\left(Q_{0} - Q{\\left(t \\right)}\\right)^{2} \\frac{d}{d x{\\left(t \\right)}} C{\\left(x{\\left(t \\right)} \\right)}}{C^{2}{\\left(x{\\left(t \\right)} \\right)}} = 0$"
      ],
      "text/plain": [
       "Eq(2.0*c*x(t) + 1.0*k*Derivative(x(t), t) + m*Derivative(x(t), (t, 2)) - 0.5*(Q_0 - Q(t))**2*Derivative(C(x(t)), x(t))/C(x(t))**2, 0)"
      ]
     },
     "metadata": {},
     "output_type": "display_data"
    }
   ],
   "source": [
    "q = x\n",
    "EqMo1 = sp.Eq(sp.diff(sp.diff(L, sp.diff(q(t),t)),t) - sp.diff(L, q(t)) +  sp.diff(d, sp.diff(q(t),t)),sp.diff(F,q(t)))\n",
    "display(EqMo1.simplify())"
   ]
  },
  {
   "cell_type": "code",
   "execution_count": 17,
   "id": "57769010",
   "metadata": {},
   "outputs": [
    {
     "data": {
      "text/latex": [
       "$\\displaystyle L \\frac{d^{2}}{d t^{2}} Q{\\left(t \\right)} + 1.0 R \\frac{d}{d t} Q{\\left(t \\right)} - \\frac{1.0 Q_{0} - 1.0 Q{\\left(t \\right)}}{C{\\left(x{\\left(t \\right)} \\right)}} - \\operatorname{E_{0}}{\\left(t \\right)} = 0$"
      ],
      "text/plain": [
       "Eq(L*Derivative(Q(t), (t, 2)) + 1.0*R*Derivative(Q(t), t) - (1.0*Q_0 - 1.0*Q(t))/C(x(t)) - E_0(t), 0)"
      ]
     },
     "metadata": {},
     "output_type": "display_data"
    }
   ],
   "source": [
    "q = Q\n",
    "EqMo2 = sp.Eq(sp.diff(sp.diff(L, sp.diff(q(t),t)),t) - sp.diff(L, q(t)) +  sp.diff(d, sp.diff(q(t),t)),sp.diff(F,q(t)))\n",
    "display(EqMo2)"
   ]
  }
 ],
 "metadata": {
  "kernelspec": {
   "display_name": "Python 3 (ipykernel)",
   "language": "python",
   "name": "python3"
  },
  "language_info": {
   "codemirror_mode": {
    "name": "ipython",
    "version": 3
   },
   "file_extension": ".py",
   "mimetype": "text/x-python",
   "name": "python",
   "nbconvert_exporter": "python",
   "pygments_lexer": "ipython3",
   "version": "3.10.2"
  }
 },
 "nbformat": 4,
 "nbformat_minor": 5
}
