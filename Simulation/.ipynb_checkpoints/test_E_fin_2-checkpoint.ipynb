{
 "cells": [
  {
   "cell_type": "markdown",
   "id": "fdbbb4bb",
   "metadata": {},
   "source": [
    "# II. Dynamics"
   ]
  },
  {
   "cell_type": "code",
   "execution_count": 112,
   "id": "3661911e",
   "metadata": {},
   "outputs": [],
   "source": [
    "reset -f"
   ]
  },
  {
   "cell_type": "code",
   "execution_count": 113,
   "id": "dcb1ca09",
   "metadata": {},
   "outputs": [],
   "source": [
    "import sympy as sp\n",
    "import numpy as np\n",
    "import matplotlib.pyplot as plt\n",
    "\n",
    "from IPython.display import Math, Latex"
   ]
  },
  {
   "cell_type": "markdown",
   "id": "2910d2c8",
   "metadata": {},
   "source": [
    "## Define symbolic variables"
   ]
  },
  {
   "cell_type": "code",
   "execution_count": 114,
   "id": "642dbc9e",
   "metadata": {},
   "outputs": [],
   "source": [
    "t, m1, m2, c, k1, k2, g, muD, L1 = sp.symbols('t, m_1, m_2, c, k_1, k_2, g, mu_D, L_1', real = 'True')\n",
    "phi = sp.Function('\\phi')\n",
    "x = sp.Function('x')"
   ]
  },
  {
   "cell_type": "markdown",
   "id": "27bf0a11",
   "metadata": {},
   "source": [
    "## Position vector"
   ]
  },
  {
   "cell_type": "code",
   "execution_count": 115,
   "id": "ae12c717",
   "metadata": {},
   "outputs": [],
   "source": [
    "from sympy.vector import CoordSys3D\n",
    "\n",
    "C = CoordSys3D('C')\n",
    "\n",
    "rm1 = x(t)*C.i + 0*C.j + 0*C.k\n",
    "drm1 = sp.diff(rm1, t)\n",
    "absdrm1 = sp.sqrt(drm1.dot(drm1))\n",
    "\n",
    "\n",
    "rm2 = (x(t) + L1*sp.sin(phi(t)))*C.i - L1*sp.cos(phi(t))*C.j + 0*C.k\n",
    "drm2 = sp.diff(rm2, t)\n",
    "absdrm2 = sp.sqrt(drm2.dot(drm2)).simplify()"
   ]
  },
  {
   "cell_type": "markdown",
   "id": "b2788e0f",
   "metadata": {},
   "source": [
    "## Equation of motion\n",
    "using Lagrange's equation of second kind"
   ]
  },
  {
   "cell_type": "markdown",
   "id": "527d1626",
   "metadata": {},
   "source": [
    "### Kinetic Energy"
   ]
  },
  {
   "cell_type": "code",
   "execution_count": 116,
   "id": "6ba4bbec",
   "metadata": {},
   "outputs": [],
   "source": [
    "T = m1/2*absdrm1**2 +m2/2*absdrm2**2"
   ]
  },
  {
   "cell_type": "markdown",
   "id": "a1efd191",
   "metadata": {},
   "source": [
    "### Potential Energy"
   ]
  },
  {
   "cell_type": "code",
   "execution_count": 117,
   "id": "a3577ce2",
   "metadata": {},
   "outputs": [],
   "source": [
    "U = 1/2*c*x(t)**2 - m2*g*L1*sp.cos(phi(t))"
   ]
  },
  {
   "cell_type": "markdown",
   "id": "18d0753d",
   "metadata": {},
   "source": [
    "### Dissipation Function"
   ]
  },
  {
   "cell_type": "code",
   "execution_count": 118,
   "id": "9c06f17d",
   "metadata": {},
   "outputs": [],
   "source": [
    "d = 1/2*k1*absdrm1**2 + 1/2*k2*absdrm2**2"
   ]
  },
  {
   "cell_type": "markdown",
   "id": "348450df",
   "metadata": {},
   "source": [
    "### General Force"
   ]
  },
  {
   "cell_type": "code",
   "execution_count": 119,
   "id": "f7b19cf0",
   "metadata": {},
   "outputs": [],
   "source": [
    "F = - muD*(m1*g + (m2*L1*sp.diff(phi(t),t)**2 + m2*g*sp.cos(phi(t)))*sp.cos(phi(t)))*sp.sign(sp.diff(x(t),t))"
   ]
  },
  {
   "cell_type": "markdown",
   "id": "d3661188",
   "metadata": {},
   "source": [
    "### Lagrangian"
   ]
  },
  {
   "cell_type": "code",
   "execution_count": 120,
   "id": "9468f82d",
   "metadata": {},
   "outputs": [],
   "source": [
    "L = T - U"
   ]
  },
  {
   "cell_type": "markdown",
   "id": "9dab1032",
   "metadata": {},
   "source": [
    "### Equation of motion\n",
    "$\\left(\\frac{\\partial L}{\\partial \\dot{q}(t)} \\right)^{\\cdot} - \\frac{\\partial L}{\\partial q(t)} = - \\frac{\\partial d}{\\partial \\dot{q}(t)} + F \\frac{\\partial r_F}{\\partial q(t)}$"
   ]
  },
  {
   "cell_type": "code",
   "execution_count": 121,
   "id": "651d9003",
   "metadata": {},
   "outputs": [
    {
     "data": {
      "text/latex": [
       "$\\displaystyle \\begin{cases} 0 & \\text{for}\\: \\frac{d}{d t} x{\\left(t \\right)} = 0 \\\\- \\frac{\\mu_{D} \\left(g m_{1} + m_{2} \\left(L_{1} \\left(\\frac{d}{d t} \\phi{\\left(t \\right)}\\right)^{2} + g \\cos{\\left(\\phi{\\left(t \\right)} \\right)}\\right) \\cos{\\left(\\phi{\\left(t \\right)} \\right)}\\right) \\frac{d}{d t} x{\\left(t \\right)}}{\\left|{\\frac{d}{d t} x{\\left(t \\right)}}\\right|} & \\text{otherwise} \\end{cases} = c x{\\left(t \\right)} + k_{1} \\frac{d}{d t} x{\\left(t \\right)} + k_{2} \\left(L_{1} \\cos{\\left(\\phi{\\left(t \\right)} \\right)} \\frac{d}{d t} \\phi{\\left(t \\right)} + \\frac{d}{d t} x{\\left(t \\right)}\\right) + m_{1} \\frac{d^{2}}{d t^{2}} x{\\left(t \\right)} + m_{2} \\left(- L_{1} \\sin{\\left(\\phi{\\left(t \\right)} \\right)} \\left(\\frac{d}{d t} \\phi{\\left(t \\right)}\\right)^{2} + L_{1} \\cos{\\left(\\phi{\\left(t \\right)} \\right)} \\frac{d^{2}}{d t^{2}} \\phi{\\left(t \\right)} + \\frac{d^{2}}{d t^{2}} x{\\left(t \\right)}\\right)$"
      ],
      "text/plain": [
       "Eq(Piecewise((0, Eq(Derivative(x(t), t), 0)), (-mu_D*(g*m_1 + m_2*(L_1*Derivative(\\phi(t), t)**2 + g*cos(\\phi(t)))*cos(\\phi(t)))*Derivative(x(t), t)/Abs(Derivative(x(t), t)), True)), c*x(t) + k_1*Derivative(x(t), t) + k_2*(L_1*cos(\\phi(t))*Derivative(\\phi(t), t) + Derivative(x(t), t)) + m_1*Derivative(x(t), (t, 2)) + m_2*(-L_1*sin(\\phi(t))*Derivative(\\phi(t), t)**2 + L_1*cos(\\phi(t))*Derivative(\\phi(t), (t, 2)) + Derivative(x(t), (t, 2))))"
      ]
     },
     "metadata": {},
     "output_type": "display_data"
    }
   ],
   "source": [
    "q = x\n",
    "EqMo1 = sp.Eq(sp.diff(sp.diff(L, sp.diff(q(t),t)),t) - sp.diff(L, q(t)) +  sp.diff(d, sp.diff(q(t),t)), F*sp.diff(rm1.components[C.i],q(t)))\n",
    "display(EqMo1.simplify())"
   ]
  },
  {
   "cell_type": "code",
   "execution_count": 122,
   "id": "57769010",
   "metadata": {},
   "outputs": [
    {
     "data": {
      "text/latex": [
       "$\\displaystyle L_{1} \\left(L_{1} k_{2} \\frac{d}{d t} \\phi{\\left(t \\right)} + L_{1} m_{2} \\frac{d^{2}}{d t^{2}} \\phi{\\left(t \\right)} + g m_{2} \\sin{\\left(\\phi{\\left(t \\right)} \\right)} + k_{2} \\cos{\\left(\\phi{\\left(t \\right)} \\right)} \\frac{d}{d t} x{\\left(t \\right)} + m_{2} \\cos{\\left(\\phi{\\left(t \\right)} \\right)} \\frac{d^{2}}{d t^{2}} x{\\left(t \\right)}\\right) = 0$"
      ],
      "text/plain": [
       "Eq(L_1*(L_1*k_2*Derivative(\\phi(t), t) + L_1*m_2*Derivative(\\phi(t), (t, 2)) + g*m_2*sin(\\phi(t)) + k_2*cos(\\phi(t))*Derivative(x(t), t) + m_2*cos(\\phi(t))*Derivative(x(t), (t, 2))), 0)"
      ]
     },
     "metadata": {},
     "output_type": "display_data"
    }
   ],
   "source": [
    "q = phi\n",
    "EqMo2 = sp.Eq(sp.diff(sp.diff(L, sp.diff(q(t),t)),t) - sp.diff(L, q(t)) +  sp.diff(d, sp.diff(q(t),t)),F*sp.diff(rm1.components[C.i],q(t)))\n",
    "display(EqMo2.simplify())"
   ]
  },
  {
   "cell_type": "markdown",
   "id": "cbdfdc42",
   "metadata": {},
   "source": [
    "## System parameters"
   ]
  },
  {
   "cell_type": "code",
   "execution_count": 123,
   "id": "d130b6d7",
   "metadata": {},
   "outputs": [],
   "source": [
    "Len1 = 2\n",
    "stiff = 100\n",
    "damp1 = 10\n",
    "damp2 = 0.1\n",
    "grav = 9.81\n",
    "fric = 0.2 \n",
    "mass1 = 1000\n",
    "mass2 = 15000\n",
    "\n",
    "EqMo1Num = EqMo1.subs([(m1, mass1), (m2, mass2), (g, grav), (L1, Len1), (c, stiff), (k1, damp1), (k2, damp2), (muD, fric)])\n",
    "EqMo2Num = EqMo2.subs([(m1, mass1), (m2, mass2), (g, grav), (L1, Len1), (c, stiff), (k1, damp1), (k2, damp2), (muD, fric)])"
   ]
  },
  {
   "cell_type": "markdown",
   "id": "b0e303ef",
   "metadata": {},
   "source": [
    "## Setup system of nonlinear ODEs of first order"
   ]
  },
  {
   "cell_type": "code",
   "execution_count": 133,
   "id": "e63333df",
   "metadata": {},
   "outputs": [],
   "source": [
    "X, dX, ddX, PHI, dPHI, ddPHI = sp.symbols('X, dX, ddX, PHI, dPHI, ddPHI')\n",
    "\n",
    "fun1 = sp.solve(EqMo1Num, sp.diff(x(t),t,t))\n",
    "fun1 = fun1[0].subs([(sp.diff(phi(t),t,t), ddPHI), (sp.diff(x(t),t,t), ddX),(sp.diff(phi(t),t), dPHI), (sp.diff(x(t),t), dX), (x(t), X), (phi(t), PHI)])\n",
    "fun1 = sp.lambdify((X, dX, ddX, PHI, dPHI, ddPHI), fun1, 'numpy')\n",
    "\n",
    "fun2 = sp.solve(EqMo2Num, sp.diff(phi(t),t,t))\n",
    "fun2 = fun2[0].subs([(sp.diff(phi(t),t,t), ddPHI), (sp.diff(x(t),t,t), ddX),(sp.diff(phi(t),t), dPHI), (sp.diff(x(t),t), dX), (x(t), X), (phi(t), PHI)])\n",
    "fun2 = sp.lambdify((X, dX, ddX, PHI, dPHI, ddPHI), fun2, 'numpy')\n",
    "\n",
    "def ode_sys(iniVal, t, fun1, fun2):\n",
    "    X, dX, PHI, dPHI = iniVal\n",
    "    odeSys = [dX,\n",
    "              fun1(X, dX, PHI, dPHI),\n",
    "              dPHI,\n",
    "              fun2(X, dX, PHI, dPHI)] \n",
    "    return odeSys"
   ]
  },
  {
   "cell_type": "code",
   "execution_count": 135,
   "id": "0829d513",
   "metadata": {},
   "outputs": [
    {
     "data": {
      "text/plain": [
       "array(-0.30439755)"
      ]
     },
     "execution_count": 135,
     "metadata": {},
     "output_type": "execute_result"
    }
   ],
   "source": []
  },
  {
   "cell_type": "markdown",
   "id": "ae52be11",
   "metadata": {},
   "source": [
    "## Define initial values and time intervall"
   ]
  },
  {
   "cell_type": "code",
   "execution_count": 106,
   "id": "3c4bcc62",
   "metadata": {},
   "outputs": [],
   "source": [
    "iniVal = [0, 0, np.pi/4, 0]\n",
    "t = np.linspace(0,20,1001)"
   ]
  },
  {
   "cell_type": "markdown",
   "id": "a51d81c7",
   "metadata": {},
   "source": [
    "## Solve the IVP"
   ]
  },
  {
   "cell_type": "code",
   "execution_count": 107,
   "id": "74ee090c",
   "metadata": {},
   "outputs": [
    {
     "ename": "NameError",
     "evalue": "name 'Derivative' is not defined",
     "output_type": "error",
     "traceback": [
      "\u001b[1;31m---------------------------------------------------------------------------\u001b[0m",
      "\u001b[1;31mNameError\u001b[0m                                 Traceback (most recent call last)",
      "Input \u001b[1;32mIn [107]\u001b[0m, in \u001b[0;36m<cell line: 2>\u001b[1;34m()\u001b[0m\n\u001b[0;32m      1\u001b[0m \u001b[38;5;28;01mfrom\u001b[39;00m \u001b[38;5;21;01mscipy\u001b[39;00m\u001b[38;5;21;01m.\u001b[39;00m\u001b[38;5;21;01mintegrate\u001b[39;00m \u001b[38;5;28;01mimport\u001b[39;00m odeint\n\u001b[1;32m----> 2\u001b[0m sol \u001b[38;5;241m=\u001b[39m \u001b[43modeint\u001b[49m\u001b[43m(\u001b[49m\u001b[43mode_sys\u001b[49m\u001b[43m,\u001b[49m\u001b[43m \u001b[49m\u001b[43miniVal\u001b[49m\u001b[43m,\u001b[49m\u001b[43m \u001b[49m\u001b[43mt\u001b[49m\u001b[43m,\u001b[49m\u001b[43m \u001b[49m\u001b[43margs\u001b[49m\u001b[38;5;241;43m=\u001b[39;49m\u001b[43m(\u001b[49m\u001b[43mfun1\u001b[49m\u001b[43m,\u001b[49m\u001b[43m \u001b[49m\u001b[43mfun2\u001b[49m\u001b[43m)\u001b[49m\u001b[43m)\u001b[49m\n",
      "File \u001b[1;32m~\\AppData\\Local\\Programs\\Python\\Python310\\lib\\site-packages\\scipy\\integrate\\_odepack_py.py:241\u001b[0m, in \u001b[0;36modeint\u001b[1;34m(func, y0, t, args, Dfun, col_deriv, full_output, ml, mu, rtol, atol, tcrit, h0, hmax, hmin, ixpr, mxstep, mxhnil, mxordn, mxords, printmessg, tfirst)\u001b[0m\n\u001b[0;32m    239\u001b[0m t \u001b[38;5;241m=\u001b[39m copy(t)\n\u001b[0;32m    240\u001b[0m y0 \u001b[38;5;241m=\u001b[39m copy(y0)\n\u001b[1;32m--> 241\u001b[0m output \u001b[38;5;241m=\u001b[39m \u001b[43m_odepack\u001b[49m\u001b[38;5;241;43m.\u001b[39;49m\u001b[43modeint\u001b[49m\u001b[43m(\u001b[49m\u001b[43mfunc\u001b[49m\u001b[43m,\u001b[49m\u001b[43m \u001b[49m\u001b[43my0\u001b[49m\u001b[43m,\u001b[49m\u001b[43m \u001b[49m\u001b[43mt\u001b[49m\u001b[43m,\u001b[49m\u001b[43m \u001b[49m\u001b[43margs\u001b[49m\u001b[43m,\u001b[49m\u001b[43m \u001b[49m\u001b[43mDfun\u001b[49m\u001b[43m,\u001b[49m\u001b[43m \u001b[49m\u001b[43mcol_deriv\u001b[49m\u001b[43m,\u001b[49m\u001b[43m \u001b[49m\u001b[43mml\u001b[49m\u001b[43m,\u001b[49m\u001b[43m \u001b[49m\u001b[43mmu\u001b[49m\u001b[43m,\u001b[49m\n\u001b[0;32m    242\u001b[0m \u001b[43m                         \u001b[49m\u001b[43mfull_output\u001b[49m\u001b[43m,\u001b[49m\u001b[43m \u001b[49m\u001b[43mrtol\u001b[49m\u001b[43m,\u001b[49m\u001b[43m \u001b[49m\u001b[43matol\u001b[49m\u001b[43m,\u001b[49m\u001b[43m \u001b[49m\u001b[43mtcrit\u001b[49m\u001b[43m,\u001b[49m\u001b[43m \u001b[49m\u001b[43mh0\u001b[49m\u001b[43m,\u001b[49m\u001b[43m \u001b[49m\u001b[43mhmax\u001b[49m\u001b[43m,\u001b[49m\u001b[43m \u001b[49m\u001b[43mhmin\u001b[49m\u001b[43m,\u001b[49m\n\u001b[0;32m    243\u001b[0m \u001b[43m                         \u001b[49m\u001b[43mixpr\u001b[49m\u001b[43m,\u001b[49m\u001b[43m \u001b[49m\u001b[43mmxstep\u001b[49m\u001b[43m,\u001b[49m\u001b[43m \u001b[49m\u001b[43mmxhnil\u001b[49m\u001b[43m,\u001b[49m\u001b[43m \u001b[49m\u001b[43mmxordn\u001b[49m\u001b[43m,\u001b[49m\u001b[43m \u001b[49m\u001b[43mmxords\u001b[49m\u001b[43m,\u001b[49m\n\u001b[0;32m    244\u001b[0m \u001b[43m                         \u001b[49m\u001b[38;5;28;43mint\u001b[39;49m\u001b[43m(\u001b[49m\u001b[38;5;28;43mbool\u001b[39;49m\u001b[43m(\u001b[49m\u001b[43mtfirst\u001b[49m\u001b[43m)\u001b[49m\u001b[43m)\u001b[49m\u001b[43m)\u001b[49m\n\u001b[0;32m    245\u001b[0m \u001b[38;5;28;01mif\u001b[39;00m output[\u001b[38;5;241m-\u001b[39m\u001b[38;5;241m1\u001b[39m] \u001b[38;5;241m<\u001b[39m \u001b[38;5;241m0\u001b[39m:\n\u001b[0;32m    246\u001b[0m     warning_msg \u001b[38;5;241m=\u001b[39m _msgs[output[\u001b[38;5;241m-\u001b[39m\u001b[38;5;241m1\u001b[39m]] \u001b[38;5;241m+\u001b[39m \u001b[38;5;124m\"\u001b[39m\u001b[38;5;124m Run with full_output = 1 to get quantitative information.\u001b[39m\u001b[38;5;124m\"\u001b[39m\n",
      "Input \u001b[1;32mIn [105]\u001b[0m, in \u001b[0;36mode_sys\u001b[1;34m(iniVal, t, fun1, fun2)\u001b[0m\n\u001b[0;32m     11\u001b[0m \u001b[38;5;28;01mdef\u001b[39;00m \u001b[38;5;21mode_sys\u001b[39m(iniVal,t, fun1, fun2):\n\u001b[0;32m     12\u001b[0m     X, dX, PHI, dPHI \u001b[38;5;241m=\u001b[39m iniVal\n\u001b[0;32m     13\u001b[0m     odeSys \u001b[38;5;241m=\u001b[39m [dX,\n\u001b[1;32m---> 14\u001b[0m               \u001b[43mfun1\u001b[49m\u001b[43m(\u001b[49m\u001b[43mX\u001b[49m\u001b[43m,\u001b[49m\u001b[43m \u001b[49m\u001b[43mdX\u001b[49m\u001b[43m,\u001b[49m\u001b[43m \u001b[49m\u001b[43mPHI\u001b[49m\u001b[43m,\u001b[49m\u001b[43m \u001b[49m\u001b[43mdPHI\u001b[49m\u001b[43m)\u001b[49m,\n\u001b[0;32m     15\u001b[0m               dPHI,\n\u001b[0;32m     16\u001b[0m               fun2(X, dX, PHI, dPHI)] \n\u001b[0;32m     17\u001b[0m     \u001b[38;5;28;01mreturn\u001b[39;00m odeSys\n",
      "File \u001b[1;32m<lambdifygenerated-3>:4\u001b[0m, in \u001b[0;36m_lambdifygenerated\u001b[1;34m(X, dX, PHI, dPHI)\u001b[0m\n\u001b[0;32m      1\u001b[0m \u001b[38;5;28;01mdef\u001b[39;00m \u001b[38;5;21m_lambdifygenerated\u001b[39m(X, dX, PHI, dPHI):\n\u001b[0;32m      2\u001b[0m     \u001b[38;5;28;01mreturn\u001b[39;00m (  \u001b[38;5;66;03m# Not supported in Python with numpy:\u001b[39;00m\n\u001b[0;32m      3\u001b[0m   \u001b[38;5;66;03m# Derivative\u001b[39;00m\n\u001b[1;32m----> 4\u001b[0m select([equal(dX, \u001b[38;5;241m0\u001b[39m),\u001b[38;5;28;01mTrue\u001b[39;00m], [\u001b[38;5;241m-\u001b[39m\u001b[38;5;241m0.00625\u001b[39m\u001b[38;5;241m*\u001b[39mX \u001b[38;5;241m+\u001b[39m \u001b[38;5;241m1.875\u001b[39m\u001b[38;5;241m*\u001b[39mdPHI\u001b[38;5;241m*\u001b[39m\u001b[38;5;241m*\u001b[39m\u001b[38;5;241m2\u001b[39m\u001b[38;5;241m*\u001b[39msin(PHI) \u001b[38;5;241m-\u001b[39m \u001b[38;5;241m1.25e-5\u001b[39m\u001b[38;5;241m*\u001b[39mdPHI\u001b[38;5;241m*\u001b[39mcos(PHI) \u001b[38;5;241m-\u001b[39m \u001b[38;5;241m1.875\u001b[39m\u001b[38;5;241m*\u001b[39mcos(PHI)\u001b[38;5;241m*\u001b[39m\u001b[43mDerivative\u001b[49m(dPHI, t),\u001b[38;5;241m6.25e-6\u001b[39m\u001b[38;5;241m*\u001b[39m(\u001b[38;5;241m-\u001b[39m\u001b[38;5;241m60000.0\u001b[39m\u001b[38;5;241m*\u001b[39mdPHI\u001b[38;5;241m*\u001b[39m\u001b[38;5;241m*\u001b[39m\u001b[38;5;241m2\u001b[39m\u001b[38;5;241m*\u001b[39mdX\u001b[38;5;241m*\u001b[39mcos(PHI) \u001b[38;5;241m-\u001b[39m \u001b[38;5;241m294300.0\u001b[39m\u001b[38;5;241m*\u001b[39mdX\u001b[38;5;241m*\u001b[39mcos(PHI)\u001b[38;5;241m*\u001b[39m\u001b[38;5;241m*\u001b[39m\u001b[38;5;241m2\u001b[39m \u001b[38;5;241m-\u001b[39m \u001b[38;5;241m19620.0\u001b[39m\u001b[38;5;241m*\u001b[39mdX \u001b[38;5;241m+\u001b[39m (\u001b[38;5;241m-\u001b[39m\u001b[38;5;241m1000.0\u001b[39m\u001b[38;5;241m*\u001b[39mX \u001b[38;5;241m+\u001b[39m \u001b[38;5;241m300000.0\u001b[39m\u001b[38;5;241m*\u001b[39mdPHI\u001b[38;5;241m*\u001b[39m\u001b[38;5;241m*\u001b[39m\u001b[38;5;241m2\u001b[39m\u001b[38;5;241m*\u001b[39msin(PHI) \u001b[38;5;241m-\u001b[39m \u001b[38;5;241m2.0\u001b[39m\u001b[38;5;241m*\u001b[39mdPHI\u001b[38;5;241m*\u001b[39mcos(PHI) \u001b[38;5;241m-\u001b[39m \u001b[38;5;241m101.0\u001b[39m\u001b[38;5;241m*\u001b[39mdX \u001b[38;5;241m-\u001b[39m \u001b[38;5;241m300000.0\u001b[39m\u001b[38;5;241m*\u001b[39mcos(PHI)\u001b[38;5;241m*\u001b[39mDerivative(dPHI, t))\u001b[38;5;241m*\u001b[39m\u001b[38;5;28mabs\u001b[39m(dX))\u001b[38;5;241m/\u001b[39m\u001b[38;5;28mabs\u001b[39m(dX)], default\u001b[38;5;241m=\u001b[39mnan))\n",
      "\u001b[1;31mNameError\u001b[0m: name 'Derivative' is not defined"
     ]
    }
   ],
   "source": [
    "from scipy.integrate import odeint\n",
    "sol = odeint(ode_sys, iniVal, t, args=(fun1, fun2))"
   ]
  },
  {
   "cell_type": "markdown",
   "id": "335fe607",
   "metadata": {},
   "source": [
    "## Transfor polar coordinates to cartesian coordinates"
   ]
  },
  {
   "cell_type": "code",
   "execution_count": 16,
   "id": "24fec451",
   "metadata": {},
   "outputs": [],
   "source": [
    "x = sol[:, 0] * np.cos(sol[:, 2])\n",
    "y = sol[:, 0] * np.sin(sol[:, 2])"
   ]
  },
  {
   "cell_type": "markdown",
   "id": "d5561c9f",
   "metadata": {},
   "source": [
    "## animated plot"
   ]
  },
  {
   "cell_type": "code",
   "execution_count": 17,
   "id": "2a149ccf",
   "metadata": {},
   "outputs": [
    {
     "data": {
      "image/png": "[encoded data removed]",
      "text/plain": [
       "<Figure size 432x288 with 1 Axes>"
      ]
     },
     "metadata": {},
     "output_type": "display_data"
    }
   ],
   "source": [
    "import time\n",
    "from IPython import display\n",
    "\n",
    "for ii in np.arange(0,900):\n",
    "    plt.plot(y[0:ii], -x[0:ii])\n",
    "    plt.plot(y[ii], -x[ii], 'k.', markersize = 12)\n",
    "    plt.plot([0, y[ii]], [0, -x[ii]], 'k')\n",
    "    \n",
    "    plt.xlim(-150, 150)\n",
    "    plt.ylim(-300, 0)\n",
    "    plt.gca().set_aspect('equal', 'box')\n",
    "    \n",
    "    display.clear_output(wait=True)\n",
    "    display.display(plt.gcf())\n",
    "    time.sleep(0.00000001)\n",
    "    plt.close()"
   ]
  }
 ],
 "metadata": {
  "kernelspec": {
   "display_name": "Python 3 (ipykernel)",
   "language": "python",
   "name": "python3"
  },
  "language_info": {
   "codemirror_mode": {
    "name": "ipython",
    "version": 3
   },
   "file_extension": ".py",
   "mimetype": "text/x-python",
   "name": "python",
   "nbconvert_exporter": "python",
   "pygments_lexer": "ipython3",
   "version": "3.10.2"
  }
 },
 "nbformat": 4,
 "nbformat_minor": 5
}
