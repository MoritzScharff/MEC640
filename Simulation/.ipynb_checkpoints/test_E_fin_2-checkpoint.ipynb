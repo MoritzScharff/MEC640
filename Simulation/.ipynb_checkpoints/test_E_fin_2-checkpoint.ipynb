{
 "cells": [
  {
   "cell_type": "markdown",
   "id": "fdbbb4bb",
   "metadata": {},
   "source": [
    "# II. Dynamics"
   ]
  },
  {
   "cell_type": "code",
   "execution_count": 832,
   "id": "3661911e",
   "metadata": {},
   "outputs": [],
   "source": [
    "reset -f"
   ]
  },
  {
   "cell_type": "code",
   "execution_count": 833,
   "id": "dcb1ca09",
   "metadata": {},
   "outputs": [],
   "source": [
    "import sympy as sp\n",
    "import numpy as np\n",
    "import matplotlib.pyplot as plt\n",
    "\n",
    "from IPython.display import Math, Latex"
   ]
  },
  {
   "cell_type": "markdown",
   "id": "2910d2c8",
   "metadata": {},
   "source": [
    "## Define symbolic variables"
   ]
  },
  {
   "cell_type": "code",
   "execution_count": 834,
   "id": "642dbc9e",
   "metadata": {},
   "outputs": [],
   "source": [
    "t, m1, m2, c, k1, k2, g, muD, L1 = sp.symbols('t, m_1, m_2, c, k_1, k_2, g, mu_D, L_1', real = 'True')\n",
    "phi = sp.Function('\\phi')\n",
    "x = sp.Function('x')"
   ]
  },
  {
   "cell_type": "markdown",
   "id": "27bf0a11",
   "metadata": {},
   "source": [
    "## Position vector"
   ]
  },
  {
   "cell_type": "code",
   "execution_count": 835,
   "id": "ae12c717",
   "metadata": {},
   "outputs": [],
   "source": [
    "from sympy.vector import CoordSys3D\n",
    "\n",
    "C = CoordSys3D('C')\n",
    "\n",
    "rm1 = x(t)*C.i + 0*C.j + 0*C.k\n",
    "drm1 = sp.diff(rm1, t)\n",
    "absdrm1 = sp.sqrt(drm1.dot(drm1))\n",
    "\n",
    "\n",
    "rm2 = (x(t) + L1*sp.sin(phi(t)))*C.i - L1*sp.cos(phi(t))*C.j + 0*C.k\n",
    "drm2 = sp.diff(rm2, t)\n",
    "absdrm2 = sp.sqrt(drm2.dot(drm2)).simplify()"
   ]
  },
  {
   "cell_type": "markdown",
   "id": "b2788e0f",
   "metadata": {},
   "source": [
    "## Equation of motion\n",
    "using Lagrange's equation of second kind"
   ]
  },
  {
   "cell_type": "markdown",
   "id": "527d1626",
   "metadata": {},
   "source": [
    "### Kinetic Energy"
   ]
  },
  {
   "cell_type": "code",
   "execution_count": 836,
   "id": "6ba4bbec",
   "metadata": {},
   "outputs": [],
   "source": [
    "T = m1/2*absdrm1**2 +m2/2*absdrm2**2"
   ]
  },
  {
   "cell_type": "markdown",
   "id": "a1efd191",
   "metadata": {},
   "source": [
    "### Potential Energy"
   ]
  },
  {
   "cell_type": "code",
   "execution_count": 837,
   "id": "a3577ce2",
   "metadata": {},
   "outputs": [],
   "source": [
    "U = 1/2*c*x(t)**2 - m2*g*L1*sp.cos(phi(t))"
   ]
  },
  {
   "cell_type": "markdown",
   "id": "18d0753d",
   "metadata": {},
   "source": [
    "### Dissipation Function"
   ]
  },
  {
   "cell_type": "code",
   "execution_count": 838,
   "id": "9c06f17d",
   "metadata": {},
   "outputs": [],
   "source": [
    "d = 1/2*k1*absdrm1**2 + 1/2*k2*absdrm2**2"
   ]
  },
  {
   "cell_type": "markdown",
   "id": "348450df",
   "metadata": {},
   "source": [
    "### General Force"
   ]
  },
  {
   "cell_type": "code",
   "execution_count": 839,
   "id": "f7b19cf0",
   "metadata": {},
   "outputs": [],
   "source": [
    "F = - muD*(m1*g + (m2*L1*sp.diff(phi(t),t)**2 + m2*g*sp.cos(phi(t)))*sp.cos(phi(t)))*sp.sign(sp.diff(x(t),t))\n",
    "F = 0"
   ]
  },
  {
   "cell_type": "markdown",
   "id": "d3661188",
   "metadata": {},
   "source": [
    "### Lagrangian"
   ]
  },
  {
   "cell_type": "code",
   "execution_count": 840,
   "id": "9468f82d",
   "metadata": {},
   "outputs": [],
   "source": [
    "L = T - U"
   ]
  },
  {
   "cell_type": "markdown",
   "id": "9dab1032",
   "metadata": {},
   "source": [
    "### Equation of motion\n",
    "$\\left(\\frac{\\partial L}{\\partial \\dot{q}(t)} \\right)^{\\cdot} - \\frac{\\partial L}{\\partial q(t)} = - \\frac{\\partial d}{\\partial \\dot{q}(t)} + F \\frac{\\partial r_F}{\\partial q(t)}$"
   ]
  },
  {
   "cell_type": "code",
   "execution_count": 841,
   "id": "651d9003",
   "metadata": {},
   "outputs": [
    {
     "data": {
      "text/latex": [
       "$\\displaystyle c x{\\left(t \\right)} + k_{1} \\frac{d}{d t} x{\\left(t \\right)} + k_{2} \\left(L_{1} \\cos{\\left(\\phi{\\left(t \\right)} \\right)} \\frac{d}{d t} \\phi{\\left(t \\right)} + \\frac{d}{d t} x{\\left(t \\right)}\\right) + m_{1} \\frac{d^{2}}{d t^{2}} x{\\left(t \\right)} + m_{2} \\left(- L_{1} \\sin{\\left(\\phi{\\left(t \\right)} \\right)} \\left(\\frac{d}{d t} \\phi{\\left(t \\right)}\\right)^{2} + L_{1} \\cos{\\left(\\phi{\\left(t \\right)} \\right)} \\frac{d^{2}}{d t^{2}} \\phi{\\left(t \\right)} + \\frac{d^{2}}{d t^{2}} x{\\left(t \\right)}\\right) = 0$"
      ],
      "text/plain": [
       "Eq(c*x(t) + k_1*Derivative(x(t), t) + k_2*(L_1*cos(\\phi(t))*Derivative(\\phi(t), t) + Derivative(x(t), t)) + m_1*Derivative(x(t), (t, 2)) + m_2*(-L_1*sin(\\phi(t))*Derivative(\\phi(t), t)**2 + L_1*cos(\\phi(t))*Derivative(\\phi(t), (t, 2)) + Derivative(x(t), (t, 2))), 0)"
      ]
     },
     "metadata": {},
     "output_type": "display_data"
    }
   ],
   "source": [
    "q = x\n",
    "EqMo1 = sp.Eq(sp.diff(sp.diff(L, sp.diff(q(t),t)),t) - sp.diff(L, q(t)) +  sp.diff(d, sp.diff(q(t),t)), F*sp.diff(rm1.components[C.i],q(t)))\n",
    "display(EqMo1.simplify())"
   ]
  },
  {
   "cell_type": "code",
   "execution_count": 842,
   "id": "57769010",
   "metadata": {},
   "outputs": [
    {
     "data": {
      "text/latex": [
       "$\\displaystyle L_{1} \\left(L_{1} k_{2} \\frac{d}{d t} \\phi{\\left(t \\right)} + L_{1} m_{2} \\frac{d^{2}}{d t^{2}} \\phi{\\left(t \\right)} + g m_{2} \\sin{\\left(\\phi{\\left(t \\right)} \\right)} + k_{2} \\cos{\\left(\\phi{\\left(t \\right)} \\right)} \\frac{d}{d t} x{\\left(t \\right)} + m_{2} \\cos{\\left(\\phi{\\left(t \\right)} \\right)} \\frac{d^{2}}{d t^{2}} x{\\left(t \\right)}\\right) = 0$"
      ],
      "text/plain": [
       "Eq(L_1*(L_1*k_2*Derivative(\\phi(t), t) + L_1*m_2*Derivative(\\phi(t), (t, 2)) + g*m_2*sin(\\phi(t)) + k_2*cos(\\phi(t))*Derivative(x(t), t) + m_2*cos(\\phi(t))*Derivative(x(t), (t, 2))), 0)"
      ]
     },
     "metadata": {},
     "output_type": "display_data"
    }
   ],
   "source": [
    "q = phi\n",
    "EqMo2 = sp.Eq(sp.diff(sp.diff(L, sp.diff(q(t),t)),t) - sp.diff(L, q(t)) +  sp.diff(d, sp.diff(q(t),t)),F*sp.diff(rm1.components[C.i],q(t)))\n",
    "display(EqMo2.simplify())"
   ]
  },
  {
   "cell_type": "markdown",
   "id": "cbdfdc42",
   "metadata": {},
   "source": [
    "## System parameters"
   ]
  },
  {
   "cell_type": "code",
   "execution_count": 846,
   "id": "93d60e99",
   "metadata": {},
   "outputs": [
    {
     "data": {
      "text/latex": [
       "$\\displaystyle 1.0 L_{1} k_{2} \\cos{\\left(\\phi{\\left(t \\right)} \\right)} \\frac{d}{d t} \\phi{\\left(t \\right)} - L_{1} m_{2} \\sin{\\left(\\phi{\\left(t \\right)} \\right)} \\left(\\frac{d}{d t} \\phi{\\left(t \\right)}\\right)^{2} + L_{1} m_{2} \\cos{\\left(\\phi{\\left(t \\right)} \\right)} \\frac{d^{2}}{d t^{2}} \\phi{\\left(t \\right)} + 1.0 c x{\\left(t \\right)} + 1.0 k_{1} \\frac{d}{d t} x{\\left(t \\right)} + 1.0 k_{2} \\frac{d}{d t} x{\\left(t \\right)} + m_{1} \\frac{d^{2}}{d t^{2}} x{\\left(t \\right)} + m_{2} \\frac{d^{2}}{d t^{2}} x{\\left(t \\right)}$"
      ],
      "text/plain": [
       "1.0*L_1*k_2*cos(\\phi(t))*Derivative(\\phi(t), t) - L_1*m_2*sin(\\phi(t))*Derivative(\\phi(t), t)**2 + L_1*m_2*cos(\\phi(t))*Derivative(\\phi(t), (t, 2)) + 1.0*c*x(t) + 1.0*k_1*Derivative(x(t), t) + 1.0*k_2*Derivative(x(t), t) + m_1*Derivative(x(t), (t, 2)) + m_2*Derivative(x(t), (t, 2))"
      ]
     },
     "metadata": {},
     "output_type": "display_data"
    },
    {
     "data": {
      "text/latex": [
       "$\\displaystyle 1.0 L_{1}^{2} k_{2} \\frac{d}{d t} \\phi{\\left(t \\right)} + L_{1}^{2} m_{2} \\frac{d^{2}}{d t^{2}} \\phi{\\left(t \\right)} + L_{1} g m_{2} \\sin{\\left(\\phi{\\left(t \\right)} \\right)} + 1.0 L_{1} k_{2} \\cos{\\left(\\phi{\\left(t \\right)} \\right)} \\frac{d}{d t} x{\\left(t \\right)} + L_{1} m_{2} \\cos{\\left(\\phi{\\left(t \\right)} \\right)} \\frac{d^{2}}{d t^{2}} x{\\left(t \\right)}$"
      ],
      "text/plain": [
       "1.0*L_1**2*k_2*Derivative(\\phi(t), t) + L_1**2*m_2*Derivative(\\phi(t), (t, 2)) + L_1*g*m_2*sin(\\phi(t)) + 1.0*L_1*k_2*cos(\\phi(t))*Derivative(x(t), t) + L_1*m_2*cos(\\phi(t))*Derivative(x(t), (t, 2))"
      ]
     },
     "metadata": {},
     "output_type": "display_data"
    }
   ],
   "source": [
    "EqMo1 = EqMo1.lhs.expand()\n",
    "EqMo2 = EqMo2.lhs.expand()\n",
    "display(EqMo1, EqMo2)"
   ]
  },
  {
   "cell_type": "code",
   "execution_count": 847,
   "id": "b48e8c22",
   "metadata": {},
   "outputs": [
    {
     "data": {
      "text/latex": [
       "$\\displaystyle \\left[\\begin{matrix}m_{1} + m_{2} & L_{1} m_{2} \\cos{\\left(\\phi{\\left(t \\right)} \\right)}\\\\L_{1} m_{2} \\cos{\\left(\\phi{\\left(t \\right)} \\right)} & L_{1}^{2} m_{2}\\end{matrix}\\right]$"
      ],
      "text/plain": [
       "Matrix([\n",
       "[           m_1 + m_2, L_1*m_2*cos(\\phi(t))],\n",
       "[L_1*m_2*cos(\\phi(t)),           L_1**2*m_2]])"
      ]
     },
     "execution_count": 847,
     "metadata": {},
     "output_type": "execute_result"
    }
   ],
   "source": [
    "M = sp.Matrix([[EqMo1.coeff(sp.diff(x(t),t,t)), EqMo1.coeff(sp.diff(phi(t),t,t))],\n",
    "               [EqMo2.coeff(sp.diff(x(t),t,t)), EqMo2.coeff(sp.diff(phi(t),t,t))]])\n",
    "M"
   ]
  },
  {
   "cell_type": "code",
   "execution_count": 848,
   "id": "ea8c3569",
   "metadata": {},
   "outputs": [
    {
     "data": {
      "text/latex": [
       "$\\displaystyle \\left[\\begin{matrix}1.0 L_{1} k_{2} \\cos{\\left(\\phi{\\left(t \\right)} \\right)} \\frac{d}{d t} \\phi{\\left(t \\right)} - L_{1} m_{2} \\sin{\\left(\\phi{\\left(t \\right)} \\right)} \\left(\\frac{d}{d t} \\phi{\\left(t \\right)}\\right)^{2} + 1.0 c x{\\left(t \\right)} + 1.0 k_{1} \\frac{d}{d t} x{\\left(t \\right)} + 1.0 k_{2} \\frac{d}{d t} x{\\left(t \\right)}\\\\1.0 L_{1}^{2} k_{2} \\frac{d}{d t} \\phi{\\left(t \\right)} + L_{1} g m_{2} \\sin{\\left(\\phi{\\left(t \\right)} \\right)} + 1.0 L_{1} k_{2} \\cos{\\left(\\phi{\\left(t \\right)} \\right)} \\frac{d}{d t} x{\\left(t \\right)}\\end{matrix}\\right]$"
      ],
      "text/plain": [
       "Matrix([\n",
       "[1.0*L_1*k_2*cos(\\phi(t))*Derivative(\\phi(t), t) - L_1*m_2*sin(\\phi(t))*Derivative(\\phi(t), t)**2 + 1.0*c*x(t) + 1.0*k_1*Derivative(x(t), t) + 1.0*k_2*Derivative(x(t), t)],\n",
       "[                                                            1.0*L_1**2*k_2*Derivative(\\phi(t), t) + L_1*g*m_2*sin(\\phi(t)) + 1.0*L_1*k_2*cos(\\phi(t))*Derivative(x(t), t)]])"
      ]
     },
     "execution_count": 848,
     "metadata": {},
     "output_type": "execute_result"
    }
   ],
   "source": [
    "G = sp.Matrix([[EqMo1.subs([(sp.diff(x(t),t,t), 0),(sp.diff(phi(t),t,t), 0)])],\n",
    "              [EqMo2.subs([(sp.diff(x(t),t,t), 0),(sp.diff(phi(t),t,t), 0)])]])\n",
    "G   "
   ]
  },
  {
   "cell_type": "code",
   "execution_count": 849,
   "id": "de251a87",
   "metadata": {},
   "outputs": [],
   "source": [
    "MaVecNot = M.inv() * G"
   ]
  },
  {
   "cell_type": "code",
   "execution_count": 850,
   "id": "56ce341f",
   "metadata": {},
   "outputs": [
    {
     "data": {
      "text/latex": [
       "$\\displaystyle \\left[\\begin{matrix}\\frac{\\left(1.0 L_{1}^{2} k_{2} \\frac{d}{d t} \\phi{\\left(t \\right)} + L_{1} g m_{2} \\sin{\\left(\\phi{\\left(t \\right)} \\right)} + 1.0 L_{1} k_{2} \\cos{\\left(\\phi{\\left(t \\right)} \\right)} \\frac{d}{d t} x{\\left(t \\right)}\\right) \\cos{\\left(\\phi{\\left(t \\right)} \\right)}}{- L_{1} m_{1} + L_{1} m_{2} \\cos^{2}{\\left(\\phi{\\left(t \\right)} \\right)} - L_{1} m_{2}} - \\frac{1.0 L_{1} k_{2} \\cos{\\left(\\phi{\\left(t \\right)} \\right)} \\frac{d}{d t} \\phi{\\left(t \\right)} - L_{1} m_{2} \\sin{\\left(\\phi{\\left(t \\right)} \\right)} \\left(\\frac{d}{d t} \\phi{\\left(t \\right)}\\right)^{2} + 1.0 c x{\\left(t \\right)} + 1.0 k_{1} \\frac{d}{d t} x{\\left(t \\right)} + 1.0 k_{2} \\frac{d}{d t} x{\\left(t \\right)}}{- m_{1} + m_{2} \\cos^{2}{\\left(\\phi{\\left(t \\right)} \\right)} - m_{2}}\\\\\\frac{\\left(- m_{1} - m_{2}\\right) \\left(1.0 L_{1}^{2} k_{2} \\frac{d}{d t} \\phi{\\left(t \\right)} + L_{1} g m_{2} \\sin{\\left(\\phi{\\left(t \\right)} \\right)} + 1.0 L_{1} k_{2} \\cos{\\left(\\phi{\\left(t \\right)} \\right)} \\frac{d}{d t} x{\\left(t \\right)}\\right)}{- L_{1}^{2} m_{1} m_{2} + L_{1}^{2} m_{2}^{2} \\cos^{2}{\\left(\\phi{\\left(t \\right)} \\right)} - L_{1}^{2} m_{2}^{2}} + \\frac{\\left(1.0 L_{1} k_{2} \\cos{\\left(\\phi{\\left(t \\right)} \\right)} \\frac{d}{d t} \\phi{\\left(t \\right)} - L_{1} m_{2} \\sin{\\left(\\phi{\\left(t \\right)} \\right)} \\left(\\frac{d}{d t} \\phi{\\left(t \\right)}\\right)^{2} + 1.0 c x{\\left(t \\right)} + 1.0 k_{1} \\frac{d}{d t} x{\\left(t \\right)} + 1.0 k_{2} \\frac{d}{d t} x{\\left(t \\right)}\\right) \\cos{\\left(\\phi{\\left(t \\right)} \\right)}}{- L_{1} m_{1} + L_{1} m_{2} \\cos^{2}{\\left(\\phi{\\left(t \\right)} \\right)} - L_{1} m_{2}}\\end{matrix}\\right]$"
      ],
      "text/plain": [
       "Matrix([\n",
       "[                                            (1.0*L_1**2*k_2*Derivative(\\phi(t), t) + L_1*g*m_2*sin(\\phi(t)) + 1.0*L_1*k_2*cos(\\phi(t))*Derivative(x(t), t))*cos(\\phi(t))/(-L_1*m_1 + L_1*m_2*cos(\\phi(t))**2 - L_1*m_2) - (1.0*L_1*k_2*cos(\\phi(t))*Derivative(\\phi(t), t) - L_1*m_2*sin(\\phi(t))*Derivative(\\phi(t), t)**2 + 1.0*c*x(t) + 1.0*k_1*Derivative(x(t), t) + 1.0*k_2*Derivative(x(t), t))/(-m_1 + m_2*cos(\\phi(t))**2 - m_2)],\n",
       "[(-m_1 - m_2)*(1.0*L_1**2*k_2*Derivative(\\phi(t), t) + L_1*g*m_2*sin(\\phi(t)) + 1.0*L_1*k_2*cos(\\phi(t))*Derivative(x(t), t))/(-L_1**2*m_1*m_2 + L_1**2*m_2**2*cos(\\phi(t))**2 - L_1**2*m_2**2) + (1.0*L_1*k_2*cos(\\phi(t))*Derivative(\\phi(t), t) - L_1*m_2*sin(\\phi(t))*Derivative(\\phi(t), t)**2 + 1.0*c*x(t) + 1.0*k_1*Derivative(x(t), t) + 1.0*k_2*Derivative(x(t), t))*cos(\\phi(t))/(-L_1*m_1 + L_1*m_2*cos(\\phi(t))**2 - L_1*m_2)]])"
      ]
     },
     "execution_count": 850,
     "metadata": {},
     "output_type": "execute_result"
    }
   ],
   "source": [
    "MaVecNot"
   ]
  },
  {
   "cell_type": "markdown",
   "id": "b0e303ef",
   "metadata": {},
   "source": [
    "## Setup system of nonlinear ODEs of first order"
   ]
  },
  {
   "cell_type": "code",
   "execution_count": 888,
   "id": "386a03df",
   "metadata": {},
   "outputs": [
    {
     "data": {
      "text/latex": [
       "$\\displaystyle \\left[\\begin{matrix}- \\frac{10000.0 X - 16000 dPHii^{2} \\sin{\\left(PHii \\right)}}{8000 \\cos^{2}{\\left(PHii \\right)} - 9500} + \\frac{156960.0 \\sin{\\left(PHii \\right)} \\cos{\\left(PHii \\right)}}{16000 \\cos^{2}{\\left(PHii \\right)} - 19000}\\\\\\frac{\\left(10000.0 X - 16000 dPHii^{2} \\sin{\\left(PHii \\right)}\\right) \\cos{\\left(PHii \\right)}}{16000 \\cos^{2}{\\left(PHii \\right)} - 19000} - \\frac{1491120000.0 \\sin{\\left(PHii \\right)}}{256000000 \\cos^{2}{\\left(PHii \\right)} - 304000000}\\end{matrix}\\right]$"
      ],
      "text/plain": [
       "Matrix([\n",
       "[             -(10000.0*X - 16000*dPHii**2*sin(PHii))/(8000*cos(PHii)**2 - 9500) + 156960.0*sin(PHii)*cos(PHii)/(16000*cos(PHii)**2 - 19000)],\n",
       "[(10000.0*X - 16000*dPHii**2*sin(PHii))*cos(PHii)/(16000*cos(PHii)**2 - 19000) - 1491120000.0*sin(PHii)/(256000000*cos(PHii)**2 - 304000000)]])"
      ]
     },
     "execution_count": 888,
     "metadata": {},
     "output_type": "execute_result"
    }
   ],
   "source": [
    "Len1 = 2\n",
    "stiff = 10000\n",
    "damp1 = 0\n",
    "damp2 = 0\n",
    "grav = 9.81\n",
    "fric = 0\n",
    "mass1 = 1500\n",
    "mass2 = 8000\n",
    "\n",
    "MaVecNotNum = MaVecNot.subs([(m1, mass1), (m2, mass2), (g, grav), (L1, Len1), (c, stiff), (k1, damp1), (k2, damp2), (muD, fric)])\n",
    "\n",
    "X, dX, PHii, dPHii = sp.symbols('X, dX, PHii, dPHii')\n",
    "MaVecNotNum = MaVecNotNum.subs([(sp.diff(phi(t),t), dPHii), (sp.diff(x(t),t), dX), (x(t), X), (phi(t), PHii)])\n",
    "\n",
    "\n",
    "MaVecNotNum"
   ]
  },
  {
   "cell_type": "code",
   "execution_count": 889,
   "id": "e63333df",
   "metadata": {},
   "outputs": [],
   "source": [
    "fun1 = sp.lambdify((X, dX, PHii, dPHii), MaVecNotNum[0], 'numpy')\n",
    "fun2 = sp.lambdify((X, dX, PHii, dPHii), MaVecNotNum[1], 'numpy')\n",
    "\n",
    "fun3 = lambda t, iniVal, X, dX, PHii, dPHii : [dX,\n",
    "              fun1(X, dX, PHii, dPHii),\n",
    "              dPHii,\n",
    "              fun2(X, dX, PHii, dPHii)]\n",
    "\n",
    "def ode_sys(t, iniVal, fun1, fun2):\n",
    "    X, dX, PHii, dPHii = iniVal\n",
    "    odeSys = [dX,\n",
    "              fun1(X, dX, PHii, dPHii),\n",
    "              dPHii,\n",
    "              fun2(X, dX, PHii, dPHii)] \n",
    "    return odeSys"
   ]
  },
  {
   "cell_type": "code",
   "execution_count": 890,
   "id": "285fd999",
   "metadata": {},
   "outputs": [
    {
     "data": {
      "text/plain": [
       "<function __main__.<lambda>(t, iniVal, X, dX, PHii, dPHii)>"
      ]
     },
     "execution_count": 890,
     "metadata": {},
     "output_type": "execute_result"
    }
   ],
   "source": [
    "fun3"
   ]
  },
  {
   "cell_type": "markdown",
   "id": "ae52be11",
   "metadata": {},
   "source": [
    "## Define initial values and time intervall"
   ]
  },
  {
   "cell_type": "code",
   "execution_count": 891,
   "id": "3c4bcc62",
   "metadata": {},
   "outputs": [],
   "source": [
    "iniVal = [0, 0, 0.001, 0]\n",
    "time = np.linspace(0,5,1001)"
   ]
  },
  {
   "cell_type": "markdown",
   "id": "a51d81c7",
   "metadata": {},
   "source": [
    "## Solve the IVP"
   ]
  },
  {
   "cell_type": "code",
   "execution_count": 892,
   "id": "74ee090c",
   "metadata": {},
   "outputs": [],
   "source": [
    "from scipy.integrate import odeint, solve_ivp\n",
    "sol = odeint(ode_sys, iniVal, time, args=(fun1, fun2), tfirst=True)\n",
    "#sol = solve_ivp(ode_sys, time, iniVal, args=(fun1, fun2))\n",
    "#sol = solve_ivp(fun3(t, iniVal, X, dX, PHii, dPHii), time, iniVal)"
   ]
  },
  {
   "cell_type": "code",
   "execution_count": 893,
   "id": "1c14a356",
   "metadata": {},
   "outputs": [
    {
     "data": {
      "text/plain": [
       "[<matplotlib.lines.Line2D at 0x2118d7632e0>]"
      ]
     },
     "execution_count": 893,
     "metadata": {},
     "output_type": "execute_result"
    },
    {
     "data": {
      "image/png": "[encoded data removed]",
      "text/plain": [
       "<Figure size 432x288 with 1 Axes>"
      ]
     },
     "metadata": {
      "needs_background": "light"
     },
     "output_type": "display_data"
    }
   ],
   "source": [
    "plt.plot(time,sol[:,0])"
   ]
  },
  {
   "cell_type": "code",
   "execution_count": 894,
   "id": "9984fd8f",
   "metadata": {},
   "outputs": [
    {
     "data": {
      "text/plain": [
       "[<matplotlib.lines.Line2D at 0x2118d7e11b0>]"
      ]
     },
     "execution_count": 894,
     "metadata": {},
     "output_type": "execute_result"
    },
    {
     "data": {
      "image/png": "[encoded data removed]",
      "text/plain": [
       "<Figure size 432x288 with 1 Axes>"
      ]
     },
     "metadata": {
      "needs_background": "light"
     },
     "output_type": "display_data"
    }
   ],
   "source": [
    "plt.plot(time,sol[:,2])"
   ]
  },
  {
   "cell_type": "code",
   "execution_count": null,
   "id": "1f7c8216",
   "metadata": {},
   "outputs": [],
   "source": []
  },
  {
   "cell_type": "code",
   "execution_count": null,
   "id": "5ce796b6",
   "metadata": {},
   "outputs": [],
   "source": []
  },
  {
   "cell_type": "code",
   "execution_count": null,
   "id": "0950784f",
   "metadata": {},
   "outputs": [],
   "source": []
  }
 ],
 "metadata": {
  "kernelspec": {
   "display_name": "Python 3 (ipykernel)",
   "language": "python",
   "name": "python3"
  },
  "language_info": {
   "codemirror_mode": {
    "name": "ipython",
    "version": 3
   },
   "file_extension": ".py",
   "mimetype": "text/x-python",
   "name": "python",
   "nbconvert_exporter": "python",
   "pygments_lexer": "ipython3",
   "version": "3.10.2"
  }
 },
 "nbformat": 4,
 "nbformat_minor": 5
}
