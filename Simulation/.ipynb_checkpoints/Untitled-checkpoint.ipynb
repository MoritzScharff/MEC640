{
 "cells": [
  {
   "cell_type": "code",
   "execution_count": 42,
   "id": "63767d78",
   "metadata": {},
   "outputs": [],
   "source": [
    "reset -f"
   ]
  },
  {
   "cell_type": "markdown",
   "id": "6f54db23",
   "metadata": {},
   "source": [
    "# This is a Markdown Headline"
   ]
  },
  {
   "cell_type": "markdown",
   "id": "e54e0211",
   "metadata": {},
   "source": [
    "## This is a smaller Headline\n",
    "\n",
    "Also in SymPy we need ti import everything."
   ]
  },
  {
   "cell_type": "code",
   "execution_count": 43,
   "id": "586693a6",
   "metadata": {},
   "outputs": [],
   "source": [
    "import sympy as sp\n",
    "from IPython.display import Math, Latex"
   ]
  },
  {
   "cell_type": "markdown",
   "id": "3d79b23a",
   "metadata": {},
   "source": [
    "Let's make some variables (symbols)\n",
    "we will import $x$ and $y$ with the assupmtion that ${x, y} \\in \\mathbb{R}$"
   ]
  },
  {
   "cell_type": "code",
   "execution_count": 44,
   "id": "878227f4",
   "metadata": {},
   "outputs": [],
   "source": [
    "x, y = sp.symbols('x, y', real = 'True')"
   ]
  },
  {
   "cell_type": "markdown",
   "id": "4ebfdfd7",
   "metadata": {},
   "source": [
    "Let's make some functions $f$ and $M(x)$"
   ]
  },
  {
   "cell_type": "code",
   "execution_count": 45,
   "id": "0111b22c",
   "metadata": {},
   "outputs": [],
   "source": [
    "f = sp.Function('f')\n",
    "M = sp.Function('M')(x)"
   ]
  },
  {
   "cell_type": "code",
   "execution_count": 46,
   "id": "a689d97c",
   "metadata": {},
   "outputs": [
    {
     "data": {
      "text/latex": [
       "$\\displaystyle f{\\left(x \\right)}$"
      ],
      "text/plain": [
       "f(x)"
      ]
     },
     "metadata": {},
     "output_type": "display_data"
    },
    {
     "data": {
      "text/latex": [
       "$\\displaystyle M{\\left(x \\right)}$"
      ],
      "text/plain": [
       "M(x)"
      ]
     },
     "metadata": {},
     "output_type": "display_data"
    }
   ],
   "source": [
    "display(f(x),M)"
   ]
  },
  {
   "cell_type": "markdown",
   "id": "ae62156d",
   "metadata": {},
   "source": [
    "There is a diiference between an assignment and a equation"
   ]
  },
  {
   "cell_type": "code",
   "execution_count": 47,
   "id": "6920a1da",
   "metadata": {},
   "outputs": [],
   "source": [
    "a, b = sp.symbols('a, b', reat = 'True')"
   ]
  },
  {
   "cell_type": "code",
   "execution_count": 48,
   "id": "6478d3db",
   "metadata": {},
   "outputs": [
    {
     "data": {
      "text/latex": [
       "$\\displaystyle a + b$"
      ],
      "text/plain": [
       "a + b"
      ]
     },
     "metadata": {},
     "output_type": "display_data"
    }
   ],
   "source": [
    "c = a + b\n",
    "display(c)"
   ]
  },
  {
   "cell_type": "code",
   "execution_count": 49,
   "id": "07e89086",
   "metadata": {},
   "outputs": [],
   "source": [
    "a, b, d = sp.symbols('a, b, d', reat = 'True')"
   ]
  },
  {
   "cell_type": "code",
   "execution_count": 50,
   "id": "5882c077",
   "metadata": {},
   "outputs": [
    {
     "data": {
      "text/latex": [
       "$\\displaystyle d = a + b$"
      ],
      "text/plain": [
       "Eq(d, a + b)"
      ]
     },
     "metadata": {},
     "output_type": "display_data"
    }
   ],
   "source": [
    "eq = sp.Eq(d, a + b)\n",
    "display(eq)"
   ]
  },
  {
   "cell_type": "markdown",
   "id": "5b69bccf",
   "metadata": {},
   "source": [
    "You can also substitute variables"
   ]
  },
  {
   "cell_type": "code",
   "execution_count": 51,
   "id": "56e4a9ac",
   "metadata": {},
   "outputs": [
    {
     "data": {
      "text/latex": [
       "$\\displaystyle d + 2$"
      ],
      "text/plain": [
       "d + 2"
      ]
     },
     "metadata": {},
     "output_type": "display_data"
    }
   ],
   "source": [
    "c = c.subs([(a, d), (b, 2)])\n",
    "display(c)"
   ]
  },
  {
   "cell_type": "markdown",
   "id": "a8cf48cd",
   "metadata": {},
   "source": [
    "How to plot?"
   ]
  },
  {
   "cell_type": "code",
   "execution_count": 52,
   "id": "bd88a029",
   "metadata": {},
   "outputs": [],
   "source": [
    "import numpy as np\n",
    "import matplotlib.pyplot as plt"
   ]
  },
  {
   "cell_type": "code",
   "execution_count": 57,
   "id": "5e1185c9",
   "metadata": {},
   "outputs": [],
   "source": [
    "fun = sp.lambdify(d, c, 'numpy')\n",
    "s = np.arange(0,10,1)"
   ]
  },
  {
   "cell_type": "code",
   "execution_count": 58,
   "id": "c086edb5",
   "metadata": {},
   "outputs": [
    {
     "data": {
      "text/plain": [
       "[<matplotlib.lines.Line2D at 0x22342e14e50>]"
      ]
     },
     "execution_count": 58,
     "metadata": {},
     "output_type": "execute_result"
    },
    {
     "data": {
      "image/png": "[encoded data removed]",
      "text/plain": [
       "<Figure size 432x288 with 1 Axes>"
      ]
     },
     "metadata": {
      "needs_background": "light"
     },
     "output_type": "display_data"
    }
   ],
   "source": [
    "plt.plot(s,fun(s))"
   ]
  },
  {
   "cell_type": "code",
   "execution_count": null,
   "id": "701f01b8",
   "metadata": {},
   "outputs": [],
   "source": []
  }
 ],
 "metadata": {
  "kernelspec": {
   "display_name": "Python 3 (ipykernel)",
   "language": "python",
   "name": "python3"
  },
  "language_info": {
   "codemirror_mode": {
    "name": "ipython",
    "version": 3
   },
   "file_extension": ".py",
   "mimetype": "text/x-python",
   "name": "python",
   "nbconvert_exporter": "python",
   "pygments_lexer": "ipython3",
   "version": "3.10.2"
  }
 },
 "nbformat": 4,
 "nbformat_minor": 5
}
