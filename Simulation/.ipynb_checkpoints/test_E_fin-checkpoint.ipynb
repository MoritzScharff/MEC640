{
 "cells": [
  {
   "cell_type": "markdown",
   "id": "fdbbb4bb",
   "metadata": {},
   "source": [
    "# I. Statics"
   ]
  },
  {
   "cell_type": "code",
   "execution_count": 211,
   "id": "3661911e",
   "metadata": {},
   "outputs": [],
   "source": [
    "reset -f"
   ]
  },
  {
   "cell_type": "code",
   "execution_count": 212,
   "id": "dcb1ca09",
   "metadata": {},
   "outputs": [],
   "source": [
    "import sympy as sp\n",
    "import numpy as np\n",
    "import matplotlib.pyplot as plt\n",
    "\n",
    "from IPython.display import Math, Latex"
   ]
  },
  {
   "cell_type": "markdown",
   "id": "2910d2c8",
   "metadata": {},
   "source": [
    "## Define symbolic variables"
   ]
  },
  {
   "cell_type": "code",
   "execution_count": 213,
   "id": "8d9da9f0",
   "metadata": {},
   "outputs": [],
   "source": [
    "r3, r4, E3, E4, w3, w4, h3, h4 = sp.symbols('rho_3, rho_4, E_3, E_4, w_3, w_4, h_3, h_4', real = 'True')\n",
    "Ax, Ay, Az, MAx, MAy, By, x = sp.symbols('A_x, A_y, A_z, M_{Ax}, M_{Ay}, B_y, x', real = 'Ture')\n",
    "g, muD, m1, m2, Lm12, L3, L4 = sp.symbols('g, mu_D. m_1, m_2, Lm12, L3, L4', real = 'True')\n"
   ]
  },
  {
   "cell_type": "markdown",
   "id": "06349dca",
   "metadata": {},
   "source": [
    "## Define applied forces"
   ]
  },
  {
   "cell_type": "code",
   "execution_count": 214,
   "id": "7b90f61f",
   "metadata": {},
   "outputs": [],
   "source": [
    "Fm12 = g*(m1 + m2)\n",
    "FC = By * muD"
   ]
  },
  {
   "cell_type": "code",
   "execution_count": 215,
   "id": "84a16242",
   "metadata": {},
   "outputs": [],
   "source": [
    "def Fg(g, r, w, h, xL, xH):\n",
    "    return sp.integrate(g*r*w*h*x, (x, xL, xH))"
   ]
  },
  {
   "cell_type": "markdown",
   "id": "9729fbe3",
   "metadata": {},
   "source": [
    "## Setup Support reactions"
   ]
  },
  {
   "cell_type": "code",
   "execution_count": 216,
   "id": "13dc2aa6",
   "metadata": {},
   "outputs": [],
   "source": [
    "SRFx = sp.Eq(0, Ax)\n",
    "SRFy = sp.Eq(0, Ay - Fm12 + By - Fg(g, r3, w3, h3, 0, L3) - Fg(g, r4, w4, h4, 0, L4))\n",
    "SRFz = sp.Eq(0, Az - FC)\n",
    "SRMx = sp.Eq(0, MAx + FC*L4 )\n",
    "SRMy = sp.Eq(0, MAy + FC*L3)\n",
    "SRMz = sp.Eq(0, -Fm12*Lm12 + By*L3 - Fg(g, r3, w3, h3, 0, L3)*L3/2 - Fg(g, r4, w4, h4, 0, L4)*L3)"
   ]
  },
  {
   "cell_type": "markdown",
   "id": "fff07d3e",
   "metadata": {},
   "source": [
    "## Solve equation system"
   ]
  },
  {
   "cell_type": "code",
   "execution_count": 217,
   "id": "fa24d7f0",
   "metadata": {},
   "outputs": [],
   "source": [
    "sol = sp.solve([SRFx, SRFy, SRFz, SRMx, SRMy, SRMz], [Ax, Ay, Az, MAx, MAy, By])\n",
    "Ax, Ay, Az, MAx, MAy, By = sol.values()"
   ]
  },
  {
   "cell_type": "markdown",
   "id": "5da45f52",
   "metadata": {},
   "source": [
    "## Setup internal force equilibrium"
   ]
  },
  {
   "cell_type": "code",
   "execution_count": 218,
   "id": "7947ab0f",
   "metadata": {},
   "outputs": [],
   "source": [
    "N1, Qy1, Qz1, Mtx1, Mby1, Mbz1 = sp.symbols('N_1, Q_{y_1}, Q_{z_1}, M_{tx_1}, M_{by_1}, M_{bz_1}', real = 'true')\n",
    "N2, Qy2, Qz2, Mtx2, Mby2, Mbz2 = sp.symbols('N_2, Q_{y_2}, Q_{z_2}, M_{tx_2}, M_{by_2}, M_{bz_2}', real = 'true')\n",
    "N3, Qy3, Qz3, Mtx3, Mby3, Mbz3 = sp.symbols('N_3, Q_{y_3}, Q_{z_3}, M_{tx_3}, M_{by_3}, M_{bz_3}', real = 'true')\n",
    "x31, x32, x4 = sp.symbols('x_{31}, x_{32}, x_4', real = 'True') \n",
    "\n",
    "# 0 < x31 < Lm12 -> \"+\"\n",
    "IFFx1 = sp.Eq(0, N1 + Ax)\n",
    "IFFy1 = sp.Eq(0, Qy1 + Ay - Fg(g, r3, w3, h3, 0, x31))\n",
    "IFFz1 = sp.Eq(0, Qz1 + Az)\n",
    "IFMx1 = sp.Eq(0, Mtx1 + MAx)\n",
    "IFMy1 = sp.Eq(0, Mby1 + MAy + Az*x31)\n",
    "IFMz1 = sp.Eq(0, Mbz1 - Ay*x31 + Fg(g, r3, w3, h3, 0, x31)*x31/2)\n",
    "\n",
    "# Lm12 < x32 < L3 -> \"+\"\n",
    "IFFx2 = sp.Eq(0, N2 + Ax)\n",
    "IFFy2 = sp.Eq(0, Qy2 + Ay - Fm12 - Fg(g, r3, w3, h3, 0, x32))\n",
    "IFFz2 = sp.Eq(0, Qz2 + Az)\n",
    "IFMx2 = sp.Eq(0, Mtx2 + MAx)\n",
    "IFMy2 = sp.Eq(0, Mby2 + MAy + Az*x32)\n",
    "IFMz2 = sp.Eq(0, Mbz2 - Ay*x32 + Fm12*(x32-Lm12) + Fg(g, r3, w3, h3, 0, x32)*x32/2)\n",
    "\n",
    "# 0 < x4 < L4 -> \"-\"\n",
    "IFFx3 = sp.Eq(0, -N3 - By + Fg(g, r4, w4, h4, 0, x4))\n",
    "IFFy3 = sp.Eq(0, -Qy3)\n",
    "IFFz3 = sp.Eq(0, -Qz3 - FC)\n",
    "IFMx3 = sp.Eq(0, -Mtx3)\n",
    "IFMy3 = sp.Eq(0, -Mby3 + FC*(L4-x4))\n",
    "IFMz3 = sp.Eq(0, -Mbz3)"
   ]
  },
  {
   "cell_type": "code",
   "execution_count": 219,
   "id": "72c9665f",
   "metadata": {},
   "outputs": [],
   "source": [
    "sol1 = sp.solve([IFFx1, IFFy1, IFFz1, IFMx1, IFMy1, IFMz1], N1, Qy1, Qz1, Mtx1, Mby1, Mbz1)\n",
    "N1, Qy1, Qz1, Mtx1, Mby1, Mbz1 = sol1.values()\n",
    "\n",
    "sol2 = sp.solve([IFFx2, IFFy2, IFFz2, IFMx2, IFMy2, IFMz2], N2, Qy2, Qz2, Mtx2, Mby2, Mbz2)\n",
    "N2, Qy2, Qz2, Mtx2, Mby2, Mbz2 = sol2.values()\n",
    "\n",
    "sol3 = sp.solve([IFFx3, IFFy3, IFFz3, IFMx3, IFMy3, IFMz3], N3, Qy3, Qz3, Mtx3, Mby3, Mbz3)\n",
    "N3, Qy3, Qz3, Mtx3, Mby3, Mbz3 = sol3.values()"
   ]
  },
  {
   "cell_type": "code",
   "execution_count": 220,
   "id": "65e01344",
   "metadata": {},
   "outputs": [],
   "source": [
    "v31 = sp.Function('v_31')\n",
    "v32 = sp.Function('v_{32}')\n",
    "v4 = sp.Function('v_4')\n",
    "\n",
    "\n",
    "vEq31 = sp.Eq(sp.diff(v31(x31),x31,x31), Mbz1/(E3*w3*h3**3/12))\n",
    "vEq32 = sp.Eq(sp.diff(v32(x32),x32,x32), Mbz2/(E3*w3*h3**3/12))\n",
    "vEq4 = sp.Eq(sp.diff(v4(x4),x4,x4), Mbz3/(E4*w4*h4**3/12))\n",
    "\n",
    "sol_vEq31 = sp.dsolve(vEq31)\n",
    "sol_vEq32 = sp.dsolve(vEq32).subs([('C1', 'C3'), ('C2','C4')])\n",
    "sol_vEq4 = sp.dsolve(vEq4).subs([('C1', 'C5'), ('C2','C6')])"
   ]
  },
  {
   "cell_type": "code",
   "execution_count": 221,
   "id": "b1db7e57",
   "metadata": {},
   "outputs": [
    {
     "data": {
      "text/latex": [
       "$\\displaystyle \\operatorname{v_{31}}{\\left(x_{31} \\right)} = C_{1} + C_{2} x_{31} - \\frac{3 g \\rho_{3} x_{31}^{5}}{20 E_{3} h_{3}^{2}} + \\frac{g x_{31}^{3} \\left(\\frac{L_{3}^{2} \\rho_{3}}{2} + \\frac{2 m_{1}}{h_{3} w_{3}} + \\frac{2 m_{2}}{h_{3} w_{3}} - \\frac{2 Lm_{12} m_{1}}{L_{3} h_{3} w_{3}} - \\frac{2 Lm_{12} m_{2}}{L_{3} h_{3} w_{3}}\\right)}{E_{3} h_{3}^{2}}$"
      ],
      "text/plain": [
       "Eq(v_31(x_{31}), C1 + C2*x_{31} - 3*g*rho_3*x_{31}**5/(20*E_3*h_3**2) + g*x_{31}**3*(L3**2*rho_3/2 + 2*m_1/(h_3*w_3) + 2*m_2/(h_3*w_3) - 2*Lm12*m_1/(L3*h_3*w_3) - 2*Lm12*m_2/(L3*h_3*w_3))/(E_3*h_3**2))"
      ]
     },
     "metadata": {},
     "output_type": "display_data"
    },
    {
     "data": {
      "text/latex": [
       "$\\displaystyle \\operatorname{v_{32}}{\\left(x_{32} \\right)} = C_{3} + C_{4} x_{32} + \\frac{6 Lm_{12} g x_{32}^{2} \\left(m_{1} + m_{2}\\right)}{E_{3} h_{3}^{3} w_{3}} - \\frac{3 g \\rho_{3} x_{32}^{5}}{20 E_{3} h_{3}^{2}} + \\frac{g x_{32}^{3} \\left(\\frac{L_{3}^{2} \\rho_{3}}{2} - \\frac{2 Lm_{12} m_{1}}{L_{3} h_{3} w_{3}} - \\frac{2 Lm_{12} m_{2}}{L_{3} h_{3} w_{3}}\\right)}{E_{3} h_{3}^{2}}$"
      ],
      "text/plain": [
       "Eq(v_{32}(x_{32}), C3 + C4*x_{32} + 6*Lm12*g*x_{32}**2*(m_1 + m_2)/(E_3*h_3**3*w_3) - 3*g*rho_3*x_{32}**5/(20*E_3*h_3**2) + g*x_{32}**3*(L3**2*rho_3/2 - 2*Lm12*m_1/(L3*h_3*w_3) - 2*Lm12*m_2/(L3*h_3*w_3))/(E_3*h_3**2))"
      ]
     },
     "metadata": {},
     "output_type": "display_data"
    },
    {
     "data": {
      "text/latex": [
       "$\\displaystyle \\operatorname{v_{4}}{\\left(x_{4} \\right)} = C_{5} + C_{6} x_{4}$"
      ],
      "text/plain": [
       "Eq(v_4(x_4), C5 + C6*x_4)"
      ]
     },
     "metadata": {},
     "output_type": "display_data"
    }
   ],
   "source": [
    "display(sol_vEq31, sol_vEq32, sol_vEq4)"
   ]
  },
  {
   "cell_type": "code",
   "execution_count": 222,
   "id": "3b3815ad",
   "metadata": {},
   "outputs": [],
   "source": [
    "BC1_v = sp.Eq(0, sol_vEq31.rhs.subs(x31,0))\n",
    "BC2_v = sp.Eq(0, sp.diff(sol_vEq31.rhs, x31).subs(x31,0))\n",
    "BC3_v = sp.Eq(0, sol_vEq31.rhs.subs(x31,Lm12) - sol_vEq32.rhs.subs(x32,Lm12))\n",
    "BC4_v = sp.Eq(0, sp.diff(sol_vEq31.rhs, x31).subs(x31,Lm12) - sp.diff(sol_vEq32.rhs, x32).subs(x32,Lm12))\n"
   ]
  },
  {
   "cell_type": "code",
   "execution_count": 223,
   "id": "27e704d5",
   "metadata": {},
   "outputs": [],
   "source": [
    "sol_BC_v = sp.solve([BC1_v, BC2_v, BC3_v, BC4_v], ['C1', 'C2', 'C3', 'C4'])"
   ]
  },
  {
   "cell_type": "code",
   "execution_count": 224,
   "id": "8a9087a5",
   "metadata": {},
   "outputs": [],
   "source": [
    "C1, C2, C3, C4 = sol_BC_v.values()"
   ]
  },
  {
   "cell_type": "code",
   "execution_count": 225,
   "id": "8767add8",
   "metadata": {},
   "outputs": [],
   "source": [
    "sol_vEq31 = sol_vEq31.subs([('C1', C1), ('C2', C2)])\n",
    "sol_vEq32 = sol_vEq32.subs([('C3', C3), ('C4', C4)])"
   ]
  },
  {
   "cell_type": "code",
   "execution_count": 226,
   "id": "8cb5a51e",
   "metadata": {},
   "outputs": [
    {
     "data": {
      "text/latex": [
       "$\\displaystyle \\operatorname{v_{31}}{\\left(x_{31} \\right)} = - \\frac{3 g \\rho_{3} x_{31}^{5}}{20 E_{3} h_{3}^{2}} + \\frac{g x_{31}^{3} \\left(\\frac{L_{3}^{2} \\rho_{3}}{2} + \\frac{2 m_{1}}{h_{3} w_{3}} + \\frac{2 m_{2}}{h_{3} w_{3}} - \\frac{2 Lm_{12} m_{1}}{L_{3} h_{3} w_{3}} - \\frac{2 Lm_{12} m_{2}}{L_{3} h_{3} w_{3}}\\right)}{E_{3} h_{3}^{2}}$"
      ],
      "text/plain": [
       "Eq(v_31(x_{31}), -3*g*rho_3*x_{31}**5/(20*E_3*h_3**2) + g*x_{31}**3*(L3**2*rho_3/2 + 2*m_1/(h_3*w_3) + 2*m_2/(h_3*w_3) - 2*Lm12*m_1/(L3*h_3*w_3) - 2*Lm12*m_2/(L3*h_3*w_3))/(E_3*h_3**2))"
      ]
     },
     "metadata": {},
     "output_type": "display_data"
    },
    {
     "data": {
      "text/latex": [
       "$\\displaystyle \\operatorname{v_{32}}{\\left(x_{32} \\right)} = \\frac{6 Lm_{12} g x_{32}^{2} \\left(m_{1} + m_{2}\\right)}{E_{3} h_{3}^{3} w_{3}} - \\frac{3 g \\rho_{3} x_{32}^{5}}{20 E_{3} h_{3}^{2}} + \\frac{g x_{32}^{3} \\left(\\frac{L_{3}^{2} \\rho_{3}}{2} - \\frac{2 Lm_{12} m_{1}}{L_{3} h_{3} w_{3}} - \\frac{2 Lm_{12} m_{2}}{L_{3} h_{3} w_{3}}\\right)}{E_{3} h_{3}^{2}} + \\frac{x_{32} \\left(- 6 Lm_{12}^{2} g m_{1} - 6 Lm_{12}^{2} g m_{2}\\right)}{E_{3} h_{3}^{3} w_{3}} + \\frac{2 Lm_{12}^{3} g m_{1} + 2 Lm_{12}^{3} g m_{2}}{E_{3} h_{3}^{3} w_{3}}$"
      ],
      "text/plain": [
       "Eq(v_{32}(x_{32}), 6*Lm12*g*x_{32}**2*(m_1 + m_2)/(E_3*h_3**3*w_3) - 3*g*rho_3*x_{32}**5/(20*E_3*h_3**2) + g*x_{32}**3*(L3**2*rho_3/2 - 2*Lm12*m_1/(L3*h_3*w_3) - 2*Lm12*m_2/(L3*h_3*w_3))/(E_3*h_3**2) + x_{32}*(-6*Lm12**2*g*m_1 - 6*Lm12**2*g*m_2)/(E_3*h_3**3*w_3) + (2*Lm12**3*g*m_1 + 2*Lm12**3*g*m_2)/(E_3*h_3**3*w_3))"
      ]
     },
     "metadata": {},
     "output_type": "display_data"
    }
   ],
   "source": [
    "display(sol_vEq31, sol_vEq32)"
   ]
  },
  {
   "cell_type": "code",
   "execution_count": 227,
   "id": "aadc9a6f",
   "metadata": {},
   "outputs": [],
   "source": [
    "Len1 = 2\n",
    "Lenm12 = 1# np.arange(0,7,1)\n",
    "Len3 = 6\n",
    "Len4 = 4\n",
    "wid3 = 0.3\n",
    "wid4 = 0.3\n",
    "hei3 = 0.4\n",
    "hei4 = 0.4\n",
    "grav = 9.81\n",
    "EM3 = 2.1E+11\n",
    "EM4 = 2.1E+11\n",
    "den3 = 7850\n",
    "den4 = 7850\n",
    "fric = 0.2 \n",
    "mass1 = 1000\n",
    "mass2 = 15000"
   ]
  },
  {
   "cell_type": "code",
   "execution_count": 233,
   "id": "a63c64a2",
   "metadata": {},
   "outputs": [],
   "source": [
    "fun_v31 = sol_vEq31.rhs.subs([(Lm12, Lenm12), (L3, Len3), (L4, Len4), (w3, wid3), (w4, wid4), (h3, hei3), (h4, hei4), (g, grav), (E3, EM3), (E4, EM4), (r3, den3), (r4, den4), (muD, fric), (m1, mass1), (m2, mass2)])\n",
    "fun_v32 = sol_vEq32.rhs.subs([(Lm12, Lenm12), (L3, Len3), (L4, Len4), (w3, wid3), (w4, wid4), (h3, hei3), (h4, hei4), (g, grav), (E3, EM3), (E4, EM4), (r3, den3), (r4, den4), (muD, fric), (m1, mass1), (m2, mass2)])"
   ]
  },
  {
   "cell_type": "code",
   "execution_count": 234,
   "id": "53f0db85",
   "metadata": {},
   "outputs": [],
   "source": [
    "fun1 = sp.lambdify(x31, fun_v31, 'numpy')\n",
    "fun2 = sp.lambdify(x32, fun_v32, 'numpy')\n",
    "s1 = np.linspace(0, Lenm12, 100)\n",
    "s2 = np.linspace(Lenm12, Len3, 100)"
   ]
  },
  {
   "cell_type": "code",
   "execution_count": 236,
   "id": "ae0412d3",
   "metadata": {},
   "outputs": [
    {
     "data": {
      "text/plain": [
       "[<matplotlib.lines.Line2D at 0x24cc3fadba0>]"
      ]
     },
     "execution_count": 236,
     "metadata": {},
     "output_type": "execute_result"
    },
    {
     "data": {
      "image/png": "[encoded data removed]",
      "text/plain": [
       "<Figure size 432x288 with 1 Axes>"
      ]
     },
     "metadata": {
      "needs_background": "light"
     },
     "output_type": "display_data"
    }
   ],
   "source": [
    "plt.plot(s1, fun1(s1))\n",
    "plt.plot(s2,fun2(s2))"
   ]
  },
  {
   "cell_type": "code",
   "execution_count": null,
   "id": "c313f8bb",
   "metadata": {},
   "outputs": [],
   "source": []
  },
  {
   "cell_type": "code",
   "execution_count": null,
   "id": "717b08d7",
   "metadata": {},
   "outputs": [],
   "source": []
  }
 ],
 "metadata": {
  "kernelspec": {
   "display_name": "Python 3 (ipykernel)",
   "language": "python",
   "name": "python3"
  },
  "language_info": {
   "codemirror_mode": {
    "name": "ipython",
    "version": 3
   },
   "file_extension": ".py",
   "mimetype": "text/x-python",
   "name": "python",
   "nbconvert_exporter": "python",
   "pygments_lexer": "ipython3",
   "version": "3.10.2"
  }
 },
 "nbformat": 4,
 "nbformat_minor": 5
}
