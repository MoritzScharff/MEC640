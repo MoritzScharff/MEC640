{
 "cells": [
  {
   "cell_type": "markdown",
   "id": "fdbbb4bb",
   "metadata": {},
   "source": [
    "# E6.A - Task"
   ]
  },
  {
   "cell_type": "code",
   "execution_count": 66,
   "id": "3661911e",
   "metadata": {},
   "outputs": [],
   "source": [
    "reset -f"
   ]
  },
  {
   "cell_type": "code",
   "execution_count": 67,
   "id": "dcb1ca09",
   "metadata": {},
   "outputs": [],
   "source": [
    "import sympy as sp\n",
    "import numpy as np\n",
    "import matplotlib.pyplot as plt\n",
    "\n",
    "from IPython.display import Math, Latex"
   ]
  },
  {
   "cell_type": "markdown",
   "id": "2910d2c8",
   "metadata": {},
   "source": [
    "## Define symbolic variables"
   ]
  },
  {
   "cell_type": "code",
   "execution_count": 68,
   "id": "9a2e485c",
   "metadata": {},
   "outputs": [],
   "source": [
    "L, F, x, Ay, Bx, By, E, Iz  = sp.symbols('L, F, x, Ay, Bx, By, E, Iz', real = 'True')\n",
    "Mbz = sp.Function('M_{bz}')\n",
    "v = sp.Function('v')\n"
   ]
  },
  {
   "cell_type": "code",
   "execution_count": 69,
   "id": "7fbb49f5",
   "metadata": {},
   "outputs": [],
   "source": [
    "eq = sp.Eq(0, -Mbz(x) - By*(L-x) - F*v(x))"
   ]
  },
  {
   "cell_type": "code",
   "execution_count": 70,
   "id": "3b100c59",
   "metadata": {},
   "outputs": [
    {
     "data": {
      "text/latex": [
       "$\\displaystyle - By L + By x - F v{\\left(x \\right)}$"
      ],
      "text/plain": [
       "-By*L + By*x - F*v(x)"
      ]
     },
     "execution_count": 70,
     "metadata": {},
     "output_type": "execute_result"
    }
   ],
   "source": [
    "sol = sp.solve(eq, Mbz(x))\n",
    "Mbz = sol[0]\n",
    "Mbz\n"
   ]
  },
  {
   "cell_type": "code",
   "execution_count": 71,
   "id": "d08013ca",
   "metadata": {},
   "outputs": [
    {
     "data": {
      "text/latex": [
       "$\\displaystyle \\frac{d^{2}}{d x^{2}} v{\\left(x \\right)} = \\frac{- By L + By x - F v{\\left(x \\right)}}{E Iz}$"
      ],
      "text/plain": [
       "Eq(Derivative(v(x), (x, 2)), (-By*L + By*x - F*v(x))/(E*Iz))"
      ]
     },
     "metadata": {},
     "output_type": "display_data"
    }
   ],
   "source": [
    "DefEq = sp.Eq(sp.Derivative(v(x),x,x), Mbz/(E*Iz)) \n",
    "display(DefEq)"
   ]
  },
  {
   "cell_type": "markdown",
   "id": "f1fab288",
   "metadata": {},
   "source": [
    "classifying the equation:\n",
    "* ordinary \n",
    "* linear\n",
    "* second orden\n",
    "* inhomogeneous\n",
    "* constant coefficients\n",
    "\n",
    "we need an ODE solver-> sp.dsolve()"
   ]
  },
  {
   "cell_type": "code",
   "execution_count": 72,
   "id": "3885b581",
   "metadata": {},
   "outputs": [],
   "source": [
    "sol = sp.dsolve(DefEq)\n",
    "v = sol.rhs\n",
    "dvdx = sp.diff(sol.rhs, x)\n",
    "ddvddx = sp.diff(sol.rhs, x, x)"
   ]
  },
  {
   "cell_type": "code",
   "execution_count": 73,
   "id": "236dfe71",
   "metadata": {},
   "outputs": [
    {
     "data": {
      "text/latex": [
       "$\\displaystyle 0 = - \\frac{By L}{F} + C_{1} + C_{2}$"
      ],
      "text/plain": [
       "Eq(0, -By*L/F + C1 + C2)"
      ]
     },
     "metadata": {},
     "output_type": "display_data"
    },
    {
     "data": {
      "text/latex": [
       "$\\displaystyle 0 = C_{1} e^{- L \\sqrt{- \\frac{F}{E Iz}}} + C_{2} e^{L \\sqrt{- \\frac{F}{E Iz}}}$"
      ],
      "text/plain": [
       "Eq(0, C1*exp(-L*sqrt(-F/(E*Iz))) + C2*exp(L*sqrt(-F/(E*Iz))))"
      ]
     },
     "metadata": {},
     "output_type": "display_data"
    },
    {
     "data": {
      "text/latex": [
       "$\\displaystyle 0 = - \\frac{F \\left(C_{1} e^{- L \\sqrt{- \\frac{F}{E Iz}}} + C_{2} e^{L \\sqrt{- \\frac{F}{E Iz}}}\\right)}{E Iz}$"
      ],
      "text/plain": [
       "Eq(0, -F*(C1*exp(-L*sqrt(-F/(E*Iz))) + C2*exp(L*sqrt(-F/(E*Iz))))/(E*Iz))"
      ]
     },
     "metadata": {},
     "output_type": "display_data"
    }
   ],
   "source": [
    "BC1 = sp.Eq(0, v.subs(x,0))\n",
    "BC2 = sp.Eq(0, v.subs(x, L))\n",
    "BC3 = sp.Eq(0, ddvddx.subs(x, L))\n",
    "\n",
    "display(BC1)\n",
    "display(BC2)\n",
    "display(BC3)"
   ]
  },
  {
   "cell_type": "code",
   "execution_count": 77,
   "id": "d0d37a35",
   "metadata": {},
   "outputs": [
    {
     "data": {
      "text/latex": [
       "$\\displaystyle \\left[\\begin{matrix}1 & 1 & - \\frac{L}{F}\\\\e^{- L \\sqrt{- \\frac{F}{E Iz}}} & e^{L \\sqrt{- \\frac{F}{E Iz}}} & 0\\end{matrix}\\right]$"
      ],
      "text/plain": [
       "Matrix([\n",
       "[                      1,                      1, -L/F],\n",
       "[exp(-L*sqrt(-F/(E*Iz))), exp(L*sqrt(-F/(E*Iz))),    0]])"
      ]
     },
     "execution_count": 77,
     "metadata": {},
     "output_type": "execute_result"
    }
   ],
   "source": [
    "CoeffMat = sp.Matrix([[BC1.rhs.coeff('C1'), BC1.rhs.coeff('C2'), BC1.rhs.coeff(By)],\n",
    "                      [BC2.rhs.coeff('C1'), BC2.rhs.coeff('C2'), BC2.rhs.coeff(By)]])\n",
    "CoeffMat"
   ]
  },
  {
   "cell_type": "code",
   "execution_count": 78,
   "id": "6e6d2bd2",
   "metadata": {},
   "outputs": [
    {
     "ename": "NonSquareMatrixError",
     "evalue": "",
     "output_type": "error",
     "traceback": [
      "\u001b[1;31m---------------------------------------------------------------------------\u001b[0m",
      "\u001b[1;31mNonSquareMatrixError\u001b[0m                      Traceback (most recent call last)",
      "Input \u001b[1;32mIn [78]\u001b[0m, in \u001b[0;36m<cell line: 1>\u001b[1;34m()\u001b[0m\n\u001b[1;32m----> 1\u001b[0m EvEq \u001b[38;5;241m=\u001b[39m sp\u001b[38;5;241m.\u001b[39mEq(\u001b[38;5;241m0\u001b[39m, \u001b[43mCoeffMat\u001b[49m\u001b[38;5;241;43m.\u001b[39;49m\u001b[43mdet\u001b[49m\u001b[43m(\u001b[49m\u001b[43m)\u001b[49m)\n\u001b[0;32m      2\u001b[0m sp\u001b[38;5;241m.\u001b[39msimplify(EvEq)\n",
      "File \u001b[1;32m~\\AppData\\Local\\Programs\\Python\\Python310\\lib\\site-packages\\sympy\\matrices\\matrices.py:131\u001b[0m, in \u001b[0;36mMatrixDeterminant.det\u001b[1;34m(self, method, iszerofunc)\u001b[0m\n\u001b[0;32m    130\u001b[0m \u001b[38;5;28;01mdef\u001b[39;00m \u001b[38;5;21mdet\u001b[39m(\u001b[38;5;28mself\u001b[39m, method\u001b[38;5;241m=\u001b[39m\u001b[38;5;124m\"\u001b[39m\u001b[38;5;124mbareiss\u001b[39m\u001b[38;5;124m\"\u001b[39m, iszerofunc\u001b[38;5;241m=\u001b[39m\u001b[38;5;28;01mNone\u001b[39;00m):\n\u001b[1;32m--> 131\u001b[0m     \u001b[38;5;28;01mreturn\u001b[39;00m \u001b[43m_det\u001b[49m\u001b[43m(\u001b[49m\u001b[38;5;28;43mself\u001b[39;49m\u001b[43m,\u001b[49m\u001b[43m \u001b[49m\u001b[43mmethod\u001b[49m\u001b[38;5;241;43m=\u001b[39;49m\u001b[43mmethod\u001b[49m\u001b[43m,\u001b[49m\u001b[43m \u001b[49m\u001b[43miszerofunc\u001b[49m\u001b[38;5;241;43m=\u001b[39;49m\u001b[43miszerofunc\u001b[49m\u001b[43m)\u001b[49m\n",
      "File \u001b[1;32m~\\AppData\\Local\\Programs\\Python\\Python310\\lib\\site-packages\\sympy\\matrices\\determinant.py:666\u001b[0m, in \u001b[0;36m_det\u001b[1;34m(M, method, iszerofunc)\u001b[0m\n\u001b[0;32m    663\u001b[0m         \u001b[38;5;28;01mreturn\u001b[39;00m _get_intermediate_simp(_dotprodsimp)(m)\n\u001b[0;32m    665\u001b[0m dets \u001b[38;5;241m=\u001b[39m []\n\u001b[1;32m--> 666\u001b[0m \u001b[38;5;28;01mfor\u001b[39;00m b \u001b[38;5;129;01min\u001b[39;00m \u001b[43mM\u001b[49m\u001b[38;5;241;43m.\u001b[39;49m\u001b[43mstrongly_connected_components\u001b[49m\u001b[43m(\u001b[49m\u001b[43m)\u001b[49m:\n\u001b[0;32m    667\u001b[0m     \u001b[38;5;28;01mif\u001b[39;00m method \u001b[38;5;241m==\u001b[39m \u001b[38;5;124m\"\u001b[39m\u001b[38;5;124mdomain-ge\u001b[39m\u001b[38;5;124m\"\u001b[39m: \u001b[38;5;66;03m# uses DomainMatrix to evalute determinant\u001b[39;00m\n\u001b[0;32m    668\u001b[0m         det \u001b[38;5;241m=\u001b[39m _det_DOM(M[b, b])\n",
      "File \u001b[1;32m~\\AppData\\Local\\Programs\\Python\\Python310\\lib\\site-packages\\sympy\\matrices\\matrices.py:2233\u001b[0m, in \u001b[0;36mMatrixBase.strongly_connected_components\u001b[1;34m(self)\u001b[0m\n\u001b[0;32m   2232\u001b[0m \u001b[38;5;28;01mdef\u001b[39;00m \u001b[38;5;21mstrongly_connected_components\u001b[39m(\u001b[38;5;28mself\u001b[39m):\n\u001b[1;32m-> 2233\u001b[0m     \u001b[38;5;28;01mreturn\u001b[39;00m \u001b[43m_strongly_connected_components\u001b[49m\u001b[43m(\u001b[49m\u001b[38;5;28;43mself\u001b[39;49m\u001b[43m)\u001b[49m\n",
      "File \u001b[1;32m~\\AppData\\Local\\Programs\\Python\\Python310\\lib\\site-packages\\sympy\\matrices\\graph.py:65\u001b[0m, in \u001b[0;36m_strongly_connected_components\u001b[1;34m(M)\u001b[0m\n\u001b[0;32m     44\u001b[0m \u001b[38;5;124;03m\"\"\"Returns the list of strongly connected vertices of the graph when\u001b[39;00m\n\u001b[0;32m     45\u001b[0m \u001b[38;5;124;03ma square matrix is viewed as a weighted graph.\u001b[39;00m\n\u001b[0;32m     46\u001b[0m \n\u001b[1;32m   (...)\u001b[0m\n\u001b[0;32m     62\u001b[0m \u001b[38;5;124;03m[[0, 4, 6], [2, 3, 7], [1, 5, 8]]\u001b[39;00m\n\u001b[0;32m     63\u001b[0m \u001b[38;5;124;03m\"\"\"\u001b[39;00m\n\u001b[0;32m     64\u001b[0m \u001b[38;5;28;01mif\u001b[39;00m \u001b[38;5;129;01mnot\u001b[39;00m M\u001b[38;5;241m.\u001b[39mis_square:\n\u001b[1;32m---> 65\u001b[0m     \u001b[38;5;28;01mraise\u001b[39;00m NonSquareMatrixError\n\u001b[0;32m     67\u001b[0m \u001b[38;5;66;03m# RepMatrix uses the more efficient DomainMatrix.scc() method\u001b[39;00m\n\u001b[0;32m     68\u001b[0m rep \u001b[38;5;241m=\u001b[39m \u001b[38;5;28mgetattr\u001b[39m(M, \u001b[38;5;124m'\u001b[39m\u001b[38;5;124m_rep\u001b[39m\u001b[38;5;124m'\u001b[39m, \u001b[38;5;28;01mNone\u001b[39;00m)\n",
      "\u001b[1;31mNonSquareMatrixError\u001b[0m: "
     ]
    }
   ],
   "source": [
    "EvEq = sp.Eq(0, CoeffMat.det())\n",
    "sp.simplify(EvEq)"
   ]
  },
  {
   "cell_type": "code",
   "execution_count": 76,
   "id": "e875c76c",
   "metadata": {},
   "outputs": [
    {
     "data": {
      "text/latex": [
       "$\\displaystyle 0$"
      ],
      "text/plain": [
       "0"
      ]
     },
     "execution_count": 76,
     "metadata": {},
     "output_type": "execute_result"
    }
   ],
   "source": [
    "CoeffMat.det()"
   ]
  },
  {
   "cell_type": "code",
   "execution_count": null,
   "id": "e41c7316",
   "metadata": {},
   "outputs": [],
   "source": []
  }
 ],
 "metadata": {
  "kernelspec": {
   "display_name": "Python 3 (ipykernel)",
   "language": "python",
   "name": "python3"
  },
  "language_info": {
   "codemirror_mode": {
    "name": "ipython",
    "version": 3
   },
   "file_extension": ".py",
   "mimetype": "text/x-python",
   "name": "python",
   "nbconvert_exporter": "python",
   "pygments_lexer": "ipython3",
   "version": "3.10.2"
  }
 },
 "nbformat": 4,
 "nbformat_minor": 5
}
