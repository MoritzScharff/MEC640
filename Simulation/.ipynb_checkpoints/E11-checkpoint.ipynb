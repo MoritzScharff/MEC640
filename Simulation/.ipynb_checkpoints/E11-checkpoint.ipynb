{
 "cells": [
  {
   "cell_type": "markdown",
   "id": "fdbbb4bb",
   "metadata": {},
   "source": [
    "# II. Dynamics"
   ]
  },
  {
   "cell_type": "code",
   "execution_count": 444,
   "id": "3661911e",
   "metadata": {},
   "outputs": [],
   "source": [
    "reset -f"
   ]
  },
  {
   "cell_type": "code",
   "execution_count": 445,
   "id": "dcb1ca09",
   "metadata": {},
   "outputs": [],
   "source": [
    "import sympy as sp\n",
    "import numpy as np\n",
    "import matplotlib.pyplot as plt\n",
    "\n",
    "from IPython.display import Math, Latex"
   ]
  },
  {
   "cell_type": "markdown",
   "id": "87ee33fc",
   "metadata": {},
   "source": [
    "* $m_1$ - mass point 1\n",
    "* $m_2$ - mass point 2\n",
    "* $c_1$ - spring stiffness 1\n",
    "* $c_2$ - spring stiffness 2\n",
    "* $k_1$ - damping coefficient 1\n",
    "* $k_2$ - damping coefficient 2\n",
    "* $\\lambda_{01}$ - initial length of spring 1\n",
    "* $\\lambda_{02}$ - initial length of spring 2\n",
    "* $g$ - gravity"
   ]
  },
  {
   "cell_type": "markdown",
   "id": "2910d2c8",
   "metadata": {},
   "source": [
    "## Define symbolic variables"
   ]
  },
  {
   "cell_type": "code",
   "execution_count": 446,
   "id": "642dbc9e",
   "metadata": {},
   "outputs": [],
   "source": [
    "t, m1, m2, c1, c2, k1, k2, g, lam01, lam02 = sp.symbols('t, m_1, m_2, c_1, c_2, k_1, k_2, g, \\lambda_{01}, \\lambda_{02}', real = 'True')\n",
    "x1 = sp.Function('x_1')\n",
    "x2 = sp.Function('x_2', real='True', positive='True')\n",
    "f = sp.Function('f')"
   ]
  },
  {
   "cell_type": "markdown",
   "id": "27bf0a11",
   "metadata": {},
   "source": [
    "## Position vector"
   ]
  },
  {
   "cell_type": "code",
   "execution_count": 447,
   "id": "ae12c717",
   "metadata": {},
   "outputs": [],
   "source": [
    "from sympy.vector import CoordSys3D\n",
    "\n",
    "C = CoordSys3D('C')\n",
    "\n",
    "rm1 = x1(t)*C.i + 0*C.j + 0*C.k\n",
    "drm1 = sp.diff(rm1, t)\n",
    "absdrm1 = sp.sqrt(drm1.dot(drm1))\n",
    "\n",
    "\n",
    "rm2 = x2(t)*C.i + 0*C.j + 0*C.k\n",
    "drm2 = sp.diff(rm2, t)\n",
    "absdrm2 = sp.sqrt(drm2.dot(drm2)).simplify()"
   ]
  },
  {
   "cell_type": "markdown",
   "id": "b2788e0f",
   "metadata": {},
   "source": [
    "## Equation of motion\n",
    "using Lagrange's equation of second kind"
   ]
  },
  {
   "cell_type": "markdown",
   "id": "527d1626",
   "metadata": {},
   "source": [
    "### Kinetic Energy"
   ]
  },
  {
   "cell_type": "code",
   "execution_count": 448,
   "id": "6ba4bbec",
   "metadata": {},
   "outputs": [],
   "source": [
    "T = m1/2*absdrm1**2 +m2/2*absdrm2**2"
   ]
  },
  {
   "cell_type": "markdown",
   "id": "a1efd191",
   "metadata": {},
   "source": [
    "### Potential Energy"
   ]
  },
  {
   "cell_type": "code",
   "execution_count": 449,
   "id": "a3577ce2",
   "metadata": {},
   "outputs": [],
   "source": [
    "U = 1/2*c1*(x1(t)-lam01)**2 + 1/2*c2*(x2(t)-x1(t)-lam02)**2"
   ]
  },
  {
   "cell_type": "markdown",
   "id": "18d0753d",
   "metadata": {},
   "source": [
    "### Dissipation Function"
   ]
  },
  {
   "cell_type": "code",
   "execution_count": 450,
   "id": "9c06f17d",
   "metadata": {},
   "outputs": [],
   "source": [
    "d = 1/2*k1*absdrm1**2 + 1/2*k2*absdrm2**2"
   ]
  },
  {
   "cell_type": "markdown",
   "id": "348450df",
   "metadata": {},
   "source": [
    "### General Force"
   ]
  },
  {
   "cell_type": "code",
   "execution_count": 451,
   "id": "f7b19cf0",
   "metadata": {},
   "outputs": [],
   "source": [
    "F = f(t)\n",
    "F = 0"
   ]
  },
  {
   "cell_type": "markdown",
   "id": "d3661188",
   "metadata": {},
   "source": [
    "### Lagrangian"
   ]
  },
  {
   "cell_type": "code",
   "execution_count": 452,
   "id": "9468f82d",
   "metadata": {},
   "outputs": [],
   "source": [
    "L = T - U"
   ]
  },
  {
   "cell_type": "markdown",
   "id": "9dab1032",
   "metadata": {},
   "source": [
    "### Equation of motion\n",
    "$\\left(\\frac{\\partial L}{\\partial \\dot{q}(t)} \\right)^{\\cdot} - \\frac{\\partial L}{\\partial q(t)} = - \\frac{\\partial d}{\\partial \\dot{q}(t)} + F \\frac{\\partial r_F}{\\partial q(t)}$"
   ]
  },
  {
   "cell_type": "code",
   "execution_count": 453,
   "id": "651d9003",
   "metadata": {},
   "outputs": [
    {
     "data": {
      "text/latex": [
       "$\\displaystyle - 1.0 c_{1} \\left(\\lambda_{01} - \\operatorname{x_{1}}{\\left(t \\right)}\\right) + c_{2} \\left(\\lambda_{02} + \\operatorname{x_{1}}{\\left(t \\right)} - \\operatorname{x_{2}}{\\left(t \\right)}\\right) + 1.0 k_{1} \\frac{d}{d t} \\operatorname{x_{1}}{\\left(t \\right)} + m_{1} \\frac{d^{2}}{d t^{2}} \\operatorname{x_{1}}{\\left(t \\right)} = 0$"
      ],
      "text/plain": [
       "Eq(-1.0*c_1*(\\lambda_{01} - x_1(t)) + c_2*(\\lambda_{02} + x_1(t) - x_2(t)) + 1.0*k_1*Derivative(x_1(t), t) + m_1*Derivative(x_1(t), (t, 2)), 0)"
      ]
     },
     "metadata": {},
     "output_type": "display_data"
    }
   ],
   "source": [
    "q = x1\n",
    "EqMo1 = sp.Eq(sp.diff(sp.diff(L, sp.diff(q(t),t)),t) - sp.diff(L, q(t)) +  sp.diff(d, sp.diff(q(t),t)) - F*sp.diff(rm2.components[C.i],q(t)), 0)\n",
    "display(EqMo1.simplify())"
   ]
  },
  {
   "cell_type": "code",
   "execution_count": 454,
   "id": "57769010",
   "metadata": {},
   "outputs": [
    {
     "data": {
      "text/latex": [
       "$\\displaystyle - 1.0 c_{2} \\left(\\lambda_{02} + \\operatorname{x_{1}}{\\left(t \\right)} - \\operatorname{x_{2}}{\\left(t \\right)}\\right) + 1.0 k_{2} \\frac{d}{d t} \\operatorname{x_{2}}{\\left(t \\right)} + m_{2} \\frac{d^{2}}{d t^{2}} \\operatorname{x_{2}}{\\left(t \\right)} = 0$"
      ],
      "text/plain": [
       "Eq(-1.0*c_2*(\\lambda_{02} + x_1(t) - x_2(t)) + 1.0*k_2*Derivative(x_2(t), t) + m_2*Derivative(x_2(t), (t, 2)), 0)"
      ]
     },
     "metadata": {},
     "output_type": "display_data"
    }
   ],
   "source": [
    "q = x2\n",
    "EqMo2 = sp.Eq(sp.diff(sp.diff(L, sp.diff(q(t),t)),t) - sp.diff(L, q(t)) +  sp.diff(d, sp.diff(q(t),t)) - F*sp.diff(rm2.components[C.i],q(t)), 0)\n",
    "display(EqMo2.simplify())"
   ]
  },
  {
   "cell_type": "markdown",
   "id": "cbdfdc42",
   "metadata": {},
   "source": [
    "## System parameters"
   ]
  },
  {
   "cell_type": "code",
   "execution_count": 455,
   "id": "93d60e99",
   "metadata": {},
   "outputs": [
    {
     "data": {
      "text/latex": [
       "$\\displaystyle - 1.0 \\lambda_{01} c_{1} + 1.0 \\lambda_{02} c_{2} + 1.0 c_{1} \\operatorname{x_{1}}{\\left(t \\right)} + 1.0 c_{2} \\operatorname{x_{1}}{\\left(t \\right)} - 1.0 c_{2} \\operatorname{x_{2}}{\\left(t \\right)} + 1.0 k_{1} \\frac{d}{d t} \\operatorname{x_{1}}{\\left(t \\right)} + m_{1} \\frac{d^{2}}{d t^{2}} \\operatorname{x_{1}}{\\left(t \\right)}$"
      ],
      "text/plain": [
       "-1.0*\\lambda_{01}*c_1 + 1.0*\\lambda_{02}*c_2 + 1.0*c_1*x_1(t) + 1.0*c_2*x_1(t) - 1.0*c_2*x_2(t) + 1.0*k_1*Derivative(x_1(t), t) + m_1*Derivative(x_1(t), (t, 2))"
      ]
     },
     "metadata": {},
     "output_type": "display_data"
    },
    {
     "data": {
      "text/latex": [
       "$\\displaystyle - 1.0 \\lambda_{02} c_{2} - 1.0 c_{2} \\operatorname{x_{1}}{\\left(t \\right)} + 1.0 c_{2} \\operatorname{x_{2}}{\\left(t \\right)} + 1.0 k_{2} \\frac{d}{d t} \\operatorname{x_{2}}{\\left(t \\right)} + m_{2} \\frac{d^{2}}{d t^{2}} \\operatorname{x_{2}}{\\left(t \\right)}$"
      ],
      "text/plain": [
       "-1.0*\\lambda_{02}*c_2 - 1.0*c_2*x_1(t) + 1.0*c_2*x_2(t) + 1.0*k_2*Derivative(x_2(t), t) + m_2*Derivative(x_2(t), (t, 2))"
      ]
     },
     "metadata": {},
     "output_type": "display_data"
    }
   ],
   "source": [
    "EqMo1 = EqMo1.lhs.expand()\n",
    "EqMo2 = EqMo2.lhs.expand()\n",
    "display(EqMo1, EqMo2)"
   ]
  },
  {
   "cell_type": "code",
   "execution_count": 456,
   "id": "b48e8c22",
   "metadata": {},
   "outputs": [
    {
     "data": {
      "text/latex": [
       "$\\displaystyle \\left[\\begin{matrix}m_{1} & 0\\\\0 & m_{2}\\end{matrix}\\right]$"
      ],
      "text/plain": [
       "Matrix([\n",
       "[m_1,   0],\n",
       "[  0, m_2]])"
      ]
     },
     "execution_count": 456,
     "metadata": {},
     "output_type": "execute_result"
    }
   ],
   "source": [
    "M = sp.Matrix([[EqMo1.coeff(sp.diff(x1(t),t,t)), EqMo1.coeff(sp.diff(x2(t),t,t))],\n",
    "               [EqMo2.coeff(sp.diff(x1(t),t,t)), EqMo2.coeff(sp.diff(x2(t),t,t))]])\n",
    "M"
   ]
  },
  {
   "cell_type": "code",
   "execution_count": 457,
   "id": "ea8c3569",
   "metadata": {},
   "outputs": [
    {
     "data": {
      "text/latex": [
       "$\\displaystyle \\left[\\begin{matrix}- 1.0 \\lambda_{01} c_{1} + 1.0 \\lambda_{02} c_{2} + 1.0 c_{1} \\operatorname{x_{1}}{\\left(t \\right)} + 1.0 c_{2} \\operatorname{x_{1}}{\\left(t \\right)} - 1.0 c_{2} \\operatorname{x_{2}}{\\left(t \\right)} + 1.0 k_{1} \\frac{d}{d t} \\operatorname{x_{1}}{\\left(t \\right)}\\\\- 1.0 \\lambda_{02} c_{2} - 1.0 c_{2} \\operatorname{x_{1}}{\\left(t \\right)} + 1.0 c_{2} \\operatorname{x_{2}}{\\left(t \\right)} + 1.0 k_{2} \\frac{d}{d t} \\operatorname{x_{2}}{\\left(t \\right)}\\end{matrix}\\right]$"
      ],
      "text/plain": [
       "Matrix([\n",
       "[-1.0*\\lambda_{01}*c_1 + 1.0*\\lambda_{02}*c_2 + 1.0*c_1*x_1(t) + 1.0*c_2*x_1(t) - 1.0*c_2*x_2(t) + 1.0*k_1*Derivative(x_1(t), t)],\n",
       "[                                        -1.0*\\lambda_{02}*c_2 - 1.0*c_2*x_1(t) + 1.0*c_2*x_2(t) + 1.0*k_2*Derivative(x_2(t), t)]])"
      ]
     },
     "execution_count": 457,
     "metadata": {},
     "output_type": "execute_result"
    }
   ],
   "source": [
    "G = sp.Matrix([[EqMo1.subs([(sp.diff(x1(t),t,t), 0),(sp.diff(x2(t),t,t), 0)])],\n",
    "              [EqMo2.subs([(sp.diff(x1(t),t,t), 0),(sp.diff(x2(t),t,t), 0)])]])\n",
    "G   "
   ]
  },
  {
   "cell_type": "code",
   "execution_count": 458,
   "id": "de251a87",
   "metadata": {},
   "outputs": [
    {
     "data": {
      "text/latex": [
       "$\\displaystyle \\left[\\begin{matrix}- \\frac{- 1.0 \\lambda_{01} c_{1} + 1.0 \\lambda_{02} c_{2} + 1.0 c_{1} \\operatorname{x_{1}}{\\left(t \\right)} + 1.0 c_{2} \\operatorname{x_{1}}{\\left(t \\right)} - 1.0 c_{2} \\operatorname{x_{2}}{\\left(t \\right)} + 1.0 k_{1} \\frac{d}{d t} \\operatorname{x_{1}}{\\left(t \\right)}}{m_{1}}\\\\- \\frac{- 1.0 \\lambda_{02} c_{2} - 1.0 c_{2} \\operatorname{x_{1}}{\\left(t \\right)} + 1.0 c_{2} \\operatorname{x_{2}}{\\left(t \\right)} + 1.0 k_{2} \\frac{d}{d t} \\operatorname{x_{2}}{\\left(t \\right)}}{m_{2}}\\end{matrix}\\right]$"
      ],
      "text/plain": [
       "Matrix([\n",
       "[-(-1.0*\\lambda_{01}*c_1 + 1.0*\\lambda_{02}*c_2 + 1.0*c_1*x_1(t) + 1.0*c_2*x_1(t) - 1.0*c_2*x_2(t) + 1.0*k_1*Derivative(x_1(t), t))/m_1],\n",
       "[                                        -(-1.0*\\lambda_{02}*c_2 - 1.0*c_2*x_1(t) + 1.0*c_2*x_2(t) + 1.0*k_2*Derivative(x_2(t), t))/m_2]])"
      ]
     },
     "execution_count": 458,
     "metadata": {},
     "output_type": "execute_result"
    }
   ],
   "source": [
    "MaVecNot = -M.inv() * G\n",
    "MaVecNot"
   ]
  },
  {
   "cell_type": "markdown",
   "id": "b0e303ef",
   "metadata": {},
   "source": [
    "## Setup system of nonlinear ODEs of first order"
   ]
  },
  {
   "cell_type": "code",
   "execution_count": 488,
   "id": "386a03df",
   "metadata": {},
   "outputs": [
    {
     "data": {
      "text/latex": [
       "$\\displaystyle \\left[\\begin{matrix}- 48.0 X_{1} + 40.0 X_{2} - 0.8 dX_{1} - 36.0\\\\26.6666666666667 X_{1} - 26.6666666666667 X_{2} - 0.333333333333333 dX_{2} + 26.6666666666667\\end{matrix}\\right]$"
      ],
      "text/plain": [
       "Matrix([\n",
       "[                                                 -48.0*X1 + 40.0*X2 - 0.8*dX1 - 36.0],\n",
       "[26.6666666666667*X1 - 26.6666666666667*X2 - 0.333333333333333*dX2 + 26.6666666666667]])"
      ]
     },
     "execution_count": 488,
     "metadata": {},
     "output_type": "execute_result"
    }
   ],
   "source": [
    "stiff1 = 8\n",
    "stiff2 = 40\n",
    "damp1 = 0.8\n",
    "damp2 = 0.5\n",
    "mass1 = 1\n",
    "mass2 = 1.5\n",
    "L01 = 0.5\n",
    "L02 = 1.0\n",
    "\n",
    "MaVecNotNum = MaVecNot.subs([(m1, mass1), (m2, mass2), (c1, stiff1), (c2, stiff2), (k1, damp1), (k2, damp2), (lam01, L01), (lam02, L02)])\n",
    "\n",
    "X1, dX1, X2, dX2 = sp.symbols('X1, dX1, X2, dX2')\n",
    "MaVecNotNum = MaVecNotNum.subs([(sp.diff(x1(t),t), dX1), (sp.diff(x2(t),t), dX2), (x1(t), X1), (x2(t), X2)])\n",
    "\n",
    "\n",
    "MaVecNotNum"
   ]
  },
  {
   "cell_type": "code",
   "execution_count": 489,
   "id": "93e0d44a",
   "metadata": {},
   "outputs": [],
   "source": [
    "fun1 = sp.lambdify((X1, dX1, X2, dX2), MaVecNotNum[0], 'numpy')\n",
    "fun2 = sp.lambdify((X1, dX1, X2, dX2), MaVecNotNum[1], 'numpy')\n"
   ]
  },
  {
   "cell_type": "code",
   "execution_count": 509,
   "id": "9502d772",
   "metadata": {},
   "outputs": [],
   "source": [
    "temp1 = sp.Eq(EqMo1,0)\n",
    "temp1 = sp.solve(temp1, sp.diff(x1(t),t,t))\n",
    "temp1 = temp1[0]\n",
    "temp1 = temp1.subs([(m1, mass1), (m2, mass2), (c1, stiff1), (c2, stiff2), (k1, damp1), (k2, damp2), (lam01, L01), (lam02, L02)])\n",
    "temp1 = temp1.subs([(sp.diff(x1(t),t), dX1), (sp.diff(x2(t),t), dX2), (x1(t), X1), (x2(t), X2)])\n",
    "temp1\n",
    "fun11 = sp.lambdify((X1, dX1, X2, dX2), temp1, 'numpy')\n",
    "\n",
    "\n",
    "temp2 = sp.Eq(EqMo2,0)\n",
    "temp2 = sp.solve(temp2, sp.diff(x2(t),t,t))\n",
    "temp2 = temp2[0]\n",
    "temp2 = temp2.subs([(m1, mass1), (m2, mass2), (c1, stiff1), (c2, stiff2), (k1, damp1), (k2, damp2), (lam01, L01), (lam02, L02)])\n",
    "temp2 = temp2.subs([(sp.diff(x1(t),t), dX1), (sp.diff(x2(t),t), dX2), (x1(t), X1), (x2(t), X2)])\n",
    "temp2\n",
    "fun22 = sp.lambdify((X1, dX1, X2, dX2), temp2, 'numpy')"
   ]
  },
  {
   "cell_type": "code",
   "execution_count": 491,
   "id": "e63333df",
   "metadata": {},
   "outputs": [],
   "source": [
    "def ode_sys(t, iniVal, fun1, fun2):\n",
    "    X1, dX1, X2, dX2 = iniVal\n",
    "    odeSys = [dX1,\n",
    "              fun1(X1, dX1, X2, dX2),\n",
    "              dX2,\n",
    "              fun2(X1, dX1, X2, dX2)] \n",
    "    return odeSys"
   ]
  },
  {
   "cell_type": "markdown",
   "id": "ae52be11",
   "metadata": {},
   "source": [
    "## Define initial values and time intervall"
   ]
  },
  {
   "cell_type": "code",
   "execution_count": 496,
   "id": "3c4bcc62",
   "metadata": {},
   "outputs": [],
   "source": [
    "iniVal = [0.5, 0, 2.25, 0]\n",
    "time = np.linspace(0,10,10001)"
   ]
  },
  {
   "cell_type": "markdown",
   "id": "a51d81c7",
   "metadata": {},
   "source": [
    "## Solve the IVP"
   ]
  },
  {
   "cell_type": "code",
   "execution_count": 510,
   "id": "74ee090c",
   "metadata": {},
   "outputs": [],
   "source": [
    "from scipy.integrate import odeint, solve_ivp\n",
    "\n",
    "abserr = 1.0e-8\n",
    "relerr = 1.0e-6\n",
    "\n",
    "sol = odeint(ode_sys, iniVal, time, args=(fun11, fun22), tfirst=True, atol=abserr, rtol=relerr)\n",
    "\n",
    "sol1 = solve_ivp(ode_sys, [0, 10], iniVal, args=(fun1, fun2), t_eval=time)"
   ]
  },
  {
   "cell_type": "code",
   "execution_count": 521,
   "id": "1c14a356",
   "metadata": {},
   "outputs": [
    {
     "data": {
      "text/plain": [
       "(-0.5, 2.5)"
      ]
     },
     "execution_count": 521,
     "metadata": {},
     "output_type": "execute_result"
    },
    {
     "data": {
      "image/png": "[encoded data removed]",
      "text/plain": [
       "<Figure size 432x288 with 1 Axes>"
      ]
     },
     "metadata": {
      "needs_background": "light"
     },
     "output_type": "display_data"
    }
   ],
   "source": [
    "plt.plot(time,sol[:,0],'b')\n",
    "plt.plot(time,sol[:,2],'g')\n",
    "plt.plot(sol1.t, sol1.y[0], '--r')\n",
    "plt.ylim(-0.5, 2.5)"
   ]
  }
 ],
 "metadata": {
  "kernelspec": {
   "display_name": "Python 3 (ipykernel)",
   "language": "python",
   "name": "python3"
  },
  "language_info": {
   "codemirror_mode": {
    "name": "ipython",
    "version": 3
   },
   "file_extension": ".py",
   "mimetype": "text/x-python",
   "name": "python",
   "nbconvert_exporter": "python",
   "pygments_lexer": "ipython3",
   "version": "3.10.2"
  }
 },
 "nbformat": 4,
 "nbformat_minor": 5
}
