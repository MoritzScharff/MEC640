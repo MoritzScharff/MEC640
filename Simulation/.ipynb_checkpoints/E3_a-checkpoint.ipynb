{
 "cells": [
  {
   "cell_type": "markdown",
   "id": "fdbbb4bb",
   "metadata": {},
   "source": [
    "# E3.A - Task"
   ]
  },
  {
   "cell_type": "code",
   "execution_count": 70,
   "id": "3661911e",
   "metadata": {},
   "outputs": [],
   "source": [
    "reset -f"
   ]
  },
  {
   "cell_type": "code",
   "execution_count": 71,
   "id": "dcb1ca09",
   "metadata": {},
   "outputs": [],
   "source": [
    "import sympy as sp\n",
    "import numpy as np\n",
    "import matplotlib.pyplot as plt\n",
    "\n",
    "from IPython.display import Math, Latex"
   ]
  },
  {
   "cell_type": "markdown",
   "id": "2910d2c8",
   "metadata": {},
   "source": [
    "## Define symbolic variables"
   ]
  },
  {
   "cell_type": "code",
   "execution_count": 72,
   "id": "9a2e485c",
   "metadata": {},
   "outputs": [],
   "source": [
    "a, F, q0, alpha, x = sp.symbols('a, F, q0, alpha,x', real = 'True')\n",
    "Bx, By, Cy, Gx1, Gx2, Gy1, Gy2, Dy = sp. symbols('Bx, By, Cy, Gx1, Gx2, Gy1, Gy2, Dy', real = 'True')"
   ]
  },
  {
   "cell_type": "markdown",
   "id": "d44a34cc",
   "metadata": {},
   "source": [
    "## Derive q(x)"
   ]
  },
  {
   "cell_type": "code",
   "execution_count": 73,
   "id": "90bb93d8",
   "metadata": {},
   "outputs": [],
   "source": [
    "def q(xL,xH):\n",
    "    return sp.integrate(q0, (x, xL, xH))"
   ]
  },
  {
   "cell_type": "code",
   "execution_count": 74,
   "id": "7fbb49f5",
   "metadata": {},
   "outputs": [],
   "source": [
    "eq1 = sp.Eq(0 , Bx + Gx1 + sp.cos(alpha) * F)\n",
    "eq2 = sp.Eq(0 , By + Cy + Gy1 - F*sp.sin(alpha) - q(0,a))\n",
    "eq3 = sp.Eq(0, -F*sp.sin(alpha)*a + Cy*2*a + Gy1*3*a - q(0,a)*5/2*a)\n",
    "eq4 = sp.Eq(0, Gx1 + Gx2)\n",
    "eq5 = sp.Eq(0, Gy1 + Gy2)\n",
    "eq6 = sp.Eq(0, Gx2)\n",
    "eq7 = sp.Eq(0, Gy2 + Dy - q(a,2*a))\n",
    "eq8 = sp.Eq(0, -Gy2*a + q(a,2*a)*1/2*a)"
   ]
  },
  {
   "cell_type": "code",
   "execution_count": 75,
   "id": "3b100c59",
   "metadata": {},
   "outputs": [
    {
     "data": {
      "text/plain": [
       "{Bx: -F*cos(alpha),\n",
       " Gx1: 0,\n",
       " Gx2: 0,\n",
       " By: F*sin(alpha)/2 - a*q0/2,\n",
       " Cy: F*sin(alpha)/2 + 2*a*q0,\n",
       " Gy1: -a*q0/2,\n",
       " Gy2: a*q0/2,\n",
       " Dy: a*q0/2}"
      ]
     },
     "execution_count": 75,
     "metadata": {},
     "output_type": "execute_result"
    }
   ],
   "source": [
    "sol = sp.solve([eq1, eq2, eq3, eq4, eq5, eq6, eq7, eq8],[Bx, By, Cy, Gx1, Gx2, Gy1, Gy2, Dy])\n",
    "sol"
   ]
  },
  {
   "cell_type": "code",
   "execution_count": 76,
   "id": "d08013ca",
   "metadata": {},
   "outputs": [],
   "source": [
    "Bx, Gx1, Gx2, By, Cy, Gy1, Gy2, Dy = sol.values()"
   ]
  },
  {
   "cell_type": "markdown",
   "id": "44b77f59",
   "metadata": {},
   "source": [
    "# Internal force reactions"
   ]
  },
  {
   "cell_type": "markdown",
   "id": "d28ae8e1",
   "metadata": {},
   "source": [
    "## Define symbolic functions"
   ]
  },
  {
   "cell_type": "code",
   "execution_count": 77,
   "id": "2fb3a243",
   "metadata": {},
   "outputs": [],
   "source": [
    "N1 = sp.Function('N1')(x)\n",
    "N2 = sp.Function('N2')(x)\n",
    "N3 = sp.Function('N3')(x) \n",
    "\n",
    "Q1 = sp.Function('Q1')(x)\n",
    "Q2 = sp.Function('Q2')(x)\n",
    "Q3 = sp.Function('Q3')(x) \n",
    "\n",
    "Mbz1 = sp.Function('Mbz1')(x)\n",
    "Mbz2 = sp.Function('Mbz2')(x)\n",
    "Mbz3 = sp.Function('Mbz3')(x) \n"
   ]
  },
  {
   "cell_type": "markdown",
   "id": "a7afd22a",
   "metadata": {},
   "source": [
    "## Set up equations"
   ]
  },
  {
   "cell_type": "code",
   "execution_count": 78,
   "id": "fd339f86",
   "metadata": {},
   "outputs": [],
   "source": [
    "eq11 = sp.Eq(0, N1 + Bx) \n",
    "eq12 = sp.Eq(0, Q1 + By)\n",
    "eq13 = sp.Eq(0, Mbz1 - By*x)\n",
    "\n",
    "eq21 = sp.Eq(0, N2 + Bx + F*sp.cos(alpha))\n",
    "eq22 = sp.Eq(0, Q2 + By - F*sp.sin(alpha))\n",
    "eq23 = sp.Eq(0, Mbz2 - By*x + F*sp.sin(alpha)*(x-a))\n",
    "\n",
    "eq31 = sp.Eq(0, -N3)\n",
    "eq32 = sp.Eq(0, -Q3 + Dy - q(x, 4*a))\n",
    "eq33 = sp.Eq(0, -Mbz3 + Dy*(4*a - x) - q(x, 4*a)*(4*a - x)/2)"
   ]
  },
  {
   "cell_type": "code",
   "execution_count": 79,
   "id": "b20dc266",
   "metadata": {},
   "outputs": [
    {
     "data": {
      "text/latex": [
       "$\\displaystyle \\frac{7 a q_{0}}{2} - q_{0} x + \\operatorname{Q_{3}}{\\left(x \\right)} = 0$"
      ],
      "text/plain": [
       "Eq(7*a*q0/2 - q0*x + Q3(x), 0)"
      ]
     },
     "execution_count": 79,
     "metadata": {},
     "output_type": "execute_result"
    }
   ],
   "source": [
    "sp.simplify(eq32)"
   ]
  },
  {
   "cell_type": "markdown",
   "id": "2174a9c2",
   "metadata": {},
   "source": [
    "# solve equations"
   ]
  },
  {
   "cell_type": "code",
   "execution_count": 80,
   "id": "c1f0ae0b",
   "metadata": {},
   "outputs": [
    {
     "data": {
      "text/plain": [
       "{N1(x): F*cos(alpha),\n",
       " Q1(x): -F*sin(alpha)/2 + a*q0/2,\n",
       " Mbz1(x): F*x*sin(alpha)/2 - a*q0*x/2,\n",
       " N2(x): 0,\n",
       " Q2(x): F*sin(alpha)/2 + a*q0/2,\n",
       " Mbz2(x): F*a*sin(alpha) - F*x*sin(alpha)/2 - a*q0*x/2,\n",
       " N3(x): 0,\n",
       " Q3(x): -7*a*q0/2 + q0*x,\n",
       " Mbz3(x): -6*a**2*q0 + 7*a*q0*x/2 - q0*x**2/2}"
      ]
     },
     "execution_count": 80,
     "metadata": {},
     "output_type": "execute_result"
    }
   ],
   "source": [
    "sol = sp.solve([eq11, eq12, eq13, eq21, eq22, eq23, eq31, eq32, eq33],[N1, N2, N3, Q1, Q2, Q3, Mbz1, Mbz2, Mbz3])\n",
    "sol"
   ]
  },
  {
   "cell_type": "code",
   "execution_count": 81,
   "id": "005de21c",
   "metadata": {},
   "outputs": [],
   "source": [
    "N1, Q1, Mbz1, N2, Q2, Mbz2, N3, Q3, Mbz3 = sol.values()"
   ]
  },
  {
   "cell_type": "code",
   "execution_count": 82,
   "id": "6ed1623c",
   "metadata": {},
   "outputs": [],
   "source": [
    "N = sp.Piecewise([N1, x <= a], [N2,(x > a) & (x <= 2*a)], [N3,(x > 2*a) & (x <= 4*a)])\n",
    "Q = sp.Piecewise([Q1, x <= a], [Q2,(x > a) & (x <= 2*a)], [Q3,(x > 2*a) & (x <= 4*a)])\n",
    "Mbz = sp.Piecewise([Mbz1, x <= a], [Mbz2,(x > a) & (x <= 2*a)], [Mbz3,(x > 2*a) & (x <= 4*a)])"
   ]
  },
  {
   "cell_type": "code",
   "execution_count": 83,
   "id": "8debf89d",
   "metadata": {},
   "outputs": [
    {
     "data": {
      "text/latex": [
       "$\\displaystyle \\begin{cases} \\frac{F x \\sin{\\left(\\alpha \\right)}}{2} - \\frac{a q_{0} x}{2} & \\text{for}\\: a \\geq x \\\\F a \\sin{\\left(\\alpha \\right)} - \\frac{F x \\sin{\\left(\\alpha \\right)}}{2} - \\frac{a q_{0} x}{2} & \\text{for}\\: x \\leq 2 a \\\\- 6 a^{2} q_{0} + \\frac{7 a q_{0} x}{2} - \\frac{q_{0} x^{2}}{2} & \\text{for}\\: x \\leq 4 a \\end{cases}$"
      ],
      "text/plain": [
       "Piecewise((F*x*sin(alpha)/2 - a*q0*x/2, a >= x), (F*a*sin(alpha) - F*x*sin(alpha)/2 - a*q0*x/2, x <= 2*a), (-6*a**2*q0 + 7*a*q0*x/2 - q0*x**2/2, x <= 4*a))"
      ]
     },
     "execution_count": 83,
     "metadata": {},
     "output_type": "execute_result"
    }
   ],
   "source": [
    "Mbz"
   ]
  },
  {
   "cell_type": "code",
   "execution_count": 84,
   "id": "4b4f1abb",
   "metadata": {},
   "outputs": [],
   "source": [
    "N = N.subs([(F, 1), (alpha, sp.pi/4), (a,10), (q0, 0.3)])\n",
    "Q = Q.subs([(F, 1), (alpha, sp.pi/4), (a,10), (q0, 0.3)])\n",
    "Mbz = Mbz.subs([(F, 1), (alpha, sp.pi/4), (a,10), (q0, 0.3)])"
   ]
  },
  {
   "cell_type": "code",
   "execution_count": 85,
   "id": "7533fa23",
   "metadata": {},
   "outputs": [],
   "source": [
    "N_fun = sp.lambdify(x, N, 'numpy')\n",
    "Q_fun = sp.lambdify(x, Q, 'numpy')\n",
    "Mbz_fun = sp.lambdify(x, Mbz, 'numpy')\n",
    "\n",
    "s = np.arange(0,40,1)"
   ]
  },
  {
   "cell_type": "code",
   "execution_count": 89,
   "id": "e15a7c68",
   "metadata": {},
   "outputs": [
    {
     "data": {
      "text/plain": [
       "Text(0, 0.5, 'N(x)')"
      ]
     },
     "execution_count": 89,
     "metadata": {},
     "output_type": "execute_result"
    },
    {
     "data": {
      "image/png": "[encoded data removed]",
      "text/plain": [
       "<Figure size 432x288 with 1 Axes>"
      ]
     },
     "metadata": {
      "needs_background": "light"
     },
     "output_type": "display_data"
    }
   ],
   "source": [
    "plt.plot(s, N_fun(s))\n",
    "plt.xlabel('x')\n",
    "plt.ylabel('N(x)')"
   ]
  },
  {
   "cell_type": "code",
   "execution_count": 90,
   "id": "6a0045fb",
   "metadata": {},
   "outputs": [
    {
     "data": {
      "text/plain": [
       "[<matplotlib.lines.Line2D at 0x266c09ad0c0>]"
      ]
     },
     "execution_count": 90,
     "metadata": {},
     "output_type": "execute_result"
    },
    {
     "data": {
      "image/png": "[encoded data removed]",
      "text/plain": [
       "<Figure size 432x288 with 1 Axes>"
      ]
     },
     "metadata": {
      "needs_background": "light"
     },
     "output_type": "display_data"
    }
   ],
   "source": [
    "plt.plot(s, Q_fun(s))\n",
    "plt.xlabel('x')\n",
    "plt.ylabel('Q(x)')"
   ]
  },
  {
   "cell_type": "code",
   "execution_count": 94,
   "id": "73c4e6a9",
   "metadata": {},
   "outputs": [
    {
     "data": {
      "text/plain": [
       "Text(0, 0.5, 'M$_{bz}$(x)')"
      ]
     },
     "execution_count": 94,
     "metadata": {},
     "output_type": "execute_result"
    },
    {
     "data": {
      "image/png": "[encoded data removed]",
      "text/plain": [
       "<Figure size 432x288 with 1 Axes>"
      ]
     },
     "metadata": {
      "needs_background": "light"
     },
     "output_type": "display_data"
    }
   ],
   "source": [
    "plt.plot(s, Mbz_fun(s))\n",
    "plt.xlabel('x')\n",
    "plt.ylabel('M$_{bz}$(x)')"
   ]
  },
  {
   "cell_type": "code",
   "execution_count": null,
   "id": "fe923fc2",
   "metadata": {},
   "outputs": [],
   "source": []
  }
 ],
 "metadata": {
  "kernelspec": {
   "display_name": "Python 3 (ipykernel)",
   "language": "python",
   "name": "python3"
  },
  "language_info": {
   "codemirror_mode": {
    "name": "ipython",
    "version": 3
   },
   "file_extension": ".py",
   "mimetype": "text/x-python",
   "name": "python",
   "nbconvert_exporter": "python",
   "pygments_lexer": "ipython3",
   "version": "3.10.2"
  }
 },
 "nbformat": 4,
 "nbformat_minor": 5
}
