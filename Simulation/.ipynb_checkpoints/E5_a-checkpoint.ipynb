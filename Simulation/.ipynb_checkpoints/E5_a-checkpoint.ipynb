{
 "cells": [
  {
   "cell_type": "markdown",
   "id": "142852de",
   "metadata": {},
   "source": [
    "# E5.A - Task"
   ]
  },
  {
   "cell_type": "code",
   "execution_count": 1,
   "id": "55ccbf9e",
   "metadata": {},
   "outputs": [],
   "source": [
    "reset -f"
   ]
  },
  {
   "cell_type": "code",
   "execution_count": 2,
   "id": "9d22c115",
   "metadata": {},
   "outputs": [],
   "source": [
    "import sympy as sp\n",
    "import numpy as np\n",
    "import matplotlib.pyplot as plt\n",
    "\n",
    "from IPython.display import Math, Latex"
   ]
  },
  {
   "cell_type": "markdown",
   "id": "d2add504",
   "metadata": {},
   "source": [
    "## Definition of variables"
   ]
  },
  {
   "cell_type": "code",
   "execution_count": 3,
   "id": "273e5a85",
   "metadata": {},
   "outputs": [],
   "source": [
    "L1, L2, A, E, alpha, dT, x, N, dTc = sp.symbols('L1, L2, A, E, alpha, dT, x, N, dTc', real = 'True')"
   ]
  },
  {
   "cell_type": "code",
   "execution_count": 4,
   "id": "e29dacde",
   "metadata": {},
   "outputs": [],
   "source": [
    "u = sp.Function('u')"
   ]
  },
  {
   "cell_type": "markdown",
   "id": "7e1948de",
   "metadata": {},
   "source": [
    "## Definition of deformation equation"
   ]
  },
  {
   "cell_type": "markdown",
   "id": "f315a424",
   "metadata": {},
   "source": [
    "The part of the equation regarding the temprature influence must be positive \"+\" because the system gets heated. "
   ]
  },
  {
   "cell_type": "code",
   "execution_count": 5,
   "id": "c9b169c4",
   "metadata": {},
   "outputs": [
    {
     "data": {
      "text/latex": [
       "$\\displaystyle \\frac{d}{d x} u{\\left(x \\right)} = \\alpha dT + \\frac{N}{A E}$"
      ],
      "text/plain": [
       "Eq(Derivative(u(x), x), alpha*dT + N/(A*E))"
      ]
     },
     "metadata": {},
     "output_type": "display_data"
    }
   ],
   "source": [
    "eq = sp.Eq(sp.diff(u(x),x), N/(E*A) + alpha*dT)\n",
    "display(eq)"
   ]
  },
  {
   "cell_type": "markdown",
   "id": "39930035",
   "metadata": {},
   "source": [
    "## Solution of the ODE"
   ]
  },
  {
   "cell_type": "code",
   "execution_count": 196,
   "id": "7a94408f",
   "metadata": {},
   "outputs": [],
   "source": [
    "sol = sp.dsolve(eq, ics = {u(0):0})\n",
    "u = sp.simplify(sol.rhs)"
   ]
  },
  {
   "cell_type": "code",
   "execution_count": 197,
   "id": "92a12fdb",
   "metadata": {},
   "outputs": [],
   "source": [
    "u = sp.simplify(u.subs([(N,0),(x,L1)]))"
   ]
  },
  {
   "cell_type": "markdown",
   "id": "b2c08140",
   "metadata": {},
   "source": [
    "## Determine the necessary temperature"
   ]
  },
  {
   "cell_type": "code",
   "execution_count": 198,
   "id": "1c63e928",
   "metadata": {},
   "outputs": [
    {
     "data": {
      "text/latex": [
       "$\\displaystyle \\frac{- L_{1} + L_{2}}{L_{1} \\alpha}$"
      ],
      "text/plain": [
       "(-L1 + L2)/(L1*alpha)"
      ]
     },
     "execution_count": 198,
     "metadata": {},
     "output_type": "execute_result"
    }
   ],
   "source": [
    "eq1 = sp.Eq(L2-L1, u)\n",
    "sol = sp.solve(eq1, dT)\n",
    "dT = sol[0]\n",
    "dT"
   ]
  },
  {
   "cell_type": "code",
   "execution_count": 199,
   "id": "b8f9da2b",
   "metadata": {},
   "outputs": [
    {
     "data": {
      "text/latex": [
       "$\\displaystyle 278$"
      ],
      "text/plain": [
       "278"
      ]
     },
     "execution_count": 199,
     "metadata": {},
     "output_type": "execute_result"
    }
   ],
   "source": [
    "round(dT.subs([(L1, 300), (L2, 301), (alpha, 12*10**(-6))]))"
   ]
  },
  {
   "cell_type": "markdown",
   "id": "1c3a41fe",
   "metadata": {},
   "source": [
    "## Calculate the resulting stress after the rod is fixed and cold"
   ]
  },
  {
   "cell_type": "markdown",
   "id": "d97529aa",
   "metadata": {},
   "source": [
    "If the rod got cold, temperature is decreasing, and therfore, the temperature part of the euqation gets a negative \"-\" sign."
   ]
  },
  {
   "cell_type": "code",
   "execution_count": 200,
   "id": "6bc3ee4a",
   "metadata": {},
   "outputs": [],
   "source": [
    "u = sp.Function('u')\n",
    "eq = sp.Eq(sp.diff(u(x),x), N/(E*A) - alpha*dTc)\n",
    "sol = sp.dsolve(eq, ics = {u(0):0})\n",
    "u = sp.simplify(sol.rhs)"
   ]
  },
  {
   "cell_type": "code",
   "execution_count": 201,
   "id": "c127cdd8",
   "metadata": {},
   "outputs": [],
   "source": [
    "eq1 = sp.Eq(0, u.subs(x,L2))\n",
    "sol = sp.solve(eq1,N)\n",
    "N = sol[0]"
   ]
  },
  {
   "cell_type": "code",
   "execution_count": 202,
   "id": "d9936734",
   "metadata": {},
   "outputs": [
    {
     "data": {
      "text/latex": [
       "$\\displaystyle E \\alpha dTc$"
      ],
      "text/plain": [
       "E*alpha*dTc"
      ]
     },
     "execution_count": 202,
     "metadata": {},
     "output_type": "execute_result"
    }
   ],
   "source": [
    "sigma = N / A\n",
    "sigma"
   ]
  },
  {
   "cell_type": "markdown",
   "id": "c562dbb2",
   "metadata": {},
   "source": [
    "Since the stress is positive, it means that there is tension which makes sense. A to short beam gets pulled to be fixed in a bearing."
   ]
  },
  {
   "cell_type": "code",
   "execution_count": null,
   "id": "e9c4e193",
   "metadata": {},
   "outputs": [],
   "source": []
  }
 ],
 "metadata": {
  "kernelspec": {
   "display_name": "Python 3 (ipykernel)",
   "language": "python",
   "name": "python3"
  },
  "language_info": {
   "codemirror_mode": {
    "name": "ipython",
    "version": 3
   },
   "file_extension": ".py",
   "mimetype": "text/x-python",
   "name": "python",
   "nbconvert_exporter": "python",
   "pygments_lexer": "ipython3",
   "version": "3.10.2"
  }
 },
 "nbformat": 4,
 "nbformat_minor": 5
}
