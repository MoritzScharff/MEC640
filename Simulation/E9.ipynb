{
 "cells": [
  {
   "cell_type": "markdown",
   "id": "fdbbb4bb",
   "metadata": {},
   "source": [
    "# E9 - Task"
   ]
  },
  {
   "cell_type": "code",
   "execution_count": 1,
   "id": "3661911e",
   "metadata": {},
   "outputs": [],
   "source": [
    "reset -f"
   ]
  },
  {
   "cell_type": "code",
   "execution_count": 2,
   "id": "dcb1ca09",
   "metadata": {},
   "outputs": [],
   "source": [
    "import sympy as sp\n",
    "import numpy as np\n",
    "import matplotlib.pyplot as plt\n",
    "\n",
    "from IPython.display import Math, Latex"
   ]
  },
  {
   "cell_type": "markdown",
   "id": "86a9deab",
   "metadata": {},
   "source": [
    "## Elastic pendulum\n",
    "\n",
    "* dof = 2 -> length of the pendulum & rotation\n",
    "* reference level for the potential energy is located in the support of the pendulum (horizontal)"
   ]
  },
  {
   "cell_type": "markdown",
   "id": "2910d2c8",
   "metadata": {},
   "source": [
    "## Define symbolic variables"
   ]
  },
  {
   "cell_type": "markdown",
   "id": "9c635680",
   "metadata": {},
   "source": [
    "* $t$ - time\n",
    "* $x$ - global coordinate\n",
    "* $y$ - gloabal coorinate\n",
    "* $\\phi$ - angle of rotation of the pendulum\n",
    "* $\\lambda$ - length of the spring / the elastic pendulum\n",
    "* $m$ - point mass at the end of the pendulum\n",
    "* $c$ - spring stiffness\n",
    "* $g$ - gravitational acceleration\n",
    "* $^{\\cdot}$ - derivative with respect to time"
   ]
  },
  {
   "cell_type": "code",
   "execution_count": 3,
   "id": "642dbc9e",
   "metadata": {},
   "outputs": [],
   "source": [
    "t, m, c, g, lam0 = sp.symbols('t, m, c, g, \\lambda_0', real = 'True')\n",
    "phi = sp.Function('\\phi')\n",
    "lam = sp.Function('\\lambda')"
   ]
  },
  {
   "cell_type": "markdown",
   "id": "27bf0a11",
   "metadata": {},
   "source": [
    "## Position vector"
   ]
  },
  {
   "cell_type": "code",
   "execution_count": 4,
   "id": "ae12c717",
   "metadata": {},
   "outputs": [],
   "source": [
    "from sympy.vector import CoordSys3D\n",
    "\n",
    "C = CoordSys3D('C')\n",
    "r = lam(t)*C.i + 0*C.j + 0*C.k\n",
    "dr = sp.diff(lam(t),t)*C.i + lam(t)*sp.diff(phi(t),t)*C.j + 0*C.k\n",
    "absdr = sp.sqrt(dr.dot(dr))"
   ]
  },
  {
   "cell_type": "markdown",
   "id": "b2788e0f",
   "metadata": {},
   "source": [
    "## Equation of motion\n",
    "using Lagrange's equation of second kind"
   ]
  },
  {
   "cell_type": "markdown",
   "id": "527d1626",
   "metadata": {},
   "source": [
    "### Kinetic Energy"
   ]
  },
  {
   "cell_type": "code",
   "execution_count": 5,
   "id": "6ba4bbec",
   "metadata": {},
   "outputs": [],
   "source": [
    "T = m/2*absdr**2"
   ]
  },
  {
   "cell_type": "markdown",
   "id": "a1efd191",
   "metadata": {},
   "source": [
    "### Potential Energy"
   ]
  },
  {
   "cell_type": "code",
   "execution_count": 6,
   "id": "a3577ce2",
   "metadata": {},
   "outputs": [
    {
     "data": {
      "text/latex": [
       "$\\displaystyle 0.5 c \\left(- \\lambda_{0} + \\lambda{\\left(t \\right)}\\right)^{2} - g m \\lambda{\\left(t \\right)} \\cos{\\left(\\phi{\\left(t \\right)} \\right)}$"
      ],
      "text/plain": [
       "0.5*c*(-\\lambda_0 + \\lambda(t))**2 - g*m*\\lambda(t)*cos(\\phi(t))"
      ]
     },
     "execution_count": 6,
     "metadata": {},
     "output_type": "execute_result"
    }
   ],
   "source": [
    "U = 1/2*c*(lam(t) - lam0)**2 - m*g*lam(t)*sp.cos(phi(t))\n",
    "U"
   ]
  },
  {
   "cell_type": "markdown",
   "id": "18d0753d",
   "metadata": {},
   "source": [
    "### Dissipation Function"
   ]
  },
  {
   "cell_type": "code",
   "execution_count": 7,
   "id": "9c06f17d",
   "metadata": {},
   "outputs": [],
   "source": [
    "d = 0"
   ]
  },
  {
   "cell_type": "markdown",
   "id": "348450df",
   "metadata": {},
   "source": [
    "### General Force"
   ]
  },
  {
   "cell_type": "code",
   "execution_count": 8,
   "id": "f7b19cf0",
   "metadata": {},
   "outputs": [],
   "source": [
    "F = 0"
   ]
  },
  {
   "cell_type": "markdown",
   "id": "d3661188",
   "metadata": {},
   "source": [
    "### Lagrangian"
   ]
  },
  {
   "cell_type": "code",
   "execution_count": 9,
   "id": "9468f82d",
   "metadata": {},
   "outputs": [],
   "source": [
    "L = T - U"
   ]
  },
  {
   "cell_type": "markdown",
   "id": "9dab1032",
   "metadata": {},
   "source": [
    "### Equation of motion\n",
    "$\\left(\\frac{\\partial L}{\\partial \\dot{q}(t)} \\right)^{\\cdot} - \\frac{\\partial L}{\\partial q(t)} = - \\frac{\\partial d}{\\partial \\dot{q}(t)} + F \\frac{\\partial r_F}{\\partial q(t)}$"
   ]
  },
  {
   "cell_type": "code",
   "execution_count": 10,
   "id": "651d9003",
   "metadata": {},
   "outputs": [
    {
     "data": {
      "text/latex": [
       "$\\displaystyle 1.0 c \\left(\\lambda_{0} - \\lambda{\\left(t \\right)}\\right) + g m \\cos{\\left(\\phi{\\left(t \\right)} \\right)} + m \\lambda{\\left(t \\right)} \\left(\\frac{d}{d t} \\phi{\\left(t \\right)}\\right)^{2} - m \\frac{d^{2}}{d t^{2}} \\lambda{\\left(t \\right)} = 0$"
      ],
      "text/plain": [
       "Eq(1.0*c*(\\lambda_0 - \\lambda(t)) + g*m*cos(\\phi(t)) + m*\\lambda(t)*Derivative(\\phi(t), t)**2 - m*Derivative(\\lambda(t), (t, 2)), 0)"
      ]
     },
     "metadata": {},
     "output_type": "display_data"
    }
   ],
   "source": [
    "q = lam\n",
    "EqMo1 = sp.Eq(sp.diff(sp.diff(L, sp.diff(q(t),t)),t) - sp.diff(L, q(t)) +  sp.diff(d, sp.diff(q(t),t)),sp.diff(F,q(t)))\n",
    "display(EqMo1.simplify())"
   ]
  },
  {
   "cell_type": "code",
   "execution_count": 11,
   "id": "57769010",
   "metadata": {},
   "outputs": [
    {
     "data": {
      "text/latex": [
       "$\\displaystyle g m \\lambda{\\left(t \\right)} \\sin{\\left(\\phi{\\left(t \\right)} \\right)} + m \\lambda^{2}{\\left(t \\right)} \\frac{d^{2}}{d t^{2}} \\phi{\\left(t \\right)} + 2 m \\lambda{\\left(t \\right)} \\frac{d}{d t} \\lambda{\\left(t \\right)} \\frac{d}{d t} \\phi{\\left(t \\right)} = 0$"
      ],
      "text/plain": [
       "Eq(g*m*\\lambda(t)*sin(\\phi(t)) + m*\\lambda(t)**2*Derivative(\\phi(t), (t, 2)) + 2*m*\\lambda(t)*Derivative(\\lambda(t), t)*Derivative(\\phi(t), t), 0)"
      ]
     },
     "metadata": {},
     "output_type": "display_data"
    }
   ],
   "source": [
    "q = phi\n",
    "EqMo2 = sp.Eq(sp.diff(sp.diff(L, sp.diff(q(t),t)),t) - sp.diff(L, q(t)) +  sp.diff(d, sp.diff(q(t),t)),sp.diff(F,q(t)))\n",
    "display(EqMo2)"
   ]
  },
  {
   "cell_type": "markdown",
   "id": "cbdfdc42",
   "metadata": {},
   "source": [
    "## System parameters"
   ]
  },
  {
   "cell_type": "code",
   "execution_count": 12,
   "id": "d130b6d7",
   "metadata": {},
   "outputs": [],
   "source": [
    "mass = 20\n",
    "grav = 9.81\n",
    "leng = 200\n",
    "stiff = 100\n",
    "\n",
    "EqMo1Num = EqMo1.subs([(m, mass), (g, grav), (lam0, leng), (c, stiff)])\n",
    "EqMo2Num = EqMo2.subs([(m, mass), (g, grav), (lam0, leng), (c, stiff)])"
   ]
  },
  {
   "cell_type": "markdown",
   "id": "b0e303ef",
   "metadata": {},
   "source": [
    "## Setup system of nonlinear ODEs of first order"
   ]
  },
  {
   "cell_type": "code",
   "execution_count": 13,
   "id": "e63333df",
   "metadata": {},
   "outputs": [],
   "source": [
    "LAM, dLAM, PHI, dPHI = sp.symbols('LAM, dLAM, PHI, dPHI')\n",
    "\n",
    "fun1 = sp.solve(EqMo1Num, sp.diff(lam(t),t,t))\n",
    "fun1 = fun1[0].subs([(sp.diff(phi(t),t), dPHI), (sp.diff(lam(t),t), dLAM), (lam(t), LAM), (phi(t), PHI)])\n",
    "fun1 = sp.lambdify((LAM, dLAM, PHI, dPHI), fun1, 'numpy')\n",
    "\n",
    "fun2 = sp.solve(EqMo2Num, sp.diff(phi(t),t,t))\n",
    "fun2 = fun2[0].subs([(sp.diff(phi(t),t), dPHI), (sp.diff(lam(t),t), dLAM), (lam(t), LAM), (phi(t), PHI)])\n",
    "fun2 = sp.lambdify([LAM, dLAM, PHI, dPHI], fun2, 'numpy')\n",
    "\n",
    "def ode_sys(iniVal,t, fun1, fun2):\n",
    "    LAM, dLAM, PHI, dPHI = iniVal\n",
    "    odeSys = [dLAM,\n",
    "              fun1(LAM, dLAM, PHI, dPHI),\n",
    "              dPHI,\n",
    "              fun2(LAM, dLAM, PHI, dPHI)] \n",
    "    return odeSys"
   ]
  },
  {
   "cell_type": "markdown",
   "id": "ae52be11",
   "metadata": {},
   "source": [
    "## Define initial values and time intervall"
   ]
  },
  {
   "cell_type": "code",
   "execution_count": 14,
   "id": "3c4bcc62",
   "metadata": {},
   "outputs": [],
   "source": [
    "iniVal = [leng, 0, np.pi/4, 0]\n",
    "t = np.linspace(0,20,1001)"
   ]
  },
  {
   "cell_type": "markdown",
   "id": "a51d81c7",
   "metadata": {},
   "source": [
    "## Solve the IVP"
   ]
  },
  {
   "cell_type": "code",
   "execution_count": 15,
   "id": "74ee090c",
   "metadata": {},
   "outputs": [],
   "source": [
    "from scipy.integrate import odeint\n",
    "sol = odeint(ode_sys, iniVal, t, args=(fun1, fun2))"
   ]
  },
  {
   "cell_type": "markdown",
   "id": "335fe607",
   "metadata": {},
   "source": [
    "## Transfor polar coordinates to cartesian coordinates"
   ]
  },
  {
   "cell_type": "code",
   "execution_count": 16,
   "id": "24fec451",
   "metadata": {},
   "outputs": [],
   "source": [
    "x = sol[:, 0] * np.cos(sol[:, 2])\n",
    "y = sol[:, 0] * np.sin(sol[:, 2])"
   ]
  },
  {
   "cell_type": "markdown",
   "id": "d5561c9f",
   "metadata": {},
   "source": [
    "## animated plot"
   ]
  },
  {
   "cell_type": "code",
   "execution_count": 17,
   "id": "2a149ccf",
   "metadata": {},
   "outputs": [
    {
     "data": {
      "image/png": "[encoded data removed]",
      "text/plain": [
       "<Figure size 432x288 with 1 Axes>"
      ]
     },
     "metadata": {},
     "output_type": "display_data"
    }
   ],
   "source": [
    "import time\n",
    "from IPython import display\n",
    "\n",
    "for ii in np.arange(0,900):\n",
    "    plt.plot(y[0:ii], -x[0:ii])\n",
    "    plt.plot(y[ii], -x[ii], 'k.', markersize = 12)\n",
    "    plt.plot([0, y[ii]], [0, -x[ii]], 'k')\n",
    "    \n",
    "    plt.xlim(-150, 150)\n",
    "    plt.ylim(-300, 0)\n",
    "    plt.gca().set_aspect('equal', 'box')\n",
    "    \n",
    "    display.clear_output(wait=True)\n",
    "    display.display(plt.gcf())\n",
    "    time.sleep(0.00000001)\n",
    "    plt.close()"
   ]
  }
 ],
 "metadata": {
  "kernelspec": {
   "display_name": "Python 3 (ipykernel)",
   "language": "python",
   "name": "python3"
  },
  "language_info": {
   "codemirror_mode": {
    "name": "ipython",
    "version": 3
   },
   "file_extension": ".py",
   "mimetype": "text/x-python",
   "name": "python",
   "nbconvert_exporter": "python",
   "pygments_lexer": "ipython3",
   "version": "3.10.2"
  }
 },
 "nbformat": 4,
 "nbformat_minor": 5
}
