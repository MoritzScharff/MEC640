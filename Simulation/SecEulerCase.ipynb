{
 "cells": [
  {
   "cell_type": "markdown",
   "id": "fdbbb4bb",
   "metadata": {},
   "source": [
    "# Second Euler Case"
   ]
  },
  {
   "cell_type": "code",
   "execution_count": 105,
   "id": "3661911e",
   "metadata": {},
   "outputs": [],
   "source": [
    "reset -f"
   ]
  },
  {
   "cell_type": "code",
   "execution_count": 106,
   "id": "dcb1ca09",
   "metadata": {},
   "outputs": [],
   "source": [
    "import sympy as sp\n",
    "import numpy as np\n",
    "import matplotlib.pyplot as plt\n",
    "\n",
    "from IPython.display import Math, Latex"
   ]
  },
  {
   "cell_type": "markdown",
   "id": "2910d2c8",
   "metadata": {},
   "source": [
    "## Define symbolic variables"
   ]
  },
  {
   "cell_type": "code",
   "execution_count": 107,
   "id": "9a2e485c",
   "metadata": {},
   "outputs": [],
   "source": [
    "L, F, x, E, Iz  = sp.symbols('L, F, x, E, I_z', real = 'True', positive = 'True')\n",
    "Mbz = sp.Function('M_{bz}')\n",
    "v = sp.Function('v')\n",
    "\n",
    "lam = sp.symbols('lambda', real = 'True', positive = 'True')"
   ]
  },
  {
   "cell_type": "markdown",
   "id": "7563b1a8",
   "metadata": {},
   "source": [
    "## Get internal forces"
   ]
  },
  {
   "cell_type": "code",
   "execution_count": 108,
   "id": "7fbb49f5",
   "metadata": {},
   "outputs": [],
   "source": [
    "eq = sp.Eq(0, -Mbz(x) - v(x)*F)"
   ]
  },
  {
   "cell_type": "code",
   "execution_count": 109,
   "id": "3b100c59",
   "metadata": {},
   "outputs": [
    {
     "data": {
      "text/latex": [
       "$\\displaystyle - F v{\\left(x \\right)}$"
      ],
      "text/plain": [
       "-F*v(x)"
      ]
     },
     "execution_count": 109,
     "metadata": {},
     "output_type": "execute_result"
    }
   ],
   "source": [
    "sol = sp.solve(eq, Mbz(x))\n",
    "Mbz = sol[0]\n",
    "Mbz"
   ]
  },
  {
   "cell_type": "markdown",
   "id": "a6c324ab",
   "metadata": {},
   "source": [
    "## Deformation equation"
   ]
  },
  {
   "cell_type": "code",
   "execution_count": 110,
   "id": "d08013ca",
   "metadata": {},
   "outputs": [
    {
     "data": {
      "text/latex": [
       "$\\displaystyle \\frac{d^{2}}{d x^{2}} v{\\left(x \\right)} = - \\frac{F v{\\left(x \\right)}}{E I_{z}}$"
      ],
      "text/plain": [
       "Eq(Derivative(v(x), (x, 2)), -F*v(x)/(E*I_z))"
      ]
     },
     "metadata": {},
     "output_type": "display_data"
    }
   ],
   "source": [
    "DefEq = sp.Eq(sp.Derivative(v(x),x,x), Mbz/(E*Iz)) \n",
    "display(DefEq)"
   ]
  },
  {
   "cell_type": "markdown",
   "id": "f1fab288",
   "metadata": {},
   "source": [
    "classifying the equation:\n",
    "* ordinary \n",
    "* linear\n",
    "* second orden\n",
    "* inhomogeneous\n",
    "* constant coefficients\n",
    "\n",
    "we need an ODE solver-> sp.dsolve()"
   ]
  },
  {
   "cell_type": "markdown",
   "id": "e82f370c",
   "metadata": {},
   "source": [
    "## Solve the ODE"
   ]
  },
  {
   "cell_type": "code",
   "execution_count": 111,
   "id": "3885b581",
   "metadata": {},
   "outputs": [
    {
     "data": {
      "text/latex": [
       "$\\displaystyle C_{1} \\sin{\\left(\\frac{\\sqrt{F} x}{\\sqrt{E} \\sqrt{I_{z}}} \\right)} + C_{2} \\cos{\\left(\\frac{\\sqrt{F} x}{\\sqrt{E} \\sqrt{I_{z}}} \\right)}$"
      ],
      "text/plain": [
       "C1*sin(sqrt(F)*x/(sqrt(E)*sqrt(I_z))) + C2*cos(sqrt(F)*x/(sqrt(E)*sqrt(I_z)))"
      ]
     },
     "execution_count": 111,
     "metadata": {},
     "output_type": "execute_result"
    }
   ],
   "source": [
    "sol = sp.dsolve(DefEq)\n",
    "v = sol.rhs\n",
    "dvdx = sp.diff(sol.rhs, x)\n",
    "v"
   ]
  },
  {
   "cell_type": "markdown",
   "id": "94c719f1",
   "metadata": {},
   "source": [
    "## Boundary conditions to set up equation system"
   ]
  },
  {
   "cell_type": "code",
   "execution_count": 112,
   "id": "236dfe71",
   "metadata": {},
   "outputs": [
    {
     "data": {
      "text/latex": [
       "$\\displaystyle 0 = C_{2}$"
      ],
      "text/plain": [
       "Eq(0, C2)"
      ]
     },
     "metadata": {},
     "output_type": "display_data"
    },
    {
     "data": {
      "text/latex": [
       "$\\displaystyle 0 = C_{1} \\sin{\\left(\\frac{\\sqrt{F} L}{\\sqrt{E} \\sqrt{I_{z}}} \\right)} + C_{2} \\cos{\\left(\\frac{\\sqrt{F} L}{\\sqrt{E} \\sqrt{I_{z}}} \\right)}$"
      ],
      "text/plain": [
       "Eq(0, C1*sin(sqrt(F)*L/(sqrt(E)*sqrt(I_z))) + C2*cos(sqrt(F)*L/(sqrt(E)*sqrt(I_z))))"
      ]
     },
     "metadata": {},
     "output_type": "display_data"
    }
   ],
   "source": [
    "BC1 = sp.Eq(0, v.subs(x,0))\n",
    "BC2 = sp.Eq(0, v.subs(x, L))\n",
    "\n",
    "display(BC1)\n",
    "display(BC2)"
   ]
  },
  {
   "cell_type": "markdown",
   "id": "8fdee67f",
   "metadata": {},
   "source": [
    "## Coefficient matrix"
   ]
  },
  {
   "cell_type": "code",
   "execution_count": 113,
   "id": "d0d37a35",
   "metadata": {},
   "outputs": [
    {
     "data": {
      "text/latex": [
       "$\\displaystyle \\left[\\begin{matrix}0 & 1\\\\\\sin{\\left(\\frac{\\sqrt{F} L}{\\sqrt{E} \\sqrt{I_{z}}} \\right)} & \\cos{\\left(\\frac{\\sqrt{F} L}{\\sqrt{E} \\sqrt{I_{z}}} \\right)}\\end{matrix}\\right]$"
      ],
      "text/plain": [
       "Matrix([\n",
       "[                                 0,                                  1],\n",
       "[sin(sqrt(F)*L/(sqrt(E)*sqrt(I_z))), cos(sqrt(F)*L/(sqrt(E)*sqrt(I_z)))]])"
      ]
     },
     "execution_count": 113,
     "metadata": {},
     "output_type": "execute_result"
    }
   ],
   "source": [
    "CoeffMat = sp.Matrix([[BC1.rhs.coeff('C1'), BC1.rhs.coeff('C2')],\n",
    "                      [BC2.rhs.coeff('C1'), BC2.rhs.coeff('C2')]])\n",
    "CoeffMat"
   ]
  },
  {
   "cell_type": "markdown",
   "id": "4da553a8",
   "metadata": {},
   "source": [
    "## Determinat of the coefficient matrix"
   ]
  },
  {
   "cell_type": "code",
   "execution_count": 114,
   "id": "6e6d2bd2",
   "metadata": {},
   "outputs": [
    {
     "data": {
      "text/latex": [
       "$\\displaystyle \\sin{\\left(\\frac{\\sqrt{F} L}{\\sqrt{E} \\sqrt{I_{z}}} \\right)} = 0$"
      ],
      "text/plain": [
       "Eq(sin(sqrt(F)*L/(sqrt(E)*sqrt(I_z))), 0)"
      ]
     },
     "execution_count": 114,
     "metadata": {},
     "output_type": "execute_result"
    }
   ],
   "source": [
    "EvEq = sp.Eq(0, CoeffMat.det())\n",
    "sp.simplify(EvEq)"
   ]
  },
  {
   "cell_type": "code",
   "execution_count": 115,
   "id": "ce4925ac",
   "metadata": {},
   "outputs": [],
   "source": [
    "fun = EvEq.rhs\n",
    "fun = fun.subs([(E, 210000), (Iz,  sp.pi/64 * 1**4), (L, 100)])\n",
    "fun = sp.lambdify(F, fun, 'numpy')"
   ]
  },
  {
   "cell_type": "code",
   "execution_count": 118,
   "id": "96a6af9f",
   "metadata": {},
   "outputs": [],
   "source": [
    "f_vec = np.linspace(0,40,1000)"
   ]
  },
  {
   "cell_type": "code",
   "execution_count": 119,
   "id": "43f6c03b",
   "metadata": {},
   "outputs": [
    {
     "data": {
      "image/png": "[encoded data removed]",
      "text/plain": [
       "<Figure size 432x288 with 1 Axes>"
      ]
     },
     "metadata": {
      "needs_background": "light"
     },
     "output_type": "display_data"
    }
   ],
   "source": [
    "plt.plot(f_vec,fun(f_vec))\n",
    "plt.grid()"
   ]
  },
  {
   "cell_type": "code",
   "execution_count": 121,
   "id": "6d4185b0",
   "metadata": {},
   "outputs": [],
   "source": [
    "from scipy.optimize import fsolve"
   ]
  },
  {
   "cell_type": "code",
   "execution_count": 123,
   "id": "fded5b04",
   "metadata": {},
   "outputs": [
    {
     "data": {
      "text/plain": [
       "array([10.17393454])"
      ]
     },
     "execution_count": 123,
     "metadata": {},
     "output_type": "execute_result"
    }
   ],
   "source": [
    "sol = fsolve(lambda F: fun(F), 9.5)\n",
    "sol"
   ]
  },
  {
   "cell_type": "code",
   "execution_count": 124,
   "id": "86e9e345",
   "metadata": {},
   "outputs": [
    {
     "data": {
      "text/latex": [
       "$\\displaystyle 10.1739345357234$"
      ],
      "text/plain": [
       "10.1739345357234"
      ]
     },
     "execution_count": 124,
     "metadata": {},
     "output_type": "execute_result"
    }
   ],
   "source": [
    "(sp.pi**2*210000*sp.pi/64*1**4/(100**2)).evalf()"
   ]
  },
  {
   "cell_type": "code",
   "execution_count": 104,
   "id": "60fab079",
   "metadata": {},
   "outputs": [],
   "source": []
  },
  {
   "cell_type": "code",
   "execution_count": null,
   "id": "b2b21723",
   "metadata": {},
   "outputs": [],
   "source": []
  }
 ],
 "metadata": {
  "kernelspec": {
   "display_name": "Python 3 (ipykernel)",
   "language": "python",
   "name": "python3"
  },
  "language_info": {
   "codemirror_mode": {
    "name": "ipython",
    "version": 3
   },
   "file_extension": ".py",
   "mimetype": "text/x-python",
   "name": "python",
   "nbconvert_exporter": "python",
   "pygments_lexer": "ipython3",
   "version": "3.10.2"
  }
 },
 "nbformat": 4,
 "nbformat_minor": 5
}
