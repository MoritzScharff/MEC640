{
 "cells": [
  {
   "cell_type": "markdown",
   "id": "b87a4b20",
   "metadata": {},
   "source": [
    "# E4.B - Task"
   ]
  },
  {
   "cell_type": "code",
   "execution_count": 42,
   "id": "bb7a61a0",
   "metadata": {},
   "outputs": [],
   "source": [
    "reset -f"
   ]
  },
  {
   "cell_type": "code",
   "execution_count": 43,
   "id": "a81d7be7",
   "metadata": {},
   "outputs": [],
   "source": [
    "import sympy as sp\n",
    "import numpy as np\n",
    "import matplotlib.pyplot as plt\n",
    "\n",
    "from IPython.display import Math, Latex"
   ]
  },
  {
   "cell_type": "code",
   "execution_count": 69,
   "id": "b5bbd3eb",
   "metadata": {},
   "outputs": [],
   "source": [
    "M0, L, d, D, rho, G, dH, DH, Eps = sp.symbols('M0, L, d, D, rho, G, dH, DH, varepsilon', real = 'True')"
   ]
  },
  {
   "cell_type": "markdown",
   "id": "eb5cddc2",
   "metadata": {},
   "source": [
    "## Saved Material"
   ]
  },
  {
   "cell_type": "code",
   "execution_count": 70,
   "id": "a5da5944",
   "metadata": {},
   "outputs": [],
   "source": [
    "def volCyl(dia, h):\n",
    "    return sp.pi*(dia/2)**2*h"
   ]
  },
  {
   "cell_type": "code",
   "execution_count": 71,
   "id": "78016d9b",
   "metadata": {},
   "outputs": [
    {
     "data": {
      "text/latex": [
       "$\\displaystyle 1 - \\frac{d^{2}}{D^{2}}$"
      ],
      "text/plain": [
       "1 - d**2/D**2"
      ]
     },
     "metadata": {},
     "output_type": "display_data"
    }
   ],
   "source": [
    "mS = volCyl(D, L) * rho\n",
    "mH = (volCyl(D, L) - volCyl(d, L)) * rho\n",
    "\n",
    "mu = mH/mS\n",
    "mu = sp.simplify(mu)\n",
    "display(mu)"
   ]
  },
  {
   "cell_type": "markdown",
   "id": "e5ed0741",
   "metadata": {},
   "source": [
    "## Stress increase"
   ]
  },
  {
   "cell_type": "code",
   "execution_count": 72,
   "id": "c12e53da",
   "metadata": {},
   "outputs": [],
   "source": [
    "def tau(Mtx, Ip, r):\n",
    "    return Mtx/Ip * r"
   ]
  },
  {
   "cell_type": "code",
   "execution_count": 73,
   "id": "c2088ba3",
   "metadata": {},
   "outputs": [],
   "source": [
    "IpS = sp.pi/32*D**4\n",
    "IpH = sp.pi/32*(D**4 - d**4)"
   ]
  },
  {
   "cell_type": "code",
   "execution_count": 74,
   "id": "b962f1a5",
   "metadata": {},
   "outputs": [
    {
     "data": {
      "text/latex": [
       "$\\displaystyle \\frac{D^{4}}{D^{4} - d^{4}}$"
      ],
      "text/plain": [
       "D**4/(D**4 - d**4)"
      ]
     },
     "metadata": {},
     "output_type": "display_data"
    }
   ],
   "source": [
    "kappa = tau(M0, IpH, D/2) / tau(M0, IpS, D/2)\n",
    "kappa = sp.simplify(kappa)\n",
    "display(kappa)"
   ]
  },
  {
   "cell_type": "markdown",
   "id": "9c3837a6",
   "metadata": {},
   "source": [
    "## Deformation increase"
   ]
  },
  {
   "cell_type": "code",
   "execution_count": 75,
   "id": "a3505395",
   "metadata": {},
   "outputs": [],
   "source": [
    "def dphidx(Mtx, Ip, G):\n",
    "    return Mtx/(G*Ip) "
   ]
  },
  {
   "cell_type": "code",
   "execution_count": 76,
   "id": "d36e2a74",
   "metadata": {},
   "outputs": [
    {
     "data": {
      "text/latex": [
       "$\\displaystyle \\frac{D^{4}}{D^{4} - d^{4}}$"
      ],
      "text/plain": [
       "D**4/(D**4 - d**4)"
      ]
     },
     "metadata": {},
     "output_type": "display_data"
    }
   ],
   "source": [
    "epsilon = dphidx(M0, IpH, G) / dphidx(M0, IpS, G)\n",
    "epsilon = sp.simplify(epsilon)\n",
    "display(epsilon)"
   ]
  },
  {
   "cell_type": "markdown",
   "id": "5a8aea86",
   "metadata": {},
   "source": [
    "## new diameter for the hollow shaft"
   ]
  },
  {
   "cell_type": "code",
   "execution_count": 77,
   "id": "e436a0a3",
   "metadata": {},
   "outputs": [],
   "source": [
    "IpH = sp.pi/32*(DH**4 - dH**4)"
   ]
  },
  {
   "cell_type": "code",
   "execution_count": 78,
   "id": "b47f7354",
   "metadata": {},
   "outputs": [
    {
     "data": {
      "text/latex": [
       "$\\displaystyle \\frac{16 M_{0}}{\\pi D^{3}}$"
      ],
      "text/plain": [
       "16*M0/(pi*D**3)"
      ]
     },
     "metadata": {},
     "output_type": "display_data"
    },
    {
     "data": {
      "text/latex": [
       "$\\displaystyle \\frac{16 DH M_{0}}{\\pi \\left(DH^{4} - dH^{4}\\right)}$"
      ],
      "text/plain": [
       "16*DH*M0/(pi*(DH**4 - dH**4))"
      ]
     },
     "metadata": {},
     "output_type": "display_data"
    }
   ],
   "source": [
    "tauS = tau(M0, IpS, D/2)\n",
    "tauH = tau(M0, IpH, DH/2)\n",
    "\n",
    "display(tauS)\n",
    "display(tauH)"
   ]
  },
  {
   "cell_type": "code",
   "execution_count": 95,
   "id": "b7854370",
   "metadata": {},
   "outputs": [
    {
     "data": {
      "text/latex": [
       "$\\displaystyle \\frac{16 M_{0}}{\\pi D^{3}} = - \\frac{16 M_{0}}{\\pi DH^{3} \\left(\\varepsilon^{4} - 1\\right)}$"
      ],
      "text/plain": [
       "Eq(16*M0/(pi*D**3), -16*M0/(pi*DH**3*(varepsilon**4 - 1)))"
      ]
     },
     "metadata": {},
     "output_type": "display_data"
    },
    {
     "data": {
      "text/plain": [
       "[(-D**3/(varepsilon**4 - 1))**(1/3),\n",
       " -(-D**3/(varepsilon**4 - 1))**(1/3)/2 - sqrt(3)*I*(-D**3/(varepsilon**4 - 1))**(1/3)/2,\n",
       " -(-D**3/(varepsilon**4 - 1))**(1/3)/2 + sqrt(3)*I*(-D**3/(varepsilon**4 - 1))**(1/3)/2]"
      ]
     },
     "metadata": {},
     "output_type": "display_data"
    },
    {
     "data": {
      "text/latex": [
       "$\\displaystyle \\sqrt[3]{- \\frac{D^{3}}{\\varepsilon^{4} - 1}}$"
      ],
      "text/plain": [
       "(-D**3/(varepsilon**4 - 1))**(1/3)"
      ]
     },
     "metadata": {},
     "output_type": "display_data"
    },
    {
     "data": {
      "text/latex": [
       "$\\displaystyle \\sqrt[3]{- \\frac{D^{3}}{-1 + \\frac{dH^{4}}{DH^{4}}}}$"
      ],
      "text/plain": [
       "(-D**3/(-1 + dH**4/DH**4))**(1/3)"
      ]
     },
     "metadata": {},
     "output_type": "display_data"
    }
   ],
   "source": [
    "eq = sp.Eq(tau(M0, IpS, D/2), tau(M0, IpH, DH/2))\n",
    "eq = eq.subs(dH, DH*Eps).simplify()\n",
    "display(eq.subs(dH, DH*Eps).simplify())\n",
    "sol = sp.solve(eq, DH)\n",
    "display(sol)\n",
    "display(sol[0])\n",
    "display(sol[0].subs(Eps, dH/DH))"
   ]
  },
  {
   "cell_type": "code",
   "execution_count": null,
   "id": "6b9460eb",
   "metadata": {},
   "outputs": [],
   "source": []
  },
  {
   "cell_type": "code",
   "execution_count": null,
   "id": "8db99982",
   "metadata": {},
   "outputs": [],
   "source": []
  }
 ],
 "metadata": {
  "kernelspec": {
   "display_name": "Python 3 (ipykernel)",
   "language": "python",
   "name": "python3"
  },
  "language_info": {
   "codemirror_mode": {
    "name": "ipython",
    "version": 3
   },
   "file_extension": ".py",
   "mimetype": "text/x-python",
   "name": "python",
   "nbconvert_exporter": "python",
   "pygments_lexer": "ipython3",
   "version": "3.10.2"
  }
 },
 "nbformat": 4,
 "nbformat_minor": 5
}
