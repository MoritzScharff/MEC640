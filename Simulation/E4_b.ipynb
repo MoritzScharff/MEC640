{
 "cells": [
  {
   "cell_type": "markdown",
   "id": "b87a4b20",
   "metadata": {},
   "source": [
    "# E4.B - Task"
   ]
  },
  {
   "cell_type": "code",
   "execution_count": 26,
   "id": "bb7a61a0",
   "metadata": {},
   "outputs": [],
   "source": [
    "reset -f"
   ]
  },
  {
   "cell_type": "code",
   "execution_count": 27,
   "id": "a81d7be7",
   "metadata": {},
   "outputs": [],
   "source": [
    "import sympy as sp\n",
    "import numpy as np\n",
    "import matplotlib.pyplot as plt\n",
    "\n",
    "from IPython.display import Math, Latex"
   ]
  },
  {
   "cell_type": "code",
   "execution_count": 37,
   "id": "b5bbd3eb",
   "metadata": {},
   "outputs": [],
   "source": [
    "M0, L, d, D, rho, G, dH, DH = sp.symbols('Mo, L, d, D, rho, G, dH, DH', real = 'True')"
   ]
  },
  {
   "cell_type": "markdown",
   "id": "eb5cddc2",
   "metadata": {},
   "source": [
    "## Saved Material"
   ]
  },
  {
   "cell_type": "code",
   "execution_count": 38,
   "id": "a5da5944",
   "metadata": {},
   "outputs": [],
   "source": [
    "def volCyl(dia, h):\n",
    "    return sp.pi*(dia/2)**2*h"
   ]
  },
  {
   "cell_type": "code",
   "execution_count": 39,
   "id": "78016d9b",
   "metadata": {},
   "outputs": [
    {
     "data": {
      "text/latex": [
       "$\\displaystyle 1 - \\frac{d^{2}}{D^{2}}$"
      ],
      "text/plain": [
       "1 - d**2/D**2"
      ]
     },
     "metadata": {},
     "output_type": "display_data"
    }
   ],
   "source": [
    "mS = volCyl(D, L) * rho\n",
    "mH = (volCyl(D, L) - volCyl(d, L)) * rho\n",
    "\n",
    "mu = mH/mS\n",
    "mu = sp.simplify(mu)\n",
    "display(mu)"
   ]
  },
  {
   "cell_type": "markdown",
   "id": "e5ed0741",
   "metadata": {},
   "source": [
    "## Stress increase"
   ]
  },
  {
   "cell_type": "code",
   "execution_count": 40,
   "id": "c12e53da",
   "metadata": {},
   "outputs": [],
   "source": [
    "def tau(Mtx, Ip, r):\n",
    "    return Mtx/Ip * r"
   ]
  },
  {
   "cell_type": "code",
   "execution_count": 41,
   "id": "c2088ba3",
   "metadata": {},
   "outputs": [],
   "source": [
    "IpS = sp.pi/32*D**4\n",
    "IpH = sp.pi/32*(D**4 - d**4)"
   ]
  },
  {
   "cell_type": "code",
   "execution_count": 42,
   "id": "b962f1a5",
   "metadata": {},
   "outputs": [
    {
     "data": {
      "text/latex": [
       "$\\displaystyle \\frac{D^{4}}{D^{4} - d^{4}}$"
      ],
      "text/plain": [
       "D**4/(D**4 - d**4)"
      ]
     },
     "metadata": {},
     "output_type": "display_data"
    }
   ],
   "source": [
    "kappa = tau(M0, IpH, D/2) / tau(M0, IpS, D/2)\n",
    "kappa = sp.simplify(kappa)\n",
    "display(kappa)"
   ]
  },
  {
   "cell_type": "markdown",
   "id": "9c3837a6",
   "metadata": {},
   "source": [
    "## Deformation increase"
   ]
  },
  {
   "cell_type": "code",
   "execution_count": 43,
   "id": "a3505395",
   "metadata": {},
   "outputs": [],
   "source": [
    "def dphidx(Mtx, Ip, G):\n",
    "    return Mtx/(G*Ip) "
   ]
  },
  {
   "cell_type": "code",
   "execution_count": 44,
   "id": "d36e2a74",
   "metadata": {},
   "outputs": [
    {
     "data": {
      "text/latex": [
       "$\\displaystyle \\frac{D^{4}}{D^{4} - d^{4}}$"
      ],
      "text/plain": [
       "D**4/(D**4 - d**4)"
      ]
     },
     "metadata": {},
     "output_type": "display_data"
    }
   ],
   "source": [
    "epsilon = dphidx(M0, IpH, G) / dphidx(M0, IpS, G)\n",
    "epsilon = sp.simplify(epsilon)\n",
    "display(epsilon)"
   ]
  },
  {
   "cell_type": "markdown",
   "id": "5a8aea86",
   "metadata": {},
   "source": [
    "## new diameter for the hollow shaft"
   ]
  },
  {
   "cell_type": "code",
   "execution_count": 51,
   "id": "e436a0a3",
   "metadata": {},
   "outputs": [],
   "source": [
    "IpH = sp.pi/32*(DH**4 - dH**4)"
   ]
  },
  {
   "cell_type": "code",
   "execution_count": 57,
   "id": "b7854370",
   "metadata": {},
   "outputs": [
    {
     "data": {
      "text/plain": [
       "[-I*(D**4 + dH**4)**(1/4),\n",
       " I*(D**4 + dH**4)**(1/4),\n",
       " -(D**4 + dH**4)**(1/4),\n",
       " (D**4 + dH**4)**(1/4)]"
      ]
     },
     "metadata": {},
     "output_type": "display_data"
    },
    {
     "data": {
      "text/latex": [
       "$\\displaystyle \\sqrt[4]{D^{4} + dH^{4}}$"
      ],
      "text/plain": [
       "(D**4 + dH**4)**(1/4)"
      ]
     },
     "metadata": {},
     "output_type": "display_data"
    }
   ],
   "source": [
    "eq = sp.Eq(tau(M0, IpS, G),tau(M0, IpH, G))\n",
    "sol = sp.solve(eq,DH)\n",
    "display(sol)\n",
    "display(sol[3])"
   ]
  },
  {
   "cell_type": "code",
   "execution_count": null,
   "id": "6b9460eb",
   "metadata": {},
   "outputs": [],
   "source": []
  }
 ],
 "metadata": {
  "kernelspec": {
   "display_name": "Python 3 (ipykernel)",
   "language": "python",
   "name": "python3"
  },
  "language_info": {
   "codemirror_mode": {
    "name": "ipython",
    "version": 3
   },
   "file_extension": ".py",
   "mimetype": "text/x-python",
   "name": "python",
   "nbconvert_exporter": "python",
   "pygments_lexer": "ipython3",
   "version": "3.10.2"
  }
 },
 "nbformat": 4,
 "nbformat_minor": 5
}
