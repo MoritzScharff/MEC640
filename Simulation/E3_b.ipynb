{
 "cells": [
  {
   "cell_type": "markdown",
   "id": "fdbbb4bb",
   "metadata": {},
   "source": [
    "# E3.B - Task"
   ]
  },
  {
   "cell_type": "code",
   "execution_count": 73,
   "id": "3661911e",
   "metadata": {},
   "outputs": [],
   "source": [
    "reset -f"
   ]
  },
  {
   "cell_type": "code",
   "execution_count": 74,
   "id": "dcb1ca09",
   "metadata": {},
   "outputs": [],
   "source": [
    "import sympy as sp\n",
    "import numpy as np\n",
    "import matplotlib.pyplot as plt\n",
    "\n",
    "from IPython.display import Math, Latex"
   ]
  },
  {
   "cell_type": "markdown",
   "id": "2910d2c8",
   "metadata": {},
   "source": [
    "## Define symbolic variables"
   ]
  },
  {
   "cell_type": "code",
   "execution_count": 75,
   "id": "9a2e485c",
   "metadata": {},
   "outputs": [],
   "source": [
    "L, q0, x, x1, x2, x3 = sp.symbols('L, q0, x, x1, x2, x3', real = 'True')\n",
    "Ax, Ay, Az, MAx, MAy, MAz = sp. symbols('Ax, Ay, Az, MAx, MAy, MAz', real = 'True')"
   ]
  },
  {
   "cell_type": "markdown",
   "id": "d44a34cc",
   "metadata": {},
   "source": [
    "## Derive q(x)"
   ]
  },
  {
   "cell_type": "code",
   "execution_count": 76,
   "id": "90bb93d8",
   "metadata": {},
   "outputs": [],
   "source": [
    "def q(xL,xH):\n",
    "    return sp.integrate(q0/L * x, (x, xL, xH))"
   ]
  },
  {
   "cell_type": "code",
   "execution_count": 77,
   "id": "7fbb49f5",
   "metadata": {},
   "outputs": [],
   "source": [
    "eq1 = sp.Eq(0 , Ax)\n",
    "eq2 = sp.Eq(0 , Ay - q(0,L))\n",
    "eq3 = sp.Eq(0, Az)\n",
    "eq4 = sp.Eq(0, MAx + q(0, L)*L)\n",
    "eq5 = sp.Eq(0, MAy)\n",
    "eq6 = sp.Eq(0, MAz - q(0,L) * 2*L/3)"
   ]
  },
  {
   "cell_type": "code",
   "execution_count": 78,
   "id": "3b100c59",
   "metadata": {},
   "outputs": [
    {
     "data": {
      "text/plain": [
       "{Ax: 0, Ay: L*q0/2, Az: 0, MAx: -L**2*q0/2, MAy: 0, MAz: L**2*q0/3}"
      ]
     },
     "execution_count": 78,
     "metadata": {},
     "output_type": "execute_result"
    }
   ],
   "source": [
    "sol = sp.solve([eq1, eq2, eq3, eq4, eq5, eq6],[Ax, Ay, Az, MAx, MAy, MAz])\n",
    "sol"
   ]
  },
  {
   "cell_type": "code",
   "execution_count": 79,
   "id": "d08013ca",
   "metadata": {},
   "outputs": [],
   "source": [
    "Ax, Ay, Az, MAx, MAy, MAz = sol.values()"
   ]
  },
  {
   "cell_type": "markdown",
   "id": "44b77f59",
   "metadata": {},
   "source": [
    "# Internal force reactions"
   ]
  },
  {
   "cell_type": "markdown",
   "id": "d28ae8e1",
   "metadata": {},
   "source": [
    "## Define symbolic functions"
   ]
  },
  {
   "cell_type": "code",
   "execution_count": 80,
   "id": "2fb3a243",
   "metadata": {},
   "outputs": [],
   "source": [
    "Nx1 = sp.Function('Nx1')(x1)\n",
    "Nx2 = sp.Function('Nx2')(x2)\n",
    "Nx3 = sp.Function('Nx3')(x3) \n",
    "\n",
    "Qy1 = sp.Function('Qy1')(1)\n",
    "Qy2 = sp.Function('Qy2')(2)\n",
    "Qy3 = sp.Function('Qy3')(3) \n",
    "\n",
    "Qz1 = sp.Function('Qz1')(x1)\n",
    "Qz2 = sp.Function('Qz2')(x2)\n",
    "Qz3 = sp.Function('Qz3')(x3) \n",
    "\n",
    "Mtx1 = sp.Function('Mtx1')(x1)\n",
    "Mtx2 = sp.Function('Mtx2')(x2)\n",
    "Mtx3 = sp.Function('Mtx3')(x3) \n",
    "\n",
    "Mby1 = sp.Function('Mby1')(x1)\n",
    "Mby2 = sp.Function('Mby2')(x2)\n",
    "Mby3 = sp.Function('Mby3')(x3) \n",
    "\n",
    "Mbz1 = sp.Function('Mbz1')(x1)\n",
    "Mbz2 = sp.Function('Mbz2')(x2)\n",
    "Mbz3 = sp.Function('Mbz3')(x3) \n"
   ]
  },
  {
   "cell_type": "markdown",
   "id": "a7afd22a",
   "metadata": {},
   "source": [
    "## Set up equations"
   ]
  },
  {
   "cell_type": "code",
   "execution_count": 81,
   "id": "fd339f86",
   "metadata": {},
   "outputs": [],
   "source": [
    "eq11 = sp.Eq(0, Nx1 + Ax) \n",
    "eq12 = sp.Eq(0, Qy1 + Ay)\n",
    "eq13 = sp.Eq(0, Qz1 + Az)\n",
    "eq14 = sp.Eq(0, Mtx1 + MAx)\n",
    "eq15 = sp.Eq(0, Mby1 + MAy + Az*x1)\n",
    "eq16 = sp.Eq(0, Mbz1 + MAz - Ay*x1)\n",
    "\n",
    "eq21 = sp.Eq(0, Nx2 + Az)\n",
    "eq22 = sp.Eq(0, Qy2 + Ay)\n",
    "eq23 = sp.Eq(0, Qz2 - Ax)\n",
    "eq24 = sp.Eq(0, Mtx2 - Ay*L + MAz)\n",
    "eq25 = sp.Eq(0, Mby2 - Ax*x2 + MAy)\n",
    "eq26 = sp.Eq(0, Mbz2 - Ay*x2 - MAx)\n",
    "\n",
    "eq31 = sp.Eq(0, -Nx3)\n",
    "eq32 = sp.Eq(0, -Qy3 - q(0, L-x3))\n",
    "eq33 = sp.Eq(0, -Qz3)\n",
    "eq34 = sp.Eq(0, -Mtx3)\n",
    "eq35 = sp.Eq(0, -Mby3)\n",
    "eq36 = sp.Eq(0, -Mbz3 - q(0, L-x3) * x3*1/3)"
   ]
  },
  {
   "cell_type": "markdown",
   "id": "2174a9c2",
   "metadata": {},
   "source": [
    "# solve equations"
   ]
  },
  {
   "cell_type": "code",
   "execution_count": 82,
   "id": "c1f0ae0b",
   "metadata": {},
   "outputs": [
    {
     "data": {
      "text/plain": [
       "{Nx1(x1): 0,\n",
       " Qy1(1): -L*q0/2,\n",
       " Qz1(x1): 0,\n",
       " Mtx1(x1): L**2*q0/2,\n",
       " Mby1(x1): 0,\n",
       " Mbz1(x1): -L**2*q0/3 + L*q0*x1/2,\n",
       " Nx2(x2): 0,\n",
       " Qy2(2): -L*q0/2,\n",
       " Qz2(x2): 0,\n",
       " Mtx2(x2): L**2*q0/6,\n",
       " Mby2(x2): 0,\n",
       " Mbz2(x2): -L**2*q0/2 + L*q0*x2/2,\n",
       " Nx3(x3): 0,\n",
       " Qy3(3): (-L**2*q0 + 2*L*q0*x3 - q0*x3**2)/(2*L),\n",
       " Qz3(x3): 0,\n",
       " Mtx3(x3): 0,\n",
       " Mby3(x3): 0,\n",
       " Mbz3(x3): (-L**2*q0*x3 + 2*L*q0*x3**2 - q0*x3**3)/(6*L)}"
      ]
     },
     "execution_count": 82,
     "metadata": {},
     "output_type": "execute_result"
    }
   ],
   "source": [
    "sol = sp.solve([eq11, eq12, eq13, eq14, eq15, eq16, eq21, eq22, eq23, eq24, eq25, eq26, eq31, eq32, eq33, eq34, eq35, eq36],[Nx1, Qy1, Qz1, Mtx1, Mby1, Mbz1, Nx2, Qy2, Qz2, Mtx2, Mby2, Mbz2, Nx3, Qy3, Qz3, Mtx3, Mby3, Mbz3])\n",
    "sol"
   ]
  },
  {
   "cell_type": "code",
   "execution_count": 83,
   "id": "005de21c",
   "metadata": {},
   "outputs": [],
   "source": [
    "Nx1, Qy1, Qz1, Mtx1, Mby1, Mbz1, Nx2, Qy2, Qz2, Mtx2, Mby2, Mbz2, Nx3, Qy3, Qz3, Mtx3, Mby3, Mbz3 = sol.values()"
   ]
  },
  {
   "cell_type": "code",
   "execution_count": 84,
   "id": "17a9a251",
   "metadata": {},
   "outputs": [],
   "source": [
    "Nx1 = Nx1.subs([(q0, 0.3), (L, 1)])\n",
    "Qy1 = Qy1.subs([(q0, 0.3), (L, 1)])\n",
    "Qz1 = Qz1.subs([(q0, 0.3), (L, 1)])\n",
    "Mtx1 = Mtx1.subs([(q0, 0.3), (L, 1)])\n",
    "Mby1 = Mby1.subs([(q0, 0.3), (L, 1)])\n",
    "Mbz1 = Mbz1.subs([(q0, 0.3), (L, 1)])\n",
    "\n",
    "Nx2 = Nx2.subs([(q0, 0.3), (L, 1)])\n",
    "Qy2 = Qy2.subs([(q0, 0.3), (L, 1)])\n",
    "Qz2 = Qz2.subs([(q0, 0.3), (L, 1)])\n",
    "Mtx2 = Mtx2.subs([(q0, 0.3), (L, 1)])\n",
    "Mby2 = Mby2.subs([(q0, 0.3), (L, 1)])\n",
    "Mbz2 = Mbz2.subs([(q0, 0.3), (L, 1)])\n",
    "\n",
    "Nx3 = Nx3.subs([(q0, 0.3), (L, 1)])\n",
    "Qy3 = Qy3.subs([(q0, 0.3), (L, 1)])\n",
    "Qz3 = Qz3.subs([(q0, 0.3), (L, 1)])\n",
    "Mtx3 = Mtx3.subs([(q0, 0.3), (L, 1)])\n",
    "Mby3 = Mby3.subs([(q0, 0.3), (L, 1)])\n",
    "Mbz3 = Mbz3.subs([(q0, 0.3), (L, 1)])"
   ]
  },
  {
   "cell_type": "code",
   "execution_count": 85,
   "id": "6ed1623c",
   "metadata": {},
   "outputs": [],
   "source": [
    "Nx1_fun = sp.lambdify(x1, Nx1, 'numpy')\n",
    "Qy1_fun = sp.lambdify(x1, Qy1, 'numpy')\n",
    "Qz1_fun = sp.lambdify(x1, Qz1, 'numpy')\n",
    "Mtx1_fun = sp.lambdify(x1, Mtx1, 'numpy')\n",
    "Mby1_fun = sp.lambdify(x1, Mby1, 'numpy')\n",
    "Mbz1_fun = sp.lambdify(x1, Mbz1, 'numpy')\n",
    "\n",
    "Nx2_fun = sp.lambdify(x2, Nx2, 'numpy')\n",
    "Qy2_fun = sp.lambdify(x2, Qy2, 'numpy')\n",
    "Qz2_fun = sp.lambdify(x2, Qz2, 'numpy')\n",
    "Mtx2_fun = sp.lambdify(x2, Mtx2, 'numpy')\n",
    "Mby2_fun = sp.lambdify(x2, Mby2, 'numpy')\n",
    "Mbz2_fun = sp.lambdify(x2, Mbz2, 'numpy')\n",
    "\n",
    "Nx3_fun = sp.lambdify(x3, Nx3, 'numpy')\n",
    "Qy3_fun = sp.lambdify(x3, Qy3, 'numpy')\n",
    "Qz3_fun = sp.lambdify(x3, Qz3, 'numpy')\n",
    "Mtx3_fun = sp.lambdify(x3, Mtx3, 'numpy')\n",
    "Mby3_fun = sp.lambdify(x3, Mby3, 'numpy')\n",
    "Mbz3_fun = sp.lambdify(x3, Mbz3, 'numpy')"
   ]
  },
  {
   "cell_type": "code",
   "execution_count": 92,
   "id": "8debf89d",
   "metadata": {},
   "outputs": [],
   "source": [
    "s = np.linspace(0,1,10)"
   ]
  },
  {
   "cell_type": "code",
   "execution_count": 91,
   "id": "e15a7c68",
   "metadata": {},
   "outputs": [
    {
     "data": {
      "text/plain": [
       "[<matplotlib.lines.Line2D at 0x161b41f2770>]"
      ]
     },
     "execution_count": 91,
     "metadata": {},
     "output_type": "execute_result"
    },
    {
     "data": {
      "image/png": "[encoded data removed]",
      "text/plain": [
       "<Figure size 432x288 with 3 Axes>"
      ]
     },
     "metadata": {
      "needs_background": "light"
     },
     "output_type": "display_data"
    }
   ],
   "source": [
    "    f, (ax1, ax2, ax3) = plt.subplots(1, 3)\n",
    "    ax1.plot(s, Mbz1_fun(s))\n",
    "    ax2.plot(s, Mbz2_fun(s))\n",
    "    ax3.plot(s, Mbz3_fun(s))"
   ]
  },
  {
   "cell_type": "code",
   "execution_count": null,
   "id": "fe923fc2",
   "metadata": {},
   "outputs": [],
   "source": []
  }
 ],
 "metadata": {
  "kernelspec": {
   "display_name": "Python 3 (ipykernel)",
   "language": "python",
   "name": "python3"
  },
  "language_info": {
   "codemirror_mode": {
    "name": "ipython",
    "version": 3
   },
   "file_extension": ".py",
   "mimetype": "text/x-python",
   "name": "python",
   "nbconvert_exporter": "python",
   "pygments_lexer": "ipython3",
   "version": "3.10.2"
  }
 },
 "nbformat": 4,
 "nbformat_minor": 5
}
