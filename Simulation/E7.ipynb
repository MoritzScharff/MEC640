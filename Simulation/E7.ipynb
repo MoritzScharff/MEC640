{
 "cells": [
  {
   "cell_type": "markdown",
   "id": "fdbbb4bb",
   "metadata": {},
   "source": [
    "# E7 - Task"
   ]
  },
  {
   "cell_type": "code",
   "execution_count": 5,
   "id": "3661911e",
   "metadata": {},
   "outputs": [],
   "source": [
    "reset -f"
   ]
  },
  {
   "cell_type": "code",
   "execution_count": 6,
   "id": "dcb1ca09",
   "metadata": {},
   "outputs": [],
   "source": [
    "import sympy as sp\n",
    "import numpy as np\n",
    "import matplotlib.pyplot as plt\n",
    "\n",
    "from IPython.display import Math, Latex"
   ]
  },
  {
   "cell_type": "markdown",
   "id": "86a9deab",
   "metadata": {},
   "source": [
    "## Harmonic Model\n",
    "\n",
    "The following content is adapted from:\n",
    "* Robert D. Blevins (1994) Flow-induced Vibrations. vol. 2, Krieger Publishing Comnpany. isbn: [9780894648236](https://books.google.de/books/about/Flow_induced_Vibration.html?id=oViRmgEACAAJ&redir_esc=y)\n",
    "* see Section 3.5.1\n",
    "* dof = 1 -> veritcal displacement\n",
    "* Damping force of type Stoke (viscous damper for small velocities)"
   ]
  },
  {
   "cell_type": "markdown",
   "id": "2910d2c8",
   "metadata": {},
   "source": [
    "## Define symbolic variables"
   ]
  },
  {
   "cell_type": "markdown",
   "id": "9c635680",
   "metadata": {},
   "source": [
    "* $\\rho$ - fluid density\n",
    "* $u$ - free stream velocity\n",
    "* $D$ - cylinder diameter\n",
    "* $C_L$ - lift coefficient (dimensionless)\n",
    "* $\\omega_s$ - $2\\cdot \\pi \\cdot f_s$ circular cortex shedding frequency\n",
    "* $t$ - time\n",
    "* $F_L$ - lift force (force perpendicular to the mean flow) per unit length of cylinder\n",
    "* $y$ - displacment of the cylinder in vertical direction\n",
    "* $m$ - mass \n",
    "* $\\zeta$ - structural daming factor\n",
    "* $k$ - spring constant\n",
    "* $\\omega_y$ - $2\\cdot \\pi \\cdot f_y$ circular natural frequency of the cylinder\n",
    "* $c$ - damping coefficient"
   ]
  },
  {
   "cell_type": "code",
   "execution_count": 7,
   "id": "642dbc9e",
   "metadata": {},
   "outputs": [],
   "source": [
    "rho, u, D, CL, ws, t, m, zeta, k, wy, c = sp.symbols('rho, u, D, C_L, omega_s, t, m, zeta, k, omega_y, c', real = 'True')\n",
    "y = sp.Function('y')"
   ]
  },
  {
   "cell_type": "code",
   "execution_count": 8,
   "id": "e766b5ce",
   "metadata": {},
   "outputs": [
    {
     "data": {
      "text/latex": [
       "$\\displaystyle 0.5 C_{L} D \\rho u^{2} \\sin{\\left(\\omega_{s} t \\right)}$"
      ],
      "text/plain": [
       "0.5*C_L*D*rho*u**2*sin(omega_s*t)"
      ]
     },
     "metadata": {},
     "output_type": "display_data"
    }
   ],
   "source": [
    "FL = 1/2*rho*u**2*D*CL*sp.sin(ws*t)\n",
    "display(FL)"
   ]
  },
  {
   "cell_type": "markdown",
   "id": "b2788e0f",
   "metadata": {},
   "source": [
    "## Equation of motion\n",
    "using Lagrange's equation of second kind"
   ]
  },
  {
   "cell_type": "markdown",
   "id": "527d1626",
   "metadata": {},
   "source": [
    "### Kinetic Energy"
   ]
  },
  {
   "cell_type": "code",
   "execution_count": 9,
   "id": "6ba4bbec",
   "metadata": {},
   "outputs": [],
   "source": [
    "T = m/2*sp.diff(y(t),t)**2"
   ]
  },
  {
   "cell_type": "markdown",
   "id": "a1efd191",
   "metadata": {},
   "source": [
    "### Potential Energy"
   ]
  },
  {
   "cell_type": "code",
   "execution_count": 10,
   "id": "a3577ce2",
   "metadata": {},
   "outputs": [],
   "source": [
    "U = 1/2*k/2*y(t)**2 + 1/2*k/2*y(t)**2"
   ]
  },
  {
   "cell_type": "markdown",
   "id": "18d0753d",
   "metadata": {},
   "source": [
    "### Dissipation Function"
   ]
  },
  {
   "cell_type": "code",
   "execution_count": 11,
   "id": "9c06f17d",
   "metadata": {},
   "outputs": [],
   "source": [
    "d = 1/2*c/2*sp.diff(y(t),t)**2 + 1/2*c/2*sp.diff(y(t),t)**2"
   ]
  },
  {
   "cell_type": "markdown",
   "id": "348450df",
   "metadata": {},
   "source": [
    "### General Force"
   ]
  },
  {
   "cell_type": "code",
   "execution_count": 12,
   "id": "f7b19cf0",
   "metadata": {},
   "outputs": [],
   "source": [
    "F = FL*y(t)"
   ]
  },
  {
   "cell_type": "markdown",
   "id": "d3661188",
   "metadata": {},
   "source": [
    "### Lagrangian"
   ]
  },
  {
   "cell_type": "code",
   "execution_count": 13,
   "id": "9468f82d",
   "metadata": {},
   "outputs": [],
   "source": [
    "L = T - U"
   ]
  },
  {
   "cell_type": "markdown",
   "id": "9dab1032",
   "metadata": {},
   "source": [
    "### Equation of motion\n",
    "$\\left(\\frac{\\partial L}{\\partial \\dot{q}(t)} \\right)^{\\cdot} - \\frac{\\partial L}{\\partial q(t)} = - \\frac{\\partial d}{\\partial \\dot{q}(t)} + F \\frac{\\partial r_F}{\\partial q(t)}$"
   ]
  },
  {
   "cell_type": "code",
   "execution_count": 14,
   "id": "87c4892a",
   "metadata": {},
   "outputs": [
    {
     "data": {
      "text/latex": [
       "$\\displaystyle 0.5 C_{L} D \\rho u^{2} \\sin{\\left(\\omega_{s} t \\right)} = 1.0 c \\frac{d}{d t} y{\\left(t \\right)} + 1.0 k y{\\left(t \\right)} + 1.0 m \\frac{d^{2}}{d t^{2}} y{\\left(t \\right)}$"
      ],
      "text/plain": [
       "Eq(0.5*C_L*D*rho*u**2*sin(omega_s*t), 1.0*c*Derivative(y(t), t) + 1.0*k*y(t) + 1.0*m*Derivative(y(t), (t, 2)))"
      ]
     },
     "metadata": {},
     "output_type": "display_data"
    }
   ],
   "source": [
    "EqMo = sp.Eq(sp.diff(sp.diff(L, sp.diff(y(t),t)),t) - sp.diff(L, y(t)) +  sp.diff(d, sp.diff(y(t),t)),sp.diff(F,y(t)))\n",
    "display(EqMo.simplify())"
   ]
  },
  {
   "cell_type": "code",
   "execution_count": 15,
   "id": "5b3115df",
   "metadata": {},
   "outputs": [],
   "source": [
    "sol = sp.dsolve(EqMo, ics = {y(0): 0, sp.diff(y(t),t).subs(t, 0):0})"
   ]
  },
  {
   "cell_type": "code",
   "execution_count": 28,
   "id": "d130b6d7",
   "metadata": {},
   "outputs": [],
   "source": [
    "mass = (7850*sp.pi * 0.005**2/4*0.2).evalf()\n",
    "fun = sol.rhs.subs([(m, mass), (CL, 0.01), (D, 0.005), (rho, 1.2), (k, 10), (c, 0.001), (ws, 3), (u, 5)])\n",
    "fun = fun.as_real_imag()[0]\n",
    "fun = sp.lambdify(t, fun, 'numpy')\n",
    "t_vec = np.linspace(0,10,1000)"
   ]
  },
  {
   "cell_type": "code",
   "execution_count": 29,
   "id": "e63333df",
   "metadata": {},
   "outputs": [
    {
     "data": {
      "text/plain": [
       "[<matplotlib.lines.Line2D at 0x19058910460>]"
      ]
     },
     "execution_count": 29,
     "metadata": {},
     "output_type": "execute_result"
    },
    {
     "data": {
      "image/png": "[encoded data removed]",
      "text/plain": [
       "<Figure size 432x288 with 1 Axes>"
      ]
     },
     "metadata": {
      "needs_background": "light"
     },
     "output_type": "display_data"
    }
   ],
   "source": [
    "plt.plot(t_vec, fun(t_vec))"
   ]
  },
  {
   "cell_type": "markdown",
   "id": "515df6c6",
   "metadata": {},
   "source": [
    "## FFT to find the natural frequencies"
   ]
  },
  {
   "cell_type": "code",
   "execution_count": 54,
   "id": "fab3ef86",
   "metadata": {},
   "outputs": [
    {
     "data": {
      "image/png": "[encoded data removed]",
      "text/plain": [
       "<Figure size 432x288 with 1 Axes>"
      ]
     },
     "metadata": {
      "needs_background": "light"
     },
     "output_type": "display_data"
    }
   ],
   "source": [
    "# adapted from https://docs.scipy.org/doc/scipy/tutorial/fft.html\n",
    "\n",
    "from scipy.fft import fft, fftfreq\n",
    "# Number of sample points\n",
    "N = 1000\n",
    "# sample spacing\n",
    "T = t_vec[1] - t_vec[0]\n",
    "x = np.linspace(0.0, N*T, N, endpoint=False)\n",
    "\n",
    "yf = fft(fun(t_vec))\n",
    "xf = fftfreq(N, T)[:N//2]\n",
    "import matplotlib.pyplot as plt\n",
    "plt.plot(xf, 2.0/N * np.abs(yf[0:N//2]))\n",
    "plt.grid()\n",
    "plt.xlim([0,10])\n",
    "plt.show()"
   ]
  },
  {
   "cell_type": "markdown",
   "id": "50f9d11c",
   "metadata": {},
   "source": [
    "### Check fft results\n",
    "\n",
    "* using: \n",
    "    * $ \\omega_y = \\sqrt{\\frac{k}{m}} = 2\\cdot\\pi \\cdot f_y $ \n",
    "    * $\\omega_s = 2 \\cdot \\pi \\cdot f_s$"
   ]
  },
  {
   "cell_type": "code",
   "execution_count": 43,
   "id": "c42eced8",
   "metadata": {},
   "outputs": [
    {
     "data": {
      "text/latex": [
       "$\\displaystyle 0.477464829275686$"
      ],
      "text/plain": [
       "0.477464829275686"
      ]
     },
     "metadata": {},
     "output_type": "display_data"
    }
   ],
   "source": [
    "fs = (3/(2*sp.pi)).evalf()\n",
    "display(fs)"
   ]
  },
  {
   "cell_type": "code",
   "execution_count": 51,
   "id": "06aa9e80",
   "metadata": {},
   "outputs": [
    {
     "data": {
      "text/latex": [
       "$\\displaystyle 2.86652253574761$"
      ],
      "text/plain": [
       "2.86652253574761"
      ]
     },
     "metadata": {},
     "output_type": "display_data"
    }
   ],
   "source": [
    "fy = ((10/mass)**(0.5) / (2*sp.pi)).evalf()\n",
    "display(fy)"
   ]
  },
  {
   "cell_type": "code",
   "execution_count": null,
   "id": "3c4bcc62",
   "metadata": {},
   "outputs": [],
   "source": []
  },
  {
   "cell_type": "code",
   "execution_count": null,
   "id": "74ee090c",
   "metadata": {},
   "outputs": [],
   "source": []
  }
 ],
 "metadata": {
  "kernelspec": {
   "display_name": "Python 3 (ipykernel)",
   "language": "python",
   "name": "python3"
  },
  "language_info": {
   "codemirror_mode": {
    "name": "ipython",
    "version": 3
   },
   "file_extension": ".py",
   "mimetype": "text/x-python",
   "name": "python",
   "nbconvert_exporter": "python",
   "pygments_lexer": "ipython3",
   "version": "3.10.2"
  }
 },
 "nbformat": 4,
 "nbformat_minor": 5
}
