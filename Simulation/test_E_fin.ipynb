{
 "cells": [
  {
   "cell_type": "markdown",
   "id": "fdbbb4bb",
   "metadata": {},
   "source": [
    "# I. Statics"
   ]
  },
  {
   "cell_type": "code",
   "execution_count": 45,
   "id": "3661911e",
   "metadata": {},
   "outputs": [],
   "source": [
    "reset -f"
   ]
  },
  {
   "cell_type": "code",
   "execution_count": 46,
   "id": "dcb1ca09",
   "metadata": {},
   "outputs": [],
   "source": [
    "import sympy as sp\n",
    "import numpy as np\n",
    "import matplotlib.pyplot as plt\n",
    "\n",
    "from IPython.display import Math, Latex"
   ]
  },
  {
   "cell_type": "markdown",
   "id": "2910d2c8",
   "metadata": {},
   "source": [
    "## Define symbolic variables"
   ]
  },
  {
   "cell_type": "code",
   "execution_count": 47,
   "id": "2bac308d",
   "metadata": {},
   "outputs": [],
   "source": [
    "r3, r4, E3, E4, w3, w4, h3, h4 = sp.symbols('rho_3, rho_4, E_3, E_4, w_3, w_4, h_3, h_4', real = 'True')\n",
    "Ax, Ay, Az, MAx, MAy, By, x = sp.symbols('A_x, A_y, A_z, M_{Ax}, M_{Ay}, B_y, x', real = 'Ture')\n",
    "g, muD, m1, m2, Lm12, L3, L4 = sp.symbols('g, mu_D. m_1, m_2, Lm12, L3, L4', real = 'True')\n"
   ]
  },
  {
   "cell_type": "markdown",
   "id": "ef804e20",
   "metadata": {},
   "source": [
    "## Define applied forces"
   ]
  },
  {
   "cell_type": "code",
   "execution_count": 48,
   "id": "1c673bf0",
   "metadata": {},
   "outputs": [],
   "source": [
    "Fm12 = g*(m1 + m2)\n",
    "FC = By * muD"
   ]
  },
  {
   "cell_type": "code",
   "execution_count": 49,
   "id": "96838d8f",
   "metadata": {},
   "outputs": [],
   "source": [
    "def Fg(g, r, w, h, xL, xH):\n",
    "    return sp.integrate(g*r*w*h*x, (x, xL, xH))"
   ]
  },
  {
   "cell_type": "markdown",
   "id": "6a85f654",
   "metadata": {},
   "source": [
    "## Setup Support reactions"
   ]
  },
  {
   "cell_type": "code",
   "execution_count": 50,
   "id": "0858a624",
   "metadata": {},
   "outputs": [],
   "source": [
    "SRFx = sp.Eq(0, Ax)\n",
    "SRFy = sp.Eq(0, Ay - Fm12 + By - Fg(g, r3, w3, h3, 0, L3) - Fg(g, r4, w4, h4, 0, L4))\n",
    "SRFz = sp.Eq(0, Az - FC)\n",
    "SRMx = sp.Eq(0, MAx + FC*L4 )\n",
    "SRMy = sp.Eq(0, MAy + FC*L3)\n",
    "SRMz = sp.Eq(0, -Fm12*Lm12 + By*L3 - Fg(g, r3, w3, h3, 0, L3)*L3/2 - Fg(g, r4, w4, h4, 0, L4)*L3)"
   ]
  },
  {
   "cell_type": "markdown",
   "id": "1e86aae2",
   "metadata": {},
   "source": [
    "## Solve equation system"
   ]
  },
  {
   "cell_type": "code",
   "execution_count": 51,
   "id": "68205be6",
   "metadata": {},
   "outputs": [],
   "source": [
    "sol = sp.solve([SRFx, SRFy, SRFz, SRMx, SRMy, SRMz], [Ax, Ay, Az, MAx, MAy, By])\n",
    "Ax, Ay, Az, MAx, MAy, By = sol.values()"
   ]
  },
  {
   "cell_type": "markdown",
   "id": "671070e3",
   "metadata": {},
   "source": [
    "## Setup internal force equilibrium"
   ]
  },
  {
   "cell_type": "code",
   "execution_count": 57,
   "id": "9b4f4ba5",
   "metadata": {},
   "outputs": [],
   "source": [
    "N1, Qy1, Qz1, Mtx1, Mby1, Mbz1 = sp.symbols('N_1, Q_{y_1}, Q_{z_1}, M_{tx_1}, M_{by_1}, M_{bz_1}', real = 'true')\n",
    "N2, Qy2, Qz2, Mtx2, Mby2, Mbz2 = sp.symbols('N_2, Q_{y_2}, Q_{z_2}, M_{tx_2}, M_{by_2}, M_{bz_2}', real = 'true')\n",
    "N3, Qy3, Qz3, Mtx3, Mby3, Mbz3 = sp.symbols('N_3, Q_{y_3}, Q_{z_3}, M_{tx_3}, M_{by_3}, M_{bz_3}', real = 'true')\n",
    "x31, x32, x4 = sp.symbols('x_{31}, x{32}, x_4', real = 'True') \n",
    "\n",
    "# 0 < x31 < Lm12 -> \"+\"\n",
    "IFFx1 = sp.Eq(0, N1 + Ax)\n",
    "IFFy1 = sp.Eq(0, Qy1 + Ay - Fg(g, r3, w3, h3, 0, x31))\n",
    "IFFz1 = sp.Eq(0, Qz1 + Az)\n",
    "IFMx1 = sp.Eq(0, Mtx1 + MAx)\n",
    "IFMy1 = sp.Eq(0, Mby1 + MAy + Az*x31)\n",
    "IFMz1 = sp.Eq(0, Mbz1 - Ay*x31 + Fg(g, r3, w3, h3, 0, x31)*x31/2)\n",
    "\n",
    "# Lm12 < x32 < L3 -> \"+\"\n",
    "IFFx2 = sp.Eq(0, N2 + Ax)\n",
    "IFFy2 = sp.Eq(0, Qy2 + By - Fm12 - Fg(g, r3, w3, h3, 0, x32)*x32/2)\n",
    "IFFz2 = sp.Eq(0, Qz2 + Az)\n",
    "IFMx2 = sp.Eq(0, Mtx2 + MAx)\n",
    "IFMy2 = sp.Eq(0, Mby2 + MAy + Az*x32)\n",
    "IFMz2 = sp.Eq(0, Mbz2- Ay*x32 + Fm12*(x32-Lm12) + Fg(g, r3, w3, h3, 0, x31)*x31/2)\n",
    "\n",
    "# 0 < x4 < L4 -> \"-\"\n",
    "IFFx3 = sp.Eq(0, -N3 - By + Fg(g, r4, w4, h4, 0, x4))\n",
    "IFFy3 = sp.Eq(0, -Qy3)\n",
    "IFFz3 = sp.Eq(0, -Qz3 - Az)\n",
    "IFMx3 = sp.Eq(0, -Mtx3)\n",
    "IFMy3 = sp.Eq(0, -Mby3 + Az*(L4-x4))\n",
    "IFMz3 = sp.Eq(0, -Mbz3)"
   ]
  },
  {
   "cell_type": "code",
   "execution_count": null,
   "id": "9f03694a",
   "metadata": {},
   "outputs": [],
   "source": []
  }
 ],
 "metadata": {
  "kernelspec": {
   "display_name": "Python 3 (ipykernel)",
   "language": "python",
   "name": "python3"
  },
  "language_info": {
   "codemirror_mode": {
    "name": "ipython",
    "version": 3
   },
   "file_extension": ".py",
   "mimetype": "text/x-python",
   "name": "python",
   "nbconvert_exporter": "python",
   "pygments_lexer": "ipython3",
   "version": "3.10.2"
  }
 },
 "nbformat": 4,
 "nbformat_minor": 5
}
