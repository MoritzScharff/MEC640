{
 "cells": [
  {
   "cell_type": "markdown",
   "id": "fdbbb4bb",
   "metadata": {},
   "source": [
    "# E3.A c)- Task"
   ]
  },
  {
   "cell_type": "code",
   "execution_count": 45,
   "id": "3661911e",
   "metadata": {},
   "outputs": [],
   "source": [
    "reset -f"
   ]
  },
  {
   "cell_type": "code",
   "execution_count": 46,
   "id": "dcb1ca09",
   "metadata": {},
   "outputs": [],
   "source": [
    "import sympy as sp\n",
    "import numpy as np\n",
    "import matplotlib.pyplot as plt\n",
    "\n",
    "from IPython.display import Math, Latex"
   ]
  },
  {
   "cell_type": "markdown",
   "id": "2910d2c8",
   "metadata": {},
   "source": [
    "## Define symbolic variables"
   ]
  },
  {
   "cell_type": "code",
   "execution_count": 47,
   "id": "9a2e485c",
   "metadata": {},
   "outputs": [],
   "source": [
    "L, q0, x  = sp.symbols('L, q0, x', real = 'True')\n",
    "Ax, Ay, MAz = sp. symbols('Ax, Ay, MAz', real = 'True')"
   ]
  },
  {
   "cell_type": "code",
   "execution_count": 48,
   "id": "89da66cd",
   "metadata": {},
   "outputs": [],
   "source": [
    "def q(xL, xH, L):\n",
    "    return sp.integrate(- q0/L *x+ q0, (x, xL, xH))"
   ]
  },
  {
   "cell_type": "code",
   "execution_count": 49,
   "id": "7fbb49f5",
   "metadata": {},
   "outputs": [],
   "source": [
    "eq1 = sp.Eq(0 , Ax)\n",
    "eq2 = sp.Eq(0 , Ay - q(0, L, L))\n",
    "eq3 = sp.Eq(0, MAz - q(0, L, L)*L/3)"
   ]
  },
  {
   "cell_type": "code",
   "execution_count": 50,
   "id": "3b100c59",
   "metadata": {},
   "outputs": [
    {
     "data": {
      "text/plain": [
       "{Ax: 0, Ay: L*q0/2, MAz: L**2*q0/6}"
      ]
     },
     "execution_count": 50,
     "metadata": {},
     "output_type": "execute_result"
    }
   ],
   "source": [
    "sol = sp.solve([eq1, eq2, eq3],[Ax, Ay, MAz])\n",
    "sol"
   ]
  },
  {
   "cell_type": "code",
   "execution_count": 51,
   "id": "d08013ca",
   "metadata": {},
   "outputs": [],
   "source": [
    "Ax, Ay, MAz = sol.values()"
   ]
  },
  {
   "cell_type": "markdown",
   "id": "44b77f59",
   "metadata": {},
   "source": [
    "# Internal force reactions"
   ]
  },
  {
   "cell_type": "markdown",
   "id": "d28ae8e1",
   "metadata": {},
   "source": [
    "## Define symbolic functions"
   ]
  },
  {
   "cell_type": "code",
   "execution_count": 52,
   "id": "2fb3a243",
   "metadata": {},
   "outputs": [],
   "source": [
    "N = sp.Function('N')(x)\n",
    "Q = sp.Function('Q')(x)\n",
    "Mbz = sp.Function('Mbz')(x) "
   ]
  },
  {
   "cell_type": "markdown",
   "id": "a7afd22a",
   "metadata": {},
   "source": [
    "## Set up equations"
   ]
  },
  {
   "cell_type": "code",
   "execution_count": 53,
   "id": "fd339f86",
   "metadata": {},
   "outputs": [],
   "source": [
    "eq11 = sp.Eq(0, -N) \n",
    "eq12 = sp.Eq(0, -Q - q(x, L, L))\n",
    "eq13 = sp.Eq(0, -Mbz - q(x, L, L)*(L-x)/3)"
   ]
  },
  {
   "cell_type": "markdown",
   "id": "2174a9c2",
   "metadata": {},
   "source": [
    "# solve equations"
   ]
  },
  {
   "cell_type": "code",
   "execution_count": 54,
   "id": "c1f0ae0b",
   "metadata": {},
   "outputs": [
    {
     "data": {
      "text/plain": [
       "{N(x): 0,\n",
       " Q(x): (-L**2*q0 + 2*L*q0*x - q0*x**2)/(2*L),\n",
       " Mbz(x): (-L**3*q0 + 3*L**2*q0*x - 3*L*q0*x**2 + q0*x**3)/(6*L)}"
      ]
     },
     "execution_count": 54,
     "metadata": {},
     "output_type": "execute_result"
    }
   ],
   "source": [
    "sol = sp.solve([eq11, eq12, eq13],[N, Q, Mbz])\n",
    "sol"
   ]
  },
  {
   "cell_type": "code",
   "execution_count": 55,
   "id": "005de21c",
   "metadata": {},
   "outputs": [],
   "source": [
    "N, Q, Mbz = sol.values()"
   ]
  },
  {
   "cell_type": "markdown",
   "id": "b82ea663",
   "metadata": {},
   "source": [
    "# Stress"
   ]
  },
  {
   "cell_type": "code",
   "execution_count": 56,
   "id": "7121c3cd",
   "metadata": {},
   "outputs": [],
   "source": [
    "E, h, b, y = sp.symbols('E, h, b,y', real = 'True')"
   ]
  },
  {
   "cell_type": "code",
   "execution_count": 57,
   "id": "7718d5e4",
   "metadata": {},
   "outputs": [],
   "source": [
    "Iz = b*h**3/12"
   ]
  },
  {
   "cell_type": "code",
   "execution_count": 58,
   "id": "66f7a53d",
   "metadata": {},
   "outputs": [
    {
     "data": {
      "text/latex": [
       "$\\displaystyle \\frac{L^{2} q_{0}}{b h^{2}}$"
      ],
      "text/plain": [
       "L**2*q0/(b*h**2)"
      ]
     },
     "metadata": {},
     "output_type": "display_data"
    }
   ],
   "source": [
    "sigma = -Mbz/Iz * y\n",
    "display(sigma.subs([(x,0),(y,h/2)]))"
   ]
  },
  {
   "cell_type": "markdown",
   "id": "cca425b1",
   "metadata": {},
   "source": [
    "# Deformation"
   ]
  },
  {
   "cell_type": "code",
   "execution_count": 59,
   "id": "35554702",
   "metadata": {},
   "outputs": [],
   "source": [
    "v = sp.Function('v')"
   ]
  },
  {
   "cell_type": "code",
   "execution_count": 60,
   "id": "ba9fb258",
   "metadata": {},
   "outputs": [
    {
     "data": {
      "text/latex": [
       "$\\displaystyle \\frac{d^{2}}{d x^{2}} v{\\left(x \\right)} = \\frac{2 \\left(- L^{3} q_{0} + 3 L^{2} q_{0} x - 3 L q_{0} x^{2} + q_{0} x^{3}\\right)}{E L b h^{3}}$"
      ],
      "text/plain": [
       "Eq(Derivative(v(x), (x, 2)), 2*(-L**3*q0 + 3*L**2*q0*x - 3*L*q0*x**2 + q0*x**3)/(E*L*b*h**3))"
      ]
     },
     "metadata": {},
     "output_type": "display_data"
    }
   ],
   "source": [
    "eq = sp.Eq(sp.diff(v(x),x,x), Mbz/(E*Iz))\n",
    "display(eq)"
   ]
  },
  {
   "cell_type": "code",
   "execution_count": 61,
   "id": "860f8b2f",
   "metadata": {},
   "outputs": [],
   "source": [
    "bc = {v(0):0, sp.diff(v(x),x).subs(x, 0):0}"
   ]
  },
  {
   "cell_type": "code",
   "execution_count": 62,
   "id": "3ad1a8ca",
   "metadata": {},
   "outputs": [
    {
     "data": {
      "text/latex": [
       "$\\displaystyle v{\\left(x \\right)} = - \\frac{L^{2} q_{0} x^{2}}{E b h^{3}} + \\frac{L q_{0} x^{3}}{E b h^{3}} - \\frac{q_{0} x^{4}}{2 E b h^{3}} + \\frac{q_{0} x^{5}}{10 E L b h^{3}}$"
      ],
      "text/plain": [
       "Eq(v(x), -L**2*q0*x**2/(E*b*h**3) + L*q0*x**3/(E*b*h**3) - q0*x**4/(2*E*b*h**3) + q0*x**5/(10*E*L*b*h**3))"
      ]
     },
     "metadata": {},
     "output_type": "display_data"
    },
    {
     "data": {
      "text/latex": [
       "$\\displaystyle v{\\left(L \\right)} = - \\frac{2 L^{4} q_{0}}{5 E b h^{3}}$"
      ],
      "text/plain": [
       "Eq(v(L), -2*L**4*q0/(5*E*b*h**3))"
      ]
     },
     "metadata": {},
     "output_type": "display_data"
    }
   ],
   "source": [
    "sol = sp.dsolve(eq, ics = bc)\n",
    "v = sol.rhs\n",
    "display(sol)\n",
    "display(sol.subs(x,L))"
   ]
  },
  {
   "cell_type": "code",
   "execution_count": 63,
   "id": "4b4f1abb",
   "metadata": {},
   "outputs": [],
   "source": [
    "v = v.subs([(L, 100), (h, 2), (b, 15), (E, 210000)])"
   ]
  },
  {
   "cell_type": "code",
   "execution_count": 66,
   "id": "7533fa23",
   "metadata": {},
   "outputs": [],
   "source": [
    "v_fun = sp.lambdify((x ,q0), v, 'numpy')\n",
    "s = np.arange(0,100,0.1)"
   ]
  },
  {
   "cell_type": "code",
   "execution_count": 67,
   "id": "e15a7c68",
   "metadata": {},
   "outputs": [
    {
     "data": {
      "text/plain": [
       "Text(0, 0.5, 'v(x)')"
      ]
     },
     "execution_count": 67,
     "metadata": {},
     "output_type": "execute_result"
    },
    {
     "data": {
      "image/png": "[encoded data removed]",
      "text/plain": [
       "<Figure size 432x288 with 1 Axes>"
      ]
     },
     "metadata": {
      "needs_background": "light"
     },
     "output_type": "display_data"
    }
   ],
   "source": [
    "plt.plot(s, v_fun(s,0))\n",
    "plt.plot(s, v_fun(s,1))\n",
    "plt.plot(s, v_fun(s,2))\n",
    "plt.plot(s, v_fun(s,3))\n",
    "plt.plot(s, v_fun(s,4))\n",
    "plt.xlabel('x')\n",
    "plt.ylabel('v(x)')"
   ]
  },
  {
   "cell_type": "code",
   "execution_count": null,
   "id": "fe923fc2",
   "metadata": {},
   "outputs": [],
   "source": []
  }
 ],
 "metadata": {
  "kernelspec": {
   "display_name": "Python 3 (ipykernel)",
   "language": "python",
   "name": "python3"
  },
  "language_info": {
   "codemirror_mode": {
    "name": "ipython",
    "version": 3
   },
   "file_extension": ".py",
   "mimetype": "text/x-python",
   "name": "python",
   "nbconvert_exporter": "python",
   "pygments_lexer": "ipython3",
   "version": "3.10.2"
  }
 },
 "nbformat": 4,
 "nbformat_minor": 5
}
